{
 "cells": [
  {
   "cell_type": "markdown",
   "metadata": {
    "id": "SkGSTUXm31F2"
   },
   "source": [
    "## <center>LAB 4: Designing Logic Gates Using Keras</center>\n",
    "\n",
    "### Arzoo Sah\n",
    "### 205229103"
   ]
  },
  {
   "cell_type": "markdown",
   "metadata": {
    "id": "9b4cZ0n24PtY"
   },
   "source": [
    "**Import the necessary module**"
   ]
  },
  {
   "cell_type": "code",
   "execution_count": 1,
   "metadata": {
    "id": "izQJsYfWuJKS"
   },
   "outputs": [],
   "source": [
    "import numpy as np\n",
    "from keras.models import Sequential \n",
    "from keras.layers import Dense \n",
    "from sklearn.metrics import accuracy_score"
   ]
  },
  {
   "cell_type": "markdown",
   "metadata": {
    "id": "g1Ak4hs34j73"
   },
   "source": [
    "**Take input layers of size 4 with 2 dimension**"
   ]
  },
  {
   "cell_type": "code",
   "execution_count": 2,
   "metadata": {
    "id": "-tUhHGjkwXsU"
   },
   "outputs": [],
   "source": [
    "train = np.array([[0,0],[0,1],[1,0],[1,1]],'float32')"
   ]
  },
  {
   "cell_type": "markdown",
   "metadata": {
    "id": "T2ISQJ7b5Hq0"
   },
   "source": [
    "**Take Output layers of all Gates with size 4** "
   ]
  },
  {
   "cell_type": "code",
   "execution_count": 3,
   "metadata": {
    "id": "RdopRpdwwusk"
   },
   "outputs": [],
   "source": [
    "test_or = np.array([[0],[1],[1],[1]],'float32')\n",
    "test_and = np.array([[0],[0],[0],[1]],'float32')\n",
    "test_nor = np.array([[1],[0],[0],[0]],'float32')\n",
    "test_nand = np.array([[1],[1],[1],[0]],'float32')\n",
    "test_xor = np.array([[0],[1],[1],[0]],'float32')"
   ]
  },
  {
   "cell_type": "markdown",
   "metadata": {
    "id": "57eIyLSL5cnz"
   },
   "source": [
    "**Declare the model with specific parameter**"
   ]
  },
  {
   "cell_type": "code",
   "execution_count": 4,
   "metadata": {
    "id": "-7nS5o0Oxmw9"
   },
   "outputs": [],
   "source": [
    "model = Sequential()\n",
    "model.add(Dense(16,input_dim=2,activation='relu'))\n",
    "model.add(Dense(1,activation='sigmoid'))\n",
    "model.compile(loss='mean_squared_error',optimizer='adam',metrics=['binary_accuracy'])"
   ]
  },
  {
   "cell_type": "markdown",
   "metadata": {
    "id": "al6lIync0ikf"
   },
   "source": [
    "**OR GATE**"
   ]
  },
  {
   "cell_type": "code",
   "execution_count": 5,
   "metadata": {
    "colab": {
     "base_uri": "https://localhost:8080/",
     "height": 0
    },
    "id": "TFRRI7CkydFn",
    "outputId": "4c3b4b8e-fbeb-4d65-ab01-282b6e72bf71"
   },
   "outputs": [
    {
     "name": "stdout",
     "output_type": "stream",
     "text": [
      "Epoch 1/100\n",
      "1/1 - 1s - loss: 0.2324 - binary_accuracy: 1.0000\n",
      "Epoch 2/100\n",
      "1/1 - 0s - loss: 0.2307 - binary_accuracy: 0.7500\n",
      "Epoch 3/100\n",
      "1/1 - 0s - loss: 0.2289 - binary_accuracy: 0.7500\n",
      "Epoch 4/100\n",
      "1/1 - 0s - loss: 0.2272 - binary_accuracy: 0.7500\n",
      "Epoch 5/100\n",
      "1/1 - 0s - loss: 0.2255 - binary_accuracy: 0.7500\n",
      "Epoch 6/100\n",
      "1/1 - 0s - loss: 0.2238 - binary_accuracy: 0.7500\n",
      "Epoch 7/100\n",
      "1/1 - 0s - loss: 0.2222 - binary_accuracy: 0.7500\n",
      "Epoch 8/100\n",
      "1/1 - 0s - loss: 0.2205 - binary_accuracy: 0.7500\n",
      "Epoch 9/100\n",
      "1/1 - 0s - loss: 0.2189 - binary_accuracy: 0.7500\n",
      "Epoch 10/100\n",
      "1/1 - 0s - loss: 0.2173 - binary_accuracy: 0.7500\n",
      "Epoch 11/100\n",
      "1/1 - 0s - loss: 0.2157 - binary_accuracy: 0.7500\n",
      "Epoch 12/100\n",
      "1/1 - 0s - loss: 0.2141 - binary_accuracy: 0.7500\n",
      "Epoch 13/100\n",
      "1/1 - 0s - loss: 0.2125 - binary_accuracy: 0.7500\n",
      "Epoch 14/100\n",
      "1/1 - 0s - loss: 0.2110 - binary_accuracy: 0.7500\n",
      "Epoch 15/100\n",
      "1/1 - 0s - loss: 0.2094 - binary_accuracy: 0.7500\n",
      "Epoch 16/100\n",
      "1/1 - 0s - loss: 0.2079 - binary_accuracy: 0.7500\n",
      "Epoch 17/100\n",
      "1/1 - 0s - loss: 0.2064 - binary_accuracy: 0.7500\n",
      "Epoch 18/100\n",
      "1/1 - 0s - loss: 0.2050 - binary_accuracy: 0.7500\n",
      "Epoch 19/100\n",
      "1/1 - 0s - loss: 0.2035 - binary_accuracy: 0.7500\n",
      "Epoch 20/100\n",
      "1/1 - 0s - loss: 0.2021 - binary_accuracy: 0.7500\n",
      "Epoch 21/100\n",
      "1/1 - 0s - loss: 0.2007 - binary_accuracy: 0.7500\n",
      "Epoch 22/100\n",
      "1/1 - 0s - loss: 0.1994 - binary_accuracy: 0.7500\n",
      "Epoch 23/100\n",
      "1/1 - 0s - loss: 0.1980 - binary_accuracy: 0.7500\n",
      "Epoch 24/100\n",
      "1/1 - 0s - loss: 0.1967 - binary_accuracy: 0.7500\n",
      "Epoch 25/100\n",
      "1/1 - 0s - loss: 0.1954 - binary_accuracy: 0.7500\n",
      "Epoch 26/100\n",
      "1/1 - 0s - loss: 0.1941 - binary_accuracy: 0.7500\n",
      "Epoch 27/100\n",
      "1/1 - 0s - loss: 0.1928 - binary_accuracy: 0.7500\n",
      "Epoch 28/100\n",
      "1/1 - 0s - loss: 0.1916 - binary_accuracy: 0.7500\n",
      "Epoch 29/100\n",
      "1/1 - 0s - loss: 0.1903 - binary_accuracy: 0.7500\n",
      "Epoch 30/100\n",
      "1/1 - 0s - loss: 0.1890 - binary_accuracy: 0.7500\n",
      "Epoch 31/100\n",
      "1/1 - 0s - loss: 0.1878 - binary_accuracy: 0.7500\n",
      "Epoch 32/100\n",
      "1/1 - 0s - loss: 0.1866 - binary_accuracy: 0.7500\n",
      "Epoch 33/100\n",
      "1/1 - 0s - loss: 0.1854 - binary_accuracy: 0.7500\n",
      "Epoch 34/100\n",
      "1/1 - 0s - loss: 0.1842 - binary_accuracy: 0.7500\n",
      "Epoch 35/100\n",
      "1/1 - 0s - loss: 0.1831 - binary_accuracy: 0.7500\n",
      "Epoch 36/100\n",
      "1/1 - 0s - loss: 0.1820 - binary_accuracy: 0.7500\n",
      "Epoch 37/100\n",
      "1/1 - 0s - loss: 0.1809 - binary_accuracy: 0.7500\n",
      "Epoch 38/100\n",
      "1/1 - 0s - loss: 0.1798 - binary_accuracy: 0.7500\n",
      "Epoch 39/100\n",
      "1/1 - 0s - loss: 0.1788 - binary_accuracy: 0.7500\n",
      "Epoch 40/100\n",
      "1/1 - 0s - loss: 0.1777 - binary_accuracy: 0.7500\n",
      "Epoch 41/100\n",
      "1/1 - 0s - loss: 0.1767 - binary_accuracy: 0.7500\n",
      "Epoch 42/100\n",
      "1/1 - 0s - loss: 0.1757 - binary_accuracy: 0.7500\n",
      "Epoch 43/100\n",
      "1/1 - 0s - loss: 0.1747 - binary_accuracy: 0.7500\n",
      "Epoch 44/100\n",
      "1/1 - 0s - loss: 0.1737 - binary_accuracy: 0.7500\n",
      "Epoch 45/100\n",
      "1/1 - 0s - loss: 0.1727 - binary_accuracy: 0.7500\n",
      "Epoch 46/100\n",
      "1/1 - 0s - loss: 0.1718 - binary_accuracy: 0.7500\n",
      "Epoch 47/100\n",
      "1/1 - 0s - loss: 0.1708 - binary_accuracy: 0.7500\n",
      "Epoch 48/100\n",
      "1/1 - 0s - loss: 0.1699 - binary_accuracy: 0.7500\n",
      "Epoch 49/100\n",
      "1/1 - 0s - loss: 0.1690 - binary_accuracy: 0.7500\n",
      "Epoch 50/100\n",
      "1/1 - 0s - loss: 0.1681 - binary_accuracy: 0.7500\n",
      "Epoch 51/100\n",
      "1/1 - 0s - loss: 0.1672 - binary_accuracy: 0.7500\n",
      "Epoch 52/100\n",
      "1/1 - 0s - loss: 0.1664 - binary_accuracy: 0.7500\n",
      "Epoch 53/100\n",
      "1/1 - 0s - loss: 0.1656 - binary_accuracy: 0.7500\n",
      "Epoch 54/100\n",
      "1/1 - 0s - loss: 0.1648 - binary_accuracy: 0.7500\n",
      "Epoch 55/100\n",
      "1/1 - 0s - loss: 0.1640 - binary_accuracy: 0.7500\n",
      "Epoch 56/100\n",
      "1/1 - 0s - loss: 0.1632 - binary_accuracy: 0.7500\n",
      "Epoch 57/100\n",
      "1/1 - 0s - loss: 0.1624 - binary_accuracy: 0.7500\n",
      "Epoch 58/100\n",
      "1/1 - 0s - loss: 0.1616 - binary_accuracy: 0.7500\n",
      "Epoch 59/100\n",
      "1/1 - 0s - loss: 0.1608 - binary_accuracy: 0.7500\n",
      "Epoch 60/100\n",
      "1/1 - 0s - loss: 0.1601 - binary_accuracy: 0.7500\n",
      "Epoch 61/100\n",
      "1/1 - 0s - loss: 0.1593 - binary_accuracy: 0.7500\n",
      "Epoch 62/100\n",
      "1/1 - 0s - loss: 0.1586 - binary_accuracy: 0.7500\n",
      "Epoch 63/100\n",
      "1/1 - 0s - loss: 0.1579 - binary_accuracy: 0.7500\n",
      "Epoch 64/100\n",
      "1/1 - 0s - loss: 0.1572 - binary_accuracy: 0.7500\n",
      "Epoch 65/100\n",
      "1/1 - 0s - loss: 0.1565 - binary_accuracy: 0.7500\n",
      "Epoch 66/100\n",
      "1/1 - 0s - loss: 0.1559 - binary_accuracy: 0.7500\n",
      "Epoch 67/100\n",
      "1/1 - 0s - loss: 0.1552 - binary_accuracy: 0.7500\n",
      "Epoch 68/100\n",
      "1/1 - 0s - loss: 0.1546 - binary_accuracy: 0.7500\n",
      "Epoch 69/100\n",
      "1/1 - 0s - loss: 0.1539 - binary_accuracy: 0.7500\n",
      "Epoch 70/100\n",
      "1/1 - 0s - loss: 0.1533 - binary_accuracy: 0.7500\n",
      "Epoch 71/100\n",
      "1/1 - 0s - loss: 0.1527 - binary_accuracy: 0.7500\n",
      "Epoch 72/100\n",
      "1/1 - 0s - loss: 0.1521 - binary_accuracy: 0.7500\n",
      "Epoch 73/100\n",
      "1/1 - 0s - loss: 0.1515 - binary_accuracy: 0.7500\n",
      "Epoch 74/100\n",
      "1/1 - 0s - loss: 0.1510 - binary_accuracy: 0.7500\n",
      "Epoch 75/100\n",
      "1/1 - 0s - loss: 0.1504 - binary_accuracy: 0.7500\n",
      "Epoch 76/100\n",
      "1/1 - 0s - loss: 0.1498 - binary_accuracy: 0.7500\n",
      "Epoch 77/100\n",
      "1/1 - 0s - loss: 0.1492 - binary_accuracy: 0.7500\n",
      "Epoch 78/100\n",
      "1/1 - 0s - loss: 0.1487 - binary_accuracy: 0.7500\n",
      "Epoch 79/100\n",
      "1/1 - 0s - loss: 0.1481 - binary_accuracy: 0.7500\n",
      "Epoch 80/100\n",
      "1/1 - 0s - loss: 0.1476 - binary_accuracy: 0.7500\n",
      "Epoch 81/100\n",
      "1/1 - 0s - loss: 0.1471 - binary_accuracy: 0.7500\n",
      "Epoch 82/100\n",
      "1/1 - 0s - loss: 0.1465 - binary_accuracy: 0.7500\n",
      "Epoch 83/100\n",
      "1/1 - 0s - loss: 0.1460 - binary_accuracy: 0.7500\n",
      "Epoch 84/100\n",
      "1/1 - 0s - loss: 0.1455 - binary_accuracy: 0.7500\n",
      "Epoch 85/100\n",
      "1/1 - 0s - loss: 0.1450 - binary_accuracy: 0.7500\n",
      "Epoch 86/100\n",
      "1/1 - 0s - loss: 0.1445 - binary_accuracy: 0.7500\n",
      "Epoch 87/100\n",
      "1/1 - 0s - loss: 0.1440 - binary_accuracy: 0.7500\n",
      "Epoch 88/100\n",
      "1/1 - 0s - loss: 0.1435 - binary_accuracy: 0.7500\n",
      "Epoch 89/100\n",
      "1/1 - 0s - loss: 0.1430 - binary_accuracy: 0.7500\n",
      "Epoch 90/100\n",
      "1/1 - 0s - loss: 0.1425 - binary_accuracy: 0.7500\n",
      "Epoch 91/100\n",
      "1/1 - 0s - loss: 0.1420 - binary_accuracy: 0.7500\n",
      "Epoch 92/100\n",
      "1/1 - 0s - loss: 0.1415 - binary_accuracy: 0.7500\n",
      "Epoch 93/100\n",
      "1/1 - 0s - loss: 0.1410 - binary_accuracy: 0.7500\n",
      "Epoch 94/100\n",
      "1/1 - 0s - loss: 0.1406 - binary_accuracy: 0.7500\n",
      "Epoch 95/100\n",
      "1/1 - 0s - loss: 0.1401 - binary_accuracy: 0.7500\n",
      "Epoch 96/100\n",
      "1/1 - 0s - loss: 0.1396 - binary_accuracy: 0.7500\n",
      "Epoch 97/100\n",
      "1/1 - 0s - loss: 0.1392 - binary_accuracy: 0.7500\n",
      "Epoch 98/100\n",
      "1/1 - 0s - loss: 0.1387 - binary_accuracy: 0.7500\n",
      "Epoch 99/100\n",
      "1/1 - 0s - loss: 0.1383 - binary_accuracy: 0.7500\n",
      "Epoch 100/100\n",
      "1/1 - 0s - loss: 0.1378 - binary_accuracy: 0.7500\n"
     ]
    },
    {
     "data": {
      "text/plain": [
       "<keras.callbacks.History at 0x7ff503518390>"
      ]
     },
     "execution_count": 5,
     "metadata": {},
     "output_type": "execute_result"
    }
   ],
   "source": [
    "model.fit(train,test_or,epochs=100,verbose=2)              #fit the model for OR Gate "
   ]
  },
  {
   "cell_type": "code",
   "execution_count": 6,
   "metadata": {
    "colab": {
     "base_uri": "https://localhost:8080/",
     "height": 0
    },
    "id": "pwpzEYhLymDK",
    "outputId": "f8f1eeaf-e1eb-4b3c-9f9b-c91e232a8cba"
   },
   "outputs": [
    {
     "data": {
      "text/plain": [
       "array([[1.],\n",
       "       [1.],\n",
       "       [1.],\n",
       "       [1.]], dtype=float32)"
      ]
     },
     "execution_count": 6,
     "metadata": {},
     "output_type": "execute_result"
    }
   ],
   "source": [
    "model.predict(train).round()                          #predict the model "
   ]
  },
  {
   "cell_type": "code",
   "execution_count": 7,
   "metadata": {
    "colab": {
     "base_uri": "https://localhost:8080/",
     "height": 0
    },
    "id": "qSUjqz8w7Wo8",
    "outputId": "6b232433-ecee-4b69-a145-7c7a123a757b"
   },
   "outputs": [
    {
     "data": {
      "text/plain": [
       "0.75"
      ]
     },
     "execution_count": 7,
     "metadata": {},
     "output_type": "execute_result"
    }
   ],
   "source": [
    "accuracy_score(test_or,model.predict(train).round())       #accuracy of OR Gate "
   ]
  },
  {
   "cell_type": "markdown",
   "metadata": {
    "id": "Ayv4Gg7g0l2n"
   },
   "source": [
    "**AND GATE**"
   ]
  },
  {
   "cell_type": "code",
   "execution_count": 8,
   "metadata": {
    "colab": {
     "base_uri": "https://localhost:8080/",
     "height": 0
    },
    "id": "CteaDzQoyx9d",
    "outputId": "f6cd731c-5128-4e7f-9704-a49fd91a0466"
   },
   "outputs": [
    {
     "name": "stdout",
     "output_type": "stream",
     "text": [
      "Epoch 1/100\n",
      "1/1 - 0s - loss: 0.3163 - binary_accuracy: 0.2500\n",
      "Epoch 2/100\n",
      "1/1 - 0s - loss: 0.3165 - binary_accuracy: 0.2500\n",
      "Epoch 3/100\n",
      "1/1 - 0s - loss: 0.3165 - binary_accuracy: 0.2500\n",
      "Epoch 4/100\n",
      "1/1 - 0s - loss: 0.3162 - binary_accuracy: 0.2500\n",
      "Epoch 5/100\n",
      "1/1 - 0s - loss: 0.3157 - binary_accuracy: 0.2500\n",
      "Epoch 6/100\n",
      "1/1 - 0s - loss: 0.3151 - binary_accuracy: 0.2500\n",
      "Epoch 7/100\n",
      "1/1 - 0s - loss: 0.3144 - binary_accuracy: 0.2500\n",
      "Epoch 8/100\n",
      "1/1 - 0s - loss: 0.3136 - binary_accuracy: 0.2500\n",
      "Epoch 9/100\n",
      "1/1 - 0s - loss: 0.3127 - binary_accuracy: 0.2500\n",
      "Epoch 10/100\n",
      "1/1 - 0s - loss: 0.3117 - binary_accuracy: 0.2500\n",
      "Epoch 11/100\n",
      "1/1 - 0s - loss: 0.3107 - binary_accuracy: 0.2500\n",
      "Epoch 12/100\n",
      "1/1 - 0s - loss: 0.3096 - binary_accuracy: 0.2500\n",
      "Epoch 13/100\n",
      "1/1 - 0s - loss: 0.3085 - binary_accuracy: 0.2500\n",
      "Epoch 14/100\n",
      "1/1 - 0s - loss: 0.3073 - binary_accuracy: 0.2500\n",
      "Epoch 15/100\n",
      "1/1 - 0s - loss: 0.3060 - binary_accuracy: 0.2500\n",
      "Epoch 16/100\n",
      "1/1 - 0s - loss: 0.3048 - binary_accuracy: 0.2500\n",
      "Epoch 17/100\n",
      "1/1 - 0s - loss: 0.3035 - binary_accuracy: 0.2500\n",
      "Epoch 18/100\n",
      "1/1 - 0s - loss: 0.3022 - binary_accuracy: 0.2500\n",
      "Epoch 19/100\n",
      "1/1 - 0s - loss: 0.3009 - binary_accuracy: 0.2500\n",
      "Epoch 20/100\n",
      "1/1 - 0s - loss: 0.2996 - binary_accuracy: 0.2500\n",
      "Epoch 21/100\n",
      "1/1 - 0s - loss: 0.2982 - binary_accuracy: 0.2500\n",
      "Epoch 22/100\n",
      "1/1 - 0s - loss: 0.2969 - binary_accuracy: 0.2500\n",
      "Epoch 23/100\n",
      "1/1 - 0s - loss: 0.2956 - binary_accuracy: 0.2500\n",
      "Epoch 24/100\n",
      "1/1 - 0s - loss: 0.2943 - binary_accuracy: 0.2500\n",
      "Epoch 25/100\n",
      "1/1 - 0s - loss: 0.2930 - binary_accuracy: 0.2500\n",
      "Epoch 26/100\n",
      "1/1 - 0s - loss: 0.2917 - binary_accuracy: 0.2500\n",
      "Epoch 27/100\n",
      "1/1 - 0s - loss: 0.2904 - binary_accuracy: 0.2500\n",
      "Epoch 28/100\n",
      "1/1 - 0s - loss: 0.2891 - binary_accuracy: 0.2500\n",
      "Epoch 29/100\n",
      "1/1 - 0s - loss: 0.2879 - binary_accuracy: 0.2500\n",
      "Epoch 30/100\n",
      "1/1 - 0s - loss: 0.2866 - binary_accuracy: 0.2500\n",
      "Epoch 31/100\n",
      "1/1 - 0s - loss: 0.2853 - binary_accuracy: 0.2500\n",
      "Epoch 32/100\n",
      "1/1 - 0s - loss: 0.2840 - binary_accuracy: 0.2500\n",
      "Epoch 33/100\n",
      "1/1 - 0s - loss: 0.2828 - binary_accuracy: 0.2500\n",
      "Epoch 34/100\n",
      "1/1 - 0s - loss: 0.2815 - binary_accuracy: 0.2500\n",
      "Epoch 35/100\n",
      "1/1 - 0s - loss: 0.2803 - binary_accuracy: 0.2500\n",
      "Epoch 36/100\n",
      "1/1 - 0s - loss: 0.2790 - binary_accuracy: 0.2500\n",
      "Epoch 37/100\n",
      "1/1 - 0s - loss: 0.2778 - binary_accuracy: 0.2500\n",
      "Epoch 38/100\n",
      "1/1 - 0s - loss: 0.2766 - binary_accuracy: 0.2500\n",
      "Epoch 39/100\n",
      "1/1 - 0s - loss: 0.2754 - binary_accuracy: 0.2500\n",
      "Epoch 40/100\n",
      "1/1 - 0s - loss: 0.2742 - binary_accuracy: 0.2500\n",
      "Epoch 41/100\n",
      "1/1 - 0s - loss: 0.2731 - binary_accuracy: 0.2500\n",
      "Epoch 42/100\n",
      "1/1 - 0s - loss: 0.2719 - binary_accuracy: 0.2500\n",
      "Epoch 43/100\n",
      "1/1 - 0s - loss: 0.2707 - binary_accuracy: 0.2500\n",
      "Epoch 44/100\n",
      "1/1 - 0s - loss: 0.2696 - binary_accuracy: 0.2500\n",
      "Epoch 45/100\n",
      "1/1 - 0s - loss: 0.2685 - binary_accuracy: 0.2500\n",
      "Epoch 46/100\n",
      "1/1 - 0s - loss: 0.2673 - binary_accuracy: 0.2500\n",
      "Epoch 47/100\n",
      "1/1 - 0s - loss: 0.2662 - binary_accuracy: 0.2500\n",
      "Epoch 48/100\n",
      "1/1 - 0s - loss: 0.2651 - binary_accuracy: 0.2500\n",
      "Epoch 49/100\n",
      "1/1 - 0s - loss: 0.2640 - binary_accuracy: 0.2500\n",
      "Epoch 50/100\n",
      "1/1 - 0s - loss: 0.2629 - binary_accuracy: 0.2500\n",
      "Epoch 51/100\n",
      "1/1 - 0s - loss: 0.2618 - binary_accuracy: 0.2500\n",
      "Epoch 52/100\n",
      "1/1 - 0s - loss: 0.2607 - binary_accuracy: 0.2500\n",
      "Epoch 53/100\n",
      "1/1 - 0s - loss: 0.2597 - binary_accuracy: 0.2500\n",
      "Epoch 54/100\n",
      "1/1 - 0s - loss: 0.2586 - binary_accuracy: 0.2500\n",
      "Epoch 55/100\n",
      "1/1 - 0s - loss: 0.2577 - binary_accuracy: 0.5000\n",
      "Epoch 56/100\n",
      "1/1 - 0s - loss: 0.2567 - binary_accuracy: 0.5000\n",
      "Epoch 57/100\n",
      "1/1 - 0s - loss: 0.2558 - binary_accuracy: 0.5000\n",
      "Epoch 58/100\n",
      "1/1 - 0s - loss: 0.2548 - binary_accuracy: 0.5000\n",
      "Epoch 59/100\n",
      "1/1 - 0s - loss: 0.2539 - binary_accuracy: 0.5000\n",
      "Epoch 60/100\n",
      "1/1 - 0s - loss: 0.2530 - binary_accuracy: 0.5000\n",
      "Epoch 61/100\n",
      "1/1 - 0s - loss: 0.2521 - binary_accuracy: 0.5000\n",
      "Epoch 62/100\n",
      "1/1 - 0s - loss: 0.2513 - binary_accuracy: 0.5000\n",
      "Epoch 63/100\n",
      "1/1 - 0s - loss: 0.2504 - binary_accuracy: 0.5000\n",
      "Epoch 64/100\n",
      "1/1 - 0s - loss: 0.2495 - binary_accuracy: 0.5000\n",
      "Epoch 65/100\n",
      "1/1 - 0s - loss: 0.2486 - binary_accuracy: 0.5000\n",
      "Epoch 66/100\n",
      "1/1 - 0s - loss: 0.2478 - binary_accuracy: 0.5000\n",
      "Epoch 67/100\n",
      "1/1 - 0s - loss: 0.2469 - binary_accuracy: 0.5000\n",
      "Epoch 68/100\n",
      "1/1 - 0s - loss: 0.2461 - binary_accuracy: 0.5000\n",
      "Epoch 69/100\n",
      "1/1 - 0s - loss: 0.2453 - binary_accuracy: 0.5000\n",
      "Epoch 70/100\n",
      "1/1 - 0s - loss: 0.2445 - binary_accuracy: 0.5000\n",
      "Epoch 71/100\n",
      "1/1 - 0s - loss: 0.2436 - binary_accuracy: 0.5000\n",
      "Epoch 72/100\n",
      "1/1 - 0s - loss: 0.2428 - binary_accuracy: 0.5000\n",
      "Epoch 73/100\n",
      "1/1 - 0s - loss: 0.2420 - binary_accuracy: 0.5000\n",
      "Epoch 74/100\n",
      "1/1 - 0s - loss: 0.2412 - binary_accuracy: 0.5000\n",
      "Epoch 75/100\n",
      "1/1 - 0s - loss: 0.2404 - binary_accuracy: 0.5000\n",
      "Epoch 76/100\n",
      "1/1 - 0s - loss: 0.2396 - binary_accuracy: 0.5000\n",
      "Epoch 77/100\n",
      "1/1 - 0s - loss: 0.2389 - binary_accuracy: 0.5000\n",
      "Epoch 78/100\n",
      "1/1 - 0s - loss: 0.2381 - binary_accuracy: 0.5000\n",
      "Epoch 79/100\n",
      "1/1 - 0s - loss: 0.2373 - binary_accuracy: 0.5000\n",
      "Epoch 80/100\n",
      "1/1 - 0s - loss: 0.2365 - binary_accuracy: 0.5000\n",
      "Epoch 81/100\n",
      "1/1 - 0s - loss: 0.2358 - binary_accuracy: 0.5000\n",
      "Epoch 82/100\n",
      "1/1 - 0s - loss: 0.2350 - binary_accuracy: 0.5000\n",
      "Epoch 83/100\n",
      "1/1 - 0s - loss: 0.2343 - binary_accuracy: 0.5000\n",
      "Epoch 84/100\n",
      "1/1 - 0s - loss: 0.2335 - binary_accuracy: 0.5000\n",
      "Epoch 85/100\n",
      "1/1 - 0s - loss: 0.2328 - binary_accuracy: 0.5000\n",
      "Epoch 86/100\n",
      "1/1 - 0s - loss: 0.2321 - binary_accuracy: 0.5000\n",
      "Epoch 87/100\n",
      "1/1 - 0s - loss: 0.2313 - binary_accuracy: 0.5000\n",
      "Epoch 88/100\n",
      "1/1 - 0s - loss: 0.2306 - binary_accuracy: 0.5000\n",
      "Epoch 89/100\n",
      "1/1 - 0s - loss: 0.2298 - binary_accuracy: 0.5000\n",
      "Epoch 90/100\n",
      "1/1 - 0s - loss: 0.2291 - binary_accuracy: 0.5000\n",
      "Epoch 91/100\n",
      "1/1 - 0s - loss: 0.2283 - binary_accuracy: 0.5000\n",
      "Epoch 92/100\n",
      "1/1 - 0s - loss: 0.2275 - binary_accuracy: 0.5000\n",
      "Epoch 93/100\n",
      "1/1 - 0s - loss: 0.2267 - binary_accuracy: 0.5000\n",
      "Epoch 94/100\n",
      "1/1 - 0s - loss: 0.2260 - binary_accuracy: 0.5000\n",
      "Epoch 95/100\n",
      "1/1 - 0s - loss: 0.2252 - binary_accuracy: 0.5000\n",
      "Epoch 96/100\n",
      "1/1 - 0s - loss: 0.2244 - binary_accuracy: 0.5000\n",
      "Epoch 97/100\n",
      "1/1 - 0s - loss: 0.2236 - binary_accuracy: 0.5000\n",
      "Epoch 98/100\n",
      "1/1 - 0s - loss: 0.2228 - binary_accuracy: 0.5000\n",
      "Epoch 99/100\n",
      "1/1 - 0s - loss: 0.2220 - binary_accuracy: 0.5000\n",
      "Epoch 100/100\n",
      "1/1 - 0s - loss: 0.2212 - binary_accuracy: 0.5000\n"
     ]
    },
    {
     "data": {
      "text/plain": [
       "<keras.callbacks.History at 0x7ff501cbaf50>"
      ]
     },
     "execution_count": 8,
     "metadata": {},
     "output_type": "execute_result"
    }
   ],
   "source": [
    "model.fit(train,test_and,epochs=100,verbose=2)             #fit the model for AND Gate"
   ]
  },
  {
   "cell_type": "code",
   "execution_count": 9,
   "metadata": {
    "colab": {
     "base_uri": "https://localhost:8080/",
     "height": 0
    },
    "id": "e1m4O7XZ0bjw",
    "outputId": "12aa5a21-57f5-474f-c2a6-c5f6c9d141f1"
   },
   "outputs": [
    {
     "data": {
      "text/plain": [
       "array([[0.],\n",
       "       [1.],\n",
       "       [1.],\n",
       "       [1.]], dtype=float32)"
      ]
     },
     "execution_count": 9,
     "metadata": {},
     "output_type": "execute_result"
    }
   ],
   "source": [
    "model.predict(train).round()                                #predict the model "
   ]
  },
  {
   "cell_type": "code",
   "execution_count": 10,
   "metadata": {
    "colab": {
     "base_uri": "https://localhost:8080/",
     "height": 0
    },
    "id": "kgkDLG6n8AaD",
    "outputId": "8ce92680-b554-4470-a761-e82d4741c05c"
   },
   "outputs": [
    {
     "data": {
      "text/plain": [
       "0.5"
      ]
     },
     "execution_count": 10,
     "metadata": {},
     "output_type": "execute_result"
    }
   ],
   "source": [
    "accuracy_score(test_and,model.predict(train).round())                  #accuracy of AND Gate "
   ]
  },
  {
   "cell_type": "markdown",
   "metadata": {
    "id": "rrWmIhSG0ou1"
   },
   "source": [
    "**NOR GATE**"
   ]
  },
  {
   "cell_type": "code",
   "execution_count": 11,
   "metadata": {
    "colab": {
     "base_uri": "https://localhost:8080/",
     "height": 0
    },
    "id": "3_hncDXs0gn1",
    "outputId": "72aad8f0-5b6e-4686-e600-fe5d9334be50"
   },
   "outputs": [
    {
     "name": "stdout",
     "output_type": "stream",
     "text": [
      "Epoch 1/100\n",
      "1/1 - 0s - loss: 0.3077 - binary_accuracy: 0.0000e+00\n",
      "Epoch 2/100\n",
      "1/1 - 0s - loss: 0.3064 - binary_accuracy: 0.0000e+00\n",
      "Epoch 3/100\n",
      "1/1 - 0s - loss: 0.3047 - binary_accuracy: 0.0000e+00\n",
      "Epoch 4/100\n",
      "1/1 - 0s - loss: 0.3029 - binary_accuracy: 0.0000e+00\n",
      "Epoch 5/100\n",
      "1/1 - 0s - loss: 0.3008 - binary_accuracy: 0.0000e+00\n",
      "Epoch 6/100\n",
      "1/1 - 0s - loss: 0.2986 - binary_accuracy: 0.0000e+00\n",
      "Epoch 7/100\n",
      "1/1 - 0s - loss: 0.2962 - binary_accuracy: 0.2500\n",
      "Epoch 8/100\n",
      "1/1 - 0s - loss: 0.2936 - binary_accuracy: 0.2500\n",
      "Epoch 9/100\n",
      "1/1 - 0s - loss: 0.2910 - binary_accuracy: 0.2500\n",
      "Epoch 10/100\n",
      "1/1 - 0s - loss: 0.2883 - binary_accuracy: 0.5000\n",
      "Epoch 11/100\n",
      "1/1 - 0s - loss: 0.2856 - binary_accuracy: 0.5000\n",
      "Epoch 12/100\n",
      "1/1 - 0s - loss: 0.2827 - binary_accuracy: 0.5000\n",
      "Epoch 13/100\n",
      "1/1 - 0s - loss: 0.2799 - binary_accuracy: 0.5000\n",
      "Epoch 14/100\n",
      "1/1 - 0s - loss: 0.2771 - binary_accuracy: 0.5000\n",
      "Epoch 15/100\n",
      "1/1 - 0s - loss: 0.2742 - binary_accuracy: 0.5000\n",
      "Epoch 16/100\n",
      "1/1 - 0s - loss: 0.2714 - binary_accuracy: 0.5000\n",
      "Epoch 17/100\n",
      "1/1 - 0s - loss: 0.2685 - binary_accuracy: 0.5000\n",
      "Epoch 18/100\n",
      "1/1 - 0s - loss: 0.2657 - binary_accuracy: 0.5000\n",
      "Epoch 19/100\n",
      "1/1 - 0s - loss: 0.2629 - binary_accuracy: 0.5000\n",
      "Epoch 20/100\n",
      "1/1 - 0s - loss: 0.2601 - binary_accuracy: 0.5000\n",
      "Epoch 21/100\n",
      "1/1 - 0s - loss: 0.2573 - binary_accuracy: 0.5000\n",
      "Epoch 22/100\n",
      "1/1 - 0s - loss: 0.2545 - binary_accuracy: 0.5000\n",
      "Epoch 23/100\n",
      "1/1 - 0s - loss: 0.2519 - binary_accuracy: 0.5000\n",
      "Epoch 24/100\n",
      "1/1 - 0s - loss: 0.2493 - binary_accuracy: 0.5000\n",
      "Epoch 25/100\n",
      "1/1 - 0s - loss: 0.2468 - binary_accuracy: 0.5000\n",
      "Epoch 26/100\n",
      "1/1 - 0s - loss: 0.2443 - binary_accuracy: 0.5000\n",
      "Epoch 27/100\n",
      "1/1 - 0s - loss: 0.2418 - binary_accuracy: 0.5000\n",
      "Epoch 28/100\n",
      "1/1 - 0s - loss: 0.2394 - binary_accuracy: 0.5000\n",
      "Epoch 29/100\n",
      "1/1 - 0s - loss: 0.2371 - binary_accuracy: 0.5000\n",
      "Epoch 30/100\n",
      "1/1 - 0s - loss: 0.2349 - binary_accuracy: 0.5000\n",
      "Epoch 31/100\n",
      "1/1 - 0s - loss: 0.2326 - binary_accuracy: 0.5000\n",
      "Epoch 32/100\n",
      "1/1 - 0s - loss: 0.2305 - binary_accuracy: 0.5000\n",
      "Epoch 33/100\n",
      "1/1 - 0s - loss: 0.2283 - binary_accuracy: 0.7500\n",
      "Epoch 34/100\n",
      "1/1 - 0s - loss: 0.2262 - binary_accuracy: 0.7500\n",
      "Epoch 35/100\n",
      "1/1 - 0s - loss: 0.2241 - binary_accuracy: 0.7500\n",
      "Epoch 36/100\n",
      "1/1 - 0s - loss: 0.2221 - binary_accuracy: 0.7500\n",
      "Epoch 37/100\n",
      "1/1 - 0s - loss: 0.2201 - binary_accuracy: 0.7500\n",
      "Epoch 38/100\n",
      "1/1 - 0s - loss: 0.2181 - binary_accuracy: 0.7500\n",
      "Epoch 39/100\n",
      "1/1 - 0s - loss: 0.2161 - binary_accuracy: 0.7500\n",
      "Epoch 40/100\n",
      "1/1 - 0s - loss: 0.2142 - binary_accuracy: 0.7500\n",
      "Epoch 41/100\n",
      "1/1 - 0s - loss: 0.2123 - binary_accuracy: 0.7500\n",
      "Epoch 42/100\n",
      "1/1 - 0s - loss: 0.2105 - binary_accuracy: 0.7500\n",
      "Epoch 43/100\n",
      "1/1 - 0s - loss: 0.2087 - binary_accuracy: 0.7500\n",
      "Epoch 44/100\n",
      "1/1 - 0s - loss: 0.2069 - binary_accuracy: 0.7500\n",
      "Epoch 45/100\n",
      "1/1 - 0s - loss: 0.2052 - binary_accuracy: 0.7500\n",
      "Epoch 46/100\n",
      "1/1 - 0s - loss: 0.2034 - binary_accuracy: 0.7500\n",
      "Epoch 47/100\n",
      "1/1 - 0s - loss: 0.2018 - binary_accuracy: 0.7500\n",
      "Epoch 48/100\n",
      "1/1 - 0s - loss: 0.2001 - binary_accuracy: 0.7500\n",
      "Epoch 49/100\n",
      "1/1 - 0s - loss: 0.1985 - binary_accuracy: 0.7500\n",
      "Epoch 50/100\n",
      "1/1 - 0s - loss: 0.1969 - binary_accuracy: 0.7500\n",
      "Epoch 51/100\n",
      "1/1 - 0s - loss: 0.1954 - binary_accuracy: 0.7500\n",
      "Epoch 52/100\n",
      "1/1 - 0s - loss: 0.1938 - binary_accuracy: 0.7500\n",
      "Epoch 53/100\n",
      "1/1 - 0s - loss: 0.1923 - binary_accuracy: 0.7500\n",
      "Epoch 54/100\n",
      "1/1 - 0s - loss: 0.1909 - binary_accuracy: 0.7500\n",
      "Epoch 55/100\n",
      "1/1 - 0s - loss: 0.1894 - binary_accuracy: 0.7500\n",
      "Epoch 56/100\n",
      "1/1 - 0s - loss: 0.1880 - binary_accuracy: 0.7500\n",
      "Epoch 57/100\n",
      "1/1 - 0s - loss: 0.1867 - binary_accuracy: 0.7500\n",
      "Epoch 58/100\n",
      "1/1 - 0s - loss: 0.1853 - binary_accuracy: 0.7500\n",
      "Epoch 59/100\n",
      "1/1 - 0s - loss: 0.1840 - binary_accuracy: 0.7500\n",
      "Epoch 60/100\n",
      "1/1 - 0s - loss: 0.1827 - binary_accuracy: 0.7500\n",
      "Epoch 61/100\n",
      "1/1 - 0s - loss: 0.1814 - binary_accuracy: 0.7500\n",
      "Epoch 62/100\n",
      "1/1 - 0s - loss: 0.1801 - binary_accuracy: 0.7500\n",
      "Epoch 63/100\n",
      "1/1 - 0s - loss: 0.1789 - binary_accuracy: 0.7500\n",
      "Epoch 64/100\n",
      "1/1 - 0s - loss: 0.1777 - binary_accuracy: 0.7500\n",
      "Epoch 65/100\n",
      "1/1 - 0s - loss: 0.1765 - binary_accuracy: 0.7500\n",
      "Epoch 66/100\n",
      "1/1 - 0s - loss: 0.1754 - binary_accuracy: 0.7500\n",
      "Epoch 67/100\n",
      "1/1 - 0s - loss: 0.1742 - binary_accuracy: 0.7500\n",
      "Epoch 68/100\n",
      "1/1 - 0s - loss: 0.1731 - binary_accuracy: 0.7500\n",
      "Epoch 69/100\n",
      "1/1 - 0s - loss: 0.1720 - binary_accuracy: 0.7500\n",
      "Epoch 70/100\n",
      "1/1 - 0s - loss: 0.1710 - binary_accuracy: 0.7500\n",
      "Epoch 71/100\n",
      "1/1 - 0s - loss: 0.1699 - binary_accuracy: 0.7500\n",
      "Epoch 72/100\n",
      "1/1 - 0s - loss: 0.1689 - binary_accuracy: 0.7500\n",
      "Epoch 73/100\n",
      "1/1 - 0s - loss: 0.1678 - binary_accuracy: 0.7500\n",
      "Epoch 74/100\n",
      "1/1 - 0s - loss: 0.1668 - binary_accuracy: 0.7500\n",
      "Epoch 75/100\n",
      "1/1 - 0s - loss: 0.1657 - binary_accuracy: 0.7500\n",
      "Epoch 76/100\n",
      "1/1 - 0s - loss: 0.1647 - binary_accuracy: 0.7500\n",
      "Epoch 77/100\n",
      "1/1 - 0s - loss: 0.1637 - binary_accuracy: 0.7500\n",
      "Epoch 78/100\n",
      "1/1 - 0s - loss: 0.1627 - binary_accuracy: 0.7500\n",
      "Epoch 79/100\n",
      "1/1 - 0s - loss: 0.1618 - binary_accuracy: 0.7500\n",
      "Epoch 80/100\n",
      "1/1 - 0s - loss: 0.1608 - binary_accuracy: 0.7500\n",
      "Epoch 81/100\n",
      "1/1 - 0s - loss: 0.1599 - binary_accuracy: 0.7500\n",
      "Epoch 82/100\n",
      "1/1 - 0s - loss: 0.1590 - binary_accuracy: 0.7500\n",
      "Epoch 83/100\n",
      "1/1 - 0s - loss: 0.1581 - binary_accuracy: 0.7500\n",
      "Epoch 84/100\n",
      "1/1 - 0s - loss: 0.1572 - binary_accuracy: 0.7500\n",
      "Epoch 85/100\n",
      "1/1 - 0s - loss: 0.1563 - binary_accuracy: 0.7500\n",
      "Epoch 86/100\n",
      "1/1 - 0s - loss: 0.1555 - binary_accuracy: 0.7500\n",
      "Epoch 87/100\n",
      "1/1 - 0s - loss: 0.1546 - binary_accuracy: 0.7500\n",
      "Epoch 88/100\n",
      "1/1 - 0s - loss: 0.1538 - binary_accuracy: 0.7500\n",
      "Epoch 89/100\n",
      "1/1 - 0s - loss: 0.1530 - binary_accuracy: 0.7500\n",
      "Epoch 90/100\n",
      "1/1 - 0s - loss: 0.1522 - binary_accuracy: 0.7500\n",
      "Epoch 91/100\n",
      "1/1 - 0s - loss: 0.1515 - binary_accuracy: 0.7500\n",
      "Epoch 92/100\n",
      "1/1 - 0s - loss: 0.1507 - binary_accuracy: 0.7500\n",
      "Epoch 93/100\n",
      "1/1 - 0s - loss: 0.1500 - binary_accuracy: 0.7500\n",
      "Epoch 94/100\n",
      "1/1 - 0s - loss: 0.1492 - binary_accuracy: 0.7500\n",
      "Epoch 95/100\n",
      "1/1 - 0s - loss: 0.1485 - binary_accuracy: 0.7500\n",
      "Epoch 96/100\n",
      "1/1 - 0s - loss: 0.1478 - binary_accuracy: 0.7500\n",
      "Epoch 97/100\n",
      "1/1 - 0s - loss: 0.1471 - binary_accuracy: 0.7500\n",
      "Epoch 98/100\n",
      "1/1 - 0s - loss: 0.1464 - binary_accuracy: 0.7500\n",
      "Epoch 99/100\n",
      "1/1 - 0s - loss: 0.1458 - binary_accuracy: 0.7500\n",
      "Epoch 100/100\n",
      "1/1 - 0s - loss: 0.1451 - binary_accuracy: 0.7500\n"
     ]
    },
    {
     "data": {
      "text/plain": [
       "<keras.callbacks.History at 0x7ff4ffdd6550>"
      ]
     },
     "execution_count": 11,
     "metadata": {},
     "output_type": "execute_result"
    }
   ],
   "source": [
    "model.fit(train,test_nor,epochs=100,verbose=2)            #fit the model for NOR Gate"
   ]
  },
  {
   "cell_type": "code",
   "execution_count": 12,
   "metadata": {
    "colab": {
     "base_uri": "https://localhost:8080/",
     "height": 0
    },
    "id": "ZKUL3VRB0yoK",
    "outputId": "428db4d3-029d-4578-a5d5-9d544f7d29b8"
   },
   "outputs": [
    {
     "data": {
      "text/plain": [
       "array([[0.],\n",
       "       [0.],\n",
       "       [0.],\n",
       "       [0.]], dtype=float32)"
      ]
     },
     "execution_count": 12,
     "metadata": {},
     "output_type": "execute_result"
    }
   ],
   "source": [
    "model.predict(train).round()                              #predict the model "
   ]
  },
  {
   "cell_type": "code",
   "execution_count": 13,
   "metadata": {
    "colab": {
     "base_uri": "https://localhost:8080/",
     "height": 0
    },
    "id": "zTdcTucv8J-3",
    "outputId": "56af9464-1db8-4b4e-a054-91debeb47e8c"
   },
   "outputs": [
    {
     "data": {
      "text/plain": [
       "0.75"
      ]
     },
     "execution_count": 13,
     "metadata": {},
     "output_type": "execute_result"
    }
   ],
   "source": [
    "accuracy_score(test_nor,model.predict(train).round())                     #accuracy of NOR Gate "
   ]
  },
  {
   "cell_type": "markdown",
   "metadata": {
    "id": "bZmpvf4d0_nJ"
   },
   "source": [
    "**NAND GATE**"
   ]
  },
  {
   "cell_type": "code",
   "execution_count": 14,
   "metadata": {
    "colab": {
     "base_uri": "https://localhost:8080/",
     "height": 0
    },
    "id": "USg5xL521Byy",
    "outputId": "a56f6f20-9839-4ef5-ac32-a262ec920522"
   },
   "outputs": [
    {
     "name": "stdout",
     "output_type": "stream",
     "text": [
      "Epoch 1/100\n",
      "1/1 - 0s - loss: 0.3454 - binary_accuracy: 0.2500\n",
      "Epoch 2/100\n",
      "1/1 - 0s - loss: 0.3459 - binary_accuracy: 0.2500\n",
      "Epoch 3/100\n",
      "1/1 - 0s - loss: 0.3460 - binary_accuracy: 0.2500\n",
      "Epoch 4/100\n",
      "1/1 - 0s - loss: 0.3459 - binary_accuracy: 0.2500\n",
      "Epoch 5/100\n",
      "1/1 - 0s - loss: 0.3456 - binary_accuracy: 0.2500\n",
      "Epoch 6/100\n",
      "1/1 - 0s - loss: 0.3450 - binary_accuracy: 0.2500\n",
      "Epoch 7/100\n",
      "1/1 - 0s - loss: 0.3443 - binary_accuracy: 0.2500\n",
      "Epoch 8/100\n",
      "1/1 - 0s - loss: 0.3434 - binary_accuracy: 0.2500\n",
      "Epoch 9/100\n",
      "1/1 - 0s - loss: 0.3424 - binary_accuracy: 0.2500\n",
      "Epoch 10/100\n",
      "1/1 - 0s - loss: 0.3413 - binary_accuracy: 0.2500\n",
      "Epoch 11/100\n",
      "1/1 - 0s - loss: 0.3401 - binary_accuracy: 0.2500\n",
      "Epoch 12/100\n",
      "1/1 - 0s - loss: 0.3388 - binary_accuracy: 0.2500\n",
      "Epoch 13/100\n",
      "1/1 - 0s - loss: 0.3374 - binary_accuracy: 0.2500\n",
      "Epoch 14/100\n",
      "1/1 - 0s - loss: 0.3360 - binary_accuracy: 0.2500\n",
      "Epoch 15/100\n",
      "1/1 - 0s - loss: 0.3345 - binary_accuracy: 0.2500\n",
      "Epoch 16/100\n",
      "1/1 - 0s - loss: 0.3330 - binary_accuracy: 0.2500\n",
      "Epoch 17/100\n",
      "1/1 - 0s - loss: 0.3314 - binary_accuracy: 0.2500\n",
      "Epoch 18/100\n",
      "1/1 - 0s - loss: 0.3299 - binary_accuracy: 0.2500\n",
      "Epoch 19/100\n",
      "1/1 - 0s - loss: 0.3283 - binary_accuracy: 0.2500\n",
      "Epoch 20/100\n",
      "1/1 - 0s - loss: 0.3267 - binary_accuracy: 0.2500\n",
      "Epoch 21/100\n",
      "1/1 - 0s - loss: 0.3251 - binary_accuracy: 0.2500\n",
      "Epoch 22/100\n",
      "1/1 - 0s - loss: 0.3234 - binary_accuracy: 0.2500\n",
      "Epoch 23/100\n",
      "1/1 - 0s - loss: 0.3218 - binary_accuracy: 0.2500\n",
      "Epoch 24/100\n",
      "1/1 - 0s - loss: 0.3202 - binary_accuracy: 0.2500\n",
      "Epoch 25/100\n",
      "1/1 - 0s - loss: 0.3186 - binary_accuracy: 0.2500\n",
      "Epoch 26/100\n",
      "1/1 - 0s - loss: 0.3170 - binary_accuracy: 0.2500\n",
      "Epoch 27/100\n",
      "1/1 - 0s - loss: 0.3154 - binary_accuracy: 0.2500\n",
      "Epoch 28/100\n",
      "1/1 - 0s - loss: 0.3138 - binary_accuracy: 0.2500\n",
      "Epoch 29/100\n",
      "1/1 - 0s - loss: 0.3122 - binary_accuracy: 0.2500\n",
      "Epoch 30/100\n",
      "1/1 - 0s - loss: 0.3108 - binary_accuracy: 0.2500\n",
      "Epoch 31/100\n",
      "1/1 - 0s - loss: 0.3094 - binary_accuracy: 0.2500\n",
      "Epoch 32/100\n",
      "1/1 - 0s - loss: 0.3081 - binary_accuracy: 0.2500\n",
      "Epoch 33/100\n",
      "1/1 - 0s - loss: 0.3068 - binary_accuracy: 0.2500\n",
      "Epoch 34/100\n",
      "1/1 - 0s - loss: 0.3055 - binary_accuracy: 0.2500\n",
      "Epoch 35/100\n",
      "1/1 - 0s - loss: 0.3043 - binary_accuracy: 0.2500\n",
      "Epoch 36/100\n",
      "1/1 - 0s - loss: 0.3030 - binary_accuracy: 0.2500\n",
      "Epoch 37/100\n",
      "1/1 - 0s - loss: 0.3018 - binary_accuracy: 0.2500\n",
      "Epoch 38/100\n",
      "1/1 - 0s - loss: 0.3006 - binary_accuracy: 0.2500\n",
      "Epoch 39/100\n",
      "1/1 - 0s - loss: 0.2994 - binary_accuracy: 0.2500\n",
      "Epoch 40/100\n",
      "1/1 - 0s - loss: 0.2983 - binary_accuracy: 0.2500\n",
      "Epoch 41/100\n",
      "1/1 - 0s - loss: 0.2971 - binary_accuracy: 0.2500\n",
      "Epoch 42/100\n",
      "1/1 - 0s - loss: 0.2960 - binary_accuracy: 0.2500\n",
      "Epoch 43/100\n",
      "1/1 - 0s - loss: 0.2949 - binary_accuracy: 0.2500\n",
      "Epoch 44/100\n",
      "1/1 - 0s - loss: 0.2938 - binary_accuracy: 0.2500\n",
      "Epoch 45/100\n",
      "1/1 - 0s - loss: 0.2927 - binary_accuracy: 0.2500\n",
      "Epoch 46/100\n",
      "1/1 - 0s - loss: 0.2917 - binary_accuracy: 0.2500\n",
      "Epoch 47/100\n",
      "1/1 - 0s - loss: 0.2907 - binary_accuracy: 0.2500\n",
      "Epoch 48/100\n",
      "1/1 - 0s - loss: 0.2898 - binary_accuracy: 0.2500\n",
      "Epoch 49/100\n",
      "1/1 - 0s - loss: 0.2888 - binary_accuracy: 0.2500\n",
      "Epoch 50/100\n",
      "1/1 - 0s - loss: 0.2879 - binary_accuracy: 0.2500\n",
      "Epoch 51/100\n",
      "1/1 - 0s - loss: 0.2870 - binary_accuracy: 0.2500\n",
      "Epoch 52/100\n",
      "1/1 - 0s - loss: 0.2860 - binary_accuracy: 0.2500\n",
      "Epoch 53/100\n",
      "1/1 - 0s - loss: 0.2851 - binary_accuracy: 0.2500\n",
      "Epoch 54/100\n",
      "1/1 - 0s - loss: 0.2842 - binary_accuracy: 0.2500\n",
      "Epoch 55/100\n",
      "1/1 - 0s - loss: 0.2834 - binary_accuracy: 0.2500\n",
      "Epoch 56/100\n",
      "1/1 - 0s - loss: 0.2825 - binary_accuracy: 0.2500\n",
      "Epoch 57/100\n",
      "1/1 - 0s - loss: 0.2817 - binary_accuracy: 0.2500\n",
      "Epoch 58/100\n",
      "1/1 - 0s - loss: 0.2809 - binary_accuracy: 0.2500\n",
      "Epoch 59/100\n",
      "1/1 - 0s - loss: 0.2801 - binary_accuracy: 0.2500\n",
      "Epoch 60/100\n",
      "1/1 - 0s - loss: 0.2793 - binary_accuracy: 0.2500\n",
      "Epoch 61/100\n",
      "1/1 - 0s - loss: 0.2785 - binary_accuracy: 0.2500\n",
      "Epoch 62/100\n",
      "1/1 - 0s - loss: 0.2778 - binary_accuracy: 0.2500\n",
      "Epoch 63/100\n",
      "1/1 - 0s - loss: 0.2770 - binary_accuracy: 0.2500\n",
      "Epoch 64/100\n",
      "1/1 - 0s - loss: 0.2763 - binary_accuracy: 0.2500\n",
      "Epoch 65/100\n",
      "1/1 - 0s - loss: 0.2755 - binary_accuracy: 0.2500\n",
      "Epoch 66/100\n",
      "1/1 - 0s - loss: 0.2748 - binary_accuracy: 0.2500\n",
      "Epoch 67/100\n",
      "1/1 - 0s - loss: 0.2741 - binary_accuracy: 0.2500\n",
      "Epoch 68/100\n",
      "1/1 - 0s - loss: 0.2733 - binary_accuracy: 0.2500\n",
      "Epoch 69/100\n",
      "1/1 - 0s - loss: 0.2726 - binary_accuracy: 0.2500\n",
      "Epoch 70/100\n",
      "1/1 - 0s - loss: 0.2719 - binary_accuracy: 0.2500\n",
      "Epoch 71/100\n",
      "1/1 - 0s - loss: 0.2712 - binary_accuracy: 0.2500\n",
      "Epoch 72/100\n",
      "1/1 - 0s - loss: 0.2705 - binary_accuracy: 0.2500\n",
      "Epoch 73/100\n",
      "1/1 - 0s - loss: 0.2699 - binary_accuracy: 0.2500\n",
      "Epoch 74/100\n",
      "1/1 - 0s - loss: 0.2692 - binary_accuracy: 0.2500\n",
      "Epoch 75/100\n",
      "1/1 - 0s - loss: 0.2685 - binary_accuracy: 0.2500\n",
      "Epoch 76/100\n",
      "1/1 - 0s - loss: 0.2679 - binary_accuracy: 0.2500\n",
      "Epoch 77/100\n",
      "1/1 - 0s - loss: 0.2672 - binary_accuracy: 0.2500\n",
      "Epoch 78/100\n",
      "1/1 - 0s - loss: 0.2666 - binary_accuracy: 0.2500\n",
      "Epoch 79/100\n",
      "1/1 - 0s - loss: 0.2659 - binary_accuracy: 0.2500\n",
      "Epoch 80/100\n",
      "1/1 - 0s - loss: 0.2653 - binary_accuracy: 0.2500\n",
      "Epoch 81/100\n",
      "1/1 - 0s - loss: 0.2646 - binary_accuracy: 0.2500\n",
      "Epoch 82/100\n",
      "1/1 - 0s - loss: 0.2640 - binary_accuracy: 0.2500\n",
      "Epoch 83/100\n",
      "1/1 - 0s - loss: 0.2634 - binary_accuracy: 0.2500\n",
      "Epoch 84/100\n",
      "1/1 - 0s - loss: 0.2628 - binary_accuracy: 0.2500\n",
      "Epoch 85/100\n",
      "1/1 - 0s - loss: 0.2622 - binary_accuracy: 0.2500\n",
      "Epoch 86/100\n",
      "1/1 - 0s - loss: 0.2616 - binary_accuracy: 0.2500\n",
      "Epoch 87/100\n",
      "1/1 - 0s - loss: 0.2610 - binary_accuracy: 0.2500\n",
      "Epoch 88/100\n",
      "1/1 - 0s - loss: 0.2604 - binary_accuracy: 0.2500\n",
      "Epoch 89/100\n",
      "1/1 - 0s - loss: 0.2598 - binary_accuracy: 0.2500\n",
      "Epoch 90/100\n",
      "1/1 - 0s - loss: 0.2592 - binary_accuracy: 0.2500\n",
      "Epoch 91/100\n",
      "1/1 - 0s - loss: 0.2587 - binary_accuracy: 0.2500\n",
      "Epoch 92/100\n",
      "1/1 - 0s - loss: 0.2581 - binary_accuracy: 0.2500\n",
      "Epoch 93/100\n",
      "1/1 - 0s - loss: 0.2575 - binary_accuracy: 0.2500\n",
      "Epoch 94/100\n",
      "1/1 - 0s - loss: 0.2569 - binary_accuracy: 0.2500\n",
      "Epoch 95/100\n",
      "1/1 - 0s - loss: 0.2563 - binary_accuracy: 0.2500\n",
      "Epoch 96/100\n",
      "1/1 - 0s - loss: 0.2558 - binary_accuracy: 0.2500\n",
      "Epoch 97/100\n",
      "1/1 - 0s - loss: 0.2552 - binary_accuracy: 0.2500\n",
      "Epoch 98/100\n",
      "1/1 - 0s - loss: 0.2546 - binary_accuracy: 0.2500\n",
      "Epoch 99/100\n",
      "1/1 - 0s - loss: 0.2541 - binary_accuracy: 0.2500\n",
      "Epoch 100/100\n",
      "1/1 - 0s - loss: 0.2535 - binary_accuracy: 0.2500\n"
     ]
    },
    {
     "data": {
      "text/plain": [
       "<keras.callbacks.History at 0x7ff503438310>"
      ]
     },
     "execution_count": 14,
     "metadata": {},
     "output_type": "execute_result"
    }
   ],
   "source": [
    "model.fit(train,test_nand,epochs=100,verbose=2)               #fit the model for NAND Gate"
   ]
  },
  {
   "cell_type": "code",
   "execution_count": 15,
   "metadata": {
    "colab": {
     "base_uri": "https://localhost:8080/",
     "height": 0
    },
    "id": "Ql0xz3nh1Hu7",
    "outputId": "0f195663-ad83-4556-8fad-fd77226d55b3"
   },
   "outputs": [
    {
     "data": {
      "text/plain": [
       "array([[0.],\n",
       "       [0.],\n",
       "       [0.],\n",
       "       [0.]], dtype=float32)"
      ]
     },
     "execution_count": 15,
     "metadata": {},
     "output_type": "execute_result"
    }
   ],
   "source": [
    "model.predict(train).round()                                 #predict the model "
   ]
  },
  {
   "cell_type": "code",
   "execution_count": 16,
   "metadata": {
    "colab": {
     "base_uri": "https://localhost:8080/",
     "height": 0
    },
    "id": "S6kFv6nv8OoO",
    "outputId": "3806d0d3-030c-4a5c-dcfe-64dc42462c80"
   },
   "outputs": [
    {
     "data": {
      "text/plain": [
       "0.25"
      ]
     },
     "execution_count": 16,
     "metadata": {},
     "output_type": "execute_result"
    }
   ],
   "source": [
    "accuracy_score(test_nand,model.predict(train).round())                    #accuracy of NAND Gate "
   ]
  },
  {
   "cell_type": "markdown",
   "metadata": {
    "id": "wYtON5Wd3m7_"
   },
   "source": [
    "**XOR GATE**"
   ]
  },
  {
   "cell_type": "code",
   "execution_count": 17,
   "metadata": {
    "colab": {
     "base_uri": "https://localhost:8080/",
     "height": 0
    },
    "id": "2nYI8kHg3pdd",
    "outputId": "9374c6cc-770c-4ee8-f777-0e913c994457"
   },
   "outputs": [
    {
     "name": "stdout",
     "output_type": "stream",
     "text": [
      "Epoch 1/100\n",
      "1/1 - 0s - loss: 0.2520 - binary_accuracy: 0.5000\n",
      "Epoch 2/100\n",
      "1/1 - 0s - loss: 0.2516 - binary_accuracy: 0.5000\n",
      "Epoch 3/100\n",
      "1/1 - 0s - loss: 0.2512 - binary_accuracy: 0.5000\n",
      "Epoch 4/100\n",
      "1/1 - 0s - loss: 0.2508 - binary_accuracy: 0.5000\n",
      "Epoch 5/100\n",
      "1/1 - 0s - loss: 0.2504 - binary_accuracy: 0.5000\n",
      "Epoch 6/100\n",
      "1/1 - 0s - loss: 0.2500 - binary_accuracy: 0.5000\n",
      "Epoch 7/100\n",
      "1/1 - 0s - loss: 0.2496 - binary_accuracy: 0.5000\n",
      "Epoch 8/100\n",
      "1/1 - 0s - loss: 0.2492 - binary_accuracy: 0.5000\n",
      "Epoch 9/100\n",
      "1/1 - 0s - loss: 0.2488 - binary_accuracy: 0.5000\n",
      "Epoch 10/100\n",
      "1/1 - 0s - loss: 0.2484 - binary_accuracy: 0.5000\n",
      "Epoch 11/100\n",
      "1/1 - 0s - loss: 0.2480 - binary_accuracy: 0.2500\n",
      "Epoch 12/100\n",
      "1/1 - 0s - loss: 0.2476 - binary_accuracy: 0.2500\n",
      "Epoch 13/100\n",
      "1/1 - 0s - loss: 0.2473 - binary_accuracy: 0.2500\n",
      "Epoch 14/100\n",
      "1/1 - 0s - loss: 0.2469 - binary_accuracy: 0.2500\n",
      "Epoch 15/100\n",
      "1/1 - 0s - loss: 0.2465 - binary_accuracy: 0.2500\n",
      "Epoch 16/100\n",
      "1/1 - 0s - loss: 0.2461 - binary_accuracy: 0.2500\n",
      "Epoch 17/100\n",
      "1/1 - 0s - loss: 0.2458 - binary_accuracy: 0.2500\n",
      "Epoch 18/100\n",
      "1/1 - 0s - loss: 0.2454 - binary_accuracy: 0.2500\n",
      "Epoch 19/100\n",
      "1/1 - 0s - loss: 0.2450 - binary_accuracy: 0.2500\n",
      "Epoch 20/100\n",
      "1/1 - 0s - loss: 0.2447 - binary_accuracy: 0.2500\n",
      "Epoch 21/100\n",
      "1/1 - 0s - loss: 0.2443 - binary_accuracy: 0.2500\n",
      "Epoch 22/100\n",
      "1/1 - 0s - loss: 0.2440 - binary_accuracy: 0.2500\n",
      "Epoch 23/100\n",
      "1/1 - 0s - loss: 0.2436 - binary_accuracy: 0.2500\n",
      "Epoch 24/100\n",
      "1/1 - 0s - loss: 0.2433 - binary_accuracy: 0.2500\n",
      "Epoch 25/100\n",
      "1/1 - 0s - loss: 0.2429 - binary_accuracy: 0.2500\n",
      "Epoch 26/100\n",
      "1/1 - 0s - loss: 0.2426 - binary_accuracy: 0.2500\n",
      "Epoch 27/100\n",
      "1/1 - 0s - loss: 0.2422 - binary_accuracy: 0.2500\n",
      "Epoch 28/100\n",
      "1/1 - 0s - loss: 0.2418 - binary_accuracy: 0.2500\n",
      "Epoch 29/100\n",
      "1/1 - 0s - loss: 0.2415 - binary_accuracy: 0.2500\n",
      "Epoch 30/100\n",
      "1/1 - 0s - loss: 0.2411 - binary_accuracy: 0.2500\n",
      "Epoch 31/100\n",
      "1/1 - 0s - loss: 0.2408 - binary_accuracy: 0.2500\n",
      "Epoch 32/100\n",
      "1/1 - 0s - loss: 0.2405 - binary_accuracy: 0.2500\n",
      "Epoch 33/100\n",
      "1/1 - 0s - loss: 0.2401 - binary_accuracy: 0.2500\n",
      "Epoch 34/100\n",
      "1/1 - 0s - loss: 0.2398 - binary_accuracy: 0.2500\n",
      "Epoch 35/100\n",
      "1/1 - 0s - loss: 0.2394 - binary_accuracy: 0.2500\n",
      "Epoch 36/100\n",
      "1/1 - 0s - loss: 0.2391 - binary_accuracy: 0.2500\n",
      "Epoch 37/100\n",
      "1/1 - 0s - loss: 0.2387 - binary_accuracy: 0.2500\n",
      "Epoch 38/100\n",
      "1/1 - 0s - loss: 0.2384 - binary_accuracy: 0.2500\n",
      "Epoch 39/100\n",
      "1/1 - 0s - loss: 0.2381 - binary_accuracy: 0.2500\n",
      "Epoch 40/100\n",
      "1/1 - 0s - loss: 0.2377 - binary_accuracy: 0.2500\n",
      "Epoch 41/100\n",
      "1/1 - 0s - loss: 0.2374 - binary_accuracy: 0.2500\n",
      "Epoch 42/100\n",
      "1/1 - 0s - loss: 0.2371 - binary_accuracy: 0.2500\n",
      "Epoch 43/100\n",
      "1/1 - 0s - loss: 0.2367 - binary_accuracy: 0.2500\n",
      "Epoch 44/100\n",
      "1/1 - 0s - loss: 0.2364 - binary_accuracy: 0.2500\n",
      "Epoch 45/100\n",
      "1/1 - 0s - loss: 0.2360 - binary_accuracy: 0.2500\n",
      "Epoch 46/100\n",
      "1/1 - 0s - loss: 0.2357 - binary_accuracy: 0.2500\n",
      "Epoch 47/100\n",
      "1/1 - 0s - loss: 0.2354 - binary_accuracy: 0.2500\n",
      "Epoch 48/100\n",
      "1/1 - 0s - loss: 0.2350 - binary_accuracy: 0.2500\n",
      "Epoch 49/100\n",
      "1/1 - 0s - loss: 0.2347 - binary_accuracy: 0.2500\n",
      "Epoch 50/100\n",
      "1/1 - 0s - loss: 0.2344 - binary_accuracy: 0.2500\n",
      "Epoch 51/100\n",
      "1/1 - 0s - loss: 0.2340 - binary_accuracy: 0.2500\n",
      "Epoch 52/100\n",
      "1/1 - 0s - loss: 0.2337 - binary_accuracy: 0.2500\n",
      "Epoch 53/100\n",
      "1/1 - 0s - loss: 0.2334 - binary_accuracy: 0.2500\n",
      "Epoch 54/100\n",
      "1/1 - 0s - loss: 0.2331 - binary_accuracy: 0.2500\n",
      "Epoch 55/100\n",
      "1/1 - 0s - loss: 0.2327 - binary_accuracy: 0.2500\n",
      "Epoch 56/100\n",
      "1/1 - 0s - loss: 0.2324 - binary_accuracy: 0.2500\n",
      "Epoch 57/100\n",
      "1/1 - 0s - loss: 0.2321 - binary_accuracy: 0.2500\n",
      "Epoch 58/100\n",
      "1/1 - 0s - loss: 0.2317 - binary_accuracy: 0.5000\n",
      "Epoch 59/100\n",
      "1/1 - 0s - loss: 0.2314 - binary_accuracy: 0.5000\n",
      "Epoch 60/100\n",
      "1/1 - 0s - loss: 0.2311 - binary_accuracy: 0.5000\n",
      "Epoch 61/100\n",
      "1/1 - 0s - loss: 0.2308 - binary_accuracy: 0.5000\n",
      "Epoch 62/100\n",
      "1/1 - 0s - loss: 0.2304 - binary_accuracy: 0.5000\n",
      "Epoch 63/100\n",
      "1/1 - 0s - loss: 0.2301 - binary_accuracy: 0.5000\n",
      "Epoch 64/100\n",
      "1/1 - 0s - loss: 0.2298 - binary_accuracy: 0.5000\n",
      "Epoch 65/100\n",
      "1/1 - 0s - loss: 0.2295 - binary_accuracy: 0.7500\n",
      "Epoch 66/100\n",
      "1/1 - 0s - loss: 0.2291 - binary_accuracy: 0.7500\n",
      "Epoch 67/100\n",
      "1/1 - 0s - loss: 0.2288 - binary_accuracy: 0.7500\n",
      "Epoch 68/100\n",
      "1/1 - 0s - loss: 0.2285 - binary_accuracy: 0.7500\n",
      "Epoch 69/100\n",
      "1/1 - 0s - loss: 0.2282 - binary_accuracy: 0.7500\n",
      "Epoch 70/100\n",
      "1/1 - 0s - loss: 0.2279 - binary_accuracy: 0.7500\n",
      "Epoch 71/100\n",
      "1/1 - 0s - loss: 0.2275 - binary_accuracy: 0.7500\n",
      "Epoch 72/100\n",
      "1/1 - 0s - loss: 0.2272 - binary_accuracy: 0.7500\n",
      "Epoch 73/100\n",
      "1/1 - 0s - loss: 0.2269 - binary_accuracy: 0.7500\n",
      "Epoch 74/100\n",
      "1/1 - 0s - loss: 0.2266 - binary_accuracy: 0.7500\n",
      "Epoch 75/100\n",
      "1/1 - 0s - loss: 0.2263 - binary_accuracy: 0.7500\n",
      "Epoch 76/100\n",
      "1/1 - 0s - loss: 0.2260 - binary_accuracy: 0.7500\n",
      "Epoch 77/100\n",
      "1/1 - 0s - loss: 0.2256 - binary_accuracy: 0.7500\n",
      "Epoch 78/100\n",
      "1/1 - 0s - loss: 0.2253 - binary_accuracy: 0.7500\n",
      "Epoch 79/100\n",
      "1/1 - 0s - loss: 0.2250 - binary_accuracy: 0.7500\n",
      "Epoch 80/100\n",
      "1/1 - 0s - loss: 0.2247 - binary_accuracy: 0.7500\n",
      "Epoch 81/100\n",
      "1/1 - 0s - loss: 0.2244 - binary_accuracy: 0.7500\n",
      "Epoch 82/100\n",
      "1/1 - 0s - loss: 0.2241 - binary_accuracy: 0.7500\n",
      "Epoch 83/100\n",
      "1/1 - 0s - loss: 0.2237 - binary_accuracy: 0.7500\n",
      "Epoch 84/100\n",
      "1/1 - 0s - loss: 0.2234 - binary_accuracy: 0.7500\n",
      "Epoch 85/100\n",
      "1/1 - 0s - loss: 0.2231 - binary_accuracy: 0.7500\n",
      "Epoch 86/100\n",
      "1/1 - 0s - loss: 0.2228 - binary_accuracy: 0.7500\n",
      "Epoch 87/100\n",
      "1/1 - 0s - loss: 0.2225 - binary_accuracy: 0.7500\n",
      "Epoch 88/100\n",
      "1/1 - 0s - loss: 0.2222 - binary_accuracy: 0.7500\n",
      "Epoch 89/100\n",
      "1/1 - 0s - loss: 0.2219 - binary_accuracy: 0.7500\n",
      "Epoch 90/100\n",
      "1/1 - 0s - loss: 0.2216 - binary_accuracy: 0.7500\n",
      "Epoch 91/100\n",
      "1/1 - 0s - loss: 0.2213 - binary_accuracy: 0.7500\n",
      "Epoch 92/100\n",
      "1/1 - 0s - loss: 0.2209 - binary_accuracy: 0.7500\n",
      "Epoch 93/100\n",
      "1/1 - 0s - loss: 0.2206 - binary_accuracy: 0.7500\n",
      "Epoch 94/100\n",
      "1/1 - 0s - loss: 0.2203 - binary_accuracy: 0.7500\n",
      "Epoch 95/100\n",
      "1/1 - 0s - loss: 0.2200 - binary_accuracy: 0.7500\n",
      "Epoch 96/100\n",
      "1/1 - 0s - loss: 0.2197 - binary_accuracy: 0.7500\n",
      "Epoch 97/100\n",
      "1/1 - 0s - loss: 0.2194 - binary_accuracy: 0.7500\n",
      "Epoch 98/100\n",
      "1/1 - 0s - loss: 0.2191 - binary_accuracy: 0.7500\n",
      "Epoch 99/100\n",
      "1/1 - 0s - loss: 0.2188 - binary_accuracy: 0.7500\n",
      "Epoch 100/100\n",
      "1/1 - 0s - loss: 0.2185 - binary_accuracy: 0.7500\n"
     ]
    },
    {
     "data": {
      "text/plain": [
       "<keras.callbacks.History at 0x7ff50349d510>"
      ]
     },
     "execution_count": 17,
     "metadata": {},
     "output_type": "execute_result"
    }
   ],
   "source": [
    "model.fit(train,test_xor,epochs=100,verbose=2)                 #fit the model for XOR Gate"
   ]
  },
  {
   "cell_type": "code",
   "execution_count": 18,
   "metadata": {
    "colab": {
     "base_uri": "https://localhost:8080/",
     "height": 0
    },
    "id": "jjSohkJs33c1",
    "outputId": "1ad6e36a-8c10-42f4-9e09-eae14bc6bcf3"
   },
   "outputs": [
    {
     "data": {
      "text/plain": [
       "array([[1.],\n",
       "       [1.],\n",
       "       [1.],\n",
       "       [0.]], dtype=float32)"
      ]
     },
     "execution_count": 18,
     "metadata": {},
     "output_type": "execute_result"
    }
   ],
   "source": [
    "model.predict(train).round()                           #predict the model "
   ]
  },
  {
   "cell_type": "code",
   "execution_count": 19,
   "metadata": {
    "colab": {
     "base_uri": "https://localhost:8080/",
     "height": 0
    },
    "id": "mtuv6dP48TYB",
    "outputId": "5b2f0fbf-29d1-476b-d22a-3c2cfcfc4cf4"
   },
   "outputs": [
    {
     "data": {
      "text/plain": [
       "0.75"
      ]
     },
     "execution_count": 19,
     "metadata": {},
     "output_type": "execute_result"
    }
   ],
   "source": [
    "accuracy_score(test_xor,model.predict(train).round())                     #accuracy of XOR Gate "
   ]
  },
  {
   "cell_type": "markdown",
   "metadata": {
    "id": "9hVZbruB2KfR"
   },
   "source": [
    "**NOT GATE**"
   ]
  },
  {
   "cell_type": "markdown",
   "metadata": {
    "id": "JNtk2XBC6kCS"
   },
   "source": [
    "#### NOT Logic Gate requires input layers of size 2 with 2 dimension"
   ]
  },
  {
   "cell_type": "code",
   "execution_count": 20,
   "metadata": {
    "id": "wAfq5fwc2Jmc"
   },
   "outputs": [],
   "source": [
    "train_not = np.array([[0],[1]],'float32')\n",
    "test_not = np.array([[1],[0]],'float32')"
   ]
  },
  {
   "cell_type": "code",
   "execution_count": 21,
   "metadata": {
    "id": "rLvll_z52pUW"
   },
   "outputs": [],
   "source": [
    "model1 = Sequential()\n",
    "model1.add(Dense(16,input_dim=1,activation='relu'))\n",
    "model1.add(Dense(1,activation='sigmoid'))\n",
    "model1.compile(loss='mean_squared_error',optimizer='adam',metrics=['binary_accuracy'])"
   ]
  },
  {
   "cell_type": "code",
   "execution_count": 22,
   "metadata": {
    "colab": {
     "base_uri": "https://localhost:8080/",
     "height": 0
    },
    "id": "typZ2dnM2stX",
    "outputId": "a9c9d55f-a285-416d-f2ea-3bf1bac0821c"
   },
   "outputs": [
    {
     "name": "stdout",
     "output_type": "stream",
     "text": [
      "Epoch 1/100\n",
      "1/1 - 0s - loss: 0.3368 - binary_accuracy: 0.0000e+00\n",
      "Epoch 2/100\n",
      "1/1 - 0s - loss: 0.3358 - binary_accuracy: 0.0000e+00\n",
      "Epoch 3/100\n",
      "1/1 - 0s - loss: 0.3347 - binary_accuracy: 0.0000e+00\n",
      "Epoch 4/100\n",
      "1/1 - 0s - loss: 0.3337 - binary_accuracy: 0.0000e+00\n",
      "Epoch 5/100\n",
      "1/1 - 0s - loss: 0.3326 - binary_accuracy: 0.0000e+00\n",
      "Epoch 6/100\n",
      "1/1 - 0s - loss: 0.3316 - binary_accuracy: 0.0000e+00\n",
      "Epoch 7/100\n",
      "1/1 - 0s - loss: 0.3306 - binary_accuracy: 0.0000e+00\n",
      "Epoch 8/100\n",
      "1/1 - 0s - loss: 0.3296 - binary_accuracy: 0.0000e+00\n",
      "Epoch 9/100\n",
      "1/1 - 0s - loss: 0.3286 - binary_accuracy: 0.0000e+00\n",
      "Epoch 10/100\n",
      "1/1 - 0s - loss: 0.3276 - binary_accuracy: 0.0000e+00\n",
      "Epoch 11/100\n",
      "1/1 - 0s - loss: 0.3266 - binary_accuracy: 0.0000e+00\n",
      "Epoch 12/100\n",
      "1/1 - 0s - loss: 0.3255 - binary_accuracy: 0.0000e+00\n",
      "Epoch 13/100\n",
      "1/1 - 0s - loss: 0.3246 - binary_accuracy: 0.0000e+00\n",
      "Epoch 14/100\n",
      "1/1 - 0s - loss: 0.3236 - binary_accuracy: 0.0000e+00\n",
      "Epoch 15/100\n",
      "1/1 - 0s - loss: 0.3226 - binary_accuracy: 0.0000e+00\n",
      "Epoch 16/100\n",
      "1/1 - 0s - loss: 0.3216 - binary_accuracy: 0.0000e+00\n",
      "Epoch 17/100\n",
      "1/1 - 0s - loss: 0.3206 - binary_accuracy: 0.0000e+00\n",
      "Epoch 18/100\n",
      "1/1 - 0s - loss: 0.3196 - binary_accuracy: 0.0000e+00\n",
      "Epoch 19/100\n",
      "1/1 - 0s - loss: 0.3187 - binary_accuracy: 0.0000e+00\n",
      "Epoch 20/100\n",
      "1/1 - 0s - loss: 0.3177 - binary_accuracy: 0.0000e+00\n",
      "Epoch 21/100\n",
      "1/1 - 0s - loss: 0.3167 - binary_accuracy: 0.0000e+00\n",
      "Epoch 22/100\n",
      "1/1 - 0s - loss: 0.3158 - binary_accuracy: 0.0000e+00\n",
      "Epoch 23/100\n",
      "1/1 - 0s - loss: 0.3148 - binary_accuracy: 0.0000e+00\n",
      "Epoch 24/100\n",
      "1/1 - 0s - loss: 0.3139 - binary_accuracy: 0.0000e+00\n",
      "Epoch 25/100\n",
      "1/1 - 0s - loss: 0.3129 - binary_accuracy: 0.0000e+00\n",
      "Epoch 26/100\n",
      "1/1 - 0s - loss: 0.3120 - binary_accuracy: 0.0000e+00\n",
      "Epoch 27/100\n",
      "1/1 - 0s - loss: 0.3110 - binary_accuracy: 0.0000e+00\n",
      "Epoch 28/100\n",
      "1/1 - 0s - loss: 0.3101 - binary_accuracy: 0.0000e+00\n",
      "Epoch 29/100\n",
      "1/1 - 0s - loss: 0.3092 - binary_accuracy: 0.0000e+00\n",
      "Epoch 30/100\n",
      "1/1 - 0s - loss: 0.3083 - binary_accuracy: 0.0000e+00\n",
      "Epoch 31/100\n",
      "1/1 - 0s - loss: 0.3074 - binary_accuracy: 0.0000e+00\n",
      "Epoch 32/100\n",
      "1/1 - 0s - loss: 0.3065 - binary_accuracy: 0.0000e+00\n",
      "Epoch 33/100\n",
      "1/1 - 0s - loss: 0.3056 - binary_accuracy: 0.0000e+00\n",
      "Epoch 34/100\n",
      "1/1 - 0s - loss: 0.3047 - binary_accuracy: 0.0000e+00\n",
      "Epoch 35/100\n",
      "1/1 - 0s - loss: 0.3038 - binary_accuracy: 0.0000e+00\n",
      "Epoch 36/100\n",
      "1/1 - 0s - loss: 0.3029 - binary_accuracy: 0.0000e+00\n",
      "Epoch 37/100\n",
      "1/1 - 0s - loss: 0.3020 - binary_accuracy: 0.0000e+00\n",
      "Epoch 38/100\n",
      "1/1 - 0s - loss: 0.3011 - binary_accuracy: 0.0000e+00\n",
      "Epoch 39/100\n",
      "1/1 - 0s - loss: 0.3002 - binary_accuracy: 0.0000e+00\n",
      "Epoch 40/100\n",
      "1/1 - 0s - loss: 0.2994 - binary_accuracy: 0.0000e+00\n",
      "Epoch 41/100\n",
      "1/1 - 0s - loss: 0.2985 - binary_accuracy: 0.0000e+00\n",
      "Epoch 42/100\n",
      "1/1 - 0s - loss: 0.2977 - binary_accuracy: 0.0000e+00\n",
      "Epoch 43/100\n",
      "1/1 - 0s - loss: 0.2968 - binary_accuracy: 0.0000e+00\n",
      "Epoch 44/100\n",
      "1/1 - 0s - loss: 0.2960 - binary_accuracy: 0.0000e+00\n",
      "Epoch 45/100\n",
      "1/1 - 0s - loss: 0.2951 - binary_accuracy: 0.0000e+00\n",
      "Epoch 46/100\n",
      "1/1 - 0s - loss: 0.2943 - binary_accuracy: 0.0000e+00\n",
      "Epoch 47/100\n",
      "1/1 - 0s - loss: 0.2935 - binary_accuracy: 0.0000e+00\n",
      "Epoch 48/100\n",
      "1/1 - 0s - loss: 0.2927 - binary_accuracy: 0.0000e+00\n",
      "Epoch 49/100\n",
      "1/1 - 0s - loss: 0.2918 - binary_accuracy: 0.0000e+00\n",
      "Epoch 50/100\n",
      "1/1 - 0s - loss: 0.2910 - binary_accuracy: 0.0000e+00\n",
      "Epoch 51/100\n",
      "1/1 - 0s - loss: 0.2903 - binary_accuracy: 0.0000e+00\n",
      "Epoch 52/100\n",
      "1/1 - 0s - loss: 0.2896 - binary_accuracy: 0.0000e+00\n",
      "Epoch 53/100\n",
      "1/1 - 0s - loss: 0.2889 - binary_accuracy: 0.0000e+00\n",
      "Epoch 54/100\n",
      "1/1 - 0s - loss: 0.2882 - binary_accuracy: 0.0000e+00\n",
      "Epoch 55/100\n",
      "1/1 - 0s - loss: 0.2875 - binary_accuracy: 0.0000e+00\n",
      "Epoch 56/100\n",
      "1/1 - 0s - loss: 0.2868 - binary_accuracy: 0.0000e+00\n",
      "Epoch 57/100\n",
      "1/1 - 0s - loss: 0.2862 - binary_accuracy: 0.0000e+00\n",
      "Epoch 58/100\n",
      "1/1 - 0s - loss: 0.2855 - binary_accuracy: 0.0000e+00\n",
      "Epoch 59/100\n",
      "1/1 - 0s - loss: 0.2848 - binary_accuracy: 0.0000e+00\n",
      "Epoch 60/100\n",
      "1/1 - 0s - loss: 0.2842 - binary_accuracy: 0.0000e+00\n",
      "Epoch 61/100\n",
      "1/1 - 0s - loss: 0.2835 - binary_accuracy: 0.0000e+00\n",
      "Epoch 62/100\n",
      "1/1 - 0s - loss: 0.2829 - binary_accuracy: 0.0000e+00\n",
      "Epoch 63/100\n",
      "1/1 - 0s - loss: 0.2822 - binary_accuracy: 0.0000e+00\n",
      "Epoch 64/100\n",
      "1/1 - 0s - loss: 0.2816 - binary_accuracy: 0.0000e+00\n",
      "Epoch 65/100\n",
      "1/1 - 0s - loss: 0.2809 - binary_accuracy: 0.0000e+00\n",
      "Epoch 66/100\n",
      "1/1 - 0s - loss: 0.2803 - binary_accuracy: 0.0000e+00\n",
      "Epoch 67/100\n",
      "1/1 - 0s - loss: 0.2796 - binary_accuracy: 0.0000e+00\n",
      "Epoch 68/100\n",
      "1/1 - 0s - loss: 0.2790 - binary_accuracy: 0.0000e+00\n",
      "Epoch 69/100\n",
      "1/1 - 0s - loss: 0.2784 - binary_accuracy: 0.0000e+00\n",
      "Epoch 70/100\n",
      "1/1 - 0s - loss: 0.2778 - binary_accuracy: 0.0000e+00\n",
      "Epoch 71/100\n",
      "1/1 - 0s - loss: 0.2772 - binary_accuracy: 0.0000e+00\n",
      "Epoch 72/100\n",
      "1/1 - 0s - loss: 0.2765 - binary_accuracy: 0.0000e+00\n",
      "Epoch 73/100\n",
      "1/1 - 0s - loss: 0.2759 - binary_accuracy: 0.0000e+00\n",
      "Epoch 74/100\n",
      "1/1 - 0s - loss: 0.2753 - binary_accuracy: 0.0000e+00\n",
      "Epoch 75/100\n",
      "1/1 - 0s - loss: 0.2747 - binary_accuracy: 0.0000e+00\n",
      "Epoch 76/100\n",
      "1/1 - 0s - loss: 0.2741 - binary_accuracy: 0.0000e+00\n",
      "Epoch 77/100\n",
      "1/1 - 0s - loss: 0.2735 - binary_accuracy: 0.0000e+00\n",
      "Epoch 78/100\n",
      "1/1 - 0s - loss: 0.2729 - binary_accuracy: 0.0000e+00\n",
      "Epoch 79/100\n",
      "1/1 - 0s - loss: 0.2723 - binary_accuracy: 0.0000e+00\n",
      "Epoch 80/100\n",
      "1/1 - 0s - loss: 0.2718 - binary_accuracy: 0.0000e+00\n",
      "Epoch 81/100\n",
      "1/1 - 0s - loss: 0.2712 - binary_accuracy: 0.0000e+00\n",
      "Epoch 82/100\n",
      "1/1 - 0s - loss: 0.2706 - binary_accuracy: 0.0000e+00\n",
      "Epoch 83/100\n",
      "1/1 - 0s - loss: 0.2700 - binary_accuracy: 0.0000e+00\n",
      "Epoch 84/100\n",
      "1/1 - 0s - loss: 0.2695 - binary_accuracy: 0.0000e+00\n",
      "Epoch 85/100\n",
      "1/1 - 0s - loss: 0.2689 - binary_accuracy: 0.0000e+00\n",
      "Epoch 86/100\n",
      "1/1 - 0s - loss: 0.2683 - binary_accuracy: 0.0000e+00\n",
      "Epoch 87/100\n",
      "1/1 - 0s - loss: 0.2678 - binary_accuracy: 0.0000e+00\n",
      "Epoch 88/100\n",
      "1/1 - 0s - loss: 0.2672 - binary_accuracy: 0.0000e+00\n",
      "Epoch 89/100\n",
      "1/1 - 0s - loss: 0.2666 - binary_accuracy: 0.0000e+00\n",
      "Epoch 90/100\n",
      "1/1 - 0s - loss: 0.2661 - binary_accuracy: 0.0000e+00\n",
      "Epoch 91/100\n",
      "1/1 - 0s - loss: 0.2655 - binary_accuracy: 0.0000e+00\n",
      "Epoch 92/100\n",
      "1/1 - 0s - loss: 0.2650 - binary_accuracy: 0.0000e+00\n",
      "Epoch 93/100\n",
      "1/1 - 0s - loss: 0.2644 - binary_accuracy: 0.0000e+00\n",
      "Epoch 94/100\n",
      "1/1 - 0s - loss: 0.2639 - binary_accuracy: 0.0000e+00\n",
      "Epoch 95/100\n",
      "1/1 - 0s - loss: 0.2633 - binary_accuracy: 0.0000e+00\n",
      "Epoch 96/100\n",
      "1/1 - 0s - loss: 0.2628 - binary_accuracy: 0.0000e+00\n",
      "Epoch 97/100\n",
      "1/1 - 0s - loss: 0.2623 - binary_accuracy: 0.0000e+00\n",
      "Epoch 98/100\n",
      "1/1 - 0s - loss: 0.2617 - binary_accuracy: 0.0000e+00\n",
      "Epoch 99/100\n",
      "1/1 - 0s - loss: 0.2612 - binary_accuracy: 0.5000\n",
      "Epoch 100/100\n",
      "1/1 - 0s - loss: 0.2607 - binary_accuracy: 0.5000\n"
     ]
    },
    {
     "data": {
      "text/plain": [
       "<keras.callbacks.History at 0x7ff503437190>"
      ]
     },
     "execution_count": 22,
     "metadata": {},
     "output_type": "execute_result"
    }
   ],
   "source": [
    "model1.fit(train_not,test_not,epochs=100,verbose=2)                  #fit the model for NOT Gate"
   ]
  },
  {
   "cell_type": "code",
   "execution_count": 23,
   "metadata": {
    "colab": {
     "base_uri": "https://localhost:8080/",
     "height": 0
    },
    "id": "lfPvbM_125FX",
    "outputId": "32f33024-bd4d-4328-9358-24f7191d2d41"
   },
   "outputs": [
    {
     "data": {
      "text/plain": [
       "array([[0.],\n",
       "       [0.]], dtype=float32)"
      ]
     },
     "execution_count": 23,
     "metadata": {},
     "output_type": "execute_result"
    }
   ],
   "source": [
    "model1.predict(train_not).round()                                      #predict the model "
   ]
  },
  {
   "cell_type": "code",
   "execution_count": 24,
   "metadata": {
    "colab": {
     "base_uri": "https://localhost:8080/",
     "height": 0
    },
    "id": "fNVHaUol2_DM",
    "outputId": "f8a5e5ff-9fa4-461d-efd8-5e1198a78d5d"
   },
   "outputs": [
    {
     "data": {
      "text/plain": [
       "0.5"
      ]
     },
     "execution_count": 24,
     "metadata": {},
     "output_type": "execute_result"
    }
   ],
   "source": [
    "accuracy_score(test_not,model1.predict(train_not).round())                 #accuracy of NOT Gate "
   ]
  }
 ],
 "metadata": {
  "colab": {
   "collapsed_sections": [],
   "name": "PDL_LAB_4",
   "provenance": []
  },
  "kernelspec": {
   "display_name": "Python 3",
   "language": "python",
   "name": "python3"
  },
  "language_info": {
   "codemirror_mode": {
    "name": "ipython",
    "version": 3
   },
   "file_extension": ".py",
   "mimetype": "text/x-python",
   "name": "python",
   "nbconvert_exporter": "python",
   "pygments_lexer": "ipython3",
   "version": "3.9.1"
  }
 },
 "nbformat": 4,
 "nbformat_minor": 1
}
