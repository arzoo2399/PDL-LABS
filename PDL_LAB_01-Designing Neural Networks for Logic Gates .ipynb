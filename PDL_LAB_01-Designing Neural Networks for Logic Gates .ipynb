{
 "cells": [
  {
   "cell_type": "markdown",
   "metadata": {},
   "source": [
    "## <center>Lab1: Designing Neural Networks for Logic Gates</center>\n",
    "\n",
    "### 205229103\n",
    "### Arzoo Sah \n",
    "\n"
   ]
  },
  {
   "cell_type": "markdown",
   "metadata": {},
   "source": [
    "### Single Neuron as logic gates\n",
    "\n",
    "In this lab we will experiment with neuron computations. We will show how to represent basic logic functions like\n",
    "AND, OR, NAND and NOR using single neurons.\n",
    "\n",
    "The objective of this lab activity is to find out weights for the neurons for AND, OR, NOR and NAND gates and to\n",
    "predict the output values for the given inputs."
   ]
  },
  {
   "cell_type": "code",
   "execution_count": 1,
   "metadata": {},
   "outputs": [],
   "source": [
    "import numpy as np\n",
    "import matplotlib.pyplot as plt\n",
    "%matplotlib inline"
   ]
  },
  {
   "cell_type": "markdown",
   "metadata": {},
   "source": [
    "**Sigmoid function:**\n",
    "\n",
    "## <center> $ \\sigma = \\frac{1}{1+e^{-x}} $ \n",
    "    \n"
   ]
  },
  {
   "cell_type": "code",
   "execution_count": 2,
   "metadata": {},
   "outputs": [],
   "source": [
    "## Quickly define the sigmoid function\n",
    "def sigmoid(x):\n",
    "    return 1.0 / (1.0 + np.exp(-x))"
   ]
  },
  {
   "cell_type": "code",
   "execution_count": 3,
   "metadata": {},
   "outputs": [
    {
     "data": {
      "image/png": "[encoded data removed]",
      "text/plain": [
       "<Figure size 864x432 with 1 Axes>"
      ]
     },
     "metadata": {
      "needs_background": "light"
     },
     "output_type": "display_data"
    }
   ],
   "source": [
    "# Plot the sigmoid function\n",
    "vals = np.linspace(-10, 10, num=100, dtype=np.float32)\n",
    "activation = sigmoid(vals)\n",
    "fig = plt.figure(figsize=(12,6))\n",
    "fig.suptitle('Sigmoid function')\n",
    "plt.plot(vals, activation)\n",
    "plt.grid(True, which='both')\n",
    "plt.axhline(y=0, color='k')\n",
    "plt.axvline(x=0, color='k')\n",
    "plt.yticks()\n",
    "plt.ylim([-0.5, 1.5]);"
   ]
  },
  {
   "cell_type": "code",
   "execution_count": 4,
   "metadata": {},
   "outputs": [],
   "source": [
    "def logic_gate(w1, w2, b):         # Helper to create logic gate functions Plug in values for weight_a, weight_b, and bias\n",
    "    return lambda x1, x2: sigmoid(w1 * x1 + w2 * x2 + b)\n",
    "\n",
    "\n",
    "def test(gate):                  # Helper function to test out our weight functions.\n",
    "    for a, b in (0, 0), (0, 1), (1, 0), (1, 1):\n",
    "        \n",
    "        print(\"{} , {} :  {}\".format(a, b, np.round(gate(a, b))))"
   ]
  },
  {
   "cell_type": "code",
   "execution_count": 5,
   "metadata": {},
   "outputs": [
    {
     "name": "stdout",
     "output_type": "stream",
     "text": [
      "OR Gate truth table \n",
      "\n",
      "X , Y    X+Y\n",
      "------------\n",
      "0 , 0 :  0.0\n",
      "0 , 1 :  1.0\n",
      "1 , 0 :  1.0\n",
      "1 , 1 :  1.0\n"
     ]
    }
   ],
   "source": [
    "or_gate = logic_gate(20, 20, -10)\n",
    "print(\"OR Gate truth table \\n\")\n",
    "print(\"X , Y    X+Y\")\n",
    "print(\"------------\")\n",
    "test(or_gate)"
   ]
  },
  {
   "cell_type": "code",
   "execution_count": 6,
   "metadata": {},
   "outputs": [
    {
     "name": "stdout",
     "output_type": "stream",
     "text": [
      "AND Gate truth table\n",
      "\n",
      "X , Y    XY\n",
      "-----------\n",
      "0 , 0 :  0.0\n",
      "0 , 1 :  0.0\n",
      "1 , 0 :  0.0\n",
      "1 , 1 :  1.0\n"
     ]
    }
   ],
   "source": [
    "w1 =29\n",
    "w2 =21\n",
    "b = -45\n",
    "and_gate = logic_gate(w1, w2, b)\n",
    "print(\"AND Gate truth table\\n\")\n",
    "print(\"X , Y    XY\")\n",
    "print(\"-----------\")\n",
    "test(and_gate)"
   ]
  },
  {
   "cell_type": "code",
   "execution_count": 7,
   "metadata": {},
   "outputs": [
    {
     "name": "stdout",
     "output_type": "stream",
     "text": [
      "NOR Gate truth table\n",
      "\n",
      "X , Y   N(X+Y)\n",
      "--------------\n",
      "0 , 0 :  1.0\n",
      "0 , 1 :  0.0\n",
      "1 , 0 :  0.0\n",
      "1 , 1 :  0.0\n"
     ]
    }
   ],
   "source": [
    "w1 =-23\n",
    "w2 =-25\n",
    "b = 5\n",
    "nor_gate = logic_gate(w1, w2, b)\n",
    "print(\"NOR Gate truth table\\n\")\n",
    "print(\"X , Y   N(X+Y)\")\n",
    "print(\"--------------\")\n",
    "test(nor_gate)"
   ]
  },
  {
   "cell_type": "code",
   "execution_count": 8,
   "metadata": {},
   "outputs": [
    {
     "name": "stdout",
     "output_type": "stream",
     "text": [
      "NAND Gate truth table\n",
      "\n",
      "X , Y   N(XY)\n",
      "--------------\n",
      "0 , 0 :  1.0\n",
      "0 , 1 :  1.0\n",
      "1 , 0 :  1.0\n",
      "1 , 1 :  0.0\n"
     ]
    }
   ],
   "source": [
    "w1 =-23\n",
    "w2 =-25\n",
    "b = 35\n",
    "nand_gate = logic_gate(w1, w2, b)\n",
    "print(\"NAND Gate truth table\\n\")\n",
    "print(\"X , Y   N(XY)\")\n",
    "print(\"--------------\")\n",
    "test(nand_gate)"
   ]
  },
  {
   "cell_type": "markdown",
   "metadata": {},
   "source": [
    "## Explanation \n",
    "\n",
    "**Here , we have build four logic gates that are OR , AND , NOR , NAND Gates which took two boolean input as 0 ,1 (False ,True) and gives output as 0/1 (false/true)**\n",
    "\n",
    "**I have taken the input weights, bais (w1,w2,b) in such a way that if the solution gives -ve value it can be consider as 0 otherwise 1 by applying in sigmoid function**\n",
    "\n",
    "**sigmoid function range between 0 and 1 , helps in giving a probability (0,1) in binary classification which is best for logic gates problem**"
   ]
  }
 ],
 "metadata": {
  "kernelspec": {
   "display_name": "Python 3",
   "language": "python",
   "name": "python3"
  },
  "language_info": {
   "codemirror_mode": {
    "name": "ipython",
    "version": 3
   },
   "file_extension": ".py",
   "mimetype": "text/x-python",
   "name": "python",
   "nbconvert_exporter": "python",
   "pygments_lexer": "ipython3",
   "version": "3.9.1"
  }
 },
 "nbformat": 4,
 "nbformat_minor": 4
}
