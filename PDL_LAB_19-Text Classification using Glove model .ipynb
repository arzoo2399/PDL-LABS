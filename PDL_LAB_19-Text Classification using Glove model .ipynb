{
 "cells": [
  {
   "cell_type": "markdown",
   "metadata": {
    "id": "qig3MCW2mzgx"
   },
   "source": [
    "# <center> PDL Lab19. Text Classification using Glove model </center>\n",
    "\n",
    "### Arzoo Sah\n",
    "\n",
    "### 205229103\n",
    "\n"
   ]
  },
  {
   "cell_type": "markdown",
   "metadata": {
    "id": "MmFAr-Ulpj_U"
   },
   "source": [
    "### Imports"
   ]
  },
  {
   "cell_type": "code",
   "execution_count": 1,
   "metadata": {
    "colab": {
     "base_uri": "https://localhost:8080/"
    },
    "id": "9AqZ0nrjlLAG",
    "outputId": "e6916137-3799-4e2f-a202-5c8eee695014"
   },
   "outputs": [
    {
     "name": "stdout",
     "output_type": "stream",
     "text": [
      "[nltk_data] Downloading package stopwords to /root/nltk_data...\n",
      "[nltk_data]   Unzipping corpora/stopwords.zip.\n"
     ]
    }
   ],
   "source": [
    "import tensorflow as tf\n",
    "import numpy as np\n",
    "import pandas as pd\n",
    "import matplotlib.pyplot as plt\n",
    "import nltk , os, zipfile\n",
    "from tensorflow.keras.preprocessing.text import Tokenizer\n",
    "from tensorflow.keras.preprocessing.sequence import pad_sequences\n",
    "from keras.models import Sequential\n",
    "from keras.layers import Dense, Embedding,SimpleRNN,LSTM,Bidirectional,Dropout,Conv1D,MaxPooling1D,Flatten,Activation\n",
    "from nltk.corpus import stopwords\n",
    "nltk.download('stopwords')\n",
    "\",\".join(stopwords.words('english'))\n",
    "STOPWORDS = set(stopwords.words('english'))\n",
    "from sklearn.model_selection import train_test_split"
   ]
  },
  {
   "cell_type": "markdown",
   "metadata": {
    "id": "TyNILVz4pphH"
   },
   "source": [
    "### pre-processing the text"
   ]
  },
  {
   "cell_type": "code",
   "execution_count": 2,
   "metadata": {
    "colab": {
     "base_uri": "https://localhost:8080/",
     "height": 203
    },
    "id": "HM5xAJq_nwXc",
    "outputId": "abaa65b6-d45b-44a0-d4a9-a61ca11ddbd6"
   },
   "outputs": [
    {
     "data": {
      "text/html": [
       "<div>\n",
       "<style scoped>\n",
       "    .dataframe tbody tr th:only-of-type {\n",
       "        vertical-align: middle;\n",
       "    }\n",
       "\n",
       "    .dataframe tbody tr th {\n",
       "        vertical-align: top;\n",
       "    }\n",
       "\n",
       "    .dataframe thead th {\n",
       "        text-align: right;\n",
       "    }\n",
       "</style>\n",
       "<table border=\"1\" class=\"dataframe\">\n",
       "  <thead>\n",
       "    <tr style=\"text-align: right;\">\n",
       "      <th></th>\n",
       "      <th>category</th>\n",
       "      <th>text</th>\n",
       "    </tr>\n",
       "  </thead>\n",
       "  <tbody>\n",
       "    <tr>\n",
       "      <th>0</th>\n",
       "      <td>tech</td>\n",
       "      <td>tv future in the hands of viewers with home th...</td>\n",
       "    </tr>\n",
       "    <tr>\n",
       "      <th>1</th>\n",
       "      <td>business</td>\n",
       "      <td>worldcom boss  left books alone  former worldc...</td>\n",
       "    </tr>\n",
       "    <tr>\n",
       "      <th>2</th>\n",
       "      <td>sport</td>\n",
       "      <td>tigers wary of farrell  gamble  leicester say ...</td>\n",
       "    </tr>\n",
       "    <tr>\n",
       "      <th>3</th>\n",
       "      <td>sport</td>\n",
       "      <td>yeading face newcastle in fa cup premiership s...</td>\n",
       "    </tr>\n",
       "    <tr>\n",
       "      <th>4</th>\n",
       "      <td>entertainment</td>\n",
       "      <td>ocean s twelve raids box office ocean s twelve...</td>\n",
       "    </tr>\n",
       "  </tbody>\n",
       "</table>\n",
       "</div>"
      ],
      "text/plain": [
       "        category                                               text\n",
       "0           tech  tv future in the hands of viewers with home th...\n",
       "1       business  worldcom boss  left books alone  former worldc...\n",
       "2          sport  tigers wary of farrell  gamble  leicester say ...\n",
       "3          sport  yeading face newcastle in fa cup premiership s...\n",
       "4  entertainment  ocean s twelve raids box office ocean s twelve..."
      ]
     },
     "execution_count": 2,
     "metadata": {},
     "output_type": "execute_result"
    }
   ],
   "source": [
    "df = pd.read_csv('/content/glove-lab-dataset.csv')\n",
    "df.head()"
   ]
  },
  {
   "cell_type": "code",
   "execution_count": 3,
   "metadata": {
    "id": "SLHtXJ3SoGoj"
   },
   "outputs": [],
   "source": [
    "y =df['category']\n",
    "X=[]\n",
    "for review in df['text']:\n",
    "    filtered_sentence = [w.lower() for w in review.split() if not w in STOPWORDS]\n",
    "    X.append(filtered_sentence)\n",
    "X = pd.Series(X)  "
   ]
  },
  {
   "cell_type": "code",
   "execution_count": 4,
   "metadata": {
    "id": "JQNuE92apis0"
   },
   "outputs": [],
   "source": [
    "label_tokenizer = Tokenizer()\n",
    "\n",
    "#label_tokenizer_train.fit_on_texts(y_train)\n",
    "label_tokenizer.fit_on_texts(y)\n",
    "\n",
    "label_seq = np.array(label_tokenizer.texts_to_sequences(y))"
   ]
  },
  {
   "cell_type": "code",
   "execution_count": 5,
   "metadata": {
    "id": "O0x_i7TdrYms"
   },
   "outputs": [],
   "source": [
    "vocab_size = 5000\n",
    "embedding_dim = 64\n",
    "max_length = 300\n",
    "padding_type = 'post'\n",
    "oov_tok = '<OOV>'"
   ]
  },
  {
   "cell_type": "code",
   "execution_count": 6,
   "metadata": {
    "colab": {
     "base_uri": "https://localhost:8080/"
    },
    "id": "DAdjcNmmqCJF",
    "outputId": "ba8fd8fa-dc36-4f40-d715-05220222cdf5"
   },
   "outputs": [
    {
     "data": {
      "text/plain": [
       "{'-': 3,\n",
       " '.': 16,\n",
       " '<OOV>': 1,\n",
       " 'also': 6,\n",
       " 'could': 11,\n",
       " 'first': 15,\n",
       " 'government': 18,\n",
       " 'last': 14,\n",
       " 'mr': 4,\n",
       " 'new': 8,\n",
       " 'one': 10,\n",
       " 'people': 7,\n",
       " 'said': 2,\n",
       " 'said.': 12,\n",
       " 'two': 17,\n",
       " 'uk': 20,\n",
       " 'us': 9,\n",
       " 'world': 19,\n",
       " 'would': 5,\n",
       " 'year': 13}"
      ]
     },
     "execution_count": 6,
     "metadata": {},
     "output_type": "execute_result"
    }
   ],
   "source": [
    "X_token = Tokenizer(num_words=5000,oov_token=oov_tok)\n",
    "X_token.fit_on_texts(X)\n",
    "word_index = X_token.word_index\n",
    "X_sequence = X_token.texts_to_sequences(X)\n",
    "dict(list(word_index.items())[0:20])"
   ]
  },
  {
   "cell_type": "code",
   "execution_count": 7,
   "metadata": {
    "id": "sBDDNE8mq9dK"
   },
   "outputs": [],
   "source": [
    "X_padded = pad_sequences(X_sequence,maxlen=max_length,padding=padding_type)"
   ]
  },
  {
   "cell_type": "code",
   "execution_count": 8,
   "metadata": {
    "colab": {
     "base_uri": "https://localhost:8080/"
    },
    "id": "i-jXLSfUrD6I",
    "outputId": "2abb581d-cd7b-4a6e-c3d9-37225931e214"
   },
   "outputs": [
    {
     "name": "stdout",
     "output_type": "stream",
     "text": [
      "(2225, 1)\n",
      "(2225, 300)\n"
     ]
    }
   ],
   "source": [
    "print(label_seq.shape)\n",
    "print(X_padded.shape)"
   ]
  },
  {
   "cell_type": "markdown",
   "metadata": {
    "id": "yDZ0gTUwqyQb"
   },
   "source": [
    "### Dataset Preparation:"
   ]
  },
  {
   "cell_type": "code",
   "execution_count": 9,
   "metadata": {
    "id": "_AVyQrkDqfGQ"
   },
   "outputs": [],
   "source": [
    "X_train,X_test,y_train,y_test = train_test_split(X_padded,label_seq,train_size=0.7)"
   ]
  },
  {
   "cell_type": "code",
   "execution_count": 10,
   "metadata": {
    "colab": {
     "base_uri": "https://localhost:8080/"
    },
    "id": "CLsJat2SrROr",
    "outputId": "12fb5abd-6a0b-418c-c8d8-d004f768b2de"
   },
   "outputs": [
    {
     "name": "stdout",
     "output_type": "stream",
     "text": [
      "(1557, 300)\n",
      "(668, 300)\n",
      "(1557, 1)\n",
      "(668, 1)\n"
     ]
    }
   ],
   "source": [
    "print(X_train.shape)\n",
    "print(X_test.shape)\n",
    "print(y_train.shape)\n",
    "print(y_test.shape)"
   ]
  },
  {
   "cell_type": "markdown",
   "metadata": {
    "id": "xRaHe_XKrgqk"
   },
   "source": [
    "### LSTM Model Creation"
   ]
  },
  {
   "cell_type": "code",
   "execution_count": 11,
   "metadata": {
    "colab": {
     "base_uri": "https://localhost:8080/"
    },
    "id": "-BrXKmdcrnRA",
    "outputId": "02c77e87-a97b-4662-fcc1-d09aa13dbc9d"
   },
   "outputs": [
    {
     "name": "stdout",
     "output_type": "stream",
     "text": [
      "Model: \"sequential\"\n",
      "_________________________________________________________________\n",
      "Layer (type)                 Output Shape              Param #   \n",
      "=================================================================\n",
      "embedding (Embedding)        (None, None, 64)          320000    \n",
      "_________________________________________________________________\n",
      "lstm (LSTM)                  (None, 64)                33024     \n",
      "_________________________________________________________________\n",
      "dense (Dense)                (None, 64)                4160      \n",
      "_________________________________________________________________\n",
      "dense_1 (Dense)              (None, 6)                 390       \n",
      "=================================================================\n",
      "Total params: 357,574\n",
      "Trainable params: 357,574\n",
      "Non-trainable params: 0\n",
      "_________________________________________________________________\n"
     ]
    }
   ],
   "source": [
    "model = Sequential()\n",
    "model.add(Embedding(vocab_size, embedding_dim))\n",
    "model.add(LSTM(embedding_dim))\n",
    "model.add(Dense(embedding_dim, activation='relu'))\n",
    "model.add(Dense(6,activation='softmax'))\n",
    "model.summary()"
   ]
  },
  {
   "cell_type": "code",
   "execution_count": 12,
   "metadata": {
    "id": "f1WBtck2ryZ1"
   },
   "outputs": [],
   "source": [
    "model.compile(optimizer='adam',loss='sparse_categorical_crossentropy',metrics=['accuracy'])"
   ]
  },
  {
   "cell_type": "code",
   "execution_count": 13,
   "metadata": {
    "colab": {
     "base_uri": "https://localhost:8080/"
    },
    "id": "G7DUH4GSr1Lu",
    "outputId": "d0d6c2bc-b5be-4160-c79d-46ad718d8438"
   },
   "outputs": [
    {
     "name": "stdout",
     "output_type": "stream",
     "text": [
      "Epoch 1/20\n",
      "56/56 - 13s - loss: 1.6507 - accuracy: 0.2556 - val_loss: 1.6131 - val_accuracy: 0.2859\n",
      "Epoch 2/20\n",
      "56/56 - 10s - loss: 1.5720 - accuracy: 0.2768 - val_loss: 1.5918 - val_accuracy: 0.2395\n",
      "Epoch 3/20\n",
      "56/56 - 10s - loss: 1.5503 - accuracy: 0.2903 - val_loss: 1.5740 - val_accuracy: 0.2919\n",
      "Epoch 4/20\n",
      "56/56 - 10s - loss: 1.5133 - accuracy: 0.3070 - val_loss: 1.5202 - val_accuracy: 0.2934\n",
      "Epoch 5/20\n",
      "56/56 - 10s - loss: 1.4588 - accuracy: 0.3282 - val_loss: 1.4846 - val_accuracy: 0.3099\n",
      "Epoch 6/20\n",
      "56/56 - 10s - loss: 1.3899 - accuracy: 0.3764 - val_loss: 1.3877 - val_accuracy: 0.3683\n",
      "Epoch 7/20\n",
      "56/56 - 10s - loss: 1.3584 - accuracy: 0.3982 - val_loss: 1.2209 - val_accuracy: 0.3997\n",
      "Epoch 8/20\n",
      "56/56 - 10s - loss: 1.1261 - accuracy: 0.4644 - val_loss: 1.1507 - val_accuracy: 0.4042\n",
      "Epoch 9/20\n",
      "56/56 - 10s - loss: 1.0723 - accuracy: 0.4875 - val_loss: 1.2707 - val_accuracy: 0.4147\n",
      "Epoch 10/20\n",
      "56/56 - 10s - loss: 1.0761 - accuracy: 0.4830 - val_loss: 1.1108 - val_accuracy: 0.4207\n",
      "Epoch 11/20\n",
      "56/56 - 10s - loss: 1.1067 - accuracy: 0.4817 - val_loss: 1.0561 - val_accuracy: 0.4716\n",
      "Epoch 12/20\n",
      "56/56 - 10s - loss: 0.9749 - accuracy: 0.5633 - val_loss: 0.9770 - val_accuracy: 0.5554\n",
      "Epoch 13/20\n",
      "56/56 - 10s - loss: 1.1608 - accuracy: 0.4888 - val_loss: 1.3120 - val_accuracy: 0.3787\n",
      "Epoch 14/20\n",
      "56/56 - 10s - loss: 1.2651 - accuracy: 0.4380 - val_loss: 1.2737 - val_accuracy: 0.3757\n",
      "Epoch 15/20\n",
      "56/56 - 10s - loss: 1.2300 - accuracy: 0.4701 - val_loss: 1.1639 - val_accuracy: 0.4716\n",
      "Epoch 16/20\n",
      "56/56 - 10s - loss: 1.0624 - accuracy: 0.5273 - val_loss: 0.9759 - val_accuracy: 0.5509\n",
      "Epoch 17/20\n",
      "56/56 - 10s - loss: 0.9786 - accuracy: 0.5793 - val_loss: 0.9004 - val_accuracy: 0.5434\n",
      "Epoch 18/20\n",
      "56/56 - 10s - loss: 0.8639 - accuracy: 0.6134 - val_loss: 0.8944 - val_accuracy: 0.6108\n",
      "Epoch 19/20\n",
      "56/56 - 10s - loss: 0.8259 - accuracy: 0.6384 - val_loss: 0.8096 - val_accuracy: 0.6332\n",
      "Epoch 20/20\n",
      "56/56 - 10s - loss: 0.7444 - accuracy: 0.6583 - val_loss: 0.7511 - val_accuracy: 0.6602\n"
     ]
    }
   ],
   "source": [
    "history=model.fit(X_train,y_train,epochs=20,verbose=2,validation_data=(X_test,y_test),batch_size=28)"
   ]
  },
  {
   "cell_type": "code",
   "execution_count": 14,
   "metadata": {
    "colab": {
     "base_uri": "https://localhost:8080/",
     "height": 295
    },
    "id": "DEo5hUb5sBii",
    "outputId": "e00e8bc2-a180-4811-b46d-e63374e94d21"
   },
   "outputs": [
    {
     "data": {
      "image/png": "[encoded data removed]",
      "text/plain": [
       "<Figure size 432x288 with 1 Axes>"
      ]
     },
     "metadata": {
      "needs_background": "light"
     },
     "output_type": "display_data"
    }
   ],
   "source": [
    "plt.plot(history.history['accuracy'])\n",
    "plt.plot(history.history['val_accuracy'])\n",
    "\n",
    "plt.title('model accuarcy')\n",
    "plt.xlabel('accuracy')\n",
    "plt.ylabel('epoch')\n",
    "\n",
    "plt.legend(['train','validation'])\n",
    "plt.show()"
   ]
  },
  {
   "cell_type": "code",
   "execution_count": 15,
   "metadata": {
    "colab": {
     "base_uri": "https://localhost:8080/",
     "height": 295
    },
    "id": "gb-o-oFhs7TQ",
    "outputId": "140ec1a6-ec09-44c5-e843-5b55cf679c1a"
   },
   "outputs": [
    {
     "data": {
      "image/png": "[encoded data removed]",
      "text/plain": [
       "<Figure size 432x288 with 1 Axes>"
      ]
     },
     "metadata": {
      "needs_background": "light"
     },
     "output_type": "display_data"
    }
   ],
   "source": [
    "plt.plot(history.history['loss'])\n",
    "plt.plot(history.history['val_loss'])\n",
    "\n",
    "plt.title('model loss')\n",
    "plt.xlabel('loss')\n",
    "plt.ylabel('epoch')\n",
    "\n",
    "plt.legend(['train','validation'])\n",
    "plt.show()"
   ]
  },
  {
   "cell_type": "code",
   "execution_count": 16,
   "metadata": {
    "colab": {
     "base_uri": "https://localhost:8080/"
    },
    "id": "vmmNYBFGtExV",
    "outputId": "f0225ee3-c201-4b62-f4d3-99846021570e"
   },
   "outputs": [
    {
     "name": "stdout",
     "output_type": "stream",
     "text": [
      "loss:   0.751132607460022\n",
      "accuarcy:   0.660179615020752\n"
     ]
    }
   ],
   "source": [
    "score = model.evaluate(X_test,y_test,verbose=0)\n",
    "print(\"loss:  \",score[0])\n",
    "print(\"accuarcy:  \",score[1])"
   ]
  },
  {
   "cell_type": "markdown",
   "metadata": {
    "id": "TJxeajEJtc67"
   },
   "source": [
    "### CNN-LSTM Model Creation"
   ]
  },
  {
   "cell_type": "code",
   "execution_count": 55,
   "metadata": {
    "id": "lRYlIJLHtZHX"
   },
   "outputs": [],
   "source": [
    "model1 = Sequential()\n",
    "\n",
    "model1.add(Embedding(vocab_size, embedding_dim))\n",
    "model1.add(Conv1D(filters=64,kernel_size=5,strides=1,activation='relu'))\n",
    "model1.add(MaxPooling1D((2)))\n",
    "model1.add(LSTM(embedding_dim))\n",
    "model1.add(Dense(256,activation= 'relu'))\n",
    "model1.add(Dense(6,activation='softmax'))"
   ]
  },
  {
   "cell_type": "code",
   "execution_count": 56,
   "metadata": {
    "colab": {
     "base_uri": "https://localhost:8080/"
    },
    "id": "VUWFaDkwyk0k",
    "outputId": "96beaacc-6715-416d-983d-edee47d5799b"
   },
   "outputs": [
    {
     "name": "stdout",
     "output_type": "stream",
     "text": [
      "Model: \"sequential_4\"\n",
      "_________________________________________________________________\n",
      "Layer (type)                 Output Shape              Param #   \n",
      "=================================================================\n",
      "embedding_4 (Embedding)      (None, None, 64)          320000    \n",
      "_________________________________________________________________\n",
      "conv1d_3 (Conv1D)            (None, None, 64)          20544     \n",
      "_________________________________________________________________\n",
      "max_pooling1d_3 (MaxPooling1 (None, None, 64)          0         \n",
      "_________________________________________________________________\n",
      "lstm_4 (LSTM)                (None, 64)                33024     \n",
      "_________________________________________________________________\n",
      "dense_8 (Dense)              (None, 256)               16640     \n",
      "_________________________________________________________________\n",
      "dense_9 (Dense)              (None, 6)                 1542      \n",
      "=================================================================\n",
      "Total params: 391,750\n",
      "Trainable params: 391,750\n",
      "Non-trainable params: 0\n",
      "_________________________________________________________________\n"
     ]
    }
   ],
   "source": [
    "model1.summary()"
   ]
  },
  {
   "cell_type": "code",
   "execution_count": 57,
   "metadata": {
    "id": "Fuwd0AnqzyTd"
   },
   "outputs": [],
   "source": [
    "model1.compile(optimizer='adam',loss='sparse_categorical_crossentropy',metrics=['accuracy'])"
   ]
  },
  {
   "cell_type": "code",
   "execution_count": 58,
   "metadata": {
    "colab": {
     "base_uri": "https://localhost:8080/"
    },
    "id": "0cKRTrCg0G8Q",
    "outputId": "dc2bf27e-ea28-45a5-dcc0-3845a2e68d3a"
   },
   "outputs": [
    {
     "name": "stdout",
     "output_type": "stream",
     "text": [
      "Epoch 1/20\n",
      "64/64 - 11s - loss: 1.6157 - accuracy: 0.2483 - val_loss: 1.4668 - val_accuracy: 0.3528\n",
      "Epoch 2/20\n",
      "64/64 - 8s - loss: 1.4420 - accuracy: 0.3455 - val_loss: 1.6554 - val_accuracy: 0.3191\n",
      "Epoch 3/20\n",
      "64/64 - 8s - loss: 1.4690 - accuracy: 0.3197 - val_loss: 1.4836 - val_accuracy: 0.3618\n",
      "Epoch 4/20\n",
      "64/64 - 9s - loss: 1.3155 - accuracy: 0.3742 - val_loss: 1.3243 - val_accuracy: 0.4090\n",
      "Epoch 5/20\n",
      "64/64 - 8s - loss: 1.1820 - accuracy: 0.4382 - val_loss: 1.2565 - val_accuracy: 0.3303\n",
      "Epoch 6/20\n",
      "64/64 - 9s - loss: 1.0888 - accuracy: 0.4933 - val_loss: 1.1695 - val_accuracy: 0.3775\n",
      "Epoch 7/20\n",
      "64/64 - 8s - loss: 0.9277 - accuracy: 0.5910 - val_loss: 0.9916 - val_accuracy: 0.6135\n",
      "Epoch 8/20\n",
      "64/64 - 9s - loss: 0.7927 - accuracy: 0.6399 - val_loss: 0.9349 - val_accuracy: 0.5865\n",
      "Epoch 9/20\n",
      "64/64 - 9s - loss: 0.6219 - accuracy: 0.7567 - val_loss: 0.8363 - val_accuracy: 0.6966\n",
      "Epoch 10/20\n",
      "64/64 - 9s - loss: 0.4725 - accuracy: 0.8382 - val_loss: 0.8800 - val_accuracy: 0.6787\n",
      "Epoch 11/20\n",
      "64/64 - 9s - loss: 0.3962 - accuracy: 0.8691 - val_loss: 1.3465 - val_accuracy: 0.6225\n",
      "Epoch 12/20\n",
      "64/64 - 9s - loss: 0.5416 - accuracy: 0.7697 - val_loss: 0.9768 - val_accuracy: 0.6472\n",
      "Epoch 13/20\n",
      "64/64 - 8s - loss: 0.4272 - accuracy: 0.8135 - val_loss: 0.7516 - val_accuracy: 0.7326\n",
      "Epoch 14/20\n",
      "64/64 - 9s - loss: 0.3841 - accuracy: 0.8287 - val_loss: 0.8518 - val_accuracy: 0.7191\n",
      "Epoch 15/20\n",
      "64/64 - 9s - loss: 0.2125 - accuracy: 0.9388 - val_loss: 0.7626 - val_accuracy: 0.7843\n",
      "Epoch 16/20\n",
      "64/64 - 9s - loss: 0.1782 - accuracy: 0.9551 - val_loss: 0.7586 - val_accuracy: 0.7978\n",
      "Epoch 17/20\n",
      "64/64 - 8s - loss: 0.1069 - accuracy: 0.9753 - val_loss: 0.8722 - val_accuracy: 0.7753\n",
      "Epoch 18/20\n",
      "64/64 - 9s - loss: 0.0884 - accuracy: 0.9809 - val_loss: 0.8178 - val_accuracy: 0.8000\n",
      "Epoch 19/20\n",
      "64/64 - 8s - loss: 0.0635 - accuracy: 0.9888 - val_loss: 0.9176 - val_accuracy: 0.8045\n",
      "Epoch 20/20\n",
      "64/64 - 9s - loss: 0.0568 - accuracy: 0.9916 - val_loss: 0.9362 - val_accuracy: 0.8000\n"
     ]
    }
   ],
   "source": [
    "history1 = model1.fit(X_train,y_train,epochs=20,batch_size=28,validation_data=(X_test,y_test),verbose=2)"
   ]
  },
  {
   "cell_type": "code",
   "execution_count": 59,
   "metadata": {
    "colab": {
     "base_uri": "https://localhost:8080/",
     "height": 295
    },
    "id": "Vvji4z4g0ZA_",
    "outputId": "12ef3947-bc9b-465b-8abf-f5c8bdf1cc09"
   },
   "outputs": [
    {
     "data": {
      "image/png": "[encoded data removed]",
      "text/plain": [
       "<Figure size 432x288 with 1 Axes>"
      ]
     },
     "metadata": {
      "needs_background": "light"
     },
     "output_type": "display_data"
    }
   ],
   "source": [
    "plt.plot(history1.history['accuracy'])\n",
    "plt.plot(history1.history['val_accuracy'])\n",
    "\n",
    "plt.title('model accuarcy')\n",
    "plt.xlabel('accuracy')\n",
    "plt.ylabel('epoch')\n",
    "\n",
    "plt.legend(['train','validation'])\n",
    "plt.show()"
   ]
  },
  {
   "cell_type": "code",
   "execution_count": 60,
   "metadata": {
    "colab": {
     "base_uri": "https://localhost:8080/",
     "height": 295
    },
    "id": "TACcKDGI1d97",
    "outputId": "2dd6099f-4cc5-488c-8e02-16706e0a47e9"
   },
   "outputs": [
    {
     "data": {
      "image/png": "[encoded data removed]",
      "text/plain": [
       "<Figure size 432x288 with 1 Axes>"
      ]
     },
     "metadata": {
      "needs_background": "light"
     },
     "output_type": "display_data"
    }
   ],
   "source": [
    "plt.plot(history1.history['loss'])\n",
    "plt.plot(history1.history['val_loss'])\n",
    "\n",
    "plt.title('model loss')\n",
    "plt.xlabel('loss')\n",
    "plt.ylabel('epoch')\n",
    "\n",
    "plt.legend(['train','validation'])\n",
    "plt.show()"
   ]
  },
  {
   "cell_type": "code",
   "execution_count": 61,
   "metadata": {
    "colab": {
     "base_uri": "https://localhost:8080/"
    },
    "id": "ylZ_uDuQ1nr8",
    "outputId": "84c3f4db-7a9a-4ea3-8543-8d3ea370a2c9"
   },
   "outputs": [
    {
     "name": "stdout",
     "output_type": "stream",
     "text": [
      "loss:   0.9361513257026672\n",
      "accuracy:   0.800000011920929\n"
     ]
    }
   ],
   "source": [
    "score = model1.evaluate(X_test,y_test,verbose=0)\n",
    "print(\"loss:  \",score[0])\n",
    "print(\"accuracy:  \",score[1])"
   ]
  },
  {
   "cell_type": "markdown",
   "metadata": {
    "id": "h_HX6SGd2Af7"
   },
   "source": [
    "**yes,performance of model1 (CNN-LSTM layer) is much better than model (LSTM layer)**\n",
    "\n",
    "**acuuracy have been improved a lot**"
   ]
  },
  {
   "cell_type": "markdown",
   "metadata": {
    "id": "4qvVG77N2dpE"
   },
   "source": [
    "### Pre-trained Model Creation"
   ]
  },
  {
   "cell_type": "code",
   "execution_count": 25,
   "metadata": {
    "colab": {
     "base_uri": "https://localhost:8080/"
    },
    "id": "73hQhof2TSKS",
    "outputId": "9834a6db-a454-416f-82c1-90e6b47d73b7"
   },
   "outputs": [
    {
     "name": "stdout",
     "output_type": "stream",
     "text": [
      "--2021-11-01 14:12:58--  http://nlp.stanford.edu/data/glove.6B.zip\n",
      "Resolving nlp.stanford.edu (nlp.stanford.edu)... 171.64.67.140\n",
      "Connecting to nlp.stanford.edu (nlp.stanford.edu)|171.64.67.140|:80... connected.\n",
      "HTTP request sent, awaiting response... 302 Found\n",
      "Location: https://nlp.stanford.edu/data/glove.6B.zip [following]\n",
      "--2021-11-01 14:12:58--  https://nlp.stanford.edu/data/glove.6B.zip\n",
      "Connecting to nlp.stanford.edu (nlp.stanford.edu)|171.64.67.140|:443... connected.\n",
      "HTTP request sent, awaiting response... 301 Moved Permanently\n",
      "Location: http://downloads.cs.stanford.edu/nlp/data/glove.6B.zip [following]\n",
      "--2021-11-01 14:12:58--  http://downloads.cs.stanford.edu/nlp/data/glove.6B.zip\n",
      "Resolving downloads.cs.stanford.edu (downloads.cs.stanford.edu)... 171.64.64.22\n",
      "Connecting to downloads.cs.stanford.edu (downloads.cs.stanford.edu)|171.64.64.22|:80... connected.\n",
      "HTTP request sent, awaiting response... 200 OK\n",
      "Length: 862182613 (822M) [application/zip]\n",
      "Saving to: ‘/tmp/glove.6B.zip’\n",
      "\n",
      "/tmp/glove.6B.zip   100%[===================>] 822.24M  5.14MB/s    in 2m 42s  \n",
      "\n",
      "2021-11-01 14:15:41 (5.07 MB/s) - ‘/tmp/glove.6B.zip’ saved [862182613/862182613]\n",
      "\n"
     ]
    }
   ],
   "source": [
    "!wget --no-check-certificate \\\n",
    "     http://nlp.stanford.edu/data/glove.6B.zip \\\n",
    "     -O /tmp/glove.6B.zip"
   ]
  },
  {
   "cell_type": "code",
   "execution_count": 26,
   "metadata": {
    "id": "hRHDKCKCUlOy"
   },
   "outputs": [],
   "source": [
    "with zipfile.ZipFile('/tmp/glove.6B.zip', 'r') as zip_ref:\n",
    "    zip_ref.extractall('/tmp/glove')"
   ]
  },
  {
   "cell_type": "code",
   "execution_count": 27,
   "metadata": {
    "colab": {
     "base_uri": "https://localhost:8080/"
    },
    "id": "L54i_8oQ154E",
    "outputId": "0114dbe5-b3d0-41d7-a705-29d75260c52d"
   },
   "outputs": [
    {
     "name": "stdout",
     "output_type": "stream",
     "text": [
      "Found 400000 word vectors.\n"
     ]
    }
   ],
   "source": [
    "embeddings_index = {}\n",
    "f = open('/tmp/glove/glove.6B.100d.txt')\n",
    "for line in f:\n",
    "    values = line.split()\n",
    "    word = values[0]\n",
    "    coefs = np.asarray(values[1:], dtype='float32')\n",
    "    embeddings_index[word] = coefs\n",
    "f.close()\n",
    "\n",
    "print('Found %s word vectors.' % len(embeddings_index))"
   ]
  },
  {
   "cell_type": "code",
   "execution_count": 28,
   "metadata": {
    "id": "U9NM2pMxSbSe"
   },
   "outputs": [],
   "source": [
    "embedding_matrix = np.zeros((len(word_index) + 1, 100))\n",
    "for word, i in word_index.items():\n",
    "    embedding_vector = embeddings_index.get(word)\n",
    "    if embedding_vector is not None:\n",
    "        # words not found in embedding index will be all-zeros.\n",
    "        embedding_matrix[i] = embedding_vector"
   ]
  },
  {
   "cell_type": "code",
   "execution_count": 29,
   "metadata": {
    "colab": {
     "base_uri": "https://localhost:8080/"
    },
    "id": "s3rJubxLa0f4",
    "outputId": "c59a83cd-fd5c-4731-d560-7793ba42b208"
   },
   "outputs": [
    {
     "data": {
      "text/plain": [
       "(43624, 100)"
      ]
     },
     "execution_count": 29,
     "metadata": {},
     "output_type": "execute_result"
    }
   ],
   "source": [
    "embedding_matrix.shape"
   ]
  },
  {
   "cell_type": "code",
   "execution_count": 30,
   "metadata": {
    "id": "IHyQR1jUeyBL"
   },
   "outputs": [],
   "source": [
    "embedding_layer = Embedding(input_dim=len(word_index) + 1,output_dim=100,weights=[embedding_matrix],input_length=100,trainable=False)"
   ]
  },
  {
   "cell_type": "code",
   "execution_count": 31,
   "metadata": {
    "id": "pQL2Qmf5YjjI"
   },
   "outputs": [],
   "source": [
    "model2 = Sequential()\n",
    "\n",
    "model2.add(embedding_layer)\n",
    "model2.add(Conv1D(filters=64,kernel_size=3,strides=1,activation='relu'))\n",
    "model2.add(MaxPooling1D((2)))\n",
    "model2.add(LSTM(100))\n",
    "model2.add(Dense(256,activation= 'tanh'))\n",
    "model2.add(Dense(6,activation='softmax'))"
   ]
  },
  {
   "cell_type": "code",
   "execution_count": 32,
   "metadata": {
    "colab": {
     "base_uri": "https://localhost:8080/"
    },
    "id": "DnOReY1TgT2d",
    "outputId": "422a093f-3ed6-479a-9985-888e96b9d3e5"
   },
   "outputs": [
    {
     "name": "stdout",
     "output_type": "stream",
     "text": [
      "Model: \"sequential_2\"\n",
      "_________________________________________________________________\n",
      "Layer (type)                 Output Shape              Param #   \n",
      "=================================================================\n",
      "embedding_2 (Embedding)      (None, 100, 100)          4362400   \n",
      "_________________________________________________________________\n",
      "conv1d_1 (Conv1D)            (None, 98, 64)            19264     \n",
      "_________________________________________________________________\n",
      "max_pooling1d_1 (MaxPooling1 (None, 49, 64)            0         \n",
      "_________________________________________________________________\n",
      "lstm_2 (LSTM)                (None, 100)               66000     \n",
      "_________________________________________________________________\n",
      "dense_4 (Dense)              (None, 256)               25856     \n",
      "_________________________________________________________________\n",
      "dense_5 (Dense)              (None, 6)                 1542      \n",
      "=================================================================\n",
      "Total params: 4,475,062\n",
      "Trainable params: 112,662\n",
      "Non-trainable params: 4,362,400\n",
      "_________________________________________________________________\n"
     ]
    }
   ],
   "source": [
    "model2.summary()"
   ]
  },
  {
   "cell_type": "code",
   "execution_count": 33,
   "metadata": {
    "id": "XF1lNVp8g1Ug"
   },
   "outputs": [],
   "source": [
    "model2.compile(optimizer='adam',loss='sparse_categorical_crossentropy',metrics=['accuracy'])"
   ]
  },
  {
   "cell_type": "code",
   "execution_count": 34,
   "metadata": {
    "colab": {
     "base_uri": "https://localhost:8080/"
    },
    "id": "7XuVbt0zg9S9",
    "outputId": "3a905f59-5419-45b1-a808-ad1b4571412e"
   },
   "outputs": [
    {
     "name": "stdout",
     "output_type": "stream",
     "text": [
      "Epoch 1/20\n",
      "WARNING:tensorflow:Model was constructed with shape (None, 100) for input KerasTensor(type_spec=TensorSpec(shape=(None, 100), dtype=tf.float32, name='embedding_2_input'), name='embedding_2_input', description=\"created by layer 'embedding_2_input'\"), but it was called on an input with incompatible shape (None, 300).\n",
      "WARNING:tensorflow:Model was constructed with shape (None, 100) for input KerasTensor(type_spec=TensorSpec(shape=(None, 100), dtype=tf.float32, name='embedding_2_input'), name='embedding_2_input', description=\"created by layer 'embedding_2_input'\"), but it was called on an input with incompatible shape (None, 300).\n",
      "WARNING:tensorflow:Model was constructed with shape (None, 100) for input KerasTensor(type_spec=TensorSpec(shape=(None, 100), dtype=tf.float32, name='embedding_2_input'), name='embedding_2_input', description=\"created by layer 'embedding_2_input'\"), but it was called on an input with incompatible shape (None, 300).\n",
      "56/56 - 11s - loss: 1.5174 - accuracy: 0.3430 - val_loss: 0.9645 - val_accuracy: 0.6407\n",
      "Epoch 2/20\n",
      "56/56 - 9s - loss: 1.2334 - accuracy: 0.5042 - val_loss: 1.5445 - val_accuracy: 0.3024\n",
      "Epoch 3/20\n",
      "56/56 - 9s - loss: 1.4616 - accuracy: 0.3333 - val_loss: 1.3198 - val_accuracy: 0.4222\n",
      "Epoch 4/20\n",
      "56/56 - 9s - loss: 1.0759 - accuracy: 0.5575 - val_loss: 0.9463 - val_accuracy: 0.6018\n",
      "Epoch 5/20\n",
      "56/56 - 9s - loss: 1.0050 - accuracy: 0.6179 - val_loss: 0.9303 - val_accuracy: 0.6287\n",
      "Epoch 6/20\n",
      "56/56 - 9s - loss: 0.7874 - accuracy: 0.7168 - val_loss: 0.8317 - val_accuracy: 0.6093\n",
      "Epoch 7/20\n",
      "56/56 - 9s - loss: 0.7863 - accuracy: 0.7007 - val_loss: 0.5834 - val_accuracy: 0.7769\n",
      "Epoch 8/20\n",
      "56/56 - 9s - loss: 0.7816 - accuracy: 0.7437 - val_loss: 0.7932 - val_accuracy: 0.6841\n",
      "Epoch 9/20\n",
      "56/56 - 9s - loss: 0.6601 - accuracy: 0.7701 - val_loss: 0.3310 - val_accuracy: 0.8847\n",
      "Epoch 10/20\n",
      "56/56 - 9s - loss: 0.4390 - accuracy: 0.8439 - val_loss: 0.2864 - val_accuracy: 0.9072\n",
      "Epoch 11/20\n",
      "56/56 - 9s - loss: 0.3988 - accuracy: 0.8786 - val_loss: 0.4241 - val_accuracy: 0.8743\n",
      "Epoch 12/20\n",
      "56/56 - 9s - loss: 0.4069 - accuracy: 0.8703 - val_loss: 0.2509 - val_accuracy: 0.9341\n",
      "Epoch 13/20\n",
      "56/56 - 9s - loss: 0.2926 - accuracy: 0.9069 - val_loss: 0.2080 - val_accuracy: 0.9296\n",
      "Epoch 14/20\n",
      "56/56 - 9s - loss: 0.3983 - accuracy: 0.8709 - val_loss: 0.2127 - val_accuracy: 0.9461\n",
      "Epoch 15/20\n",
      "56/56 - 9s - loss: 0.2688 - accuracy: 0.9133 - val_loss: 0.1594 - val_accuracy: 0.9521\n",
      "Epoch 16/20\n",
      "56/56 - 9s - loss: 0.1877 - accuracy: 0.9377 - val_loss: 0.1683 - val_accuracy: 0.9431\n",
      "Epoch 17/20\n",
      "56/56 - 9s - loss: 0.1977 - accuracy: 0.9371 - val_loss: 0.1499 - val_accuracy: 0.9581\n",
      "Epoch 18/20\n",
      "56/56 - 9s - loss: 0.1476 - accuracy: 0.9493 - val_loss: 0.1004 - val_accuracy: 0.9626\n",
      "Epoch 19/20\n",
      "56/56 - 9s - loss: 0.1301 - accuracy: 0.9570 - val_loss: 0.1127 - val_accuracy: 0.9611\n",
      "Epoch 20/20\n",
      "56/56 - 9s - loss: 0.1161 - accuracy: 0.9640 - val_loss: 0.1065 - val_accuracy: 0.9641\n"
     ]
    }
   ],
   "source": [
    "history2 = model2.fit(X_train,y_train,epochs=20,batch_size=28,validation_data=(X_test,y_test),verbose=2)"
   ]
  },
  {
   "cell_type": "code",
   "execution_count": 35,
   "metadata": {
    "colab": {
     "base_uri": "https://localhost:8080/",
     "height": 295
    },
    "id": "Vda0OxiihNrn",
    "outputId": "63ba68dc-cca2-4d68-a91c-f1d4acf2bf14"
   },
   "outputs": [
    {
     "data": {
      "image/png": "[encoded data removed]",
      "text/plain": [
       "<Figure size 432x288 with 1 Axes>"
      ]
     },
     "metadata": {
      "needs_background": "light"
     },
     "output_type": "display_data"
    }
   ],
   "source": [
    "plt.plot(history2.history['accuracy'])\n",
    "plt.plot(history2.history['val_accuracy'])\n",
    "\n",
    "plt.title('model accuarcy')\n",
    "plt.xlabel('accuracy')\n",
    "plt.ylabel('epoch')\n",
    "\n",
    "plt.legend(['train','validation'])\n",
    "plt.show()"
   ]
  },
  {
   "cell_type": "code",
   "execution_count": 36,
   "metadata": {
    "colab": {
     "base_uri": "https://localhost:8080/",
     "height": 295
    },
    "id": "Rldqt8_ghevn",
    "outputId": "78426c6f-5254-40a8-8826-b8b322acc5b4"
   },
   "outputs": [
    {
     "data": {
      "image/png": "[encoded data removed]",
      "text/plain": [
       "<Figure size 432x288 with 1 Axes>"
      ]
     },
     "metadata": {
      "needs_background": "light"
     },
     "output_type": "display_data"
    }
   ],
   "source": [
    "plt.plot(history2.history['loss'])\n",
    "plt.plot(history2.history['val_loss'])\n",
    "\n",
    "plt.title('model accuarcy')\n",
    "plt.xlabel('accuracy')\n",
    "plt.ylabel('epoch')\n",
    "\n",
    "plt.legend(['train','validation'])\n",
    "plt.show()"
   ]
  },
  {
   "cell_type": "code",
   "execution_count": 37,
   "metadata": {
    "colab": {
     "base_uri": "https://localhost:8080/"
    },
    "id": "jnBJvI5ThmB2",
    "outputId": "8ecea650-3f75-4893-96b3-3250ffed3312"
   },
   "outputs": [
    {
     "name": "stdout",
     "output_type": "stream",
     "text": [
      "loss:   0.10645467787981033\n",
      "accuracy:   0.9640718698501587\n"
     ]
    }
   ],
   "source": [
    "score = model2.evaluate(X_test,y_test,verbose=0)\n",
    "print(\"loss:  \",score[0])\n",
    "print(\"accuracy:  \",score[1])"
   ]
  },
  {
   "cell_type": "markdown",
   "metadata": {
    "id": "NWSXvmpx2pcj"
   },
   "source": [
    "### Improvements"
   ]
  },
  {
   "cell_type": "markdown",
   "metadata": {
    "id": "CdD-7RqS40CP"
   },
   "source": [
    "**Try dropouts and see if you can improve the performance of your models.**\n"
   ]
  },
  {
   "cell_type": "code",
   "execution_count": 38,
   "metadata": {
    "id": "ryaI5vsD2rhD"
   },
   "outputs": [],
   "source": [
    "model3 = Sequential()\n",
    "\n",
    "model3.add(Embedding(vocab_size, embedding_dim))\n",
    "model3.add(Conv1D(filters=64,kernel_size=3,strides=1,activation='relu'))\n",
    "model3.add(MaxPooling1D((2)))\n",
    "model3.add(LSTM(embedding_dim))\n",
    "model3.add(Dropout(0.25))\n",
    "model3.add(Dense(512,activation= 'tanh'))\n",
    "model3.add(Dense(6,activation='softmax'))"
   ]
  },
  {
   "cell_type": "code",
   "execution_count": 39,
   "metadata": {
    "colab": {
     "base_uri": "https://localhost:8080/"
    },
    "id": "aFZJgsqN3DZb",
    "outputId": "0d1afae2-b683-4ebc-95b0-79348c1f2ccf"
   },
   "outputs": [
    {
     "name": "stdout",
     "output_type": "stream",
     "text": [
      "Model: \"sequential_3\"\n",
      "_________________________________________________________________\n",
      "Layer (type)                 Output Shape              Param #   \n",
      "=================================================================\n",
      "embedding_3 (Embedding)      (None, None, 64)          320000    \n",
      "_________________________________________________________________\n",
      "conv1d_2 (Conv1D)            (None, None, 64)          12352     \n",
      "_________________________________________________________________\n",
      "max_pooling1d_2 (MaxPooling1 (None, None, 64)          0         \n",
      "_________________________________________________________________\n",
      "lstm_3 (LSTM)                (None, 64)                33024     \n",
      "_________________________________________________________________\n",
      "dropout (Dropout)            (None, 64)                0         \n",
      "_________________________________________________________________\n",
      "dense_6 (Dense)              (None, 512)               33280     \n",
      "_________________________________________________________________\n",
      "dense_7 (Dense)              (None, 6)                 3078      \n",
      "=================================================================\n",
      "Total params: 401,734\n",
      "Trainable params: 401,734\n",
      "Non-trainable params: 0\n",
      "_________________________________________________________________\n"
     ]
    }
   ],
   "source": [
    "model3.summary()"
   ]
  },
  {
   "cell_type": "code",
   "execution_count": 40,
   "metadata": {
    "id": "pqbn2Joh3Pbo"
   },
   "outputs": [],
   "source": [
    "model3.compile(optimizer='adam',loss='sparse_categorical_crossentropy',metrics=['accuracy'])"
   ]
  },
  {
   "cell_type": "code",
   "execution_count": 41,
   "metadata": {
    "colab": {
     "base_uri": "https://localhost:8080/"
    },
    "id": "eh6ch4BT4Dud",
    "outputId": "e5531919-d416-45b5-cbae-53b5c86fdd99"
   },
   "outputs": [
    {
     "name": "stdout",
     "output_type": "stream",
     "text": [
      "Epoch 1/20\n",
      "56/56 - 9s - loss: 1.6272 - accuracy: 0.2434 - val_loss: 1.5859 - val_accuracy: 0.2784\n",
      "Epoch 2/20\n",
      "56/56 - 7s - loss: 1.5189 - accuracy: 0.2762 - val_loss: 1.2645 - val_accuracy: 0.3772\n",
      "Epoch 3/20\n",
      "56/56 - 7s - loss: 1.5499 - accuracy: 0.2864 - val_loss: 1.5347 - val_accuracy: 0.3009\n",
      "Epoch 4/20\n",
      "56/56 - 7s - loss: 1.4088 - accuracy: 0.3507 - val_loss: 1.1613 - val_accuracy: 0.3997\n",
      "Epoch 5/20\n",
      "56/56 - 7s - loss: 1.2492 - accuracy: 0.4053 - val_loss: 1.3017 - val_accuracy: 0.4177\n",
      "Epoch 6/20\n",
      "56/56 - 7s - loss: 1.3871 - accuracy: 0.3622 - val_loss: 1.3822 - val_accuracy: 0.4266\n",
      "Epoch 7/20\n",
      "56/56 - 7s - loss: 1.1685 - accuracy: 0.4361 - val_loss: 1.1132 - val_accuracy: 0.3772\n",
      "Epoch 8/20\n",
      "56/56 - 7s - loss: 1.0635 - accuracy: 0.4798 - val_loss: 1.0749 - val_accuracy: 0.4671\n",
      "Epoch 9/20\n",
      "56/56 - 7s - loss: 0.9739 - accuracy: 0.5010 - val_loss: 1.0741 - val_accuracy: 0.4566\n",
      "Epoch 10/20\n",
      "56/56 - 7s - loss: 0.9241 - accuracy: 0.5478 - val_loss: 1.0176 - val_accuracy: 0.5045\n",
      "Epoch 11/20\n",
      "56/56 - 7s - loss: 0.9235 - accuracy: 0.5678 - val_loss: 1.0784 - val_accuracy: 0.5254\n",
      "Epoch 12/20\n",
      "56/56 - 7s - loss: 0.8594 - accuracy: 0.5979 - val_loss: 1.5302 - val_accuracy: 0.5060\n",
      "Epoch 13/20\n",
      "56/56 - 7s - loss: 0.9692 - accuracy: 0.5594 - val_loss: 1.0724 - val_accuracy: 0.5090\n",
      "Epoch 14/20\n",
      "56/56 - 7s - loss: 0.8189 - accuracy: 0.6050 - val_loss: 0.9661 - val_accuracy: 0.5195\n",
      "Epoch 15/20\n",
      "56/56 - 7s - loss: 0.7818 - accuracy: 0.6217 - val_loss: 0.9652 - val_accuracy: 0.5509\n",
      "Epoch 16/20\n",
      "56/56 - 7s - loss: 0.9259 - accuracy: 0.5530 - val_loss: 1.4023 - val_accuracy: 0.4162\n",
      "Epoch 17/20\n",
      "56/56 - 7s - loss: 0.8863 - accuracy: 0.5723 - val_loss: 1.0372 - val_accuracy: 0.5374\n",
      "Epoch 18/20\n",
      "56/56 - 7s - loss: 0.7641 - accuracy: 0.6211 - val_loss: 1.2223 - val_accuracy: 0.5734\n",
      "Epoch 19/20\n",
      "56/56 - 7s - loss: 0.7926 - accuracy: 0.6673 - val_loss: 1.3912 - val_accuracy: 0.5344\n",
      "Epoch 20/20\n",
      "56/56 - 7s - loss: 0.9026 - accuracy: 0.6275 - val_loss: 0.8737 - val_accuracy: 0.6198\n"
     ]
    }
   ],
   "source": [
    "history3 = model3.fit(X_train,y_train,epochs=20,batch_size=28,validation_data=(X_test,y_test),verbose=2)"
   ]
  },
  {
   "cell_type": "code",
   "execution_count": 42,
   "metadata": {
    "colab": {
     "base_uri": "https://localhost:8080/",
     "height": 295
    },
    "id": "sH1hTfYw4Hch",
    "outputId": "a7cfacf4-9c06-4f30-b1b2-1080fb2fe51c"
   },
   "outputs": [
    {
     "data": {
      "image/png": "[encoded data removed]",
      "text/plain": [
       "<Figure size 432x288 with 1 Axes>"
      ]
     },
     "metadata": {
      "needs_background": "light"
     },
     "output_type": "display_data"
    }
   ],
   "source": [
    "plt.plot(history3.history['accuracy'])\n",
    "plt.plot(history3.history['val_accuracy'])\n",
    "\n",
    "plt.title('model accuarcy')\n",
    "plt.xlabel('accuracy')\n",
    "plt.ylabel('epoch')\n",
    "\n",
    "plt.legend(['train','validation'])\n",
    "plt.show()"
   ]
  },
  {
   "cell_type": "code",
   "execution_count": 43,
   "metadata": {
    "colab": {
     "base_uri": "https://localhost:8080/",
     "height": 295
    },
    "id": "Zlo7tBGl4MCI",
    "outputId": "b31e1829-2494-47ec-fc64-54ba1c8f939f"
   },
   "outputs": [
    {
     "data": {
      "image/png": "[encoded data removed]",
      "text/plain": [
       "<Figure size 432x288 with 1 Axes>"
      ]
     },
     "metadata": {
      "needs_background": "light"
     },
     "output_type": "display_data"
    }
   ],
   "source": [
    "plt.plot(history3.history['loss'])\n",
    "plt.plot(history3.history['val_loss'])\n",
    "\n",
    "plt.title('model loss')\n",
    "plt.xlabel('accuracy')\n",
    "plt.ylabel('epoch')\n",
    "\n",
    "plt.legend(['train','validation'])\n",
    "plt.show()"
   ]
  },
  {
   "cell_type": "code",
   "execution_count": 65,
   "metadata": {
    "colab": {
     "base_uri": "https://localhost:8080/"
    },
    "id": "sPsscNv54SSg",
    "outputId": "df14b682-b20a-4816-e0e8-9cab287b4377"
   },
   "outputs": [
    {
     "name": "stdout",
     "output_type": "stream",
     "text": [
      "loss:   0.7705708146095276\n",
      "accuracy:   0.680898904800415\n"
     ]
    }
   ],
   "source": [
    "score = model3.evaluate(X_test,y_test,verbose=0)\n",
    "print(\"loss:  \",score[0])\n",
    "print(\"accuracy:  \",score[1])"
   ]
  },
  {
   "cell_type": "markdown",
   "metadata": {
    "id": "Sjx87s6s43wv"
   },
   "source": [
    "**Split your dataset with 20% testing and observe your performance.**"
   ]
  },
  {
   "cell_type": "code",
   "execution_count": 45,
   "metadata": {
    "id": "ff4_ADq14lPh"
   },
   "outputs": [],
   "source": [
    "X_train,X_test,y_train,y_test = train_test_split(X_padded,label_seq,train_size=0.8)"
   ]
  },
  {
   "cell_type": "code",
   "execution_count": 46,
   "metadata": {
    "colab": {
     "base_uri": "https://localhost:8080/"
    },
    "id": "4vunLqZm_-AI",
    "outputId": "f2538708-514c-4fdb-d3a0-e984a7f21034"
   },
   "outputs": [
    {
     "name": "stdout",
     "output_type": "stream",
     "text": [
      "(1780, 300)\n",
      "(445, 300)\n",
      "(1780, 1)\n",
      "(445, 1)\n"
     ]
    }
   ],
   "source": [
    "print(X_train.shape)\n",
    "print(X_test.shape)\n",
    "print(y_train.shape)\n",
    "print(y_test.shape)"
   ]
  },
  {
   "cell_type": "code",
   "execution_count": 47,
   "metadata": {
    "colab": {
     "base_uri": "https://localhost:8080/"
    },
    "id": "bz5qjmRY8Kg_",
    "outputId": "5889b4a4-2133-4383-e5e8-8d375b3a54ae"
   },
   "outputs": [
    {
     "name": "stdout",
     "output_type": "stream",
     "text": [
      "Epoch 1/20\n",
      "64/64 - 10s - loss: 0.0993 - accuracy: 0.9691 - val_loss: 0.1483 - val_accuracy: 0.9573\n",
      "Epoch 2/20\n",
      "64/64 - 9s - loss: 0.0901 - accuracy: 0.9719 - val_loss: 0.1539 - val_accuracy: 0.9528\n",
      "Epoch 3/20\n",
      "64/64 - 9s - loss: 0.1039 - accuracy: 0.9702 - val_loss: 0.1173 - val_accuracy: 0.9528\n",
      "Epoch 4/20\n",
      "64/64 - 10s - loss: 0.0659 - accuracy: 0.9803 - val_loss: 0.1254 - val_accuracy: 0.9640\n",
      "Epoch 5/20\n",
      "64/64 - 9s - loss: 0.0688 - accuracy: 0.9809 - val_loss: 0.1130 - val_accuracy: 0.9618\n",
      "Epoch 6/20\n",
      "64/64 - 9s - loss: 0.0540 - accuracy: 0.9882 - val_loss: 0.1067 - val_accuracy: 0.9596\n",
      "Epoch 7/20\n",
      "64/64 - 9s - loss: 0.0445 - accuracy: 0.9871 - val_loss: 0.1083 - val_accuracy: 0.9618\n",
      "Epoch 8/20\n",
      "64/64 - 10s - loss: 0.0381 - accuracy: 0.9899 - val_loss: 0.1365 - val_accuracy: 0.9551\n",
      "Epoch 9/20\n",
      "64/64 - 9s - loss: 0.0323 - accuracy: 0.9899 - val_loss: 0.1198 - val_accuracy: 0.9618\n",
      "Epoch 10/20\n",
      "64/64 - 9s - loss: 0.0306 - accuracy: 0.9910 - val_loss: 0.1921 - val_accuracy: 0.9461\n",
      "Epoch 11/20\n",
      "64/64 - 9s - loss: 0.0438 - accuracy: 0.9888 - val_loss: 0.1317 - val_accuracy: 0.9618\n",
      "Epoch 12/20\n",
      "64/64 - 9s - loss: 0.0274 - accuracy: 0.9921 - val_loss: 0.1477 - val_accuracy: 0.9551\n",
      "Epoch 13/20\n",
      "64/64 - 10s - loss: 0.0270 - accuracy: 0.9933 - val_loss: 0.1544 - val_accuracy: 0.9596\n",
      "Epoch 14/20\n",
      "64/64 - 10s - loss: 0.0237 - accuracy: 0.9938 - val_loss: 0.1474 - val_accuracy: 0.9596\n",
      "Epoch 15/20\n",
      "64/64 - 10s - loss: 0.0181 - accuracy: 0.9944 - val_loss: 0.1383 - val_accuracy: 0.9573\n",
      "Epoch 16/20\n",
      "64/64 - 10s - loss: 0.0301 - accuracy: 0.9916 - val_loss: 0.1591 - val_accuracy: 0.9596\n",
      "Epoch 17/20\n",
      "64/64 - 10s - loss: 0.0237 - accuracy: 0.9910 - val_loss: 0.1323 - val_accuracy: 0.9640\n",
      "Epoch 18/20\n",
      "64/64 - 10s - loss: 0.0123 - accuracy: 0.9978 - val_loss: 0.1357 - val_accuracy: 0.9640\n",
      "Epoch 19/20\n",
      "64/64 - 9s - loss: 0.0124 - accuracy: 0.9972 - val_loss: 0.1581 - val_accuracy: 0.9573\n",
      "Epoch 20/20\n",
      "64/64 - 10s - loss: 0.0122 - accuracy: 0.9978 - val_loss: 0.1797 - val_accuracy: 0.9596\n"
     ]
    }
   ],
   "source": [
    "history4 = model2.fit(X_train,y_train,epochs=20,batch_size=28,validation_data=(X_test,y_test),verbose=2)"
   ]
  },
  {
   "cell_type": "code",
   "execution_count": 48,
   "metadata": {
    "colab": {
     "base_uri": "https://localhost:8080/",
     "height": 295
    },
    "id": "fxPvCx_z-A8l",
    "outputId": "54cda00e-f88e-4a2b-b994-5c4f44996657"
   },
   "outputs": [
    {
     "data": {
      "image/png": "[encoded data removed]",
      "text/plain": [
       "<Figure size 432x288 with 1 Axes>"
      ]
     },
     "metadata": {
      "needs_background": "light"
     },
     "output_type": "display_data"
    }
   ],
   "source": [
    "plt.plot(history4.history['accuracy'])\n",
    "plt.plot(history4.history['val_accuracy'])\n",
    "\n",
    "plt.title('model accuarcy')\n",
    "plt.xlabel('accuracy')\n",
    "plt.ylabel('epoch')\n",
    "\n",
    "plt.legend(['train','validation'])\n",
    "plt.show()"
   ]
  },
  {
   "cell_type": "code",
   "execution_count": 49,
   "metadata": {
    "colab": {
     "base_uri": "https://localhost:8080/",
     "height": 295
    },
    "id": "77s7s8e6-IiF",
    "outputId": "bbc10333-6019-456f-fac6-8ed61e24c1a1"
   },
   "outputs": [
    {
     "data": {
      "image/png": "[encoded data removed]",
      "text/plain": [
       "<Figure size 432x288 with 1 Axes>"
      ]
     },
     "metadata": {
      "needs_background": "light"
     },
     "output_type": "display_data"
    }
   ],
   "source": [
    "plt.plot(history4.history['loss'])\n",
    "plt.plot(history4.history['val_loss'])\n",
    "\n",
    "plt.title('model loss')\n",
    "plt.xlabel('loss')\n",
    "plt.ylabel('epoch')\n",
    "\n",
    "plt.legend(['train','validation'])\n",
    "plt.show()"
   ]
  },
  {
   "cell_type": "code",
   "execution_count": 50,
   "metadata": {
    "colab": {
     "base_uri": "https://localhost:8080/"
    },
    "id": "UMDJnhp3-SRw",
    "outputId": "9287e6a5-a785-4bd6-a883-da3731ec8970"
   },
   "outputs": [
    {
     "name": "stdout",
     "output_type": "stream",
     "text": [
      "loss:   0.38132843375205994\n",
      "accuracy:   0.8651685118675232\n"
     ]
    }
   ],
   "source": [
    "score = model2.evaluate(X_test,y_test,verbose=0)\n",
    "print(\"loss:  \",score[0])\n",
    "print(\"accuracy:  \",score[1])"
   ]
  },
  {
   "cell_type": "markdown",
   "metadata": {
    "id": "9xDskWfZ_oiu"
   },
   "source": [
    "### Predictions"
   ]
  },
  {
   "cell_type": "code",
   "execution_count": 66,
   "metadata": {
    "colab": {
     "base_uri": "https://localhost:8080/"
    },
    "id": "4Nkg8_2T8Wev",
    "outputId": "98aa8e6c-f85f-4aa5-f7a1-37097220daf2"
   },
   "outputs": [
    {
     "name": "stdout",
     "output_type": "stream",
     "text": [
      "[[3.8347442e-12 1.2873262e-08 4.1784998e-04 9.7730118e-01 2.2267254e-02\n",
      "  1.3646622e-05]]\n",
      "sport\n"
     ]
    }
   ],
   "source": [
    "txt = [\"Australia claimed the crucial wicket of Sri Lankan opener Pathum Nissanka as Pat Cummins struck early-on. Earlier, Australian captain Aaron Finch won the toss and decided to bowl vs Sri Lanka in a Super 12 game in the T20 World Cup 2021 at the Dubai International Stadium in Dubai. Sri Lanka made one change as Maheesh Theekshana was declared fit and came in place of Binura Fernando while Australia went unchanged from their last match. Australia defeated South Africa in their opening game by five wickets and two balls to spare. Sri Lanka, on the other hand, registered a win as well where they went past Bangladesh by five wickets and seven balls remaining.Dasun Shanaka will aim to grab a sensational win today in a tough group which promises to go down to the wire\"]\n",
    "\n",
    "tokenizer = Tokenizer(num_words=5000,oov_token='<oov>')\n",
    "tokenizer.fit_on_texts(txt)\n",
    "seq = tokenizer.texts_to_sequences(txt)\n",
    "padded = pad_sequences(seq, maxlen=300)\n",
    "\n",
    "pred = model1.predict(padded)\n",
    "\n",
    "labels = ['tech','bussiness','politics','sport','entertainment']\n",
    "print(pred)\n",
    "print(labels[np.argmax(pred)])"
   ]
  },
  {
   "cell_type": "code",
   "execution_count": 67,
   "metadata": {
    "colab": {
     "base_uri": "https://localhost:8080/"
    },
    "id": "Xee54QYxB9gk",
    "outputId": "8ea95681-6c4f-4a80-cbde-98bd9354a5b8"
   },
   "outputs": [
    {
     "name": "stdout",
     "output_type": "stream",
     "text": [
      "[[2.0963211e-05 2.7913883e-02 1.1111324e-01 1.6829964e-02 6.7666662e-01\n",
      "  1.6745523e-01]]\n",
      "entertainment\n"
     ]
    }
   ],
   "source": [
    "txt = [\"Australia claimed the crucial wicket of Sri Lankan opener Pathum Nissanka as Pat Cummins struck early-on. Earlier, Australian captain Aaron Finch won the toss and decided to bowl vs Sri Lanka in a Super 12 game in the T20 World Cup 2021 at the Dubai International Stadium in Dubai. Sri Lanka made one change as Maheesh Theekshana was declared fit and came in place of Binura Fernando while Australia went unchanged from their last match. Australia defeated South Africa in their opening game by five wickets and two balls to spare. Sri Lanka, on the other hand, registered a win as well where they went past Bangladesh by five wickets and seven balls remaining.Dasun Shanaka will aim to grab a sensational win today in a tough group which promises to go down to the wire\"]\n",
    "\n",
    "tokenizer = Tokenizer(num_words=5000,oov_token='<oov>')\n",
    "tokenizer.fit_on_texts(txt)\n",
    "seq = tokenizer.texts_to_sequences(txt)\n",
    "padded = pad_sequences(seq, maxlen=300)\n",
    "\n",
    "pred = model.predict(padded)\n",
    "\n",
    "labels = ['tech','bussiness','politics','sport','entertainment']\n",
    "print(pred)\n",
    "print(labels[np.argmax(pred)])"
   ]
  },
  {
   "cell_type": "code",
   "execution_count": 68,
   "metadata": {
    "colab": {
     "base_uri": "https://localhost:8080/"
    },
    "id": "vQb78OQECBd5",
    "outputId": "8aeeec24-b3d8-4e0f-9b4c-787e71d6a5ca"
   },
   "outputs": [
    {
     "name": "stdout",
     "output_type": "stream",
     "text": [
      "[[2.5487921e-04 7.8069051e-03 6.7549092e-03 9.8309225e-01 2.5859943e-05\n",
      "  2.0651559e-03]]\n",
      "sport\n"
     ]
    }
   ],
   "source": [
    "txt = [\"Australia claimed the crucial wicket of Sri Lankan opener Pathum Nissanka as Pat Cummins struck early-on. Earlier, Australian captain Aaron Finch won the toss and decided to bowl vs Sri Lanka in a Super 12 game in the T20 World Cup 2021 at the Dubai International Stadium in Dubai. Sri Lanka made one change as Maheesh Theekshana was declared fit and came in place of Binura Fernando while Australia went unchanged from their last match. Australia defeated South Africa in their opening game by five wickets and two balls to spare. Sri Lanka, on the other hand, registered a win as well where they went past Bangladesh by five wickets and seven balls remaining.Dasun Shanaka will aim to grab a sensational win today in a tough group which promises to go down to the wire\"]\n",
    "\n",
    "tokenizer = Tokenizer(num_words=5000,oov_token='<oov>')\n",
    "tokenizer.fit_on_texts(txt)\n",
    "seq = tokenizer.texts_to_sequences(txt)\n",
    "padded = pad_sequences(seq, maxlen=300)\n",
    "\n",
    "pred = model2.predict(padded)\n",
    "\n",
    "labels = ['tech','bussiness','politics','sport','entertainment']\n",
    "print(pred)\n",
    "print(labels[np.argmax(pred)])"
   ]
  },
  {
   "cell_type": "code",
   "execution_count": 69,
   "metadata": {
    "colab": {
     "base_uri": "https://localhost:8080/"
    },
    "id": "tzvhQx3SCDkQ",
    "outputId": "e8d0f6f8-3b10-4875-b7cf-3162d53e2aab"
   },
   "outputs": [
    {
     "name": "stdout",
     "output_type": "stream",
     "text": [
      "[[2.0963211e-05 2.7913883e-02 1.1111324e-01 1.6829964e-02 6.7666662e-01\n",
      "  1.6745523e-01]]\n",
      "entertainment\n"
     ]
    }
   ],
   "source": [
    "txt = [\"Australia claimed the crucial wicket of Sri Lankan opener Pathum Nissanka as Pat Cummins struck early-on. Earlier, Australian captain Aaron Finch won the toss and decided to bowl vs Sri Lanka in a Super 12 game in the T20 World Cup 2021 at the Dubai International Stadium in Dubai. Sri Lanka made one change as Maheesh Theekshana was declared fit and came in place of Binura Fernando while Australia went unchanged from their last match. Australia defeated South Africa in their opening game by five wickets and two balls to spare. Sri Lanka, on the other hand, registered a win as well where they went past Bangladesh by five wickets and seven balls remaining.Dasun Shanaka will aim to grab a sensational win today in a tough group which promises to go down to the wire\"]\n",
    "\n",
    "tokenizer = Tokenizer(num_words=5000,oov_token='<oov>')\n",
    "tokenizer.fit_on_texts(txt)\n",
    "seq = tokenizer.texts_to_sequences(txt)\n",
    "padded = pad_sequences(seq, maxlen=300)\n",
    "\n",
    "pred = model.predict(padded)\n",
    "\n",
    "labels = ['tech','bussiness','politics','sport','entertainment']\n",
    "print(pred)\n",
    "print(labels[np.argmax(pred)])"
   ]
  }
 ],
 "metadata": {
  "colab": {
   "collapsed_sections": [],
   "name": "PDL_LAB_19.ipynb",
   "provenance": []
  },
  "kernelspec": {
   "display_name": "Python 3",
   "language": "python",
   "name": "python3"
  },
  "language_info": {
   "codemirror_mode": {
    "name": "ipython",
    "version": 3
   },
   "file_extension": ".py",
   "mimetype": "text/x-python",
   "name": "python",
   "nbconvert_exporter": "python",
   "pygments_lexer": "ipython3",
   "version": "3.9.1"
  }
 },
 "nbformat": 4,
 "nbformat_minor": 1
}
