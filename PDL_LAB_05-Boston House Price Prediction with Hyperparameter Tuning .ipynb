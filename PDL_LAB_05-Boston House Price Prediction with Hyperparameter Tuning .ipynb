{
 "cells": [
  {
   "cell_type": "markdown",
   "metadata": {
    "id": "uFTziBLDV3Md"
   },
   "source": [
    "## <center> LAB 5: Boston House Price Prediction with Hyperparameter Tuning </center>\n",
    "\n",
    "### 205229103\n",
    "\n",
    "### Arzoo Sah"
   ]
  },
  {
   "cell_type": "markdown",
   "metadata": {
    "id": "SQU5gJXKV5zg"
   },
   "source": [
    "**Import modules**"
   ]
  },
  {
   "cell_type": "code",
   "execution_count": null,
   "metadata": {
    "id": "1tI0D33Z_eR8"
   },
   "outputs": [],
   "source": [
    "import pandas as pd\n",
    "from sklearn.model_selection import train_test_split\n",
    "from keras.models import Sequential\n",
    "from keras.layers import Dense\n",
    "import matplotlib.pyplot as plt\n",
    "from tensorflow.keras.optimizers import RMSprop"
   ]
  },
  {
   "cell_type": "markdown",
   "metadata": {
    "id": "2Ytg79dTV_UN"
   },
   "source": [
    "**1.Load dataset and view the dataset**\n",
    "\n",
    "You are given the dataset with a file name: Lab05_dataset_boston.csv. Load the CSV file and view the\n",
    "sample values."
   ]
  },
  {
   "cell_type": "code",
   "execution_count": null,
   "metadata": {
    "id": "qSWGdbfnBz-r"
   },
   "outputs": [],
   "source": [
    "train = pd.read_csv('lab05_dataset_baston.csv')\n",
    "test = pd.read_csv('lab05_test_baston.csv')"
   ]
  },
  {
   "cell_type": "code",
   "execution_count": null,
   "metadata": {
    "colab": {
     "base_uri": "https://localhost:8080/",
     "height": 203
    },
    "id": "ANZUJpUKB92Y",
    "outputId": "d6db2cb4-33a5-46c0-bf2d-7d6505fc23f8"
   },
   "outputs": [
    {
     "data": {
      "text/html": [
       "<div>\n",
       "<style scoped>\n",
       "    .dataframe tbody tr th:only-of-type {\n",
       "        vertical-align: middle;\n",
       "    }\n",
       "\n",
       "    .dataframe tbody tr th {\n",
       "        vertical-align: top;\n",
       "    }\n",
       "\n",
       "    .dataframe thead th {\n",
       "        text-align: right;\n",
       "    }\n",
       "</style>\n",
       "<table border=\"1\" class=\"dataframe\">\n",
       "  <thead>\n",
       "    <tr style=\"text-align: right;\">\n",
       "      <th></th>\n",
       "      <th>CRIM</th>\n",
       "      <th>ZN</th>\n",
       "      <th>INDUS</th>\n",
       "      <th>CHAS</th>\n",
       "      <th>NOX</th>\n",
       "      <th>RM</th>\n",
       "      <th>AGE</th>\n",
       "      <th>DIS</th>\n",
       "      <th>RAD</th>\n",
       "      <th>TAX</th>\n",
       "      <th>PTRATIO</th>\n",
       "      <th>B</th>\n",
       "      <th>LSTAT</th>\n",
       "      <th>MEDV</th>\n",
       "    </tr>\n",
       "  </thead>\n",
       "  <tbody>\n",
       "    <tr>\n",
       "      <th>0</th>\n",
       "      <td>15.02340</td>\n",
       "      <td>0.0</td>\n",
       "      <td>18.10</td>\n",
       "      <td>0.0</td>\n",
       "      <td>0.6140</td>\n",
       "      <td>5.304</td>\n",
       "      <td>97.3</td>\n",
       "      <td>2.1007</td>\n",
       "      <td>24.0</td>\n",
       "      <td>666.0</td>\n",
       "      <td>20.2</td>\n",
       "      <td>349.48</td>\n",
       "      <td>24.91</td>\n",
       "      <td>12.0</td>\n",
       "    </tr>\n",
       "    <tr>\n",
       "      <th>1</th>\n",
       "      <td>0.62739</td>\n",
       "      <td>0.0</td>\n",
       "      <td>8.14</td>\n",
       "      <td>0.0</td>\n",
       "      <td>0.5380</td>\n",
       "      <td>5.834</td>\n",
       "      <td>56.5</td>\n",
       "      <td>4.4986</td>\n",
       "      <td>4.0</td>\n",
       "      <td>307.0</td>\n",
       "      <td>21.0</td>\n",
       "      <td>395.62</td>\n",
       "      <td>8.47</td>\n",
       "      <td>19.9</td>\n",
       "    </tr>\n",
       "    <tr>\n",
       "      <th>2</th>\n",
       "      <td>0.03466</td>\n",
       "      <td>35.0</td>\n",
       "      <td>6.06</td>\n",
       "      <td>0.0</td>\n",
       "      <td>0.4379</td>\n",
       "      <td>6.031</td>\n",
       "      <td>23.3</td>\n",
       "      <td>6.6407</td>\n",
       "      <td>1.0</td>\n",
       "      <td>304.0</td>\n",
       "      <td>16.9</td>\n",
       "      <td>362.25</td>\n",
       "      <td>7.83</td>\n",
       "      <td>19.4</td>\n",
       "    </tr>\n",
       "    <tr>\n",
       "      <th>3</th>\n",
       "      <td>7.05042</td>\n",
       "      <td>0.0</td>\n",
       "      <td>18.10</td>\n",
       "      <td>0.0</td>\n",
       "      <td>0.6140</td>\n",
       "      <td>6.103</td>\n",
       "      <td>85.1</td>\n",
       "      <td>2.0218</td>\n",
       "      <td>24.0</td>\n",
       "      <td>666.0</td>\n",
       "      <td>20.2</td>\n",
       "      <td>2.52</td>\n",
       "      <td>23.29</td>\n",
       "      <td>13.4</td>\n",
       "    </tr>\n",
       "    <tr>\n",
       "      <th>4</th>\n",
       "      <td>0.72580</td>\n",
       "      <td>0.0</td>\n",
       "      <td>8.14</td>\n",
       "      <td>0.0</td>\n",
       "      <td>0.5380</td>\n",
       "      <td>5.727</td>\n",
       "      <td>69.5</td>\n",
       "      <td>3.7965</td>\n",
       "      <td>4.0</td>\n",
       "      <td>307.0</td>\n",
       "      <td>21.0</td>\n",
       "      <td>390.95</td>\n",
       "      <td>11.28</td>\n",
       "      <td>18.2</td>\n",
       "    </tr>\n",
       "  </tbody>\n",
       "</table>\n",
       "</div>"
      ],
      "text/plain": [
       "       CRIM    ZN  INDUS  CHAS     NOX  ...    TAX  PTRATIO       B  LSTAT  MEDV\n",
       "0  15.02340   0.0  18.10   0.0  0.6140  ...  666.0     20.2  349.48  24.91  12.0\n",
       "1   0.62739   0.0   8.14   0.0  0.5380  ...  307.0     21.0  395.62   8.47  19.9\n",
       "2   0.03466  35.0   6.06   0.0  0.4379  ...  304.0     16.9  362.25   7.83  19.4\n",
       "3   7.05042   0.0  18.10   0.0  0.6140  ...  666.0     20.2    2.52  23.29  13.4\n",
       "4   0.72580   0.0   8.14   0.0  0.5380  ...  307.0     21.0  390.95  11.28  18.2\n",
       "\n",
       "[5 rows x 14 columns]"
      ]
     },
     "execution_count": 3,
     "metadata": {},
     "output_type": "execute_result"
    }
   ],
   "source": [
    "train.head()"
   ]
  },
  {
   "cell_type": "code",
   "execution_count": null,
   "metadata": {
    "colab": {
     "base_uri": "https://localhost:8080/",
     "height": 203
    },
    "id": "LHJ0GWqaD8re",
    "outputId": "13ddb6d4-e3c5-460a-e62a-3519ea39ca26"
   },
   "outputs": [
    {
     "data": {
      "text/html": [
       "<div>\n",
       "<style scoped>\n",
       "    .dataframe tbody tr th:only-of-type {\n",
       "        vertical-align: middle;\n",
       "    }\n",
       "\n",
       "    .dataframe tbody tr th {\n",
       "        vertical-align: top;\n",
       "    }\n",
       "\n",
       "    .dataframe thead th {\n",
       "        text-align: right;\n",
       "    }\n",
       "</style>\n",
       "<table border=\"1\" class=\"dataframe\">\n",
       "  <thead>\n",
       "    <tr style=\"text-align: right;\">\n",
       "      <th></th>\n",
       "      <th>CRIM</th>\n",
       "      <th>ZN</th>\n",
       "      <th>INDUS</th>\n",
       "      <th>CHAS</th>\n",
       "      <th>NOX</th>\n",
       "      <th>RM</th>\n",
       "      <th>AGE</th>\n",
       "      <th>DIS</th>\n",
       "      <th>RAD</th>\n",
       "      <th>TAX</th>\n",
       "      <th>PTRATIO</th>\n",
       "      <th>B</th>\n",
       "      <th>LSTAT</th>\n",
       "    </tr>\n",
       "  </thead>\n",
       "  <tbody>\n",
       "    <tr>\n",
       "      <th>0</th>\n",
       "      <td>0.09178</td>\n",
       "      <td>0.0</td>\n",
       "      <td>4.05</td>\n",
       "      <td>0.0</td>\n",
       "      <td>0.510</td>\n",
       "      <td>6.416</td>\n",
       "      <td>84.1</td>\n",
       "      <td>2.6463</td>\n",
       "      <td>5.0</td>\n",
       "      <td>296.0</td>\n",
       "      <td>16.6</td>\n",
       "      <td>395.50</td>\n",
       "      <td>9.04</td>\n",
       "    </tr>\n",
       "    <tr>\n",
       "      <th>1</th>\n",
       "      <td>0.05644</td>\n",
       "      <td>40.0</td>\n",
       "      <td>6.41</td>\n",
       "      <td>1.0</td>\n",
       "      <td>0.447</td>\n",
       "      <td>6.758</td>\n",
       "      <td>32.9</td>\n",
       "      <td>4.0776</td>\n",
       "      <td>4.0</td>\n",
       "      <td>254.0</td>\n",
       "      <td>17.6</td>\n",
       "      <td>396.90</td>\n",
       "      <td>3.53</td>\n",
       "    </tr>\n",
       "    <tr>\n",
       "      <th>2</th>\n",
       "      <td>0.10574</td>\n",
       "      <td>0.0</td>\n",
       "      <td>27.74</td>\n",
       "      <td>0.0</td>\n",
       "      <td>0.609</td>\n",
       "      <td>5.983</td>\n",
       "      <td>98.8</td>\n",
       "      <td>1.8681</td>\n",
       "      <td>4.0</td>\n",
       "      <td>711.0</td>\n",
       "      <td>20.1</td>\n",
       "      <td>390.11</td>\n",
       "      <td>18.07</td>\n",
       "    </tr>\n",
       "    <tr>\n",
       "      <th>3</th>\n",
       "      <td>0.09164</td>\n",
       "      <td>0.0</td>\n",
       "      <td>10.81</td>\n",
       "      <td>0.0</td>\n",
       "      <td>0.413</td>\n",
       "      <td>6.065</td>\n",
       "      <td>7.8</td>\n",
       "      <td>5.2873</td>\n",
       "      <td>4.0</td>\n",
       "      <td>305.0</td>\n",
       "      <td>19.2</td>\n",
       "      <td>390.91</td>\n",
       "      <td>5.52</td>\n",
       "    </tr>\n",
       "    <tr>\n",
       "      <th>4</th>\n",
       "      <td>5.09017</td>\n",
       "      <td>0.0</td>\n",
       "      <td>18.10</td>\n",
       "      <td>0.0</td>\n",
       "      <td>0.713</td>\n",
       "      <td>6.297</td>\n",
       "      <td>91.8</td>\n",
       "      <td>2.3682</td>\n",
       "      <td>24.0</td>\n",
       "      <td>666.0</td>\n",
       "      <td>20.2</td>\n",
       "      <td>385.09</td>\n",
       "      <td>17.27</td>\n",
       "    </tr>\n",
       "  </tbody>\n",
       "</table>\n",
       "</div>"
      ],
      "text/plain": [
       "      CRIM    ZN  INDUS  CHAS    NOX  ...   RAD    TAX  PTRATIO       B  LSTAT\n",
       "0  0.09178   0.0   4.05   0.0  0.510  ...   5.0  296.0     16.6  395.50   9.04\n",
       "1  0.05644  40.0   6.41   1.0  0.447  ...   4.0  254.0     17.6  396.90   3.53\n",
       "2  0.10574   0.0  27.74   0.0  0.609  ...   4.0  711.0     20.1  390.11  18.07\n",
       "3  0.09164   0.0  10.81   0.0  0.413  ...   4.0  305.0     19.2  390.91   5.52\n",
       "4  5.09017   0.0  18.10   0.0  0.713  ...  24.0  666.0     20.2  385.09  17.27\n",
       "\n",
       "[5 rows x 13 columns]"
      ]
     },
     "execution_count": 4,
     "metadata": {},
     "output_type": "execute_result"
    }
   ],
   "source": [
    "test.head()"
   ]
  },
  {
   "cell_type": "code",
   "execution_count": null,
   "metadata": {
    "colab": {
     "base_uri": "https://localhost:8080/"
    },
    "id": "wlFWZhLgCv6Z",
    "outputId": "0642fd27-550b-4637-bc25-687c5d648fe9"
   },
   "outputs": [
    {
     "name": "stdout",
     "output_type": "stream",
     "text": [
      "(404, 14)\n",
      "(102, 13)\n"
     ]
    }
   ],
   "source": [
    "print(train.shape)\n",
    "print(test.shape)"
   ]
  },
  {
   "cell_type": "code",
   "execution_count": null,
   "metadata": {
    "colab": {
     "base_uri": "https://localhost:8080/"
    },
    "id": "KSO5ISwvEL1r",
    "outputId": "56660705-9b1a-4853-fc6b-1726db8726c7"
   },
   "outputs": [
    {
     "name": "stdout",
     "output_type": "stream",
     "text": [
      "0\n",
      "0\n"
     ]
    }
   ],
   "source": [
    "print(train.isna().sum().sum())\n",
    "print(test.isna().sum().sum())"
   ]
  },
  {
   "cell_type": "markdown",
   "metadata": {
    "id": "7DjO66qnXNiz"
   },
   "source": [
    "**2.Split the dataset**"
   ]
  },
  {
   "cell_type": "code",
   "execution_count": null,
   "metadata": {
    "id": "hmytlX0TFiMJ"
   },
   "outputs": [],
   "source": [
    "X = train.drop('MEDV',axis=1)\n",
    "y = train.MEDV"
   ]
  },
  {
   "cell_type": "code",
   "execution_count": null,
   "metadata": {
    "id": "iX46wPlrEmLO"
   },
   "outputs": [],
   "source": [
    "X_train,X_test,y_train,y_test = train_test_split(X,y,train_size=0.75,test_size=0.25)"
   ]
  },
  {
   "cell_type": "markdown",
   "metadata": {
    "id": "Pgj5DyOpWM5C"
   },
   "source": [
    "**3.Model training**"
   ]
  },
  {
   "cell_type": "markdown",
   "metadata": {
    "id": "QvrDgEvGXZfN"
   },
   "source": [
    "### Define the model"
   ]
  },
  {
   "cell_type": "code",
   "execution_count": null,
   "metadata": {
    "id": "WGdc0itzFv_D"
   },
   "outputs": [],
   "source": [
    "model = Sequential()\n",
    "model.add(Dense(64,input_dim=13,activation='relu'))\n",
    "model.add(Dense(1))"
   ]
  },
  {
   "cell_type": "markdown",
   "metadata": {
    "id": "TU2FbiyWXdRL"
   },
   "source": [
    "### compile the model\n",
    "\n",
    "with RMSprop optimizer, mean square error loss and mean absolute error metrics"
   ]
  },
  {
   "cell_type": "code",
   "execution_count": null,
   "metadata": {
    "id": "HE_3YEDjXpXQ"
   },
   "outputs": [],
   "source": [
    "model.compile(loss='mean_squared_error',optimizer='RMSprop',metrics=['mean_absolute_error'])"
   ]
  },
  {
   "cell_type": "markdown",
   "metadata": {
    "id": "tbs7mDacXqlS"
   },
   "source": [
    "### Fit the model\n",
    "\n",
    "with epochs=10, batch_size=30, verbose = 1"
   ]
  },
  {
   "cell_type": "code",
   "execution_count": null,
   "metadata": {
    "colab": {
     "base_uri": "https://localhost:8080/"
    },
    "id": "L9h-eTT7KzCd",
    "outputId": "32d66bc1-96d5-48e3-ffe7-c44517773322"
   },
   "outputs": [
    {
     "name": "stdout",
     "output_type": "stream",
     "text": [
      "Epoch 1/10\n",
      "11/11 [==============================] - 0s 1ms/step - loss: 29500.6074 - mean_absolute_error: 164.5105\n",
      "Epoch 2/10\n",
      "11/11 [==============================] - 0s 1ms/step - loss: 7731.1040 - mean_absolute_error: 81.5882\n",
      "Epoch 3/10\n",
      "11/11 [==============================] - 0s 1ms/step - loss: 1733.8926 - mean_absolute_error: 35.1325\n",
      "Epoch 4/10\n",
      "11/11 [==============================] - 0s 1ms/step - loss: 448.9497 - mean_absolute_error: 17.2405\n",
      "Epoch 5/10\n",
      "11/11 [==============================] - 0s 1ms/step - loss: 293.9996 - mean_absolute_error: 13.9414\n",
      "Epoch 6/10\n",
      "11/11 [==============================] - 0s 1ms/step - loss: 242.9463 - mean_absolute_error: 12.5892\n",
      "Epoch 7/10\n",
      "11/11 [==============================] - 0s 1ms/step - loss: 199.8426 - mean_absolute_error: 11.1407\n",
      "Epoch 8/10\n",
      "11/11 [==============================] - 0s 1ms/step - loss: 167.9242 - mean_absolute_error: 9.9201\n",
      "Epoch 9/10\n",
      "11/11 [==============================] - 0s 2ms/step - loss: 135.4927 - mean_absolute_error: 8.8209\n",
      "Epoch 10/10\n",
      "11/11 [==============================] - 0s 1ms/step - loss: 128.0854 - mean_absolute_error: 8.5706\n"
     ]
    },
    {
     "data": {
      "text/plain": [
       "<keras.callbacks.History at 0x7f7fca5f2a90>"
      ]
     },
     "execution_count": 11,
     "metadata": {},
     "output_type": "execute_result"
    }
   ],
   "source": [
    "model.fit(X_train,y_train,epochs=10,batch_size=30,verbose=1)"
   ]
  },
  {
   "cell_type": "markdown",
   "metadata": {
    "id": "WrHf6uyuXwXc"
   },
   "source": [
    "### Evaluate the model"
   ]
  },
  {
   "cell_type": "code",
   "execution_count": null,
   "metadata": {
    "colab": {
     "base_uri": "https://localhost:8080/"
    },
    "id": "v7B_1HO9LU65",
    "outputId": "bc539b94-a497-48b8-898f-52c0bbc5e6e5"
   },
   "outputs": [
    {
     "name": "stdout",
     "output_type": "stream",
     "text": [
      "4/4 [==============================] - 0s 2ms/step - loss: 121.5286 - mean_absolute_error: 7.8246\n"
     ]
    },
    {
     "data": {
      "text/plain": [
       "[121.52864837646484, 7.824553966522217]"
      ]
     },
     "execution_count": 12,
     "metadata": {},
     "output_type": "execute_result"
    }
   ],
   "source": [
    "model.evaluate(X_test,y_test)"
   ]
  },
  {
   "cell_type": "markdown",
   "metadata": {
    "id": "dP-2Ef0wX5JE"
   },
   "source": [
    "**4.Hyperparameter model**"
   ]
  },
  {
   "cell_type": "markdown",
   "metadata": {
    "id": "Y1rmhc7WZP7U"
   },
   "source": [
    "### Excerise:1\n",
    "\n",
    "Test several learning rate values to see the impact of varying this value when defining your model."
   ]
  },
  {
   "cell_type": "code",
   "execution_count": null,
   "metadata": {
    "colab": {
     "base_uri": "https://localhost:8080/"
    },
    "id": "VhbK-vV_MniU",
    "outputId": "472c68ae-bf73-4935-90cb-1fd757a17cc4"
   },
   "outputs": [
    {
     "name": "stdout",
     "output_type": "stream",
     "text": [
      "Epoch 1/25\n",
      "11/11 [==============================] - 0s 1ms/step - loss: 947818.3750\n",
      "Epoch 2/25\n",
      "11/11 [==============================] - 0s 1ms/step - loss: 234.6242\n",
      "Epoch 3/25\n",
      "11/11 [==============================] - 0s 1ms/step - loss: 88.3146\n",
      "Epoch 4/25\n",
      "11/11 [==============================] - 0s 1ms/step - loss: 89.4108\n",
      "Epoch 5/25\n",
      "11/11 [==============================] - 0s 1ms/step - loss: 13451.4082\n",
      "Epoch 6/25\n",
      "11/11 [==============================] - 0s 1ms/step - loss: 144.7285\n",
      "Epoch 7/25\n",
      "11/11 [==============================] - 0s 1ms/step - loss: 3383.2720\n",
      "Epoch 8/25\n",
      "11/11 [==============================] - 0s 1ms/step - loss: 98.5499\n",
      "Epoch 9/25\n",
      "11/11 [==============================] - 0s 1ms/step - loss: 263.7930\n",
      "Epoch 10/25\n",
      "11/11 [==============================] - 0s 2ms/step - loss: 168.4775\n",
      "Epoch 11/25\n",
      "11/11 [==============================] - 0s 1ms/step - loss: 136.2892\n",
      "Epoch 12/25\n",
      "11/11 [==============================] - 0s 2ms/step - loss: 381.4435\n",
      "Epoch 13/25\n",
      "11/11 [==============================] - 0s 2ms/step - loss: 496.5916\n",
      "Epoch 14/25\n",
      "11/11 [==============================] - 0s 1ms/step - loss: 482.0204\n",
      "Epoch 15/25\n",
      "11/11 [==============================] - 0s 1ms/step - loss: 440.4254\n",
      "Epoch 16/25\n",
      "11/11 [==============================] - 0s 1ms/step - loss: 1321.9349\n",
      "Epoch 17/25\n",
      "11/11 [==============================] - 0s 980us/step - loss: 145.9993\n",
      "Epoch 18/25\n",
      "11/11 [==============================] - 0s 1ms/step - loss: 64.7986\n",
      "Epoch 19/25\n",
      "11/11 [==============================] - 0s 2ms/step - loss: 72.2483\n",
      "Epoch 20/25\n",
      "11/11 [==============================] - 0s 1ms/step - loss: 59.0986\n",
      "Epoch 21/25\n",
      "11/11 [==============================] - 0s 1ms/step - loss: 130.4695\n",
      "Epoch 22/25\n",
      "11/11 [==============================] - 0s 1ms/step - loss: 264.9548\n",
      "Epoch 23/25\n",
      "11/11 [==============================] - 0s 1ms/step - loss: 321.5207\n",
      "Epoch 24/25\n",
      "11/11 [==============================] - 0s 1ms/step - loss: 287.5198\n",
      "Epoch 25/25\n",
      "11/11 [==============================] - 0s 1ms/step - loss: 259.2444\n"
     ]
    },
    {
     "data": {
      "text/plain": [
       "<keras.callbacks.History at 0x7f7fca542990>"
      ]
     },
     "execution_count": 13,
     "metadata": {},
     "output_type": "execute_result"
    }
   ],
   "source": [
    "optimizer = RMSprop(0.1)                                        #learning_rate = 0.1 \n",
    "\n",
    "model.compile(loss='mean_squared_error',optimizer=optimizer)    # compile the model\n",
    "model.fit(X_train,y_train,epochs=25,batch_size=30)              # fit the model\n"
   ]
  },
  {
   "cell_type": "code",
   "execution_count": null,
   "metadata": {
    "colab": {
     "base_uri": "https://localhost:8080/"
    },
    "id": "06qsaSfTYos1",
    "outputId": "c5b92020-7d5f-4e36-9503-3c1e363b4e8d"
   },
   "outputs": [
    {
     "name": "stdout",
     "output_type": "stream",
     "text": [
      "4/4 [==============================] - 0s 2ms/step - loss: 268.1209\n"
     ]
    },
    {
     "data": {
      "text/plain": [
       "268.1209411621094"
      ]
     },
     "execution_count": 14,
     "metadata": {},
     "output_type": "execute_result"
    }
   ],
   "source": [
    "model.evaluate(X_test, y_test)"
   ]
  },
  {
   "cell_type": "code",
   "execution_count": null,
   "metadata": {
    "colab": {
     "base_uri": "https://localhost:8080/"
    },
    "id": "NR5alIXQbZ2j",
    "outputId": "d8bb5329-5609-4713-902e-fe4e9e2e90d7"
   },
   "outputs": [
    {
     "name": "stdout",
     "output_type": "stream",
     "text": [
      "Epoch 1/25\n",
      "11/11 [==============================] - 0s 1ms/step - loss: 240.5608\n",
      "Epoch 2/25\n",
      "11/11 [==============================] - 0s 2ms/step - loss: 237.0364\n",
      "Epoch 3/25\n",
      "11/11 [==============================] - 0s 1ms/step - loss: 234.1493\n",
      "Epoch 4/25\n",
      "11/11 [==============================] - 0s 2ms/step - loss: 231.4366\n",
      "Epoch 5/25\n",
      "11/11 [==============================] - 0s 1ms/step - loss: 228.7991\n",
      "Epoch 6/25\n",
      "11/11 [==============================] - 0s 1ms/step - loss: 226.1975\n",
      "Epoch 7/25\n",
      "11/11 [==============================] - 0s 2ms/step - loss: 223.6909\n",
      "Epoch 8/25\n",
      "11/11 [==============================] - 0s 1ms/step - loss: 221.0873\n",
      "Epoch 9/25\n",
      "11/11 [==============================] - 0s 1ms/step - loss: 218.5884\n",
      "Epoch 10/25\n",
      "11/11 [==============================] - 0s 992us/step - loss: 216.0549\n",
      "Epoch 11/25\n",
      "11/11 [==============================] - 0s 1ms/step - loss: 213.6661\n",
      "Epoch 12/25\n",
      "11/11 [==============================] - 0s 1ms/step - loss: 211.2397\n",
      "Epoch 13/25\n",
      "11/11 [==============================] - 0s 1ms/step - loss: 208.8751\n",
      "Epoch 14/25\n",
      "11/11 [==============================] - 0s 2ms/step - loss: 206.4241\n",
      "Epoch 15/25\n",
      "11/11 [==============================] - 0s 1ms/step - loss: 203.9505\n",
      "Epoch 16/25\n",
      "11/11 [==============================] - 0s 1ms/step - loss: 201.5863\n",
      "Epoch 17/25\n",
      "11/11 [==============================] - 0s 2ms/step - loss: 199.3059\n",
      "Epoch 18/25\n",
      "11/11 [==============================] - 0s 1ms/step - loss: 197.0135\n",
      "Epoch 19/25\n",
      "11/11 [==============================] - 0s 1ms/step - loss: 194.6629\n",
      "Epoch 20/25\n",
      "11/11 [==============================] - 0s 2ms/step - loss: 192.4065\n",
      "Epoch 21/25\n",
      "11/11 [==============================] - 0s 1ms/step - loss: 190.1961\n",
      "Epoch 22/25\n",
      "11/11 [==============================] - 0s 2ms/step - loss: 187.9770\n",
      "Epoch 23/25\n",
      "11/11 [==============================] - 0s 2ms/step - loss: 185.7623\n",
      "Epoch 24/25\n",
      "11/11 [==============================] - 0s 2ms/step - loss: 183.6067\n",
      "Epoch 25/25\n",
      "11/11 [==============================] - 0s 1ms/step - loss: 181.5355\n"
     ]
    },
    {
     "data": {
      "text/plain": [
       "<keras.callbacks.History at 0x7f7fca587150>"
      ]
     },
     "execution_count": 15,
     "metadata": {},
     "output_type": "execute_result"
    }
   ],
   "source": [
    "optimizer = RMSprop(0.01)                                     #learning_rate = 0.01  \n",
    "\n",
    "model.compile(loss='mean_squared_error',optimizer=optimizer)    # compile the model\n",
    "model.fit(X_train,y_train,epochs=25,batch_size=30)              # fit the model"
   ]
  },
  {
   "cell_type": "code",
   "execution_count": null,
   "metadata": {
    "colab": {
     "base_uri": "https://localhost:8080/"
    },
    "id": "fhBLnBuIbht9",
    "outputId": "46b2ded1-9417-476c-802e-a079d1105818"
   },
   "outputs": [
    {
     "name": "stdout",
     "output_type": "stream",
     "text": [
      "4/4 [==============================] - 0s 2ms/step - loss: 203.4908\n"
     ]
    },
    {
     "data": {
      "text/plain": [
       "203.49081420898438"
      ]
     },
     "execution_count": 16,
     "metadata": {},
     "output_type": "execute_result"
    }
   ],
   "source": [
    "model.evaluate(X_test,y_test)"
   ]
  },
  {
   "cell_type": "markdown",
   "metadata": {
    "id": "wk9OCunKZYyD"
   },
   "source": [
    "### Excerise:2\n",
    "\n",
    "Test several epochs values to see the impact of varying this value when defining your model."
   ]
  },
  {
   "cell_type": "code",
   "execution_count": null,
   "metadata": {
    "colab": {
     "base_uri": "https://localhost:8080/"
    },
    "id": "DsRDNsN1ZHHh",
    "outputId": "977470eb-15ee-4c92-cce4-bc869ee740fd"
   },
   "outputs": [
    {
     "name": "stdout",
     "output_type": "stream",
     "text": [
      "Epoch 1/40\n",
      "11/11 [==============================] - 0s 1ms/step - loss: 178.4346\n",
      "Epoch 2/40\n",
      "11/11 [==============================] - 0s 2ms/step - loss: 175.6415\n",
      "Epoch 3/40\n",
      "11/11 [==============================] - 0s 1ms/step - loss: 173.5205\n",
      "Epoch 4/40\n",
      "11/11 [==============================] - 0s 1ms/step - loss: 171.4971\n",
      "Epoch 5/40\n",
      "11/11 [==============================] - 0s 1ms/step - loss: 169.4689\n",
      "Epoch 6/40\n",
      "11/11 [==============================] - 0s 1ms/step - loss: 167.4810\n",
      "Epoch 7/40\n",
      "11/11 [==============================] - 0s 1ms/step - loss: 165.4816\n",
      "Epoch 8/40\n",
      "11/11 [==============================] - 0s 1ms/step - loss: 163.6459\n",
      "Epoch 9/40\n",
      "11/11 [==============================] - 0s 1ms/step - loss: 161.6694\n",
      "Epoch 10/40\n",
      "11/11 [==============================] - 0s 1ms/step - loss: 159.8411\n",
      "Epoch 11/40\n",
      "11/11 [==============================] - 0s 1ms/step - loss: 157.9620\n",
      "Epoch 12/40\n",
      "11/11 [==============================] - 0s 1ms/step - loss: 156.1371\n",
      "Epoch 13/40\n",
      "11/11 [==============================] - 0s 2ms/step - loss: 154.3320\n",
      "Epoch 14/40\n",
      "11/11 [==============================] - 0s 1ms/step - loss: 152.6055\n",
      "Epoch 15/40\n",
      "11/11 [==============================] - 0s 1ms/step - loss: 150.8116\n",
      "Epoch 16/40\n",
      "11/11 [==============================] - 0s 1ms/step - loss: 149.0483\n",
      "Epoch 17/40\n",
      "11/11 [==============================] - 0s 1ms/step - loss: 147.3286\n",
      "Epoch 18/40\n",
      "11/11 [==============================] - 0s 1ms/step - loss: 145.6661\n",
      "Epoch 19/40\n",
      "11/11 [==============================] - 0s 1ms/step - loss: 144.0732\n",
      "Epoch 20/40\n",
      "11/11 [==============================] - 0s 1ms/step - loss: 142.4656\n",
      "Epoch 21/40\n",
      "11/11 [==============================] - 0s 1ms/step - loss: 140.7534\n",
      "Epoch 22/40\n",
      "11/11 [==============================] - 0s 1ms/step - loss: 139.1880\n",
      "Epoch 23/40\n",
      "11/11 [==============================] - 0s 1ms/step - loss: 137.7045\n",
      "Epoch 24/40\n",
      "11/11 [==============================] - 0s 1ms/step - loss: 136.2471\n",
      "Epoch 25/40\n",
      "11/11 [==============================] - 0s 1ms/step - loss: 134.6300\n",
      "Epoch 26/40\n",
      "11/11 [==============================] - 0s 1ms/step - loss: 133.1154\n",
      "Epoch 27/40\n",
      "11/11 [==============================] - 0s 1ms/step - loss: 131.7377\n",
      "Epoch 28/40\n",
      "11/11 [==============================] - 0s 1ms/step - loss: 130.4156\n",
      "Epoch 29/40\n",
      "11/11 [==============================] - 0s 1ms/step - loss: 128.9247\n",
      "Epoch 30/40\n",
      "11/11 [==============================] - 0s 1ms/step - loss: 127.5775\n",
      "Epoch 31/40\n",
      "11/11 [==============================] - 0s 1ms/step - loss: 126.3461\n",
      "Epoch 32/40\n",
      "11/11 [==============================] - 0s 1ms/step - loss: 124.9270\n",
      "Epoch 33/40\n",
      "11/11 [==============================] - 0s 1ms/step - loss: 123.7033\n",
      "Epoch 34/40\n",
      "11/11 [==============================] - 0s 1ms/step - loss: 122.4044\n",
      "Epoch 35/40\n",
      "11/11 [==============================] - 0s 1ms/step - loss: 121.0666\n",
      "Epoch 36/40\n",
      "11/11 [==============================] - 0s 1ms/step - loss: 119.8418\n",
      "Epoch 37/40\n",
      "11/11 [==============================] - 0s 1ms/step - loss: 118.6778\n",
      "Epoch 38/40\n",
      "11/11 [==============================] - 0s 1ms/step - loss: 117.4530\n",
      "Epoch 39/40\n",
      "11/11 [==============================] - 0s 1ms/step - loss: 116.2048\n",
      "Epoch 40/40\n",
      "11/11 [==============================] - 0s 1ms/step - loss: 115.1115\n"
     ]
    },
    {
     "data": {
      "text/plain": [
       "<keras.callbacks.History at 0x7f7fca39b790>"
      ]
     },
     "execution_count": 17,
     "metadata": {},
     "output_type": "execute_result"
    }
   ],
   "source": [
    "epochs = 40                                                              #epochs = 40\n",
    "\n",
    "model.compile(loss='mean_squared_error',optimizer=RMSprop(0.01))          #complie the model\n",
    "model.fit(X_train,y_train,epochs=epochs,batch_size=30)                    #fit the model"
   ]
  },
  {
   "cell_type": "code",
   "execution_count": null,
   "metadata": {
    "colab": {
     "base_uri": "https://localhost:8080/"
    },
    "id": "itooTSmKZhvZ",
    "outputId": "e546dbdc-20fc-4eed-ae8a-5faa86707e30"
   },
   "outputs": [
    {
     "name": "stdout",
     "output_type": "stream",
     "text": [
      "4/4 [==============================] - 0s 2ms/step - loss: 134.5270\n"
     ]
    },
    {
     "data": {
      "text/plain": [
       "134.5270233154297"
      ]
     },
     "execution_count": 18,
     "metadata": {},
     "output_type": "execute_result"
    }
   ],
   "source": [
    "model.evaluate(X_test,y_test)"
   ]
  },
  {
   "cell_type": "code",
   "execution_count": null,
   "metadata": {
    "colab": {
     "base_uri": "https://localhost:8080/"
    },
    "id": "IixVFnaNcZNF",
    "outputId": "dde0c2f3-c6d3-4385-eb71-8629ae6d679c"
   },
   "outputs": [
    {
     "name": "stdout",
     "output_type": "stream",
     "text": [
      "Epoch 1/20\n",
      "11/11 [==============================] - 0s 1ms/step - loss: 113.3556\n",
      "Epoch 2/20\n",
      "11/11 [==============================] - 0s 1ms/step - loss: 111.8547\n",
      "Epoch 3/20\n",
      "11/11 [==============================] - 0s 2ms/step - loss: 110.6263\n",
      "Epoch 4/20\n",
      "11/11 [==============================] - 0s 1ms/step - loss: 109.6555\n",
      "Epoch 5/20\n",
      "11/11 [==============================] - 0s 1ms/step - loss: 108.5694\n",
      "Epoch 6/20\n",
      "11/11 [==============================] - 0s 1ms/step - loss: 107.5495\n",
      "Epoch 7/20\n",
      "11/11 [==============================] - 0s 2ms/step - loss: 106.5193\n",
      "Epoch 8/20\n",
      "11/11 [==============================] - 0s 1ms/step - loss: 105.5061\n",
      "Epoch 9/20\n",
      "11/11 [==============================] - 0s 2ms/step - loss: 104.5681\n",
      "Epoch 10/20\n",
      "11/11 [==============================] - 0s 1ms/step - loss: 103.6425\n",
      "Epoch 11/20\n",
      "11/11 [==============================] - 0s 1ms/step - loss: 102.7468\n",
      "Epoch 12/20\n",
      "11/11 [==============================] - 0s 1ms/step - loss: 101.9478\n",
      "Epoch 13/20\n",
      "11/11 [==============================] - 0s 1ms/step - loss: 101.0831\n",
      "Epoch 14/20\n",
      "11/11 [==============================] - 0s 2ms/step - loss: 100.4114\n",
      "Epoch 15/20\n",
      "11/11 [==============================] - 0s 2ms/step - loss: 99.6310\n",
      "Epoch 16/20\n",
      "11/11 [==============================] - 0s 1ms/step - loss: 98.9603\n",
      "Epoch 17/20\n",
      "11/11 [==============================] - 0s 2ms/step - loss: 98.1718\n",
      "Epoch 18/20\n",
      "11/11 [==============================] - 0s 1ms/step - loss: 97.4265\n",
      "Epoch 19/20\n",
      "11/11 [==============================] - 0s 1ms/step - loss: 96.7836\n",
      "Epoch 20/20\n",
      "11/11 [==============================] - 0s 1ms/step - loss: 96.2255\n"
     ]
    },
    {
     "data": {
      "text/plain": [
       "<keras.callbacks.History at 0x7f7fca2473d0>"
      ]
     },
     "execution_count": 19,
     "metadata": {},
     "output_type": "execute_result"
    }
   ],
   "source": [
    "epochs = 20                                                 #epochs=20\n",
    "             \n",
    "model.compile(loss='mean_squared_error',optimizer=RMSprop(0.01))    # compile the model\n",
    "model.fit(X_train,y_train,epochs=epochs,batch_size=30)               # fit the model"
   ]
  },
  {
   "cell_type": "code",
   "execution_count": null,
   "metadata": {
    "colab": {
     "base_uri": "https://localhost:8080/"
    },
    "id": "rbJsC5U5cguT",
    "outputId": "84c4988d-4fe3-4948-f15a-7c66e43006f2"
   },
   "outputs": [
    {
     "name": "stdout",
     "output_type": "stream",
     "text": [
      "4/4 [==============================] - 0s 2ms/step - loss: 114.3538\n"
     ]
    },
    {
     "data": {
      "text/plain": [
       "114.35381317138672"
      ]
     },
     "execution_count": 20,
     "metadata": {},
     "output_type": "execute_result"
    }
   ],
   "source": [
    "model.evaluate(X_test,y_test)"
   ]
  },
  {
   "cell_type": "markdown",
   "metadata": {
    "id": "cEq35Kh1ZiHM"
   },
   "source": [
    "### Excerise:3\n",
    "\n",
    "Find the best possible combination of learning rate and epochs while testing some combinations.\n"
   ]
  },
  {
   "cell_type": "code",
   "execution_count": null,
   "metadata": {
    "colab": {
     "base_uri": "https://localhost:8080/"
    },
    "id": "qT4T91ZiZs83",
    "outputId": "12f496ef-273a-4579-a786-bf0f99a5137c"
   },
   "outputs": [
    {
     "name": "stdout",
     "output_type": "stream",
     "text": [
      "Epoch 1/40\n",
      "11/11 [==============================] - 0s 1ms/step - loss: 95.2132\n",
      "Epoch 2/40\n",
      "11/11 [==============================] - 0s 1ms/step - loss: 94.4087\n",
      "Epoch 3/40\n",
      "11/11 [==============================] - 0s 1ms/step - loss: 93.6976\n",
      "Epoch 4/40\n",
      "11/11 [==============================] - 0s 1ms/step - loss: 93.1151\n",
      "Epoch 5/40\n",
      "11/11 [==============================] - 0s 1ms/step - loss: 92.5594\n",
      "Epoch 6/40\n",
      "11/11 [==============================] - 0s 1ms/step - loss: 91.9650\n",
      "Epoch 7/40\n",
      "11/11 [==============================] - 0s 1ms/step - loss: 91.5448\n",
      "Epoch 8/40\n",
      "11/11 [==============================] - 0s 933us/step - loss: 91.0156\n",
      "Epoch 9/40\n",
      "11/11 [==============================] - 0s 996us/step - loss: 90.6630\n",
      "Epoch 10/40\n",
      "11/11 [==============================] - 0s 1ms/step - loss: 90.1943\n",
      "Epoch 11/40\n",
      "11/11 [==============================] - 0s 1ms/step - loss: 89.8785\n",
      "Epoch 12/40\n",
      "11/11 [==============================] - 0s 968us/step - loss: 89.4729\n",
      "Epoch 13/40\n",
      "11/11 [==============================] - 0s 1ms/step - loss: 89.0144\n",
      "Epoch 14/40\n",
      "11/11 [==============================] - 0s 1ms/step - loss: 88.5639\n",
      "Epoch 15/40\n",
      "11/11 [==============================] - 0s 1ms/step - loss: 88.2641\n",
      "Epoch 16/40\n",
      "11/11 [==============================] - 0s 1ms/step - loss: 87.9500\n",
      "Epoch 17/40\n",
      "11/11 [==============================] - 0s 2ms/step - loss: 87.6571\n",
      "Epoch 18/40\n",
      "11/11 [==============================] - 0s 1ms/step - loss: 87.2787\n",
      "Epoch 19/40\n",
      "11/11 [==============================] - 0s 1ms/step - loss: 87.0293\n",
      "Epoch 20/40\n",
      "11/11 [==============================] - 0s 1ms/step - loss: 86.7796\n",
      "Epoch 21/40\n",
      "11/11 [==============================] - 0s 1ms/step - loss: 86.4581\n",
      "Epoch 22/40\n",
      "11/11 [==============================] - 0s 1ms/step - loss: 86.2809\n",
      "Epoch 23/40\n",
      "11/11 [==============================] - 0s 1ms/step - loss: 86.0064\n",
      "Epoch 24/40\n",
      "11/11 [==============================] - 0s 1ms/step - loss: 85.7338\n",
      "Epoch 25/40\n",
      "11/11 [==============================] - 0s 1ms/step - loss: 85.4744\n",
      "Epoch 26/40\n",
      "11/11 [==============================] - 0s 1ms/step - loss: 85.2380\n",
      "Epoch 27/40\n",
      "11/11 [==============================] - 0s 1ms/step - loss: 85.1045\n",
      "Epoch 28/40\n",
      "11/11 [==============================] - 0s 1ms/step - loss: 84.9107\n",
      "Epoch 29/40\n",
      "11/11 [==============================] - 0s 2ms/step - loss: 84.7344\n",
      "Epoch 30/40\n",
      "11/11 [==============================] - 0s 1ms/step - loss: 84.5445\n",
      "Epoch 31/40\n",
      "11/11 [==============================] - 0s 1ms/step - loss: 84.4514\n",
      "Epoch 32/40\n",
      "11/11 [==============================] - 0s 1ms/step - loss: 84.3279\n",
      "Epoch 33/40\n",
      "11/11 [==============================] - 0s 1ms/step - loss: 84.2526\n",
      "Epoch 34/40\n",
      "11/11 [==============================] - 0s 2ms/step - loss: 84.1276\n",
      "Epoch 35/40\n",
      "11/11 [==============================] - 0s 1ms/step - loss: 84.0396\n",
      "Epoch 36/40\n",
      "11/11 [==============================] - 0s 2ms/step - loss: 83.9206\n",
      "Epoch 37/40\n",
      "11/11 [==============================] - 0s 3ms/step - loss: 83.8563\n",
      "Epoch 38/40\n",
      "11/11 [==============================] - 0s 1ms/step - loss: 83.7395\n",
      "Epoch 39/40\n",
      "11/11 [==============================] - 0s 1ms/step - loss: 83.6324\n",
      "Epoch 40/40\n",
      "11/11 [==============================] - 0s 2ms/step - loss: 83.5502\n"
     ]
    },
    {
     "data": {
      "text/plain": [
       "<keras.callbacks.History at 0x7f7fca11b590>"
      ]
     },
     "execution_count": 21,
     "metadata": {},
     "output_type": "execute_result"
    }
   ],
   "source": [
    "\n",
    "model.compile(loss='mean_squared_error',optimizer=RMSprop(0.01))    # compile the model\n",
    "model.fit(X_train,y_train,epochs=40,batch_size=30)                    # fit the model"
   ]
  },
  {
   "cell_type": "code",
   "execution_count": null,
   "metadata": {
    "colab": {
     "base_uri": "https://localhost:8080/"
    },
    "id": "TuE0ZfRdZtkX",
    "outputId": "83cfa39b-0dad-4c97-b7c2-948a9419877b"
   },
   "outputs": [
    {
     "name": "stdout",
     "output_type": "stream",
     "text": [
      "4/4 [==============================] - 0s 2ms/step - loss: 100.1048\n"
     ]
    },
    {
     "data": {
      "text/plain": [
       "100.10477447509766"
      ]
     },
     "execution_count": 22,
     "metadata": {},
     "output_type": "execute_result"
    }
   ],
   "source": [
    "model.evaluate(X_test,y_test)"
   ]
  },
  {
   "cell_type": "markdown",
   "metadata": {
    "id": "LTXT3RwtZtyr"
   },
   "source": [
    "### Excerise:4\n",
    "\n",
    "Test several batch size values to see the impact of varying this value when defining your model."
   ]
  },
  {
   "cell_type": "code",
   "execution_count": null,
   "metadata": {
    "colab": {
     "base_uri": "https://localhost:8080/"
    },
    "id": "rSD2JmsMZ1kH",
    "outputId": "e3744de3-822c-4220-b6ab-bbaa576999dc"
   },
   "outputs": [
    {
     "name": "stdout",
     "output_type": "stream",
     "text": [
      "Epoch 1/30\n",
      "11/11 [==============================] - 0s 1ms/step - loss: 83.4744\n",
      "Epoch 2/30\n",
      "11/11 [==============================] - 0s 1ms/step - loss: 82.9579\n",
      "Epoch 3/30\n",
      "11/11 [==============================] - 0s 2ms/step - loss: 83.0872\n",
      "Epoch 4/30\n",
      "11/11 [==============================] - 0s 1ms/step - loss: 82.9377\n",
      "Epoch 5/30\n",
      "11/11 [==============================] - 0s 2ms/step - loss: 83.0402\n",
      "Epoch 6/30\n",
      "11/11 [==============================] - 0s 1ms/step - loss: 83.0071\n",
      "Epoch 7/30\n",
      "11/11 [==============================] - 0s 2ms/step - loss: 82.9908\n",
      "Epoch 8/30\n",
      "11/11 [==============================] - 0s 1ms/step - loss: 83.0838\n",
      "Epoch 9/30\n",
      "11/11 [==============================] - 0s 2ms/step - loss: 83.1157\n",
      "Epoch 10/30\n",
      "11/11 [==============================] - 0s 1ms/step - loss: 83.1417\n",
      "Epoch 11/30\n",
      "11/11 [==============================] - 0s 1ms/step - loss: 83.0139\n",
      "Epoch 12/30\n",
      "11/11 [==============================] - 0s 1ms/step - loss: 83.0031\n",
      "Epoch 13/30\n",
      "11/11 [==============================] - 0s 1ms/step - loss: 83.0557\n",
      "Epoch 14/30\n",
      "11/11 [==============================] - 0s 1ms/step - loss: 82.9949\n",
      "Epoch 15/30\n",
      "11/11 [==============================] - 0s 1ms/step - loss: 82.9753\n",
      "Epoch 16/30\n",
      "11/11 [==============================] - 0s 1ms/step - loss: 83.0500\n",
      "Epoch 17/30\n",
      "11/11 [==============================] - 0s 1ms/step - loss: 83.1326\n",
      "Epoch 18/30\n",
      "11/11 [==============================] - 0s 1ms/step - loss: 83.0651\n",
      "Epoch 19/30\n",
      "11/11 [==============================] - 0s 1ms/step - loss: 83.1067\n",
      "Epoch 20/30\n",
      "11/11 [==============================] - 0s 1ms/step - loss: 83.0117\n",
      "Epoch 21/30\n",
      "11/11 [==============================] - 0s 1ms/step - loss: 83.0733\n",
      "Epoch 22/30\n",
      "11/11 [==============================] - 0s 1ms/step - loss: 83.0661\n",
      "Epoch 23/30\n",
      "11/11 [==============================] - 0s 1ms/step - loss: 83.0383\n",
      "Epoch 24/30\n",
      "11/11 [==============================] - 0s 1ms/step - loss: 83.0310\n",
      "Epoch 25/30\n",
      "11/11 [==============================] - 0s 1ms/step - loss: 82.9998\n",
      "Epoch 26/30\n",
      "11/11 [==============================] - 0s 1ms/step - loss: 82.9348\n",
      "Epoch 27/30\n",
      "11/11 [==============================] - 0s 1ms/step - loss: 83.0031\n",
      "Epoch 28/30\n",
      "11/11 [==============================] - 0s 2ms/step - loss: 82.9612\n",
      "Epoch 29/30\n",
      "11/11 [==============================] - 0s 1ms/step - loss: 82.9679\n",
      "Epoch 30/30\n",
      "11/11 [==============================] - 0s 1ms/step - loss: 83.0367\n",
      "Epoch 1/30\n",
      "11/11 [==============================] - 0s 1ms/step - loss: 82.9668\n",
      "Epoch 2/30\n",
      "11/11 [==============================] - 0s 1ms/step - loss: 83.0406\n",
      "Epoch 3/30\n",
      "11/11 [==============================] - 0s 1ms/step - loss: 82.9217\n",
      "Epoch 4/30\n",
      "11/11 [==============================] - 0s 1ms/step - loss: 82.9684\n",
      "Epoch 5/30\n",
      "11/11 [==============================] - 0s 1ms/step - loss: 83.0041\n",
      "Epoch 6/30\n",
      "11/11 [==============================] - 0s 2ms/step - loss: 82.9978\n",
      "Epoch 7/30\n",
      "11/11 [==============================] - 0s 1ms/step - loss: 83.1098\n",
      "Epoch 8/30\n",
      "11/11 [==============================] - 0s 2ms/step - loss: 82.9218\n",
      "Epoch 9/30\n",
      "11/11 [==============================] - 0s 1ms/step - loss: 82.9238\n",
      "Epoch 10/30\n",
      "11/11 [==============================] - 0s 2ms/step - loss: 83.0966\n",
      "Epoch 11/30\n",
      "11/11 [==============================] - 0s 1ms/step - loss: 83.0235\n",
      "Epoch 12/30\n",
      "11/11 [==============================] - 0s 1ms/step - loss: 83.1272\n",
      "Epoch 13/30\n",
      "11/11 [==============================] - 0s 1ms/step - loss: 82.9588\n",
      "Epoch 14/30\n",
      "11/11 [==============================] - 0s 1ms/step - loss: 82.9426\n",
      "Epoch 15/30\n",
      "11/11 [==============================] - 0s 1ms/step - loss: 82.9292\n",
      "Epoch 16/30\n",
      "11/11 [==============================] - 0s 2ms/step - loss: 82.9359\n",
      "Epoch 17/30\n",
      "11/11 [==============================] - 0s 2ms/step - loss: 82.9787\n",
      "Epoch 18/30\n",
      "11/11 [==============================] - 0s 1ms/step - loss: 83.0957\n",
      "Epoch 19/30\n",
      "11/11 [==============================] - 0s 2ms/step - loss: 82.9845\n",
      "Epoch 20/30\n",
      "11/11 [==============================] - 0s 1ms/step - loss: 83.0920\n",
      "Epoch 21/30\n",
      "11/11 [==============================] - 0s 1ms/step - loss: 83.0675\n",
      "Epoch 22/30\n",
      "11/11 [==============================] - 0s 1ms/step - loss: 83.0437\n",
      "Epoch 23/30\n",
      "11/11 [==============================] - 0s 1ms/step - loss: 83.0288\n",
      "Epoch 24/30\n",
      "11/11 [==============================] - 0s 1ms/step - loss: 82.9996\n",
      "Epoch 25/30\n",
      "11/11 [==============================] - 0s 1ms/step - loss: 82.9929\n",
      "Epoch 26/30\n",
      "11/11 [==============================] - 0s 2ms/step - loss: 83.0342\n",
      "Epoch 27/30\n",
      "11/11 [==============================] - 0s 2ms/step - loss: 83.0394\n",
      "Epoch 28/30\n",
      "11/11 [==============================] - 0s 1ms/step - loss: 83.0798\n",
      "Epoch 29/30\n",
      "11/11 [==============================] - 0s 1ms/step - loss: 83.0553\n",
      "Epoch 30/30\n",
      "11/11 [==============================] - 0s 1ms/step - loss: 82.9698\n"
     ]
    }
   ],
   "source": [
    "#training_size = 0.1 , epochs=30 \n",
    "\n",
    "model.compile(loss='mean_squared_error',optimizer=RMSprop(0.1))    # compile the model\n",
    "model.fit(X_train,y_train,epochs=30,batch_size=30)                   # fit the model\n",
    "history=model.fit(X_train,y_train,epochs=30,batch_size=30)"
   ]
  },
  {
   "cell_type": "code",
   "execution_count": null,
   "metadata": {
    "colab": {
     "base_uri": "https://localhost:8080/"
    },
    "id": "o1tVvtr1Z2S_",
    "outputId": "0778ff83-631a-4b93-dcbf-5755031a45c7"
   },
   "outputs": [
    {
     "name": "stdout",
     "output_type": "stream",
     "text": [
      "4/4 [==============================] - 0s 3ms/step - loss: 98.8134\n"
     ]
    },
    {
     "data": {
      "text/plain": [
       "98.81340026855469"
      ]
     },
     "execution_count": 24,
     "metadata": {},
     "output_type": "execute_result"
    }
   ],
   "source": [
    "model.evaluate(X_test,y_test)"
   ]
  },
  {
   "cell_type": "markdown",
   "metadata": {
    "id": "degMQK-bZ5Wq"
   },
   "source": [
    "**5.Prediction on the new dataset**\n",
    "\n",
    "\n",
    "Perform prediction on the new test dataset, “Lab05_test_boston.csv”. Also, plot the running time\n",
    "for testing in bar chart. Analyse the results and discuss what you discovered!"
   ]
  },
  {
   "cell_type": "code",
   "execution_count": null,
   "metadata": {
    "colab": {
     "base_uri": "https://localhost:8080/"
    },
    "id": "Xl-P6IQtVKQM",
    "outputId": "9f6fed8d-f781-4166-96a5-fdc619bf47f7"
   },
   "outputs": [
    {
     "name": "stdout",
     "output_type": "stream",
     "text": [
      "Model: \"sequential\"\n",
      "_________________________________________________________________\n",
      "Layer (type)                 Output Shape              Param #   \n",
      "=================================================================\n",
      "dense (Dense)                (None, 64)                896       \n",
      "_________________________________________________________________\n",
      "dense_1 (Dense)              (None, 1)                 65        \n",
      "=================================================================\n",
      "Total params: 961\n",
      "Trainable params: 961\n",
      "Non-trainable params: 0\n",
      "_________________________________________________________________\n"
     ]
    }
   ],
   "source": [
    "model.summary()"
   ]
  },
  {
   "cell_type": "code",
   "execution_count": null,
   "metadata": {
    "id": "O4pzaB4VZ8M2"
   },
   "outputs": [],
   "source": [
    "graph=model.predict(test)\n",
    "graph"
   ]
  },
  {
   "cell_type": "code",
   "execution_count": null,
   "metadata": {
    "colab": {
     "base_uri": "https://localhost:8080/",
     "height": 458
    },
    "id": "YaxmmGX8V2TS",
    "outputId": "f1f04b84-eb4e-41b3-ee30-1633386eb5d3"
   },
   "outputs": [
    {
     "data": {
      "image/png": "[encoded data removed]",
      "text/plain": [
       "<Figure size 792x504 with 1 Axes>"
      ]
     },
     "metadata": {
      "needs_background": "light"
     },
     "output_type": "display_data"
    }
   ],
   "source": [
    "plt.figure(figsize=(11,7))\n",
    "plt.plot(history.history['loss'])\n",
    "plt.title('model loss')\n",
    "plt.xlabel('epoch')\n",
    "plt.ylabel('loss')\n",
    "plt.show()"
   ]
  },
  {
   "cell_type": "markdown",
   "metadata": {
    "id": "Zjbt9VDncWhs"
   },
   "source": [
    "### there is no better relation between epochs (0-30) and the loss of the model with 0.1 training_rate "
   ]
  },
  {
   "cell_type": "code",
   "execution_count": null,
   "metadata": {
    "id": "vvLJIytFdzkL"
   },
   "outputs": [],
   "source": []
  }
 ],
 "metadata": {
  "colab": {
   "collapsed_sections": [],
   "name": "PDL_LAB_05.ipynb",
   "provenance": []
  },
  "kernelspec": {
   "display_name": "Python 3",
   "language": "python",
   "name": "python3"
  },
  "language_info": {
   "codemirror_mode": {
    "name": "ipython",
    "version": 3
   },
   "file_extension": ".py",
   "mimetype": "text/x-python",
   "name": "python",
   "nbconvert_exporter": "python",
   "pygments_lexer": "ipython3",
   "version": "3.9.1"
  }
 },
 "nbformat": 4,
 "nbformat_minor": 1
}
