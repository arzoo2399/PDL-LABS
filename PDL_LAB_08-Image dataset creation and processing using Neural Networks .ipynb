{
 "cells": [
  {
   "cell_type": "markdown",
   "metadata": {},
   "source": [
    "# <center> PDL Lab08: Image dataset creation and processing using Neural Networks </center> \n",
    "\n",
    "### 205229134\n",
    "\n",
    "### Shabana S \n"
   ]
  },
  {
   "cell_type": "code",
   "execution_count": null,
   "metadata": {
    "colab": {
     "base_uri": "https://localhost:8080/"
    },
    "id": "_hXedpMGTOj_",
    "outputId": "ca1232dc-42cf-4614-ad1c-90c681c678f4"
   },
   "outputs": [],
   "source": [
    "!pip install bing-image-downloader"
   ]
  },
  {
   "cell_type": "code",
   "execution_count": null,
   "metadata": {
    "colab": {
     "base_uri": "https://localhost:8080/"
    },
    "id": "N_I6f39d72QG",
    "outputId": "2eeafe69-3cba-417b-d33e-771d6af1e861"
   },
   "outputs": [],
   "source": [
    "!pip install keras"
   ]
  },
  {
   "cell_type": "code",
   "execution_count": null,
   "metadata": {
    "id": "eTZqiHCiTWv2"
   },
   "outputs": [],
   "source": [
    "#import modules\n",
    "\n",
    "from PIL import Image\n",
    "import cv2\n",
    "import glob\n",
    "import numpy as np\n",
    "from bing_image_downloader import downloader\n",
    "from google.colab.patches import cv2_imshow\n",
    "from matplotlib import pyplot as plt\n",
    "from sklearn.model_selection import train_test_split\n",
    "import tensorflow as tf\n",
    "from tensorflow.keras import Sequential\n",
    "from keras.layers import Dense,Activation, Flatten "
   ]
  },
  {
   "cell_type": "code",
   "execution_count": null,
   "metadata": {
    "colab": {
     "base_uri": "https://localhost:8080/"
    },
    "id": "fBXIucxtSkL2",
    "outputId": "a3c3d671-27f4-4638-cf4a-c67ea0b21dc0"
   },
   "outputs": [],
   "source": [
    "#download images of trump and chicken\n",
    "\n",
    "downloader.download('trump closed face',limit=10,output_dir='images')\n",
    "downloader.download('raw chicken in close',limit=10,output_dir='images')"
   ]
  },
  {
   "cell_type": "code",
   "execution_count": null,
   "metadata": {
    "colab": {
     "base_uri": "https://localhost:8080/"
    },
    "id": "SJo9MDKjU8dI",
    "outputId": "9cae7781-f1eb-4f91-a49b-88e0af755337"
   },
   "outputs": [],
   "source": [
    "#making all images paths in a list all_path\n",
    "\n",
    "path1 = glob.glob(\"/content/images/raw chicken in close/*\")     \n",
    "path2 = glob.glob(\"/content/images/trump closed face/*\")\n",
    "all_path=[]\n",
    "all_path=path1+path2\n",
    "all_path"
   ]
  },
  {
   "cell_type": "code",
   "execution_count": null,
   "metadata": {
    "colab": {
     "base_uri": "https://localhost:8080/"
    },
    "id": "XR9NGWNY3SFo",
    "outputId": "6076de69-dfdc-4818-d259-4b169b50aacc"
   },
   "outputs": [],
   "source": [
    "from google.colab import drive\n",
    "drive.mount('/content/drive')"
   ]
  },
  {
   "cell_type": "code",
   "execution_count": null,
   "metadata": {
    "id": "SaKubmF0ZF60"
   },
   "outputs": [],
   "source": [
    "#image processing \n",
    "\n",
    "ind = 0\n",
    "for img in all_path:\n",
    "    ind = ind+1\n",
    "\n",
    "    img = Image.open(img)            #read image\n",
    "      \n",
    "    img = img.resize((100,100))        #resize image to 100x100\n",
    "      \n",
    "    re_img = img.crop((20,20,65,70))     #crop the image\n",
    "\n",
    "    re_img = re_img.resize((500,500))    #again resize image to 500x500 \n",
    "\n",
    "    re_img.save('/content/drive/MyDrive/PDL_7 IMG/img_{0}.jpg'.format(ind))      #save new processed image "
   ]
  },
  {
   "cell_type": "code",
   "execution_count": null,
   "metadata": {
    "colab": {
     "base_uri": "https://localhost:8080/",
     "height": 286
    },
    "id": "gcR9ifkSl7pi",
    "outputId": "52a883de-9b6f-4218-b1e3-496946c2da9a"
   },
   "outputs": [],
   "source": [
    "ex = Image.open('/content/drive/MyDrive/PDL_7 IMG/img_8.jpg')           #smaple of new processed image \n",
    "plt.imshow(ex)"
   ]
  },
  {
   "cell_type": "code",
   "execution_count": null,
   "metadata": {
    "colab": {
     "base_uri": "https://localhost:8080/"
    },
    "id": "FCFF7pTzkAzV",
    "outputId": "51a0311a-59fa-4234-a5c2-ce12ac8e07eb"
   },
   "outputs": [],
   "source": [
    "erm = []\n",
    "re_path = glob.glob(\"/content/drive/MyDrive/PDL_7 IMG/*\")\n",
    "for i in re_path:\n",
    "    img = cv2.imread(i)                           #read image\n",
    "    img = cv2.cvtColor(img,cv2.COLOR_BGR2GRAY)    #convert to gray scale \n",
    "    erm.append(img)                               #append each img to erm      \n",
    "len(erm)"
   ]
  },
  {
   "cell_type": "code",
   "execution_count": null,
   "metadata": {
    "colab": {
     "base_uri": "https://localhost:8080/"
    },
    "id": "frfZ5DLbovrD",
    "outputId": "7b1fa377-d23a-4f45-de36-3fe8cfcffd37"
   },
   "outputs": [],
   "source": [
    "labels=[]                # 0 - chicken  1- trump \n",
    "for j in range(2):\n",
    "    for i in range(10):\n",
    "        labels.append(j)\n",
    "labels = np.array(labels)  \n",
    "labels"
   ]
  },
  {
   "cell_type": "code",
   "execution_count": null,
   "metadata": {
    "colab": {
     "base_uri": "https://localhost:8080/",
     "height": 1000
    },
    "id": "o6eDmqDjozNt",
    "outputId": "3d82508b-d4d0-4a31-c13c-d56dc2267786"
   },
   "outputs": [],
   "source": [
    "def concat_vh(list_2d):\n",
    "  \n",
    "    return cv2.vconcat([cv2.hconcat(list_h) for list_h in list_2d])                   # return final image\n",
    "\n",
    "# function calling\n",
    "img_tile = concat_vh([[erm[0],erm[11],erm[1],erm[12]],\n",
    "                      [erm[14],erm[2],erm[15],erm[3]],\n",
    "                      [erm[4],erm[8],erm[5],erm[17]],\n",
    "                      [erm[18],erm[6],erm[19],erm[7]],\n",
    "                      [erm[10],erm[13],erm[9],erm[16]]])\n",
    "# show the output image\n",
    "cv2_imshow(img_tile)"
   ]
  },
  {
   "cell_type": "code",
   "execution_count": null,
   "metadata": {
    "colab": {
     "base_uri": "https://localhost:8080/"
    },
    "id": "bgQa6LuJka8U",
    "outputId": "f78c432a-6c0a-4fe9-92f7-079b3e3566e1"
   },
   "outputs": [],
   "source": [
    "img_tile.shape      #shape of merge images "
   ]
  },
  {
   "cell_type": "code",
   "execution_count": null,
   "metadata": {
    "colab": {
     "base_uri": "https://localhost:8080/"
    },
    "id": "pdiNxVZqmduJ",
    "outputId": "d70be16d-c8a8-46a2-b683-93858db5f9e0"
   },
   "outputs": [],
   "source": [
    "erm=np.array(erm)             #convert to nd array\n",
    "\n",
    "erm = erm.reshape(erm.shape[0],500,500, 1)          #reshape the array  \n",
    "\n",
    "erm.shape"
   ]
  },
  {
   "cell_type": "markdown",
   "metadata": {
    "id": "lKwvfer-8cMy"
   },
   "source": [
    "**3.Dataset Preparation**"
   ]
  },
  {
   "cell_type": "code",
   "execution_count": null,
   "metadata": {
    "colab": {
     "base_uri": "https://localhost:8080/"
    },
    "id": "8y9dOU5cAZpT",
    "outputId": "16e6dc1f-741b-49db-deab-5f19167786e9"
   },
   "outputs": [],
   "source": [
    "x_train, x_test, y_train, y_test = train_test_split(erm,labels, test_size=0.25, random_state=42)\n",
    "print(\"training shape: \",x_train.shape, y_train.shape)\n",
    "print(\"testing shape: \",x_test.shape, y_test.shape)"
   ]
  },
  {
   "cell_type": "markdown",
   "metadata": {
    "id": "Zh9jsetW8vjn"
   },
   "source": [
    "**4.Model Creation**"
   ]
  },
  {
   "cell_type": "code",
   "execution_count": null,
   "metadata": {
    "colab": {
     "base_uri": "https://localhost:8080/"
    },
    "id": "lppvm6uD2hyT",
    "outputId": "382ddcd9-cf54-4f3b-f8c5-790d76781565"
   },
   "outputs": [],
   "source": [
    "model = Sequential()\n",
    "\n",
    "model.add(Flatten(input_shape=(500,500,1)))\n",
    "\n",
    "model.add(Dense(512, activation='relu'))\n",
    "\n",
    "model.add(Dense(2, activation='sigmoid'))      #output layer\n",
    "\n",
    "# Take a look at the model summary\n",
    "model.summary()"
   ]
  },
  {
   "cell_type": "code",
   "execution_count": null,
   "metadata": {
    "id": "00cU1WJ0_USx"
   },
   "outputs": [],
   "source": [
    "model.compile(loss=\"sparse_categorical_crossentropy\", optimizer=\"adam\", metrics=[\"accuracy\"])  #compile model"
   ]
  },
  {
   "cell_type": "markdown",
   "metadata": {
    "id": "GIT1jkmF_5jT"
   },
   "source": [
    "**5.Analysis**"
   ]
  },
  {
   "cell_type": "code",
   "execution_count": null,
   "metadata": {
    "colab": {
     "base_uri": "https://localhost:8080/"
    },
    "id": "j3rMBcOhsqvo",
    "outputId": "2535b8ca-ffe0-4bc8-bf38-c098c6903477"
   },
   "outputs": [],
   "source": [
    "x_train = x_train / 255\n",
    "\n",
    "history = model.fit(x_train,y_train,batch_size=32,validation_split=0.1, epochs=100,verbose=2)    #fit model"
   ]
  },
  {
   "cell_type": "code",
   "execution_count": null,
   "metadata": {
    "colab": {
     "base_uri": "https://localhost:8080/"
    },
    "id": "O6j2fNKQBXke",
    "outputId": "47b1658b-6a91-4c26-9df2-6954ed1f5666"
   },
   "outputs": [],
   "source": [
    "model.evaluate(x_test,y_test)                                    #evaluate  model"
   ]
  },
  {
   "cell_type": "code",
   "execution_count": null,
   "metadata": {
    "colab": {
     "base_uri": "https://localhost:8080/",
     "height": 295
    },
    "id": "idz7QEJgiWvE",
    "outputId": "40a43e98-1335-4193-dab8-770282a6d3da"
   },
   "outputs": [],
   "source": [
    "plt.plot(history.history['accuracy'])\n",
    "plt.plot(history.history['val_accuracy'])\n",
    "plt.title('Model Accuracy')\n",
    "plt.ylabel('accuracy')\n",
    "plt.xlabel('epoch')\n",
    "plt.legend(['Train', 'Validation'])\n",
    "plt.show()"
   ]
  },
  {
   "cell_type": "markdown",
   "metadata": {
    "id": "uANZFeW9KC0A"
   },
   "source": [
    "## 100 x 100"
   ]
  },
  {
   "cell_type": "code",
   "execution_count": null,
   "metadata": {
    "colab": {
     "base_uri": "https://localhost:8080/"
    },
    "id": "lVUizzWRHNCC",
    "outputId": "e4ee99cb-0d89-4ba7-b96e-0e3263f1a564"
   },
   "outputs": [],
   "source": [
    "erm_100 = []\n",
    "for i in re_path:\n",
    "    img = cv2.imread(i)                                     #read image\n",
    "    img = cv2.cvtColor(img,cv2.COLOR_BGR2GRAY)              #convert to gray\n",
    "    img = cv2.resize(img,(100,100))                         #resize image\n",
    "    erm_100.append(img)                                      #append it to list\n",
    "\n",
    "erm_100=np.array(erm_100)                                      #convert to nd array \n",
    "erm_100 = erm_100.reshape(erm_100.shape[0],100,100,1)          #reshape array\n",
    "erm_100.shape"
   ]
  },
  {
   "cell_type": "code",
   "execution_count": null,
   "metadata": {
    "colab": {
     "base_uri": "https://localhost:8080/"
    },
    "id": "NG_b95e_HsTL",
    "outputId": "d50b595e-1830-48e5-8564-0dbf21056d3b"
   },
   "outputs": [],
   "source": [
    "x_train, x_test, y_train, y_test = train_test_split(erm_100,labels,test_size=0.25,random_state=42)\n",
    "print(\"training shape: \",x_train.shape, y_train.shape)\n",
    "print(\"testing shape: \",x_test.shape, y_test.shape)"
   ]
  },
  {
   "cell_type": "code",
   "execution_count": null,
   "metadata": {
    "colab": {
     "base_uri": "https://localhost:8080/"
    },
    "id": "g0wzkLzLJQ7K",
    "outputId": "82b5cec2-c54b-4e8a-a1db-31473975f76e"
   },
   "outputs": [],
   "source": [
    "model1 = Sequential()\n",
    "\n",
    "model1.add(Flatten(input_shape=(100,100,1)))\n",
    "\n",
    "model1.add(Dense(1028, activation='relu'))\n",
    "model1.add(Dense(512, activation='relu'))\n",
    "model1.add(Dense(256, activation='relu'))\n",
    "model1.add(Dense(128, activation='relu'))\n",
    "\n",
    "model1.add(Dense(2, activation='sigmoid'))            #output layer\n",
    "\n",
    "# Take a look at the model summary\n",
    "model1.summary()"
   ]
  },
  {
   "cell_type": "code",
   "execution_count": null,
   "metadata": {
    "id": "MilRmSJqJiiF"
   },
   "outputs": [],
   "source": [
    "model1.compile(loss=\"sparse_categorical_crossentropy\", optimizer=\"adam\", metrics=[\"accuracy\"])  #compile model"
   ]
  },
  {
   "cell_type": "code",
   "execution_count": null,
   "metadata": {
    "colab": {
     "base_uri": "https://localhost:8080/"
    },
    "id": "AMEQRoo4KJAZ",
    "outputId": "92d25bac-4fe5-4a9b-ec66-bce32ac963f8"
   },
   "outputs": [],
   "source": [
    "x_train = x_train / 255\n",
    "\n",
    "history1 = model1.fit(x_train,y_train,batch_size=32,validation_split=0.1, epochs=100,verbose=2)   #fit model"
   ]
  },
  {
   "cell_type": "code",
   "execution_count": null,
   "metadata": {
    "colab": {
     "base_uri": "https://localhost:8080/"
    },
    "id": "QGMzMDpyhp6H",
    "outputId": "8963f475-6059-4036-e3cb-29cd5c69e83d"
   },
   "outputs": [],
   "source": [
    "model1.evaluate(x_test,y_test)                 #evaluate model"
   ]
  },
  {
   "cell_type": "code",
   "execution_count": null,
   "metadata": {
    "colab": {
     "base_uri": "https://localhost:8080/",
     "height": 295
    },
    "id": "3iQ2Iz0_ib8Q",
    "outputId": "a4ce4105-154b-4ee8-ebfc-9f2d80847a38"
   },
   "outputs": [],
   "source": [
    "plt.plot(history1.history['accuracy'])\n",
    "plt.plot(history1.history['val_accuracy'])\n",
    "plt.title('Model Accuracy')\n",
    "plt.ylabel('accuracy')\n",
    "plt.xlabel('epoch')\n",
    "plt.legend(['Train', 'Validation'])\n",
    "plt.show()"
   ]
  },
  {
   "cell_type": "markdown",
   "metadata": {
    "id": "6_1FvqD3dFEC"
   },
   "source": [
    "## 50x50"
   ]
  },
  {
   "cell_type": "code",
   "execution_count": null,
   "metadata": {
    "colab": {
     "base_uri": "https://localhost:8080/"
    },
    "id": "ZyXwEosvKOT_",
    "outputId": "0dea9918-7bd6-47f4-c486-c76aa35caa8f"
   },
   "outputs": [],
   "source": [
    "erm_50 = []\n",
    "for i in re_path:\n",
    "    img = cv2.imread(i)\n",
    "    img = cv2.cvtColor(img,cv2.COLOR_BGR2GRAY)\n",
    "    img = cv2.resize(img,(50,50))\n",
    "    erm_50.append(img)\n",
    "\n",
    "erm_50=np.array(erm_50)\n",
    "erm_50 = erm_50.reshape(erm_50.shape[0],50,50,1)\n",
    "erm_50.shape"
   ]
  },
  {
   "cell_type": "code",
   "execution_count": null,
   "metadata": {
    "colab": {
     "base_uri": "https://localhost:8080/"
    },
    "id": "FOdKUeJodwfH",
    "outputId": "7e8718ec-fd3e-4f96-a064-a479b99f1ffc"
   },
   "outputs": [],
   "source": [
    "x_train, x_test, y_train, y_test = train_test_split(erm_50,labels,test_size=0.25,random_state=42)\n",
    "print(\"training shape: \",x_train.shape, y_train.shape)\n",
    "print(\"testing shape: \",x_test.shape, y_test.shape)"
   ]
  },
  {
   "cell_type": "code",
   "execution_count": null,
   "metadata": {
    "colab": {
     "base_uri": "https://localhost:8080/"
    },
    "id": "McJLLXcqd-hb",
    "outputId": "e9cc5a52-8d14-4558-fc52-1e099c3ed2c8"
   },
   "outputs": [],
   "source": [
    "model2 = Sequential()\n",
    "\n",
    "model2.add(Flatten(input_shape=(50,50,1)))\n",
    "\n",
    "model2.add(Dense(128, activation='relu'))\n",
    "model2.add(Dense(64, activation='relu'))\n",
    "model2.add(Dense(32, activation='relu'))\n",
    "model2.add(Dense(16, activation='relu'))\n",
    "model2.add(Dense(8, activation='relu'))\n",
    "\n",
    "model2.add(Dense(2, activation='sigmoid'))                  #output layer\n",
    "\n",
    "# Take a look at the model summary\n",
    "model2.summary()"
   ]
  },
  {
   "cell_type": "code",
   "execution_count": null,
   "metadata": {
    "id": "mrI1okifeaF_"
   },
   "outputs": [],
   "source": [
    "model2.compile(loss=\"sparse_categorical_crossentropy\", optimizer=\"adam\", metrics=[\"accuracy\"])     #compile model"
   ]
  },
  {
   "cell_type": "code",
   "execution_count": null,
   "metadata": {
    "colab": {
     "base_uri": "https://localhost:8080/"
    },
    "id": "n_ShmxSJegyZ",
    "outputId": "7f6a7d09-322f-45f3-bf17-3dfea2e842ea"
   },
   "outputs": [],
   "source": [
    "x_train = x_train / 255\n",
    "\n",
    "history2 = model2.fit(x_train,y_train,batch_size=32,validation_split=0.1, epochs=100,verbose=2)     #fit model"
   ]
  },
  {
   "cell_type": "code",
   "execution_count": null,
   "metadata": {
    "colab": {
     "base_uri": "https://localhost:8080/"
    },
    "id": "EsKfhezohvwF",
    "outputId": "8d2f643d-2397-42fc-f86a-64321ce0f16b"
   },
   "outputs": [],
   "source": [
    "model2.evaluate(x_test,y_test)                      #evaluate the model"
   ]
  },
  {
   "cell_type": "code",
   "execution_count": null,
   "metadata": {
    "colab": {
     "base_uri": "https://localhost:8080/",
     "height": 295
    },
    "id": "s87agTCgii2q",
    "outputId": "600aedaa-f82a-4d12-a6fc-7fb7838f1b40"
   },
   "outputs": [],
   "source": [
    "plt.plot(history2.history['accuracy'])\n",
    "plt.plot(history2.history['val_accuracy'])\n",
    "plt.title('Model Accuracy')\n",
    "plt.ylabel('accuracy')\n",
    "plt.xlabel('epoch')\n",
    "plt.legend(['Train', 'Validation'])\n",
    "plt.show()\n"
   ]
  },
  {
   "cell_type": "markdown",
   "metadata": {
    "id": "O-wkirWCe7LG"
   },
   "source": [
    "## 10x10"
   ]
  },
  {
   "cell_type": "code",
   "execution_count": null,
   "metadata": {
    "colab": {
     "base_uri": "https://localhost:8080/"
    },
    "id": "2tB5FmNmeuyH",
    "outputId": "c2b0544b-e9aa-4f42-e465-89d3647f38ac"
   },
   "outputs": [],
   "source": [
    "erm_10 = []\n",
    "for i in re_path:\n",
    "    img = cv2.imread(i)\n",
    "    img = cv2.cvtColor(img,cv2.COLOR_BGR2GRAY)\n",
    "    img = cv2.resize(img,(10,10))\n",
    "    erm_10.append(img)\n",
    "\n",
    "erm_10=np.array(erm_10)\n",
    "erm_10 = erm_10.reshape(erm_10.shape[0],10,10,1)\n",
    "erm_10.shape"
   ]
  },
  {
   "cell_type": "code",
   "execution_count": null,
   "metadata": {
    "colab": {
     "base_uri": "https://localhost:8080/"
    },
    "id": "bHSdjxy-fO7p",
    "outputId": "280d3296-0ed0-4eed-9b1d-dfe10d81609c"
   },
   "outputs": [],
   "source": [
    "x_train, x_test, y_train, y_test = train_test_split(erm_10,labels,test_size=0.25,random_state=42)\n",
    "print(\"training shape: \",x_train.shape, y_train.shape)\n",
    "print(\"testing shape: \",x_test.shape, y_test.shape)"
   ]
  },
  {
   "cell_type": "code",
   "execution_count": null,
   "metadata": {
    "colab": {
     "base_uri": "https://localhost:8080/"
    },
    "id": "f2G8eCtkfcba",
    "outputId": "15c70c74-84a4-4a28-e96e-585c8b8af454"
   },
   "outputs": [],
   "source": [
    "model3 = Sequential()\n",
    "\n",
    "model3.add(Flatten(input_shape=(10,10,1)))\n",
    "\n",
    "model3.add(Dense(256, activation='relu'))\n",
    "model3.add(Dense(128, activation='relu'))\n",
    "model3.add(Dense(64, activation='relu'))\n",
    "\n",
    "model3.add(Dense(2, activation='sigmoid'))                     #output layer\n",
    "\n",
    "# Take a look at the model summary\n",
    "model3.summary()"
   ]
  },
  {
   "cell_type": "code",
   "execution_count": null,
   "metadata": {
    "id": "EsMFMiL5fTpj"
   },
   "outputs": [],
   "source": [
    "model3.compile(loss=\"sparse_categorical_crossentropy\", optimizer=\"adam\", metrics=[\"accuracy\"])     #complie model"
   ]
  },
  {
   "cell_type": "code",
   "execution_count": null,
   "metadata": {
    "colab": {
     "base_uri": "https://localhost:8080/"
    },
    "id": "IEoouCcFf2Tk",
    "outputId": "ad01ba45-512e-43b7-c577-5eb74bd52cc3"
   },
   "outputs": [],
   "source": [
    "x_train = x_train / 255\n",
    "\n",
    "history3 = model3.fit(x_train,y_train,batch_size=32,validation_split=0.1, epochs=100,verbose=2)     #fit model"
   ]
  },
  {
   "cell_type": "code",
   "execution_count": null,
   "metadata": {
    "colab": {
     "base_uri": "https://localhost:8080/"
    },
    "id": "czqLgjfZhzrG",
    "outputId": "93e98d8d-ecec-45b3-94cd-6dc02b641a49"
   },
   "outputs": [],
   "source": [
    "model3.evaluate(x_test,y_test)             #evaluate  model"
   ]
  },
  {
   "cell_type": "code",
   "execution_count": null,
   "metadata": {
    "colab": {
     "base_uri": "https://localhost:8080/",
     "height": 295
    },
    "id": "ABDVoN3qisfY",
    "outputId": "dc5b53bf-4d70-437b-94aa-02eed4e643b2"
   },
   "outputs": [],
   "source": [
    "plt.plot(history3.history['accuracy'])\n",
    "plt.plot(history3.history['val_accuracy'])\n",
    "plt.title('Model Accuracy')\n",
    "plt.ylabel('accuracy')\n",
    "plt.xlabel('epoch')\n",
    "plt.legend(['Train', 'Validation'])\n",
    "plt.show()"
   ]
  },
  {
   "cell_type": "markdown",
   "metadata": {
    "id": "4lPruI2ff-EN"
   },
   "source": [
    "## 25x25"
   ]
  },
  {
   "cell_type": "code",
   "execution_count": null,
   "metadata": {
    "colab": {
     "base_uri": "https://localhost:8080/"
    },
    "id": "mJFGeK-3gETc",
    "outputId": "d6015bb8-8bad-4514-a881-116d59c20ea6"
   },
   "outputs": [],
   "source": [
    "erm_25 = []\n",
    "for i in re_path:\n",
    "    img = cv2.imread(i)\n",
    "    img = cv2.cvtColor(img,cv2.COLOR_BGR2GRAY)\n",
    "    img = cv2.resize(img,(25,25))\n",
    "    erm_25.append(img)\n",
    "\n",
    "erm_25=np.array(erm_25)\n",
    "erm_25 = erm_25.reshape(erm_25.shape[0],25,25,1)\n",
    "erm_25.shape"
   ]
  },
  {
   "cell_type": "code",
   "execution_count": null,
   "metadata": {
    "colab": {
     "base_uri": "https://localhost:8080/"
    },
    "id": "dZQPnOTOgYEb",
    "outputId": "dae5a32a-c8c5-4fcb-92f4-24cf3222e932"
   },
   "outputs": [],
   "source": [
    "x_train, x_test, y_train, y_test = train_test_split(erm_25,labels,test_size=0.25,random_state=42)\n",
    "print(\"training shape: \",x_train.shape, y_train.shape)\n",
    "print(\"testing shape: \",x_test.shape, y_test.shape)"
   ]
  },
  {
   "cell_type": "code",
   "execution_count": null,
   "metadata": {
    "colab": {
     "base_uri": "https://localhost:8080/"
    },
    "id": "BaHtHimwghmx",
    "outputId": "ddc769b0-48d4-43ff-a6d9-ed8335d99736"
   },
   "outputs": [],
   "source": [
    "model4 = Sequential()\n",
    "\n",
    "model4.add(Flatten(input_shape=(25,25,1)))\n",
    "\n",
    "model4.add(Dense(1028, activation='relu'))\n",
    "model4.add(Dense(512, activation='relu'))\n",
    "model4.add(Dense(256, activation='relu'))\n",
    "model4.add(Dense(128, activation='relu'))\n",
    "\n",
    "model4.add(Dense(2, activation='sigmoid'))                   #output layer\n",
    "\n",
    "# Take a look at the model summary\n",
    "model4.summary()"
   ]
  },
  {
   "cell_type": "code",
   "execution_count": null,
   "metadata": {
    "id": "xWs5a4-Tg0jU"
   },
   "outputs": [],
   "source": [
    "model4.compile(loss=\"sparse_categorical_crossentropy\", optimizer=\"adam\", metrics=[\"accuracy\"])      #complie model"
   ]
  },
  {
   "cell_type": "code",
   "execution_count": null,
   "metadata": {
    "colab": {
     "base_uri": "https://localhost:8080/"
    },
    "id": "n8mzpU_3g-O5",
    "outputId": "c61749c0-d51d-49a9-d02a-3082553f4cef"
   },
   "outputs": [],
   "source": [
    "x_train = x_train / 255\n",
    "\n",
    "history4 = model4.fit(x_train,y_train,batch_size=32,validation_split=0.1, epochs=100,verbose=2) #fit model"
   ]
  },
  {
   "cell_type": "code",
   "execution_count": null,
   "metadata": {
    "colab": {
     "base_uri": "https://localhost:8080/"
    },
    "id": "SAJBGXzFg_4K",
    "outputId": "2d48428d-1646-4213-a603-a57ef71881c3"
   },
   "outputs": [],
   "source": [
    "model4.evaluate(x_test,y_test)                         #evaluate model"
   ]
  },
  {
   "cell_type": "code",
   "execution_count": null,
   "metadata": {
    "colab": {
     "base_uri": "https://localhost:8080/",
     "height": 295
    },
    "id": "qZxyDSsai1sN",
    "outputId": "5a107867-aad7-4194-81f4-ba32854fe429"
   },
   "outputs": [],
   "source": [
    "plt.plot(history4.history['accuracy'])\n",
    "plt.plot(history4.history['val_accuracy'])\n",
    "plt.title('Model Accuracy')\n",
    "plt.ylabel('accuracy')\n",
    "plt.xlabel('epoch')\n",
    "plt.legend(['Train', 'Validation'])\n",
    "plt.show()"
   ]
  }
 ],
 "metadata": {
  "colab": {
   "collapsed_sections": [],
   "name": "new_PDL_LAB_08.ipynb",
   "provenance": []
  },
  "kernelspec": {
   "display_name": "Python 3",
   "language": "python",
   "name": "python3"
  },
  "language_info": {
   "codemirror_mode": {
    "name": "ipython",
    "version": 3
   },
   "file_extension": ".py",
   "mimetype": "text/x-python",
   "name": "python",
   "nbconvert_exporter": "python",
   "pygments_lexer": "ipython3",
   "version": "3.9.1"
  }
 },
 "nbformat": 4,
 "nbformat_minor": 1
}
