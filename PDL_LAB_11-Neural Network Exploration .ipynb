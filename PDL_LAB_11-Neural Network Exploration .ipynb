{
 "cells": [
  {
   "cell_type": "markdown",
   "metadata": {
    "id": "7NjRcxlbOWvN"
   },
   "source": [
    "# <center> PDL Lab11 Neural Network Exploration </center>\n",
    "\n",
    "### 205229103\n",
    "\n",
    "### Arzoo Sah"
   ]
  },
  {
   "cell_type": "markdown",
   "metadata": {
    "id": "EX1SNyPjOWvY"
   },
   "source": [
    "### Import libraries"
   ]
  },
  {
   "cell_type": "code",
   "execution_count": null,
   "metadata": {
    "id": "2amUjtxVOWvZ"
   },
   "outputs": [],
   "source": [
    "import warnings\n",
    "warnings.filterwarnings('ignore')\n",
    "\n",
    "import numpy as np\n",
    "import matplotlib.pyplot as plt\n",
    "import tensorflow\n",
    "from PIL import Image \n",
    "from sklearn.model_selection import train_test_split\n",
    "from tensorflow.keras.datasets import mnist\n",
    "from tensorflow.keras.models import Sequential\n",
    "from tensorflow.keras.layers import Dense,Dropout\n",
    "from tensorflow.keras.utils import to_categorical\n",
    "from tensorflow.keras.optimizers import RMSprop,SGD,Adam\n",
    "import pylab as plt\n",
    "from tensorflow.keras.regularizers import l1,l2"
   ]
  },
  {
   "cell_type": "markdown",
   "metadata": {
    "id": "ynbhnlRaOWvd"
   },
   "source": [
    "### Import data"
   ]
  },
  {
   "cell_type": "code",
   "execution_count": null,
   "metadata": {
    "id": "hq1K45RZOWve"
   },
   "outputs": [],
   "source": [
    "# the data, split between train and test sets\n",
    "(x_train, y_train), (x_test, y_test) = mnist.load_data()"
   ]
  },
  {
   "cell_type": "code",
   "execution_count": null,
   "metadata": {
    "colab": {
     "base_uri": "https://localhost:8080/"
    },
    "id": "mQZZrZXqOWvg",
    "outputId": "89537b21-eae5-4e19-a51d-1dd21f02fc27"
   },
   "outputs": [
    {
     "name": "stdout",
     "output_type": "stream",
     "text": [
      "60000 train samples\n",
      "10000 test samples\n"
     ]
    }
   ],
   "source": [
    "#size of datasets\n",
    "print(x_train.shape[0], 'train samples')\n",
    "print(x_test.shape[0], 'test samples')"
   ]
  },
  {
   "cell_type": "markdown",
   "metadata": {
    "id": "XuWLs-vROWvi"
   },
   "source": [
    "### Display an image of a digit"
   ]
  },
  {
   "cell_type": "code",
   "execution_count": null,
   "metadata": {
    "colab": {
     "base_uri": "https://localhost:8080/"
    },
    "id": "Anu14kvx9__7",
    "outputId": "4681fcce-b3aa-4af4-a3bb-5bd3a6b51798"
   },
   "outputs": [
    {
     "data": {
      "text/plain": [
       "(28, 28)"
      ]
     },
     "execution_count": 4,
     "metadata": {},
     "output_type": "execute_result"
    }
   ],
   "source": [
    "x_train[568].shape"
   ]
  },
  {
   "cell_type": "code",
   "execution_count": null,
   "metadata": {
    "colab": {
     "base_uri": "https://localhost:8080/",
     "height": 292
    },
    "id": "GKypizYIOWvj",
    "outputId": "d774b840-33b3-4eda-9c99-264872e2277e"
   },
   "outputs": [
    {
     "data": {
      "text/plain": [
       "<matplotlib.image.AxesImage at 0x7fd4d51283d0>"
      ]
     },
     "execution_count": 5,
     "metadata": {},
     "output_type": "execute_result"
    },
    {
     "data": {
      "image/png": "[encoded data removed]",
      "text/plain": [
       "<Figure size 288x288 with 1 Axes>"
      ]
     },
     "metadata": {
      "needs_background": "light"
     },
     "output_type": "display_data"
    }
   ],
   "source": [
    "plt.matshow(x_train[568])"
   ]
  },
  {
   "cell_type": "code",
   "execution_count": null,
   "metadata": {
    "id": "KnxaHuWP1BdH"
   },
   "outputs": [],
   "source": [
    "batch_size = 128\n",
    "num_classes = 10\n",
    "epochs = 2"
   ]
  },
  {
   "cell_type": "code",
   "execution_count": null,
   "metadata": {
    "id": "-DQGxLtK9__9"
   },
   "outputs": [],
   "source": [
    "\n",
    "#reshape the dataset \n",
    "x_train = x_train.reshape(60000, 784)\n",
    "x_test = x_test.reshape(10000, 784)\n",
    "\n",
    "#convert to float32 type \n",
    "x_train = x_train.astype('float32')\n",
    "x_test = x_test.astype('float32')\n",
    "\n",
    "# Normalize to 0 to 1 range\n",
    "x_train /= 255\n",
    "x_test /= 255\n"
   ]
  },
  {
   "cell_type": "code",
   "execution_count": null,
   "metadata": {
    "id": "791W84vWOWvj"
   },
   "outputs": [],
   "source": [
    "# convert class vectors to binary class matrices\n",
    "y_train = to_categorical(y_train, num_classes)\n",
    "y_test = to_categorical(y_test, num_classes)"
   ]
  },
  {
   "cell_type": "markdown",
   "metadata": {
    "id": "us1-gY8vOWvk"
   },
   "source": [
    "### Display its class label"
   ]
  },
  {
   "cell_type": "code",
   "execution_count": null,
   "metadata": {
    "colab": {
     "base_uri": "https://localhost:8080/"
    },
    "id": "UPRfiA6aOWvk",
    "outputId": "445b39b8-6a4e-4c5e-a2ed-23d89f76e009"
   },
   "outputs": [
    {
     "data": {
      "text/plain": [
       "array([0., 0., 1., 0., 0., 0., 0., 0., 0., 0.], dtype=float32)"
      ]
     },
     "execution_count": 9,
     "metadata": {},
     "output_type": "execute_result"
    }
   ],
   "source": [
    "y_train[568]"
   ]
  },
  {
   "cell_type": "code",
   "execution_count": null,
   "metadata": {
    "colab": {
     "base_uri": "https://localhost:8080/"
    },
    "id": "r-_C5eSHOWvl",
    "outputId": "140e0f3a-b091-49d1-8dc4-69222b1d4fcf"
   },
   "outputs": [
    {
     "name": "stdout",
     "output_type": "stream",
     "text": [
      "digit in the image : 2\n"
     ]
    }
   ],
   "source": [
    "print(\"digit in the image :\",np.argmax(y_train[568]))"
   ]
  },
  {
   "cell_type": "markdown",
   "metadata": {
    "id": "6CQ25F56OWvl"
   },
   "source": [
    "### Design your first model"
   ]
  },
  {
   "cell_type": "markdown",
   "metadata": {
    "id": "Khh87BxeOWvm"
   },
   "source": [
    "Create a model with 3 hidden layers with 32 nodes, sigmoid activation for hidden layers, 10 nodes in the output layer with softmax activation. Print the summary"
   ]
  },
  {
   "cell_type": "code",
   "execution_count": null,
   "metadata": {
    "colab": {
     "base_uri": "https://localhost:8080/"
    },
    "id": "lQkIGRVpOWvm",
    "outputId": "331c4eed-eb12-4ab6-c60c-4d780bb235b1",
    "scrolled": true
   },
   "outputs": [
    {
     "name": "stdout",
     "output_type": "stream",
     "text": [
      "Model: \"sequential\"\n",
      "_________________________________________________________________\n",
      "Layer (type)                 Output Shape              Param #   \n",
      "=================================================================\n",
      "dense (Dense)                (None, 32)                25120     \n",
      "_________________________________________________________________\n",
      "dense_1 (Dense)              (None, 32)                1056      \n",
      "_________________________________________________________________\n",
      "dense_2 (Dense)              (None, 32)                1056      \n",
      "_________________________________________________________________\n",
      "dense_3 (Dense)              (None, 10)                330       \n",
      "=================================================================\n",
      "Total params: 27,562\n",
      "Trainable params: 27,562\n",
      "Non-trainable params: 0\n",
      "_________________________________________________________________\n"
     ]
    }
   ],
   "source": [
    "first_layer_size = 32\n",
    "model = Sequential()\n",
    "model.add(Dense(first_layer_size, activation='sigmoid', input_shape=(784,)))\n",
    "model.add(Dense(32, activation='sigmoid'))\n",
    "model.add(Dense(32, activation='sigmoid'))\n",
    "model.add(Dense(num_classes, activation='softmax'))\n",
    "\n",
    "model.summary()"
   ]
  },
  {
   "cell_type": "markdown",
   "metadata": {
    "id": "c-JKxcSCOWvn"
   },
   "source": [
    "### Compile the Model"
   ]
  },
  {
   "cell_type": "markdown",
   "metadata": {
    "id": "7xy2NGBBOWvn"
   },
   "source": [
    "Compile the model with categorical_crossentropy loss, RMSprop optimizer and accuracy metrics"
   ]
  },
  {
   "cell_type": "code",
   "execution_count": null,
   "metadata": {
    "id": "n-GRrU89OWvn",
    "scrolled": false
   },
   "outputs": [],
   "source": [
    "model.compile(loss='categorical_crossentropy',optimizer=RMSprop(),metrics=['accuracy'])"
   ]
  },
  {
   "cell_type": "markdown",
   "metadata": {
    "id": "bpuL1hH1OWvo"
   },
   "source": [
    "### Train the model"
   ]
  },
  {
   "cell_type": "markdown",
   "metadata": {
    "id": "SvAQrzCZOWvo"
   },
   "source": [
    "Train the model for the specified batch size and the number of epochs"
   ]
  },
  {
   "cell_type": "code",
   "execution_count": null,
   "metadata": {
    "colab": {
     "base_uri": "https://localhost:8080/"
    },
    "id": "gr_VQd-oOWvo",
    "outputId": "0d414ffa-1202-47f6-d6aa-1188fd604d20"
   },
   "outputs": [
    {
     "name": "stdout",
     "output_type": "stream",
     "text": [
      "Epoch 1/2\n",
      "375/375 - 2s - loss: 1.7317 - accuracy: 0.4809 - val_loss: 1.1412 - val_accuracy: 0.7281\n",
      "Epoch 2/2\n",
      "375/375 - 1s - loss: 0.8552 - accuracy: 0.7778 - val_loss: 0.6188 - val_accuracy: 0.8448\n"
     ]
    }
   ],
   "source": [
    "history = model.fit(x_train,y_train,batch_size=batch_size,epochs=epochs,verbose=2,validation_split=0.2)"
   ]
  },
  {
   "cell_type": "code",
   "execution_count": null,
   "metadata": {
    "colab": {
     "base_uri": "https://localhost:8080/",
     "height": 295
    },
    "id": "bVk7BaxW8v5A",
    "outputId": "0e1f755e-40bc-4d1e-f6ac-9159e19d0143"
   },
   "outputs": [
    {
     "data": {
      "image/png": "[encoded data removed]",
      "text/plain": [
       "<Figure size 432x288 with 1 Axes>"
      ]
     },
     "metadata": {
      "needs_background": "light"
     },
     "output_type": "display_data"
    }
   ],
   "source": [
    "plt.plot(history.history['accuracy'])\n",
    "plt.plot(history.history['val_accuracy'])\n",
    "plt.title('Model Accuracy')\n",
    "plt.ylabel('accuracy')\n",
    "plt.xlabel('epoch')\n",
    "plt.legend(['Train', 'Validation'])\n",
    "plt.show()"
   ]
  },
  {
   "cell_type": "markdown",
   "metadata": {
    "id": "oWBIMfqbOWvp"
   },
   "source": [
    "### Test it with test data and print the loss and accuracy values of the evaluation"
   ]
  },
  {
   "cell_type": "code",
   "execution_count": null,
   "metadata": {
    "colab": {
     "base_uri": "https://localhost:8080/"
    },
    "id": "6PbdlTcNOWvp",
    "outputId": "296c1d16-dd15-4ee1-e169-6b262380825b"
   },
   "outputs": [
    {
     "name": "stdout",
     "output_type": "stream",
     "text": [
      "Test loss: 0.6303403377532959\n",
      "Test accuracy: 0.843999981880188\n"
     ]
    }
   ],
   "source": [
    "score = model.evaluate(x_test, y_test, verbose=0)\n",
    "print('Test loss:', score[0])\n",
    "print('Test accuracy:', score[1])"
   ]
  },
  {
   "cell_type": "code",
   "execution_count": null,
   "metadata": {
    "colab": {
     "base_uri": "https://localhost:8080/"
    },
    "id": "w2lQZN24OWvp",
    "outputId": "4dd61dab-d451-4a84-fd3f-46b1d4c4468a"
   },
   "outputs": [
    {
     "name": "stdout",
     "output_type": "stream",
     "text": [
      "Prediction\n",
      " [7.8042465e-01 2.2557484e-05 7.1491048e-02 4.5688264e-02 8.5468119e-04\n",
      " 8.8869713e-02 3.6782611e-03 3.1102030e-03 4.7569424e-03 1.1036395e-03]\n",
      "\n",
      "Thresholded output\n",
      " [1 0 0 0 0 0 0 0 0 0]\n"
     ]
    }
   ],
   "source": [
    "# Print the predicted values and the corresponding digit\n",
    "\n",
    "prediction = model.predict(x_test[10:11])\n",
    "prediction = prediction[0]\n",
    "print('Prediction\\n',prediction)\n",
    "print('\\nThresholded output\\n',(prediction>0.5)*1)"
   ]
  },
  {
   "cell_type": "markdown",
   "metadata": {
    "id": "NQ0sVS97OWvq"
   },
   "source": [
    "### Create a table in MS Word and document the parameters and the observed loss and accuracy values"
   ]
  },
  {
   "cell_type": "markdown",
   "metadata": {
    "id": "GjsxTZpPOWvq"
   },
   "source": [
    "## PART-II: Explore the following and document your results \n",
    "\n",
    "- number of nodes\n",
    "- Number of Layers\n",
    "- Activation function\n",
    "- Layer-node configurations\n",
    "- optimizers\n",
    "- L1, L2 Regularization\n",
    "- Dropout Regularization\n",
    "- different input sizes of the images\n",
    "- Dataset split"
   ]
  },
  {
   "cell_type": "markdown",
   "metadata": {
    "id": "FBjZF28YOWvq"
   },
   "source": [
    "**1.Number of Nodes**\n",
    "\n",
    "Run neural network with single hidden layer, 32 nodes (with any activation function and any \n",
    "optimizer) for 10 epochs. Change number of nodes as 4, 32, 128, 512, 2056. What is the training and testing \n",
    "accuracies? Print the number of parameters of the model and training time for each of these configurations."
   ]
  },
  {
   "cell_type": "code",
   "execution_count": null,
   "metadata": {
    "colab": {
     "base_uri": "https://localhost:8080/"
    },
    "id": "2ow4nv26-AAF",
    "outputId": "292bf115-d56f-419e-80f0-72ce3259e03d"
   },
   "outputs": [
    {
     "name": "stdout",
     "output_type": "stream",
     "text": [
      "Model: \"sequential_1\"\n",
      "_________________________________________________________________\n",
      "Layer (type)                 Output Shape              Param #   \n",
      "=================================================================\n",
      "dense_4 (Dense)              (None, 32)                25120     \n",
      "_________________________________________________________________\n",
      "dense_5 (Dense)              (None, 32)                1056      \n",
      "_________________________________________________________________\n",
      "dense_6 (Dense)              (None, 10)                330       \n",
      "=================================================================\n",
      "Total params: 26,506\n",
      "Trainable params: 26,506\n",
      "Non-trainable params: 0\n",
      "_________________________________________________________________\n"
     ]
    }
   ],
   "source": [
    "first_layer_size = 32\n",
    "model1 = Sequential()\n",
    "model1.add(Dense(first_layer_size, activation='relu', input_shape=(784,)))\n",
    "model1.add(Dense(32, activation='relu'))\n",
    "model1.add(Dense(num_classes, activation='softmax'))\n",
    "\n",
    "model1.summary()"
   ]
  },
  {
   "cell_type": "code",
   "execution_count": null,
   "metadata": {
    "id": "vmHGgd2f-AAF"
   },
   "outputs": [],
   "source": [
    "model1.compile(loss='categorical_crossentropy',optimizer='adam',metrics=['accuracy'])"
   ]
  },
  {
   "cell_type": "code",
   "execution_count": null,
   "metadata": {
    "colab": {
     "base_uri": "https://localhost:8080/"
    },
    "collapsed": true,
    "id": "8gbdm2YhOWvq",
    "outputId": "cb435392-adb7-462b-d46f-dcf878dfed4a"
   },
   "outputs": [
    {
     "name": "stdout",
     "output_type": "stream",
     "text": [
      "Epoch 1/10\n",
      "375/375 - 2s - loss: 0.5511 - accuracy: 0.8459 - val_loss: 0.2582 - val_accuracy: 0.9262\n",
      "Epoch 2/10\n",
      "375/375 - 1s - loss: 0.2451 - accuracy: 0.9300 - val_loss: 0.2066 - val_accuracy: 0.9416\n",
      "Epoch 3/10\n",
      "375/375 - 1s - loss: 0.1969 - accuracy: 0.9429 - val_loss: 0.1789 - val_accuracy: 0.9498\n",
      "Epoch 4/10\n",
      "375/375 - 1s - loss: 0.1686 - accuracy: 0.9506 - val_loss: 0.1650 - val_accuracy: 0.9533\n",
      "Epoch 5/10\n",
      "375/375 - 1s - loss: 0.1476 - accuracy: 0.9566 - val_loss: 0.1512 - val_accuracy: 0.9563\n",
      "Epoch 6/10\n",
      "375/375 - 1s - loss: 0.1315 - accuracy: 0.9616 - val_loss: 0.1441 - val_accuracy: 0.9585\n",
      "Epoch 7/10\n",
      "375/375 - 1s - loss: 0.1186 - accuracy: 0.9651 - val_loss: 0.1405 - val_accuracy: 0.9594\n",
      "Epoch 8/10\n",
      "375/375 - 1s - loss: 0.1076 - accuracy: 0.9684 - val_loss: 0.1320 - val_accuracy: 0.9613\n",
      "Epoch 9/10\n",
      "375/375 - 1s - loss: 0.0988 - accuracy: 0.9704 - val_loss: 0.1380 - val_accuracy: 0.9591\n",
      "Epoch 10/10\n",
      "375/375 - 1s - loss: 0.0911 - accuracy: 0.9728 - val_loss: 0.1307 - val_accuracy: 0.9622\n"
     ]
    }
   ],
   "source": [
    "history1 = model1.fit(x_train,y_train,batch_size=batch_size,epochs=10,verbose=2,validation_split=0.2)"
   ]
  },
  {
   "cell_type": "code",
   "execution_count": null,
   "metadata": {
    "colab": {
     "base_uri": "https://localhost:8080/",
     "height": 295
    },
    "collapsed": true,
    "id": "EOY6JPN180Zj",
    "outputId": "43741638-c8b0-491e-e646-57946fdba151"
   },
   "outputs": [
    {
     "data": {
      "image/png": "[encoded data removed]",
      "text/plain": [
       "<Figure size 432x288 with 1 Axes>"
      ]
     },
     "metadata": {
      "needs_background": "light"
     },
     "output_type": "display_data"
    }
   ],
   "source": [
    "plt.plot(history1.history['accuracy'])\n",
    "plt.plot(history1.history['val_accuracy'])\n",
    "plt.title('Model Accuracy')\n",
    "plt.ylabel('accuracy')\n",
    "plt.xlabel('epoch')\n",
    "plt.legend(['Train', 'Validation'])\n",
    "plt.show()"
   ]
  },
  {
   "cell_type": "code",
   "execution_count": null,
   "metadata": {
    "colab": {
     "base_uri": "https://localhost:8080/"
    },
    "id": "0zd14qBwC7Dp",
    "outputId": "2b003555-9e38-4af4-b2e3-6a8b257a0ef9"
   },
   "outputs": [
    {
     "name": "stdout",
     "output_type": "stream",
     "text": [
      "Test loss: 0.11711745709180832\n",
      "Test accuracy: 0.9628999829292297\n"
     ]
    }
   ],
   "source": [
    "score = model1.evaluate(x_test, y_test, verbose=0)\n",
    "print('Test loss:', score[0])\n",
    "print('Test accuracy:', score[1])"
   ]
  },
  {
   "cell_type": "code",
   "execution_count": null,
   "metadata": {
    "colab": {
     "base_uri": "https://localhost:8080/"
    },
    "id": "TJUXMrDR-AAG",
    "outputId": "8a301990-f970-4077-dcc7-d63dc47d9faf"
   },
   "outputs": [
    {
     "name": "stdout",
     "output_type": "stream",
     "text": [
      "Model: \"sequential_2\"\n",
      "_________________________________________________________________\n",
      "Layer (type)                 Output Shape              Param #   \n",
      "=================================================================\n",
      "dense_7 (Dense)              (None, 2056)              1613960   \n",
      "_________________________________________________________________\n",
      "dense_8 (Dense)              (None, 1028)              2114596   \n",
      "_________________________________________________________________\n",
      "dense_9 (Dense)              (None, 512)               526848    \n",
      "_________________________________________________________________\n",
      "dense_10 (Dense)             (None, 128)               65664     \n",
      "_________________________________________________________________\n",
      "dense_11 (Dense)             (None, 10)                1290      \n",
      "=================================================================\n",
      "Total params: 4,322,358\n",
      "Trainable params: 4,322,358\n",
      "Non-trainable params: 0\n",
      "_________________________________________________________________\n"
     ]
    }
   ],
   "source": [
    "model2 = Sequential()\n",
    "model2.add(Dense(2056, activation='relu', input_shape=(784,)))\n",
    "model2.add(Dense(1028, activation='relu'))\n",
    "model2.add(Dense(512, activation='relu'))\n",
    "model2.add(Dense(128, activation='relu'))\n",
    "model2.add(Dense(num_classes, activation='softmax'))\n",
    "\n",
    "model2.summary()"
   ]
  },
  {
   "cell_type": "code",
   "execution_count": null,
   "metadata": {
    "id": "rFJkiHXX__Rt"
   },
   "outputs": [],
   "source": [
    "model2.compile(loss='categorical_crossentropy',optimizer='adam',metrics=['accuracy'])"
   ]
  },
  {
   "cell_type": "code",
   "execution_count": null,
   "metadata": {
    "colab": {
     "base_uri": "https://localhost:8080/"
    },
    "collapsed": true,
    "id": "iEFBbpivASmz",
    "outputId": "f99cf588-98b5-40a1-95cf-a59498d4e408"
   },
   "outputs": [
    {
     "name": "stdout",
     "output_type": "stream",
     "text": [
      "Epoch 1/10\n",
      "375/375 - 31s - loss: 0.2195 - accuracy: 0.9323 - val_loss: 0.1334 - val_accuracy: 0.9613\n",
      "Epoch 2/10\n",
      "375/375 - 31s - loss: 0.0908 - accuracy: 0.9730 - val_loss: 0.1179 - val_accuracy: 0.9657\n",
      "Epoch 3/10\n",
      "375/375 - 31s - loss: 0.0598 - accuracy: 0.9816 - val_loss: 0.0993 - val_accuracy: 0.9732\n",
      "Epoch 4/10\n",
      "375/375 - 31s - loss: 0.0503 - accuracy: 0.9845 - val_loss: 0.1004 - val_accuracy: 0.9720\n",
      "Epoch 5/10\n",
      "375/375 - 31s - loss: 0.0381 - accuracy: 0.9881 - val_loss: 0.1086 - val_accuracy: 0.9726\n",
      "Epoch 6/10\n",
      "375/375 - 31s - loss: 0.0362 - accuracy: 0.9887 - val_loss: 0.1051 - val_accuracy: 0.9736\n",
      "Epoch 7/10\n",
      "375/375 - 31s - loss: 0.0272 - accuracy: 0.9914 - val_loss: 0.1095 - val_accuracy: 0.9743\n",
      "Epoch 8/10\n",
      "375/375 - 31s - loss: 0.0237 - accuracy: 0.9927 - val_loss: 0.0974 - val_accuracy: 0.9793\n",
      "Epoch 9/10\n",
      "375/375 - 31s - loss: 0.0201 - accuracy: 0.9936 - val_loss: 0.1296 - val_accuracy: 0.9756\n",
      "Epoch 10/10\n",
      "375/375 - 31s - loss: 0.0177 - accuracy: 0.9950 - val_loss: 0.1138 - val_accuracy: 0.9758\n"
     ]
    }
   ],
   "source": [
    "history2 = model2.fit(x_train,y_train,batch_size=batch_size,epochs=10,verbose=2,validation_split=0.2)"
   ]
  },
  {
   "cell_type": "code",
   "execution_count": null,
   "metadata": {
    "colab": {
     "base_uri": "https://localhost:8080/",
     "height": 295
    },
    "collapsed": true,
    "id": "VvGK4QON884d",
    "outputId": "be665d71-e825-4f5a-8ea5-dd548276b08e"
   },
   "outputs": [
    {
     "data": {
      "image/png": "[encoded data removed]",
      "text/plain": [
       "<Figure size 432x288 with 1 Axes>"
      ]
     },
     "metadata": {
      "needs_background": "light"
     },
     "output_type": "display_data"
    }
   ],
   "source": [
    "plt.plot(history2.history['accuracy'])\n",
    "plt.plot(history2.history['val_accuracy'])\n",
    "plt.title('Model Accuracy')\n",
    "plt.ylabel('accuracy')\n",
    "plt.xlabel('epoch')\n",
    "plt.legend(['Train', 'Validation'])\n",
    "plt.show()"
   ]
  },
  {
   "cell_type": "code",
   "execution_count": null,
   "metadata": {
    "colab": {
     "base_uri": "https://localhost:8080/"
    },
    "id": "oOR1Rb4xDMms",
    "outputId": "88a1e8f8-0ee0-41e8-9c39-b31decd37ac0"
   },
   "outputs": [
    {
     "name": "stdout",
     "output_type": "stream",
     "text": [
      "Test loss: 0.10170241445302963\n",
      "Test accuracy: 0.9747999906539917\n"
     ]
    }
   ],
   "source": [
    "score = model2.evaluate(x_test, y_test, verbose=0)\n",
    "print('Test loss:', score[0])\n",
    "print('Test accuracy:', score[1])"
   ]
  },
  {
   "cell_type": "markdown",
   "metadata": {
    "id": "2ISYS0n7CWVg"
   },
   "source": [
    "**2.Number of Layers**\n",
    "\n",
    " Run neural network with 3 hidden layer, 32 nodes each (with any activation function and any optimizer) for 10 epochs. Change number of layers as 4, 6, 8, 16. What is the training and testing accuracies? Print\n",
    "the number of parameters of the model and training time for each of these configurations. Run the same models\n",
    "for 30 epochs. Any changes?"
   ]
  },
  {
   "cell_type": "code",
   "execution_count": null,
   "metadata": {
    "colab": {
     "base_uri": "https://localhost:8080/"
    },
    "collapsed": true,
    "id": "09OLM4SfAc08",
    "outputId": "0b444ec8-866f-4a47-a4ff-ee8e4b924292"
   },
   "outputs": [
    {
     "name": "stdout",
     "output_type": "stream",
     "text": [
      "Model: \"sequential_3\"\n",
      "_________________________________________________________________\n",
      "Layer (type)                 Output Shape              Param #   \n",
      "=================================================================\n",
      "dense_12 (Dense)             (None, 32)                25120     \n",
      "_________________________________________________________________\n",
      "dense_13 (Dense)             (None, 32)                1056      \n",
      "_________________________________________________________________\n",
      "dense_14 (Dense)             (None, 32)                1056      \n",
      "_________________________________________________________________\n",
      "dense_15 (Dense)             (None, 32)                1056      \n",
      "_________________________________________________________________\n",
      "dense_16 (Dense)             (None, 10)                330       \n",
      "=================================================================\n",
      "Total params: 28,618\n",
      "Trainable params: 28,618\n",
      "Non-trainable params: 0\n",
      "_________________________________________________________________\n"
     ]
    }
   ],
   "source": [
    "model3 = Sequential()\n",
    "model3.add(Dense(32, activation='sigmoid', input_shape=(784,)))\n",
    "model3.add(Dense(32, activation='relu'))\n",
    "model3.add(Dense(32, activation='relu'))\n",
    "model3.add(Dense(32, activation='relu'))\n",
    "model3.add(Dense(num_classes, activation='softmax'))\n",
    "\n",
    "model3.summary()"
   ]
  },
  {
   "cell_type": "code",
   "execution_count": null,
   "metadata": {
    "id": "G-OWkpW9D1qp"
   },
   "outputs": [],
   "source": [
    "model3.compile(loss='categorical_crossentropy',optimizer=RMSprop(0.001),metrics=['accuracy'])"
   ]
  },
  {
   "cell_type": "code",
   "execution_count": null,
   "metadata": {
    "colab": {
     "base_uri": "https://localhost:8080/"
    },
    "collapsed": true,
    "id": "ODGSBg0ED2RQ",
    "outputId": "13f2195b-166d-4d4b-a28e-612a14f1973d"
   },
   "outputs": [
    {
     "name": "stdout",
     "output_type": "stream",
     "text": [
      "Epoch 1/10\n",
      "375/375 - 2s - loss: 0.8310 - accuracy: 0.7579 - val_loss: 0.3688 - val_accuracy: 0.8962\n",
      "Epoch 2/10\n",
      "375/375 - 1s - loss: 0.3319 - accuracy: 0.9028 - val_loss: 0.2597 - val_accuracy: 0.9226\n",
      "Epoch 3/10\n",
      "375/375 - 1s - loss: 0.2489 - accuracy: 0.9262 - val_loss: 0.2187 - val_accuracy: 0.9353\n",
      "Epoch 4/10\n",
      "375/375 - 1s - loss: 0.2048 - accuracy: 0.9390 - val_loss: 0.1864 - val_accuracy: 0.9444\n",
      "Epoch 5/10\n",
      "375/375 - 1s - loss: 0.1750 - accuracy: 0.9478 - val_loss: 0.1835 - val_accuracy: 0.9433\n",
      "Epoch 6/10\n",
      "375/375 - 1s - loss: 0.1541 - accuracy: 0.9544 - val_loss: 0.1564 - val_accuracy: 0.9539\n",
      "Epoch 7/10\n",
      "375/375 - 1s - loss: 0.1368 - accuracy: 0.9590 - val_loss: 0.1495 - val_accuracy: 0.9542\n",
      "Epoch 8/10\n",
      "375/375 - 1s - loss: 0.1244 - accuracy: 0.9631 - val_loss: 0.1435 - val_accuracy: 0.9548\n",
      "Epoch 9/10\n",
      "375/375 - 1s - loss: 0.1143 - accuracy: 0.9655 - val_loss: 0.1382 - val_accuracy: 0.9582\n",
      "Epoch 10/10\n",
      "375/375 - 1s - loss: 0.1061 - accuracy: 0.9686 - val_loss: 0.1301 - val_accuracy: 0.9606\n"
     ]
    }
   ],
   "source": [
    "history3 = model3.fit(x_train,y_train,batch_size=batch_size,epochs=10,verbose=2,validation_split=0.2)"
   ]
  },
  {
   "cell_type": "code",
   "execution_count": null,
   "metadata": {
    "colab": {
     "base_uri": "https://localhost:8080/",
     "height": 295
    },
    "collapsed": true,
    "id": "h5IPKf9e9NLk",
    "outputId": "b53efa26-c9ac-4c29-cd9d-7bd9808e6adc"
   },
   "outputs": [
    {
     "data": {
      "image/png": "[encoded data removed]",
      "text/plain": [
       "<Figure size 432x288 with 1 Axes>"
      ]
     },
     "metadata": {
      "needs_background": "light"
     },
     "output_type": "display_data"
    }
   ],
   "source": [
    "plt.plot(history3.history['accuracy'])\n",
    "plt.plot(history3.history['val_accuracy'])\n",
    "plt.title('Model Accuracy')\n",
    "plt.ylabel('accuracy')\n",
    "plt.xlabel('epoch')\n",
    "plt.legend(['Train', 'Validation'])\n",
    "plt.show()"
   ]
  },
  {
   "cell_type": "code",
   "execution_count": null,
   "metadata": {
    "colab": {
     "base_uri": "https://localhost:8080/"
    },
    "id": "nfnwRVIAIUyQ",
    "outputId": "98a38de1-d925-424f-f47c-558d960cf6b1"
   },
   "outputs": [
    {
     "name": "stdout",
     "output_type": "stream",
     "text": [
      "Test loss: 0.12293721735477448\n",
      "Test accuracy: 0.9646000266075134\n"
     ]
    }
   ],
   "source": [
    "score = model3.evaluate(x_test, y_test, verbose=0)\n",
    "print('Test loss:', score[0])\n",
    "print('Test accuracy:', score[1])"
   ]
  },
  {
   "cell_type": "code",
   "execution_count": null,
   "metadata": {
    "colab": {
     "base_uri": "https://localhost:8080/"
    },
    "id": "IKsZh44xERNE",
    "outputId": "f41ff651-d839-4538-c000-dfc31c10a6a7",
    "scrolled": true
   },
   "outputs": [
    {
     "name": "stdout",
     "output_type": "stream",
     "text": [
      "Model: \"sequential_4\"\n",
      "_________________________________________________________________\n",
      "Layer (type)                 Output Shape              Param #   \n",
      "=================================================================\n",
      "dense_17 (Dense)             (None, 256)               200960    \n",
      "_________________________________________________________________\n",
      "dense_18 (Dense)             (None, 128)               32896     \n",
      "_________________________________________________________________\n",
      "dense_19 (Dense)             (None, 64)                8256      \n",
      "_________________________________________________________________\n",
      "dense_20 (Dense)             (None, 32)                2080      \n",
      "_________________________________________________________________\n",
      "dense_21 (Dense)             (None, 16)                528       \n",
      "_________________________________________________________________\n",
      "dense_22 (Dense)             (None, 16)                272       \n",
      "_________________________________________________________________\n",
      "dense_23 (Dense)             (None, 16)                272       \n",
      "_________________________________________________________________\n",
      "dense_24 (Dense)             (None, 8)                 136       \n",
      "_________________________________________________________________\n",
      "dense_25 (Dense)             (None, 4)                 36        \n",
      "_________________________________________________________________\n",
      "dense_26 (Dense)             (None, 10)                50        \n",
      "=================================================================\n",
      "Total params: 245,486\n",
      "Trainable params: 245,486\n",
      "Non-trainable params: 0\n",
      "_________________________________________________________________\n"
     ]
    }
   ],
   "source": [
    "model4 = Sequential()\n",
    "model4.add(Dense(256, activation='sigmoid', input_shape=(784,)))\n",
    "model4.add(Dense(128, activation='relu'))\n",
    "model4.add(Dense(64, activation='relu'))\n",
    "model4.add(Dense(32, activation='relu'))\n",
    "model4.add(Dense(16, activation='relu'))\n",
    "model4.add(Dense(16, activation='relu'))\n",
    "model4.add(Dense(16, activation='relu'))\n",
    "model4.add(Dense(8, activation='relu'))\n",
    "model4.add(Dense(4, activation='relu'))\n",
    "model4.add(Dense(num_classes, activation='softmax'))\n",
    "\n",
    "model4.summary()"
   ]
  },
  {
   "cell_type": "code",
   "execution_count": null,
   "metadata": {
    "id": "F2VNVYZrHIzK"
   },
   "outputs": [],
   "source": [
    "model4.compile(loss='categorical_crossentropy',optimizer='adam',metrics=['accuracy'])"
   ]
  },
  {
   "cell_type": "code",
   "execution_count": null,
   "metadata": {
    "colab": {
     "base_uri": "https://localhost:8080/"
    },
    "collapsed": true,
    "id": "D45Fr9mWHZfC",
    "outputId": "97df0750-36fb-4c6b-cf7e-239ad9d625b7"
   },
   "outputs": [
    {
     "name": "stdout",
     "output_type": "stream",
     "text": [
      "Epoch 1/10\n",
      "375/375 - 3s - loss: 1.4179 - accuracy: 0.4826 - val_loss: 0.7478 - val_accuracy: 0.7885\n",
      "Epoch 2/10\n",
      "375/375 - 2s - loss: 0.5744 - accuracy: 0.8466 - val_loss: 0.4086 - val_accuracy: 0.8963\n",
      "Epoch 3/10\n",
      "375/375 - 2s - loss: 0.3461 - accuracy: 0.9092 - val_loss: 0.2834 - val_accuracy: 0.9259\n",
      "Epoch 4/10\n",
      "375/375 - 3s - loss: 0.2486 - accuracy: 0.9339 - val_loss: 0.2312 - val_accuracy: 0.9418\n",
      "Epoch 5/10\n",
      "375/375 - 3s - loss: 0.1977 - accuracy: 0.9461 - val_loss: 0.2199 - val_accuracy: 0.9430\n",
      "Epoch 6/10\n",
      "375/375 - 3s - loss: 0.1628 - accuracy: 0.9552 - val_loss: 0.1848 - val_accuracy: 0.9536\n",
      "Epoch 7/10\n",
      "375/375 - 3s - loss: 0.1366 - accuracy: 0.9614 - val_loss: 0.1985 - val_accuracy: 0.9482\n",
      "Epoch 8/10\n",
      "375/375 - 3s - loss: 0.1206 - accuracy: 0.9674 - val_loss: 0.1895 - val_accuracy: 0.9536\n",
      "Epoch 9/10\n",
      "375/375 - 2s - loss: 0.1012 - accuracy: 0.9711 - val_loss: 0.1499 - val_accuracy: 0.9643\n",
      "Epoch 10/10\n",
      "375/375 - 2s - loss: 0.0904 - accuracy: 0.9745 - val_loss: 0.1588 - val_accuracy: 0.9605\n"
     ]
    }
   ],
   "source": [
    "history4 = model4.fit(x_train,y_train,batch_size=batch_size,epochs=10,verbose=2,validation_split=0.2)"
   ]
  },
  {
   "cell_type": "code",
   "execution_count": null,
   "metadata": {
    "colab": {
     "base_uri": "https://localhost:8080/",
     "height": 295
    },
    "id": "CGAVMyUj9Zri",
    "outputId": "0435d791-81d3-4922-806d-8b2dc3a3e9dc"
   },
   "outputs": [
    {
     "data": {
      "image/png": "[encoded data removed]",
      "text/plain": [
       "<Figure size 432x288 with 1 Axes>"
      ]
     },
     "metadata": {
      "needs_background": "light"
     },
     "output_type": "display_data"
    }
   ],
   "source": [
    "plt.plot(history4.history['accuracy'])\n",
    "plt.plot(history4.history['val_accuracy'])\n",
    "plt.title('Model Accuracy')\n",
    "plt.ylabel('accuracy')\n",
    "plt.xlabel('epoch')\n",
    "plt.legend(['Train', 'Validation'])\n",
    "plt.show()"
   ]
  },
  {
   "cell_type": "code",
   "execution_count": null,
   "metadata": {
    "colab": {
     "base_uri": "https://localhost:8080/"
    },
    "id": "zxRVoRY8H7E8",
    "outputId": "926c4cde-cb87-4b2a-8456-b33e73311b61"
   },
   "outputs": [
    {
     "name": "stdout",
     "output_type": "stream",
     "text": [
      "Test loss: 0.16909344494342804\n",
      "Test accuracy: 0.9591000080108643\n"
     ]
    }
   ],
   "source": [
    "score = model4.evaluate(x_test, y_test, verbose=0)\n",
    "print('Test loss:', score[0])\n",
    "print('Test accuracy:', score[1])"
   ]
  },
  {
   "cell_type": "markdown",
   "metadata": {
    "id": "FlENH-mNJecr"
   },
   "source": [
    "**3. Activation function**\n",
    "\n",
    "Run neural network with 3 hidden layer, 32 nodes each (with any optimizer) with sigmoid activation function for all layers, for 10 epochs. Change only the activation function as tanh, relu (for all 3 layers)\n",
    "etc. What is the training and testing accuracies? Run the same models for 30 epochs. Any changes?"
   ]
  },
  {
   "cell_type": "code",
   "execution_count": null,
   "metadata": {
    "colab": {
     "base_uri": "https://localhost:8080/"
    },
    "id": "KN0OIXWWIjti",
    "outputId": "4919feeb-7c71-458a-a303-be6b7ea10e69",
    "scrolled": true
   },
   "outputs": [
    {
     "name": "stdout",
     "output_type": "stream",
     "text": [
      "Model: \"sequential_5\"\n",
      "_________________________________________________________________\n",
      "Layer (type)                 Output Shape              Param #   \n",
      "=================================================================\n",
      "dense_27 (Dense)             (None, 32)                25120     \n",
      "_________________________________________________________________\n",
      "dense_28 (Dense)             (None, 32)                1056      \n",
      "_________________________________________________________________\n",
      "dense_29 (Dense)             (None, 32)                1056      \n",
      "_________________________________________________________________\n",
      "dense_30 (Dense)             (None, 32)                1056      \n",
      "_________________________________________________________________\n",
      "dense_31 (Dense)             (None, 10)                330       \n",
      "=================================================================\n",
      "Total params: 28,618\n",
      "Trainable params: 28,618\n",
      "Non-trainable params: 0\n",
      "_________________________________________________________________\n"
     ]
    }
   ],
   "source": [
    "model5 = Sequential()\n",
    "model5.add(Dense(32, activation='sigmoid', input_shape=(784,)))\n",
    "model5.add(Dense(32, activation='sigmoid'))\n",
    "model5.add(Dense(32, activation='sigmoid'))\n",
    "model5.add(Dense(32, activation='sigmoid'))\n",
    "model5.add(Dense(num_classes, activation='softmax'))\n",
    "\n",
    "model5.summary()"
   ]
  },
  {
   "cell_type": "code",
   "execution_count": null,
   "metadata": {
    "id": "CatkAu71Ju8f"
   },
   "outputs": [],
   "source": [
    "model5.compile(loss='categorical_crossentropy',optimizer='adam',metrics=['accuracy'])"
   ]
  },
  {
   "cell_type": "code",
   "execution_count": null,
   "metadata": {
    "colab": {
     "base_uri": "https://localhost:8080/"
    },
    "collapsed": true,
    "id": "M6lgPSv5J979",
    "outputId": "145c3024-2618-4b5f-b268-8206e004f51d"
   },
   "outputs": [
    {
     "name": "stdout",
     "output_type": "stream",
     "text": [
      "Epoch 1/10\n",
      "375/375 - 2s - loss: 1.9045 - accuracy: 0.3386 - val_loss: 1.2993 - val_accuracy: 0.6083\n",
      "Epoch 2/10\n",
      "375/375 - 1s - loss: 1.0334 - accuracy: 0.7376 - val_loss: 0.8125 - val_accuracy: 0.8281\n",
      "Epoch 3/10\n",
      "375/375 - 1s - loss: 0.6907 - accuracy: 0.8538 - val_loss: 0.5431 - val_accuracy: 0.8856\n",
      "Epoch 4/10\n",
      "375/375 - 1s - loss: 0.4781 - accuracy: 0.8955 - val_loss: 0.3979 - val_accuracy: 0.9099\n",
      "Epoch 5/10\n",
      "375/375 - 1s - loss: 0.3689 - accuracy: 0.9147 - val_loss: 0.3314 - val_accuracy: 0.9195\n",
      "Epoch 6/10\n",
      "375/375 - 1s - loss: 0.3104 - accuracy: 0.9254 - val_loss: 0.2969 - val_accuracy: 0.9247\n",
      "Epoch 7/10\n",
      "375/375 - 1s - loss: 0.2736 - accuracy: 0.9319 - val_loss: 0.2705 - val_accuracy: 0.9302\n",
      "Epoch 8/10\n",
      "375/375 - 1s - loss: 0.2475 - accuracy: 0.9373 - val_loss: 0.2584 - val_accuracy: 0.9322\n",
      "Epoch 9/10\n",
      "375/375 - 1s - loss: 0.2282 - accuracy: 0.9417 - val_loss: 0.2446 - val_accuracy: 0.9345\n",
      "Epoch 10/10\n",
      "375/375 - 1s - loss: 0.2110 - accuracy: 0.9455 - val_loss: 0.2331 - val_accuracy: 0.9370\n"
     ]
    }
   ],
   "source": [
    "history5 = model5.fit(x_train,y_train,batch_size=batch_size,epochs=10,verbose=2,validation_split=0.2)"
   ]
  },
  {
   "cell_type": "code",
   "execution_count": null,
   "metadata": {
    "colab": {
     "base_uri": "https://localhost:8080/",
     "height": 295
    },
    "collapsed": true,
    "id": "NG5JAK7v9shj",
    "outputId": "86618699-1484-4ce5-8edf-107dea11aa45"
   },
   "outputs": [
    {
     "data": {
      "image/png": "[encoded data removed]",
      "text/plain": [
       "<Figure size 432x288 with 1 Axes>"
      ]
     },
     "metadata": {
      "needs_background": "light"
     },
     "output_type": "display_data"
    }
   ],
   "source": [
    "plt.plot(history5.history['accuracy'])\n",
    "plt.plot(history5.history['val_accuracy'])\n",
    "plt.title('Model Accuracy')\n",
    "plt.ylabel('accuracy')\n",
    "plt.xlabel('epoch')\n",
    "plt.legend(['Train', 'Validation'])\n",
    "plt.show()"
   ]
  },
  {
   "cell_type": "code",
   "execution_count": null,
   "metadata": {
    "colab": {
     "base_uri": "https://localhost:8080/"
    },
    "id": "wz3_0qpnKGID",
    "outputId": "dbcd97a6-df7b-4f62-9ee2-9fab6220ccf6"
   },
   "outputs": [
    {
     "name": "stdout",
     "output_type": "stream",
     "text": [
      "Test loss: 0.2409224659204483\n",
      "Test accuracy: 0.9363999962806702\n"
     ]
    }
   ],
   "source": [
    "score = model5.evaluate(x_test, y_test, verbose=0)\n",
    "print('Test loss:', score[0])\n",
    "print('Test accuracy:', score[1])"
   ]
  },
  {
   "cell_type": "code",
   "execution_count": null,
   "metadata": {
    "colab": {
     "base_uri": "https://localhost:8080/"
    },
    "id": "2EtlHzvVKULz",
    "outputId": "1294cc7a-8189-42c3-8f1f-68400d713e7c"
   },
   "outputs": [
    {
     "name": "stdout",
     "output_type": "stream",
     "text": [
      "Model: \"sequential_6\"\n",
      "_________________________________________________________________\n",
      "Layer (type)                 Output Shape              Param #   \n",
      "=================================================================\n",
      "dense_32 (Dense)             (None, 32)                25120     \n",
      "_________________________________________________________________\n",
      "dense_33 (Dense)             (None, 32)                1056      \n",
      "_________________________________________________________________\n",
      "dense_34 (Dense)             (None, 32)                1056      \n",
      "_________________________________________________________________\n",
      "dense_35 (Dense)             (None, 32)                1056      \n",
      "_________________________________________________________________\n",
      "dense_36 (Dense)             (None, 10)                330       \n",
      "=================================================================\n",
      "Total params: 28,618\n",
      "Trainable params: 28,618\n",
      "Non-trainable params: 0\n",
      "_________________________________________________________________\n"
     ]
    }
   ],
   "source": [
    "model6 = Sequential()\n",
    "model6.add(Dense(32, activation='tanh', input_shape=(784,)))\n",
    "model6.add(Dense(32, activation='tanh'))\n",
    "model6.add(Dense(32, activation='tanh'))\n",
    "model6.add(Dense(32, activation='tanh'))\n",
    "model6.add(Dense(num_classes, activation='softmax'))\n",
    "\n",
    "model6.summary()"
   ]
  },
  {
   "cell_type": "code",
   "execution_count": null,
   "metadata": {
    "id": "zgyLGP4gKmOT"
   },
   "outputs": [],
   "source": [
    "model6.compile(loss='categorical_crossentropy',optimizer='adam',metrics=['accuracy'])"
   ]
  },
  {
   "cell_type": "code",
   "execution_count": null,
   "metadata": {
    "colab": {
     "base_uri": "https://localhost:8080/"
    },
    "collapsed": true,
    "id": "A8kIErpgK7wb",
    "outputId": "cf9ade4d-96ec-4ad4-b86d-f797e5f033d1"
   },
   "outputs": [
    {
     "name": "stdout",
     "output_type": "stream",
     "text": [
      "Epoch 1/10\n",
      "375/375 - 2s - loss: 0.5546 - accuracy: 0.8571 - val_loss: 0.2589 - val_accuracy: 0.9262\n",
      "Epoch 2/10\n",
      "375/375 - 1s - loss: 0.2199 - accuracy: 0.9366 - val_loss: 0.1896 - val_accuracy: 0.9440\n",
      "Epoch 3/10\n",
      "375/375 - 1s - loss: 0.1626 - accuracy: 0.9522 - val_loss: 0.1538 - val_accuracy: 0.9541\n",
      "Epoch 4/10\n",
      "375/375 - 1s - loss: 0.1325 - accuracy: 0.9615 - val_loss: 0.1397 - val_accuracy: 0.9591\n",
      "Epoch 5/10\n",
      "375/375 - 1s - loss: 0.1113 - accuracy: 0.9677 - val_loss: 0.1342 - val_accuracy: 0.9603\n",
      "Epoch 6/10\n",
      "375/375 - 1s - loss: 0.0974 - accuracy: 0.9719 - val_loss: 0.1328 - val_accuracy: 0.9607\n",
      "Epoch 7/10\n",
      "375/375 - 1s - loss: 0.0859 - accuracy: 0.9746 - val_loss: 0.1289 - val_accuracy: 0.9617\n",
      "Epoch 8/10\n",
      "375/375 - 1s - loss: 0.0757 - accuracy: 0.9778 - val_loss: 0.1298 - val_accuracy: 0.9638\n",
      "Epoch 9/10\n",
      "375/375 - 1s - loss: 0.0703 - accuracy: 0.9794 - val_loss: 0.1247 - val_accuracy: 0.9647\n",
      "Epoch 10/10\n",
      "375/375 - 1s - loss: 0.0619 - accuracy: 0.9816 - val_loss: 0.1357 - val_accuracy: 0.9628\n"
     ]
    }
   ],
   "source": [
    "history6 = model6.fit(x_train,y_train,batch_size=batch_size,epochs=10,verbose=2,validation_split=0.2)"
   ]
  },
  {
   "cell_type": "code",
   "execution_count": null,
   "metadata": {
    "colab": {
     "base_uri": "https://localhost:8080/",
     "height": 295
    },
    "collapsed": true,
    "id": "mjR0i3vM90xB",
    "outputId": "bb24f695-063e-4951-9d29-4ec25e123a1a"
   },
   "outputs": [
    {
     "data": {
      "image/png": "[encoded data removed]",
      "text/plain": [
       "<Figure size 432x288 with 1 Axes>"
      ]
     },
     "metadata": {
      "needs_background": "light"
     },
     "output_type": "display_data"
    }
   ],
   "source": [
    "plt.plot(history6.history['accuracy'])\n",
    "plt.plot(history6.history['val_accuracy'])\n",
    "plt.title('Model Accuracy')\n",
    "plt.ylabel('accuracy')\n",
    "plt.xlabel('epoch')\n",
    "plt.legend(['Train', 'Validation'])\n",
    "plt.show()"
   ]
  },
  {
   "cell_type": "code",
   "execution_count": null,
   "metadata": {
    "colab": {
     "base_uri": "https://localhost:8080/"
    },
    "id": "p3SJSrcQLDJT",
    "outputId": "1374989b-dfa4-4231-deb7-c36126057204"
   },
   "outputs": [
    {
     "name": "stdout",
     "output_type": "stream",
     "text": [
      "Test loss: 0.12826962769031525\n",
      "Test accuracy: 0.9639000296592712\n"
     ]
    }
   ],
   "source": [
    "score = model6.evaluate(x_test, y_test, verbose=0)\n",
    "print('Test loss:', score[0])\n",
    "print('Test accuracy:', score[1])"
   ]
  },
  {
   "cell_type": "code",
   "execution_count": null,
   "metadata": {
    "colab": {
     "base_uri": "https://localhost:8080/"
    },
    "id": "xyDeJ2-BLN4z",
    "outputId": "584e8466-b99a-4a34-dc2b-12828a11af9a"
   },
   "outputs": [
    {
     "name": "stdout",
     "output_type": "stream",
     "text": [
      "Model: \"sequential_7\"\n",
      "_________________________________________________________________\n",
      "Layer (type)                 Output Shape              Param #   \n",
      "=================================================================\n",
      "dense_37 (Dense)             (None, 32)                25120     \n",
      "_________________________________________________________________\n",
      "dense_38 (Dense)             (None, 32)                1056      \n",
      "_________________________________________________________________\n",
      "dense_39 (Dense)             (None, 32)                1056      \n",
      "_________________________________________________________________\n",
      "dense_40 (Dense)             (None, 32)                1056      \n",
      "_________________________________________________________________\n",
      "dense_41 (Dense)             (None, 10)                330       \n",
      "=================================================================\n",
      "Total params: 28,618\n",
      "Trainable params: 28,618\n",
      "Non-trainable params: 0\n",
      "_________________________________________________________________\n"
     ]
    }
   ],
   "source": [
    "#relu activation\n",
    "\n",
    "model7 = Sequential()\n",
    "model7.add(Dense(32, activation='relu', input_shape=(784,)))\n",
    "model7.add(Dense(32, activation='relu'))\n",
    "model7.add(Dense(32, activation='relu'))\n",
    "model7.add(Dense(32, activation='relu'))\n",
    "model7.add(Dense(num_classes, activation='softmax'))\n",
    "\n",
    "model7.summary()"
   ]
  },
  {
   "cell_type": "code",
   "execution_count": null,
   "metadata": {
    "id": "k48tfiBzLWKz"
   },
   "outputs": [],
   "source": [
    "model7.compile(loss='categorical_crossentropy',optimizer='adam',metrics=['accuracy'])"
   ]
  },
  {
   "cell_type": "code",
   "execution_count": null,
   "metadata": {
    "colab": {
     "base_uri": "https://localhost:8080/"
    },
    "collapsed": true,
    "id": "szbF_mu0LdBj",
    "outputId": "defee552-6c7b-426b-d84b-c99ab48c0a70"
   },
   "outputs": [
    {
     "name": "stdout",
     "output_type": "stream",
     "text": [
      "Epoch 1/10\n",
      "375/375 - 2s - loss: 0.5822 - accuracy: 0.8226 - val_loss: 0.2446 - val_accuracy: 0.9312\n",
      "Epoch 2/10\n",
      "375/375 - 1s - loss: 0.2261 - accuracy: 0.9335 - val_loss: 0.1960 - val_accuracy: 0.9438\n",
      "Epoch 3/10\n",
      "375/375 - 1s - loss: 0.1792 - accuracy: 0.9468 - val_loss: 0.1803 - val_accuracy: 0.9469\n",
      "Epoch 4/10\n",
      "375/375 - 1s - loss: 0.1532 - accuracy: 0.9534 - val_loss: 0.1636 - val_accuracy: 0.9543\n",
      "Epoch 5/10\n",
      "375/375 - 1s - loss: 0.1361 - accuracy: 0.9591 - val_loss: 0.1595 - val_accuracy: 0.9532\n",
      "Epoch 6/10\n",
      "375/375 - 1s - loss: 0.1236 - accuracy: 0.9629 - val_loss: 0.1663 - val_accuracy: 0.9553\n",
      "Epoch 7/10\n",
      "375/375 - 1s - loss: 0.1123 - accuracy: 0.9658 - val_loss: 0.1388 - val_accuracy: 0.9597\n",
      "Epoch 8/10\n",
      "375/375 - 1s - loss: 0.1026 - accuracy: 0.9694 - val_loss: 0.1534 - val_accuracy: 0.9569\n",
      "Epoch 9/10\n",
      "375/375 - 1s - loss: 0.0950 - accuracy: 0.9713 - val_loss: 0.1335 - val_accuracy: 0.9609\n",
      "Epoch 10/10\n",
      "375/375 - 1s - loss: 0.0887 - accuracy: 0.9722 - val_loss: 0.1443 - val_accuracy: 0.9567\n"
     ]
    }
   ],
   "source": [
    "history7 = model7.fit(x_train,y_train,batch_size=batch_size,epochs=10,verbose=2,validation_split=0.2)"
   ]
  },
  {
   "cell_type": "code",
   "execution_count": null,
   "metadata": {
    "colab": {
     "base_uri": "https://localhost:8080/",
     "height": 295
    },
    "collapsed": true,
    "id": "zMiYsteB-FuH",
    "outputId": "5f8a16ae-6115-470b-875d-ddb27674a686"
   },
   "outputs": [
    {
     "data": {
      "image/png": "[encoded data removed]",
      "text/plain": [
       "<Figure size 432x288 with 1 Axes>"
      ]
     },
     "metadata": {
      "needs_background": "light"
     },
     "output_type": "display_data"
    }
   ],
   "source": [
    "plt.plot(history7.history['accuracy'])\n",
    "plt.plot(history7.history['val_accuracy'])\n",
    "plt.title('Model Accuracy')\n",
    "plt.ylabel('accuracy')\n",
    "plt.xlabel('epoch')\n",
    "plt.legend(['Train', 'Validation'])\n",
    "plt.show()"
   ]
  },
  {
   "cell_type": "code",
   "execution_count": null,
   "metadata": {
    "colab": {
     "base_uri": "https://localhost:8080/"
    },
    "id": "MBegN2g6LgbD",
    "outputId": "8c7ebba9-207a-495d-d9dc-83dd94b22cca"
   },
   "outputs": [
    {
     "name": "stdout",
     "output_type": "stream",
     "text": [
      "Test loss: 0.1376263052225113\n",
      "Test accuracy: 0.9589999914169312\n"
     ]
    }
   ],
   "source": [
    "score = model7.evaluate(x_test, y_test, verbose=0)\n",
    "print('Test loss:', score[0])\n",
    "print('Test accuracy:', score[1])"
   ]
  },
  {
   "cell_type": "code",
   "execution_count": null,
   "metadata": {
    "colab": {
     "base_uri": "https://localhost:8080/"
    },
    "collapsed": true,
    "id": "z7u9E-H_LneS",
    "outputId": "8b10bb1b-ba73-4be6-b417-bdcecce0fef7"
   },
   "outputs": [
    {
     "name": "stdout",
     "output_type": "stream",
     "text": [
      "Epoch 1/30\n",
      "375/375 - 1s - loss: 0.0799 - accuracy: 0.9753 - val_loss: 0.1363 - val_accuracy: 0.9603\n",
      "Epoch 2/30\n",
      "375/375 - 1s - loss: 0.0762 - accuracy: 0.9767 - val_loss: 0.1369 - val_accuracy: 0.9629\n",
      "Epoch 3/30\n",
      "375/375 - 1s - loss: 0.0713 - accuracy: 0.9774 - val_loss: 0.1419 - val_accuracy: 0.9626\n",
      "Epoch 4/30\n",
      "375/375 - 1s - loss: 0.0657 - accuracy: 0.9794 - val_loss: 0.1317 - val_accuracy: 0.9629\n",
      "Epoch 5/30\n",
      "375/375 - 1s - loss: 0.0626 - accuracy: 0.9801 - val_loss: 0.1410 - val_accuracy: 0.9628\n",
      "Epoch 6/30\n",
      "375/375 - 1s - loss: 0.0586 - accuracy: 0.9814 - val_loss: 0.1392 - val_accuracy: 0.9637\n",
      "Epoch 7/30\n",
      "375/375 - 1s - loss: 0.0545 - accuracy: 0.9829 - val_loss: 0.1359 - val_accuracy: 0.9629\n",
      "Epoch 8/30\n",
      "375/375 - 1s - loss: 0.0513 - accuracy: 0.9836 - val_loss: 0.1570 - val_accuracy: 0.9590\n",
      "Epoch 9/30\n",
      "375/375 - 1s - loss: 0.0499 - accuracy: 0.9843 - val_loss: 0.1396 - val_accuracy: 0.9629\n",
      "Epoch 10/30\n",
      "375/375 - 1s - loss: 0.0444 - accuracy: 0.9854 - val_loss: 0.1446 - val_accuracy: 0.9653\n",
      "Epoch 11/30\n",
      "375/375 - 1s - loss: 0.0436 - accuracy: 0.9862 - val_loss: 0.1526 - val_accuracy: 0.9615\n",
      "Epoch 12/30\n",
      "375/375 - 1s - loss: 0.0395 - accuracy: 0.9869 - val_loss: 0.1503 - val_accuracy: 0.9620\n",
      "Epoch 13/30\n",
      "375/375 - 1s - loss: 0.0414 - accuracy: 0.9866 - val_loss: 0.1501 - val_accuracy: 0.9653\n",
      "Epoch 14/30\n",
      "375/375 - 1s - loss: 0.0346 - accuracy: 0.9894 - val_loss: 0.1516 - val_accuracy: 0.9648\n",
      "Epoch 15/30\n",
      "375/375 - 1s - loss: 0.0304 - accuracy: 0.9905 - val_loss: 0.1561 - val_accuracy: 0.9640\n",
      "Epoch 16/30\n",
      "375/375 - 1s - loss: 0.0338 - accuracy: 0.9890 - val_loss: 0.1560 - val_accuracy: 0.9657\n",
      "Epoch 17/30\n",
      "375/375 - 1s - loss: 0.0298 - accuracy: 0.9900 - val_loss: 0.1617 - val_accuracy: 0.9632\n",
      "Epoch 18/30\n",
      "375/375 - 1s - loss: 0.0313 - accuracy: 0.9904 - val_loss: 0.1889 - val_accuracy: 0.9592\n",
      "Epoch 19/30\n",
      "375/375 - 1s - loss: 0.0269 - accuracy: 0.9912 - val_loss: 0.1941 - val_accuracy: 0.9599\n",
      "Epoch 20/30\n",
      "375/375 - 1s - loss: 0.0264 - accuracy: 0.9912 - val_loss: 0.1639 - val_accuracy: 0.9653\n",
      "Epoch 21/30\n",
      "375/375 - 1s - loss: 0.0250 - accuracy: 0.9915 - val_loss: 0.1739 - val_accuracy: 0.9633\n",
      "Epoch 22/30\n",
      "375/375 - 1s - loss: 0.0215 - accuracy: 0.9927 - val_loss: 0.1733 - val_accuracy: 0.9641\n",
      "Epoch 23/30\n",
      "375/375 - 1s - loss: 0.0217 - accuracy: 0.9930 - val_loss: 0.1977 - val_accuracy: 0.9627\n",
      "Epoch 24/30\n",
      "375/375 - 1s - loss: 0.0213 - accuracy: 0.9928 - val_loss: 0.1901 - val_accuracy: 0.9625\n",
      "Epoch 25/30\n",
      "375/375 - 1s - loss: 0.0221 - accuracy: 0.9926 - val_loss: 0.2044 - val_accuracy: 0.9619\n",
      "Epoch 26/30\n",
      "375/375 - 1s - loss: 0.0212 - accuracy: 0.9931 - val_loss: 0.1939 - val_accuracy: 0.9618\n",
      "Epoch 27/30\n",
      "375/375 - 1s - loss: 0.0192 - accuracy: 0.9934 - val_loss: 0.2076 - val_accuracy: 0.9613\n",
      "Epoch 28/30\n",
      "375/375 - 1s - loss: 0.0193 - accuracy: 0.9937 - val_loss: 0.1979 - val_accuracy: 0.9656\n",
      "Epoch 29/30\n",
      "375/375 - 1s - loss: 0.0186 - accuracy: 0.9940 - val_loss: 0.1848 - val_accuracy: 0.9666\n",
      "Epoch 30/30\n",
      "375/375 - 1s - loss: 0.0128 - accuracy: 0.9959 - val_loss: 0.2072 - val_accuracy: 0.9632\n"
     ]
    }
   ],
   "source": [
    "#fit with epochs = 30\n",
    "\n",
    "history7_1=model7.fit(x_train,y_train,batch_size=batch_size,epochs=30,verbose=2,validation_split=0.2 )"
   ]
  },
  {
   "cell_type": "code",
   "execution_count": null,
   "metadata": {
    "colab": {
     "base_uri": "https://localhost:8080/",
     "height": 295
    },
    "collapsed": true,
    "id": "K9hz8lj8_dWg",
    "outputId": "019f51f1-456b-4147-f1a5-230fc23160bb"
   },
   "outputs": [
    {
     "data": {
      "image/png": "[encoded data removed]",
      "text/plain": [
       "<Figure size 432x288 with 1 Axes>"
      ]
     },
     "metadata": {
      "needs_background": "light"
     },
     "output_type": "display_data"
    }
   ],
   "source": [
    "plt.plot(history7_1.history['accuracy'])\n",
    "plt.plot(history7_1.history['val_accuracy'])\n",
    "plt.title('Model Accuracy')\n",
    "plt.ylabel('accuracy')\n",
    "plt.xlabel('epoch')\n",
    "plt.legend(['Train', 'Validation'])\n",
    "plt.show()"
   ]
  },
  {
   "cell_type": "code",
   "execution_count": null,
   "metadata": {
    "colab": {
     "base_uri": "https://localhost:8080/"
    },
    "id": "Rel0PCLI-bMh",
    "outputId": "22c1db67-17e0-4d9b-b19b-b0ead68001af"
   },
   "outputs": [
    {
     "name": "stdout",
     "output_type": "stream",
     "text": [
      "Test loss: 0.18982166051864624\n",
      "Test accuracy: 0.9638000130653381\n"
     ]
    }
   ],
   "source": [
    "score = model7.evaluate(x_test, y_test, verbose=0)\n",
    "print('Test loss:', score[0])\n",
    "print('Test accuracy:', score[1])"
   ]
  },
  {
   "cell_type": "markdown",
   "metadata": {
    "id": "KIeES2tNMGDu"
   },
   "source": [
    "**4. Activation function combinations**\n",
    "\n",
    "For the three layers use different combinations of activation functions such as\n",
    "layer 1: sigmoid, layer 2: relu, layer 3: tanh. There can be lot of combinations like this. Which one is the best for 3\n",
    "layer each with 32 node architecture?"
   ]
  },
  {
   "cell_type": "code",
   "execution_count": null,
   "metadata": {
    "colab": {
     "base_uri": "https://localhost:8080/"
    },
    "id": "-jnwjMS6L3IM",
    "outputId": "b785dbec-d48f-407b-a0bf-09bf099bade3"
   },
   "outputs": [
    {
     "name": "stdout",
     "output_type": "stream",
     "text": [
      "Model: \"sequential_8\"\n",
      "_________________________________________________________________\n",
      "Layer (type)                 Output Shape              Param #   \n",
      "=================================================================\n",
      "dense_42 (Dense)             (None, 32)                25120     \n",
      "_________________________________________________________________\n",
      "dense_43 (Dense)             (None, 32)                1056      \n",
      "_________________________________________________________________\n",
      "dense_44 (Dense)             (None, 32)                1056      \n",
      "_________________________________________________________________\n",
      "dense_45 (Dense)             (None, 32)                1056      \n",
      "_________________________________________________________________\n",
      "dense_46 (Dense)             (None, 10)                330       \n",
      "=================================================================\n",
      "Total params: 28,618\n",
      "Trainable params: 28,618\n",
      "Non-trainable params: 0\n",
      "_________________________________________________________________\n"
     ]
    }
   ],
   "source": [
    "model8 = Sequential()\n",
    "model8.add(Dense(32, activation='sigmoid', input_shape=(784,)))\n",
    "model8.add(Dense(32, activation='relu'))\n",
    "model8.add(Dense(32, activation='tanh'))\n",
    "model8.add(Dense(32, activation='sigmoid'))\n",
    "model8.add(Dense(num_classes, activation='softmax'))\n",
    "\n",
    "model8.summary()"
   ]
  },
  {
   "cell_type": "code",
   "execution_count": null,
   "metadata": {
    "id": "Ba22yAG4MbCp"
   },
   "outputs": [],
   "source": [
    "model8.compile(loss='categorical_crossentropy',optimizer=RMSprop(0.001),metrics=['accuracy'])"
   ]
  },
  {
   "cell_type": "code",
   "execution_count": null,
   "metadata": {
    "colab": {
     "base_uri": "https://localhost:8080/"
    },
    "collapsed": true,
    "id": "D3yNDw2yMeWC",
    "outputId": "c7ceb177-3fd1-46d6-da50-34c3633e2653"
   },
   "outputs": [
    {
     "name": "stdout",
     "output_type": "stream",
     "text": [
      "Epoch 1/10\n",
      "375/375 - 2s - loss: 1.3062 - accuracy: 0.6275 - val_loss: 0.6491 - val_accuracy: 0.8478\n",
      "Epoch 2/10\n",
      "375/375 - 1s - loss: 0.4462 - accuracy: 0.8915 - val_loss: 0.3161 - val_accuracy: 0.9139\n",
      "Epoch 3/10\n",
      "375/375 - 1s - loss: 0.2834 - accuracy: 0.9215 - val_loss: 0.2522 - val_accuracy: 0.9310\n",
      "Epoch 4/10\n",
      "375/375 - 1s - loss: 0.2267 - accuracy: 0.9366 - val_loss: 0.2049 - val_accuracy: 0.9434\n",
      "Epoch 5/10\n",
      "375/375 - 1s - loss: 0.1915 - accuracy: 0.9460 - val_loss: 0.1885 - val_accuracy: 0.9480\n",
      "Epoch 6/10\n",
      "375/375 - 1s - loss: 0.1679 - accuracy: 0.9525 - val_loss: 0.1699 - val_accuracy: 0.9527\n",
      "Epoch 7/10\n",
      "375/375 - 1s - loss: 0.1498 - accuracy: 0.9576 - val_loss: 0.1662 - val_accuracy: 0.9538\n",
      "Epoch 8/10\n",
      "375/375 - 1s - loss: 0.1362 - accuracy: 0.9614 - val_loss: 0.1561 - val_accuracy: 0.9553\n",
      "Epoch 9/10\n",
      "375/375 - 1s - loss: 0.1228 - accuracy: 0.9656 - val_loss: 0.1565 - val_accuracy: 0.9547\n",
      "Epoch 10/10\n",
      "375/375 - 1s - loss: 0.1143 - accuracy: 0.9679 - val_loss: 0.1457 - val_accuracy: 0.9591\n"
     ]
    }
   ],
   "source": [
    "history8 = model8.fit(x_train,y_train,batch_size=batch_size,epochs=10,verbose=2,validation_split=0.2)"
   ]
  },
  {
   "cell_type": "code",
   "execution_count": null,
   "metadata": {
    "colab": {
     "base_uri": "https://localhost:8080/",
     "height": 295
    },
    "id": "4n2x2k2j_rbu",
    "outputId": "45e2ca2e-ed9b-4c80-8229-8ab83793a335"
   },
   "outputs": [
    {
     "data": {
      "image/png": "[encoded data removed]",
      "text/plain": [
       "<Figure size 432x288 with 1 Axes>"
      ]
     },
     "metadata": {
      "needs_background": "light"
     },
     "output_type": "display_data"
    }
   ],
   "source": [
    "plt.plot(history8.history['accuracy'])\n",
    "plt.plot(history8.history['val_accuracy'])\n",
    "plt.title('Model Accuracy')\n",
    "plt.ylabel('accuracy')\n",
    "plt.xlabel('epoch')\n",
    "plt.legend(['Train', 'Validation'])\n",
    "plt.show()"
   ]
  },
  {
   "cell_type": "code",
   "execution_count": null,
   "metadata": {
    "colab": {
     "base_uri": "https://localhost:8080/"
    },
    "id": "r1JGbEBIMrMb",
    "outputId": "6c20b6df-4ffb-4cf6-fe7b-e1f5eb11e261"
   },
   "outputs": [
    {
     "name": "stdout",
     "output_type": "stream",
     "text": [
      "Test loss: 0.1480896919965744\n",
      "Test accuracy: 0.95660001039505\n"
     ]
    }
   ],
   "source": [
    "score = model8.evaluate(x_test, y_test, verbose=0)\n",
    "print('Test loss:', score[0])\n",
    "print('Test accuracy:', score[1])"
   ]
  },
  {
   "cell_type": "markdown",
   "metadata": {
    "id": "Ex9hJ6oCNam7"
   },
   "source": [
    "**5.Layer-node combinations**\n",
    "\n",
    " Run different models mimicking the following structures. Which one gives best\n",
    "accuracy? Print the number of parameters of the model and training time for each of these configurations."
   ]
  },
  {
   "cell_type": "code",
   "execution_count": null,
   "metadata": {
    "id": "ejXLbEZkNJG7"
   },
   "outputs": [],
   "source": [
    "model9 = Sequential()\n",
    "model9.add(Dense(512, activation='sigmoid', input_shape=(784,)))\n",
    "model9.add(Dense(256, activation='relu'))\n",
    "model9.add(Dense(128, activation='relu'))\n",
    "model9.add(Dense(64, activation='relu'))\n",
    "model9.add(Dense(32, activation='relu'))\n",
    "model9.add(Dense(16, activation='relu'))\n",
    "model9.add(Dense(num_classes, activation='softmax'))"
   ]
  },
  {
   "cell_type": "code",
   "execution_count": null,
   "metadata": {
    "id": "bXHVgDAgN0Ud"
   },
   "outputs": [],
   "source": [
    "model9.compile(loss='categorical_crossentropy',optimizer='adam',metrics=['accuracy'])"
   ]
  },
  {
   "cell_type": "code",
   "execution_count": null,
   "metadata": {
    "colab": {
     "base_uri": "https://localhost:8080/"
    },
    "collapsed": true,
    "id": "XE_U3FetN5-z",
    "outputId": "2adf90ea-020e-4a9f-c358-545b737b85f8"
   },
   "outputs": [
    {
     "name": "stdout",
     "output_type": "stream",
     "text": [
      "Epoch 1/10\n",
      "375/375 - 5s - loss: 0.7506 - accuracy: 0.7577 - val_loss: 0.3632 - val_accuracy: 0.8947\n",
      "Epoch 2/10\n",
      "375/375 - 4s - loss: 0.2985 - accuracy: 0.9138 - val_loss: 0.2287 - val_accuracy: 0.9319\n",
      "Epoch 3/10\n",
      "375/375 - 4s - loss: 0.2136 - accuracy: 0.9372 - val_loss: 0.1798 - val_accuracy: 0.9502\n",
      "Epoch 4/10\n",
      "375/375 - 4s - loss: 0.1572 - accuracy: 0.9532 - val_loss: 0.1514 - val_accuracy: 0.9553\n",
      "Epoch 5/10\n",
      "375/375 - 4s - loss: 0.1262 - accuracy: 0.9615 - val_loss: 0.1224 - val_accuracy: 0.9639\n",
      "Epoch 6/10\n",
      "375/375 - 4s - loss: 0.1033 - accuracy: 0.9684 - val_loss: 0.1197 - val_accuracy: 0.9649\n",
      "Epoch 7/10\n",
      "375/375 - 4s - loss: 0.0859 - accuracy: 0.9736 - val_loss: 0.1124 - val_accuracy: 0.9657\n",
      "Epoch 8/10\n",
      "375/375 - 4s - loss: 0.0713 - accuracy: 0.9773 - val_loss: 0.1109 - val_accuracy: 0.9672\n",
      "Epoch 9/10\n",
      "375/375 - 4s - loss: 0.0586 - accuracy: 0.9817 - val_loss: 0.0980 - val_accuracy: 0.9716\n",
      "Epoch 10/10\n",
      "375/375 - 4s - loss: 0.0536 - accuracy: 0.9824 - val_loss: 0.1010 - val_accuracy: 0.9710\n"
     ]
    }
   ],
   "source": [
    "history9 = model9.fit(x_train,y_train,batch_size=batch_size,epochs=10,verbose=2,validation_split=0.2)"
   ]
  },
  {
   "cell_type": "code",
   "execution_count": null,
   "metadata": {
    "colab": {
     "base_uri": "https://localhost:8080/",
     "height": 295
    },
    "collapsed": true,
    "id": "7wywn9Pk_0vu",
    "outputId": "52c5dcb6-0e03-450f-9866-0f4bbb73dcc2"
   },
   "outputs": [
    {
     "data": {
      "image/png": "[encoded data removed]",
      "text/plain": [
       "<Figure size 432x288 with 1 Axes>"
      ]
     },
     "metadata": {
      "needs_background": "light"
     },
     "output_type": "display_data"
    }
   ],
   "source": [
    "plt.plot(history9.history['accuracy'])\n",
    "plt.plot(history9.history['val_accuracy'])\n",
    "plt.title('Model Accuracy')\n",
    "plt.ylabel('accuracy')\n",
    "plt.xlabel('epoch')\n",
    "plt.legend(['Train', 'Validation'])\n",
    "plt.show()"
   ]
  },
  {
   "cell_type": "code",
   "execution_count": null,
   "metadata": {
    "colab": {
     "base_uri": "https://localhost:8080/"
    },
    "id": "w6Z3nfMcOA1r",
    "outputId": "586169b6-c3a5-4508-8d02-e955111aa284"
   },
   "outputs": [
    {
     "name": "stdout",
     "output_type": "stream",
     "text": [
      "Test loss: 0.09590981900691986\n",
      "Test accuracy: 0.9710999727249146\n"
     ]
    }
   ],
   "source": [
    "score = model9.evaluate(x_test, y_test, verbose=0)\n",
    "print('Test loss:', score[0])\n",
    "print('Test accuracy:', score[1])"
   ]
  },
  {
   "cell_type": "markdown",
   "metadata": {
    "id": "s7bUktOIOTBb"
   },
   "source": [
    "**6.Optimizer**\n",
    "\n",
    " Run neural network with 3 hidden layer, 32 nodes each with SGD optimizer with relu activation\n",
    "function for all layers, for 10 epochs. Run the same model with optimizers such as Momentum, RMSProp, Adam\n",
    "etc. Which one gives good accuracy for 10 epochs?"
   ]
  },
  {
   "cell_type": "code",
   "execution_count": null,
   "metadata": {
    "colab": {
     "base_uri": "https://localhost:8080/"
    },
    "id": "-H7OVQhHOOuj",
    "outputId": "753ad586-f87b-4537-f7d1-a4efeae6499b"
   },
   "outputs": [
    {
     "name": "stdout",
     "output_type": "stream",
     "text": [
      "Model: \"sequential_10\"\n",
      "_________________________________________________________________\n",
      "Layer (type)                 Output Shape              Param #   \n",
      "=================================================================\n",
      "dense_54 (Dense)             (None, 32)                25120     \n",
      "_________________________________________________________________\n",
      "dense_55 (Dense)             (None, 32)                1056      \n",
      "_________________________________________________________________\n",
      "dense_56 (Dense)             (None, 32)                1056      \n",
      "_________________________________________________________________\n",
      "dense_57 (Dense)             (None, 32)                1056      \n",
      "_________________________________________________________________\n",
      "dense_58 (Dense)             (None, 10)                330       \n",
      "=================================================================\n",
      "Total params: 28,618\n",
      "Trainable params: 28,618\n",
      "Non-trainable params: 0\n",
      "_________________________________________________________________\n"
     ]
    }
   ],
   "source": [
    "model10 = Sequential()\n",
    "model10.add(Dense(32, activation='relu', input_shape=(784,)))\n",
    "model10.add(Dense(32, activation='relu'))\n",
    "model10.add(Dense(32, activation='relu'))\n",
    "model10.add(Dense(32, activation='relu'))\n",
    "model10.add(Dense(num_classes, activation='softmax'))\n",
    "\n",
    "model10.summary()"
   ]
  },
  {
   "cell_type": "code",
   "execution_count": null,
   "metadata": {
    "id": "H3SGvcIqO3Ky"
   },
   "outputs": [],
   "source": [
    "model10.compile(loss='categorical_crossentropy',optimizer='SGD',metrics=['accuracy'])"
   ]
  },
  {
   "cell_type": "code",
   "execution_count": null,
   "metadata": {
    "colab": {
     "base_uri": "https://localhost:8080/"
    },
    "collapsed": true,
    "id": "8WOL0u0yPfgy",
    "outputId": "99c9553d-e72a-466d-dbe6-26bbbe7878fd"
   },
   "outputs": [
    {
     "name": "stdout",
     "output_type": "stream",
     "text": [
      "Epoch 1/10\n",
      "375/375 - 1s - loss: 2.0887 - accuracy: 0.2827 - val_loss: 1.6481 - val_accuracy: 0.4940\n",
      "Epoch 2/10\n",
      "375/375 - 1s - loss: 1.0780 - accuracy: 0.6723 - val_loss: 0.6958 - val_accuracy: 0.7983\n",
      "Epoch 3/10\n",
      "375/375 - 1s - loss: 0.6132 - accuracy: 0.8120 - val_loss: 0.4913 - val_accuracy: 0.8574\n",
      "Epoch 4/10\n",
      "375/375 - 1s - loss: 0.4796 - accuracy: 0.8576 - val_loss: 0.4045 - val_accuracy: 0.8790\n",
      "Epoch 5/10\n",
      "375/375 - 1s - loss: 0.4111 - accuracy: 0.8805 - val_loss: 0.3598 - val_accuracy: 0.8941\n",
      "Epoch 6/10\n",
      "375/375 - 1s - loss: 0.3711 - accuracy: 0.8922 - val_loss: 0.3294 - val_accuracy: 0.9051\n",
      "Epoch 7/10\n",
      "375/375 - 1s - loss: 0.3427 - accuracy: 0.9007 - val_loss: 0.3087 - val_accuracy: 0.9114\n",
      "Epoch 8/10\n",
      "375/375 - 1s - loss: 0.3209 - accuracy: 0.9075 - val_loss: 0.2912 - val_accuracy: 0.9158\n",
      "Epoch 9/10\n",
      "375/375 - 1s - loss: 0.3029 - accuracy: 0.9123 - val_loss: 0.2765 - val_accuracy: 0.9205\n",
      "Epoch 10/10\n",
      "375/375 - 1s - loss: 0.2873 - accuracy: 0.9173 - val_loss: 0.2639 - val_accuracy: 0.9249\n"
     ]
    }
   ],
   "source": [
    "history10=model10.fit(x_train,y_train,batch_size=batch_size,epochs=10,verbose=2,validation_split=0.2)"
   ]
  },
  {
   "cell_type": "code",
   "execution_count": null,
   "metadata": {
    "colab": {
     "base_uri": "https://localhost:8080/",
     "height": 295
    },
    "collapsed": true,
    "id": "TbMAxB2a__w7",
    "outputId": "46178ec8-f697-4ec3-f45d-c92f0c546026"
   },
   "outputs": [
    {
     "data": {
      "image/png": "[encoded data removed]",
      "text/plain": [
       "<Figure size 432x288 with 1 Axes>"
      ]
     },
     "metadata": {
      "needs_background": "light"
     },
     "output_type": "display_data"
    }
   ],
   "source": [
    "plt.plot(history10.history['accuracy'])\n",
    "plt.plot(history10.history['val_accuracy'])\n",
    "plt.title('Model Accuracy')\n",
    "plt.ylabel('accuracy')\n",
    "plt.xlabel('epoch')\n",
    "plt.legend(['Train', 'Validation'])\n",
    "plt.show()"
   ]
  },
  {
   "cell_type": "code",
   "execution_count": null,
   "metadata": {
    "colab": {
     "base_uri": "https://localhost:8080/"
    },
    "id": "4MPgbWXGJWxg",
    "outputId": "c2beb9e0-c671-46f2-82de-36dda276b878"
   },
   "outputs": [
    {
     "name": "stdout",
     "output_type": "stream",
     "text": [
      "Test loss: 0.2718486189842224\n",
      "Test accuracy: 0.9211000204086304\n"
     ]
    }
   ],
   "source": [
    "score = model10.evaluate(x_test, y_test, verbose=0)\n",
    "print('Test loss:', score[0])\n",
    "print('Test accuracy:', score[1])"
   ]
  },
  {
   "cell_type": "code",
   "execution_count": null,
   "metadata": {
    "id": "ysbbqVStPkmU"
   },
   "outputs": [],
   "source": [
    "#run same model with other optimizers\n",
    "model10.compile(loss='categorical_crossentropy',optimizer=RMSprop(0.0001),metrics=['accuracy'])"
   ]
  },
  {
   "cell_type": "code",
   "execution_count": null,
   "metadata": {
    "colab": {
     "base_uri": "https://localhost:8080/"
    },
    "collapsed": true,
    "id": "S_496kXLPsrz",
    "outputId": "fb571e38-155a-4ced-b90a-10f5401afe61"
   },
   "outputs": [
    {
     "name": "stdout",
     "output_type": "stream",
     "text": [
      "Epoch 1/10\n",
      "375/375 - 2s - loss: 0.2685 - accuracy: 0.9229 - val_loss: 0.2513 - val_accuracy: 0.9285\n",
      "Epoch 2/10\n",
      "375/375 - 1s - loss: 0.2535 - accuracy: 0.9270 - val_loss: 0.2348 - val_accuracy: 0.9329\n",
      "Epoch 3/10\n",
      "375/375 - 1s - loss: 0.2401 - accuracy: 0.9312 - val_loss: 0.2237 - val_accuracy: 0.9373\n",
      "Epoch 4/10\n",
      "375/375 - 1s - loss: 0.2282 - accuracy: 0.9334 - val_loss: 0.2155 - val_accuracy: 0.9387\n",
      "Epoch 5/10\n",
      "375/375 - 1s - loss: 0.2175 - accuracy: 0.9369 - val_loss: 0.2067 - val_accuracy: 0.9416\n",
      "Epoch 6/10\n",
      "375/375 - 1s - loss: 0.2081 - accuracy: 0.9391 - val_loss: 0.2017 - val_accuracy: 0.9434\n",
      "Epoch 7/10\n",
      "375/375 - 1s - loss: 0.1994 - accuracy: 0.9421 - val_loss: 0.1920 - val_accuracy: 0.9467\n",
      "Epoch 8/10\n",
      "375/375 - 1s - loss: 0.1916 - accuracy: 0.9438 - val_loss: 0.1886 - val_accuracy: 0.9463\n",
      "Epoch 9/10\n",
      "375/375 - 2s - loss: 0.1845 - accuracy: 0.9471 - val_loss: 0.1818 - val_accuracy: 0.9482\n",
      "Epoch 10/10\n",
      "375/375 - 2s - loss: 0.1778 - accuracy: 0.9484 - val_loss: 0.1784 - val_accuracy: 0.9494\n"
     ]
    }
   ],
   "source": [
    "history10_1=model10.fit(x_train,y_train,batch_size=batch_size,epochs=10,verbose=2,validation_split=0.2)"
   ]
  },
  {
   "cell_type": "code",
   "execution_count": null,
   "metadata": {
    "colab": {
     "base_uri": "https://localhost:8080/",
     "height": 295
    },
    "collapsed": true,
    "id": "KOyupTTWATGs",
    "outputId": "816e2545-b0df-4c2b-cd25-5f88acdb79de"
   },
   "outputs": [
    {
     "data": {
      "image/png": "[encoded data removed]",
      "text/plain": [
       "<Figure size 432x288 with 1 Axes>"
      ]
     },
     "metadata": {
      "needs_background": "light"
     },
     "output_type": "display_data"
    }
   ],
   "source": [
    "plt.plot(history10_1.history['accuracy'])\n",
    "plt.plot(history10_1.history['val_accuracy'])\n",
    "plt.title('Model Accuracy')\n",
    "plt.ylabel('accuracy')\n",
    "plt.xlabel('epoch')\n",
    "plt.legend(['Train', 'Validation'])\n",
    "plt.show()"
   ]
  },
  {
   "cell_type": "code",
   "execution_count": null,
   "metadata": {
    "colab": {
     "base_uri": "https://localhost:8080/"
    },
    "id": "P6W19WN2M3_i",
    "outputId": "fd0b572c-c67e-4d66-bc30-abb2121b90f2"
   },
   "outputs": [
    {
     "name": "stdout",
     "output_type": "stream",
     "text": [
      "Test loss: 0.18515536189079285\n",
      "Test accuracy: 0.9440000057220459\n"
     ]
    }
   ],
   "source": [
    "score = model10.evaluate(x_test, y_test, verbose=0)\n",
    "print('Test loss:', score[0])\n",
    "print('Test accuracy:', score[1])"
   ]
  },
  {
   "cell_type": "markdown",
   "metadata": {
    "id": "gI-PgaFkReMb"
   },
   "source": [
    "**7.L1, L2 Regularization**\n",
    "\n",
    " Run neural network with 3 hidden layer, 128 nodes each (with any optimizer) with relu activation function for all layers, for 10 epochs. Add L1 regularization to each layer and see the change in the\n",
    "training and testing accuracies. Change in the Lambda parameter in L1 regularization with smaller and bigger\n",
    "numbers and see the change in accuracies. Instead of L1, now do it with L2. What is the effect?"
   ]
  },
  {
   "cell_type": "code",
   "execution_count": null,
   "metadata": {
    "colab": {
     "base_uri": "https://localhost:8080/"
    },
    "id": "Qz_RhN-JQ-0U",
    "outputId": "42895f7d-b02d-47f3-94c3-0f6ff54e16f0"
   },
   "outputs": [
    {
     "name": "stdout",
     "output_type": "stream",
     "text": [
      "Model: \"sequential_11\"\n",
      "_________________________________________________________________\n",
      "Layer (type)                 Output Shape              Param #   \n",
      "=================================================================\n",
      "dense_59 (Dense)             (None, 128)               100480    \n",
      "_________________________________________________________________\n",
      "dense_60 (Dense)             (None, 128)               16512     \n",
      "_________________________________________________________________\n",
      "dense_61 (Dense)             (None, 128)               16512     \n",
      "_________________________________________________________________\n",
      "dense_62 (Dense)             (None, 128)               16512     \n",
      "_________________________________________________________________\n",
      "dense_63 (Dense)             (None, 10)                1290      \n",
      "=================================================================\n",
      "Total params: 151,306\n",
      "Trainable params: 151,306\n",
      "Non-trainable params: 0\n",
      "_________________________________________________________________\n"
     ]
    }
   ],
   "source": [
    "model11 = Sequential()\n",
    "model11.add(Dense(128, activation='relu', input_shape=(784,)))\n",
    "model11.add(Dense(128, activation='relu',kernel_regularizer='l1'))\n",
    "model11.add(Dense(128, activation='relu',kernel_regularizer='l1'))\n",
    "model11.add(Dense(128, activation='relu',kernel_regularizer='l1'))\n",
    "model11.add(Dense(num_classes, activation='softmax'))\n",
    "\n",
    "model11.summary()"
   ]
  },
  {
   "cell_type": "code",
   "execution_count": null,
   "metadata": {
    "id": "RJk2qt_ETGzk"
   },
   "outputs": [],
   "source": [
    "model11.compile(loss='categorical_crossentropy',optimizer='adam',metrics=['accuracy'])"
   ]
  },
  {
   "cell_type": "code",
   "execution_count": null,
   "metadata": {
    "colab": {
     "base_uri": "https://localhost:8080/"
    },
    "collapsed": true,
    "id": "aOlD1KXzTREF",
    "outputId": "b6393d0e-ba4a-4207-e698-8ebf83c8172f"
   },
   "outputs": [
    {
     "name": "stdout",
     "output_type": "stream",
     "text": [
      "Epoch 1/10\n",
      "375/375 - 3s - loss: 7.2283 - accuracy: 0.7810 - val_loss: 1.2785 - val_accuracy: 0.8604\n",
      "Epoch 2/10\n",
      "375/375 - 2s - loss: 1.1194 - accuracy: 0.8652 - val_loss: 0.9626 - val_accuracy: 0.8832\n",
      "Epoch 3/10\n",
      "375/375 - 2s - loss: 0.9029 - accuracy: 0.8852 - val_loss: 0.8117 - val_accuracy: 0.8988\n",
      "Epoch 4/10\n",
      "375/375 - 2s - loss: 0.7835 - accuracy: 0.8980 - val_loss: 0.7128 - val_accuracy: 0.9139\n",
      "Epoch 5/10\n",
      "375/375 - 2s - loss: 0.7078 - accuracy: 0.9091 - val_loss: 0.6619 - val_accuracy: 0.9204\n",
      "Epoch 6/10\n",
      "375/375 - 2s - loss: 0.6521 - accuracy: 0.9158 - val_loss: 0.6215 - val_accuracy: 0.9252\n",
      "Epoch 7/10\n",
      "375/375 - 2s - loss: 0.6071 - accuracy: 0.9211 - val_loss: 0.5818 - val_accuracy: 0.9294\n",
      "Epoch 8/10\n",
      "375/375 - 2s - loss: 0.5700 - accuracy: 0.9251 - val_loss: 0.5585 - val_accuracy: 0.9312\n",
      "Epoch 9/10\n",
      "375/375 - 2s - loss: 0.5461 - accuracy: 0.9293 - val_loss: 0.5282 - val_accuracy: 0.9352\n",
      "Epoch 10/10\n",
      "375/375 - 2s - loss: 0.5232 - accuracy: 0.9321 - val_loss: 0.5109 - val_accuracy: 0.9348\n"
     ]
    }
   ],
   "source": [
    "history11=model11.fit(x_train,y_train,batch_size=batch_size,epochs=10,verbose=2,validation_split=0.2)"
   ]
  },
  {
   "cell_type": "code",
   "execution_count": null,
   "metadata": {
    "colab": {
     "base_uri": "https://localhost:8080/",
     "height": 295
    },
    "collapsed": true,
    "id": "tS75lVdXAtrU",
    "outputId": "3eccbe97-bb08-466f-b012-a5b66e0f69f3"
   },
   "outputs": [
    {
     "data": {
      "image/png": "[encoded data removed]",
      "text/plain": [
       "<Figure size 432x288 with 1 Axes>"
      ]
     },
     "metadata": {
      "needs_background": "light"
     },
     "output_type": "display_data"
    }
   ],
   "source": [
    "plt.plot(history11.history['accuracy'])\n",
    "plt.plot(history11.history['val_accuracy'])\n",
    "plt.title('Model Accuracy')\n",
    "plt.ylabel('accuracy')\n",
    "plt.xlabel('epoch')\n",
    "plt.legend(['Train', 'Validation'])\n",
    "plt.show()"
   ]
  },
  {
   "cell_type": "code",
   "execution_count": null,
   "metadata": {
    "colab": {
     "base_uri": "https://localhost:8080/"
    },
    "id": "DSSprrN9TYfl",
    "outputId": "a664df26-b947-46b9-9d3a-13b800148359"
   },
   "outputs": [
    {
     "name": "stdout",
     "output_type": "stream",
     "text": [
      "Test loss: 0.521335244178772\n",
      "Test accuracy: 0.9293000102043152\n"
     ]
    }
   ],
   "source": [
    "score = model11.evaluate(x_test, y_test, verbose=0)\n",
    "print('Test loss:', score[0])\n",
    "print('Test accuracy:', score[1])"
   ]
  },
  {
   "cell_type": "code",
   "execution_count": null,
   "metadata": {
    "colab": {
     "base_uri": "https://localhost:8080/"
    },
    "id": "-wL15nVdT2vl",
    "outputId": "7b556131-8526-4ee9-c1fb-58a87aa33808"
   },
   "outputs": [
    {
     "name": "stdout",
     "output_type": "stream",
     "text": [
      "Model: \"sequential_12\"\n",
      "_________________________________________________________________\n",
      "Layer (type)                 Output Shape              Param #   \n",
      "=================================================================\n",
      "dense_64 (Dense)             (None, 128)               100480    \n",
      "_________________________________________________________________\n",
      "dense_65 (Dense)             (None, 128)               16512     \n",
      "_________________________________________________________________\n",
      "dense_66 (Dense)             (None, 128)               16512     \n",
      "_________________________________________________________________\n",
      "dense_67 (Dense)             (None, 128)               16512     \n",
      "_________________________________________________________________\n",
      "dense_68 (Dense)             (None, 10)                1290      \n",
      "=================================================================\n",
      "Total params: 151,306\n",
      "Trainable params: 151,306\n",
      "Non-trainable params: 0\n",
      "_________________________________________________________________\n"
     ]
    }
   ],
   "source": [
    "model12 = Sequential()\n",
    "model12.add(Dense(128, activation='relu', input_shape=(784,)))\n",
    "model12.add(Dense(128, activation='relu',kernel_regularizer='l2'))\n",
    "model12.add(Dense(128, activation='relu',kernel_regularizer='l2'))\n",
    "model12.add(Dense(128, activation='relu',kernel_regularizer='l2'))\n",
    "model12.add(Dense(num_classes, activation='softmax'))\n",
    "\n",
    "model12.summary()"
   ]
  },
  {
   "cell_type": "code",
   "execution_count": null,
   "metadata": {
    "id": "_b58BbjuUME4"
   },
   "outputs": [],
   "source": [
    "model12.compile(loss='categorical_crossentropy',optimizer='adam',metrics=['accuracy'])"
   ]
  },
  {
   "cell_type": "code",
   "execution_count": null,
   "metadata": {
    "colab": {
     "base_uri": "https://localhost:8080/"
    },
    "id": "RAm8RgthUQm9",
    "outputId": "c3ae91dc-dd32-4d4d-cf0b-28473b4dd01b"
   },
   "outputs": [
    {
     "name": "stdout",
     "output_type": "stream",
     "text": [
      "Epoch 1/10\n",
      "375/375 - 4s - loss: 1.5776 - accuracy: 0.8744 - val_loss: 0.6770 - val_accuracy: 0.9341\n",
      "Epoch 2/10\n",
      "375/375 - 2s - loss: 0.5253 - accuracy: 0.9390 - val_loss: 0.4139 - val_accuracy: 0.9500\n",
      "Epoch 3/10\n",
      "375/375 - 2s - loss: 0.3732 - accuracy: 0.9503 - val_loss: 0.3378 - val_accuracy: 0.9565\n",
      "Epoch 4/10\n",
      "375/375 - 2s - loss: 0.3129 - accuracy: 0.9584 - val_loss: 0.2968 - val_accuracy: 0.9610\n",
      "Epoch 5/10\n",
      "375/375 - 2s - loss: 0.2791 - accuracy: 0.9624 - val_loss: 0.2831 - val_accuracy: 0.9612\n",
      "Epoch 6/10\n",
      "375/375 - 2s - loss: 0.2510 - accuracy: 0.9680 - val_loss: 0.2626 - val_accuracy: 0.9628\n",
      "Epoch 7/10\n",
      "375/375 - 2s - loss: 0.2347 - accuracy: 0.9702 - val_loss: 0.2379 - val_accuracy: 0.9657\n",
      "Epoch 8/10\n",
      "375/375 - 2s - loss: 0.2222 - accuracy: 0.9704 - val_loss: 0.2434 - val_accuracy: 0.9614\n",
      "Epoch 9/10\n",
      "375/375 - 2s - loss: 0.2064 - accuracy: 0.9743 - val_loss: 0.2200 - val_accuracy: 0.9669\n",
      "Epoch 10/10\n",
      "375/375 - 2s - loss: 0.1963 - accuracy: 0.9748 - val_loss: 0.2194 - val_accuracy: 0.9658\n"
     ]
    }
   ],
   "source": [
    "history12=model12.fit(x_train,y_train,batch_size=batch_size,epochs=10,verbose=2,validation_split=0.2)"
   ]
  },
  {
   "cell_type": "code",
   "execution_count": null,
   "metadata": {
    "colab": {
     "base_uri": "https://localhost:8080/",
     "height": 295
    },
    "id": "eYKT1z5VBDE5",
    "outputId": "3390f954-a803-4058-dd3c-3abfc3ec022c"
   },
   "outputs": [
    {
     "data": {
      "image/png": "[encoded data removed]",
      "text/plain": [
       "<Figure size 432x288 with 1 Axes>"
      ]
     },
     "metadata": {
      "needs_background": "light"
     },
     "output_type": "display_data"
    }
   ],
   "source": [
    "plt.plot(history12.history['accuracy'])\n",
    "plt.plot(history12.history['val_accuracy'])\n",
    "plt.title('Model Accuracy')\n",
    "plt.ylabel('accuracy')\n",
    "plt.xlabel('epoch')\n",
    "plt.legend(['Train', 'Validation'])\n",
    "plt.show()"
   ]
  },
  {
   "cell_type": "code",
   "execution_count": null,
   "metadata": {
    "colab": {
     "base_uri": "https://localhost:8080/"
    },
    "id": "HgJ5Mq2xM8yt",
    "outputId": "c82271ec-d16d-457b-d7b0-e8129afbb732"
   },
   "outputs": [
    {
     "name": "stdout",
     "output_type": "stream",
     "text": [
      "Test loss: 0.22196179628372192\n",
      "Test accuracy: 0.9649999737739563\n"
     ]
    }
   ],
   "source": [
    "score = model12.evaluate(x_test, y_test, verbose=0)\n",
    "print('Test loss:', score[0])\n",
    "print('Test accuracy:', score[1])"
   ]
  },
  {
   "cell_type": "code",
   "execution_count": null,
   "metadata": {
    "colab": {
     "base_uri": "https://localhost:8080/"
    },
    "id": "HqUrXN97JoVy",
    "outputId": "8010853d-7906-4c40-cd19-53bb74606e1d"
   },
   "outputs": [
    {
     "name": "stdout",
     "output_type": "stream",
     "text": [
      "Model: \"sequential_13\"\n",
      "_________________________________________________________________\n",
      "Layer (type)                 Output Shape              Param #   \n",
      "=================================================================\n",
      "dense_69 (Dense)             (None, 512)               401920    \n",
      "_________________________________________________________________\n",
      "dense_70 (Dense)             (None, 256)               131328    \n",
      "_________________________________________________________________\n",
      "dense_71 (Dense)             (None, 128)               32896     \n",
      "_________________________________________________________________\n",
      "dense_72 (Dense)             (None, 64)                8256      \n",
      "_________________________________________________________________\n",
      "dense_73 (Dense)             (None, 10)                650       \n",
      "=================================================================\n",
      "Total params: 575,050\n",
      "Trainable params: 575,050\n",
      "Non-trainable params: 0\n",
      "_________________________________________________________________\n"
     ]
    }
   ],
   "source": [
    "model13 = Sequential()\n",
    "model13.add(Dense(512, activation='relu',kernel_regularizer='l1', input_shape=(784,)))\n",
    "model13.add(Dense(256, activation='relu'))\n",
    "model13.add(Dense(128, activation='relu'))\n",
    "model13.add(Dense(64, activation='relu',kernel_regularizer='l1'))\n",
    "model13.add(Dense(num_classes, activation='softmax'))\n",
    "\n",
    "model13.summary()"
   ]
  },
  {
   "cell_type": "code",
   "execution_count": null,
   "metadata": {
    "id": "kWhEj6nqKzPT"
   },
   "outputs": [],
   "source": [
    "model13.compile(loss='categorical_crossentropy',optimizer='adam',metrics=['accuracy'])"
   ]
  },
  {
   "cell_type": "code",
   "execution_count": null,
   "metadata": {
    "colab": {
     "base_uri": "https://localhost:8080/"
    },
    "id": "ajkpekBfK3iu",
    "outputId": "58637813-2300-4702-9c5d-05b3965ec157"
   },
   "outputs": [
    {
     "name": "stdout",
     "output_type": "stream",
     "text": [
      "Epoch 1/10\n",
      "375/375 - 6s - loss: 12.3470 - accuracy: 0.7820 - val_loss: 1.8566 - val_accuracy: 0.8517\n",
      "Epoch 2/10\n",
      "375/375 - 5s - loss: 1.6621 - accuracy: 0.8555 - val_loss: 1.4785 - val_accuracy: 0.8802\n",
      "Epoch 3/10\n",
      "375/375 - 5s - loss: 1.4399 - accuracy: 0.8721 - val_loss: 1.4061 - val_accuracy: 0.8648\n",
      "Epoch 4/10\n",
      "375/375 - 5s - loss: 1.3252 - accuracy: 0.8851 - val_loss: 1.2754 - val_accuracy: 0.8997\n",
      "Epoch 5/10\n",
      "375/375 - 5s - loss: 1.2557 - accuracy: 0.8951 - val_loss: 1.1799 - val_accuracy: 0.9078\n",
      "Epoch 6/10\n",
      "375/375 - 5s - loss: 1.2253 - accuracy: 0.8980 - val_loss: 1.1857 - val_accuracy: 0.9126\n",
      "Epoch 7/10\n",
      "375/375 - 5s - loss: 1.1875 - accuracy: 0.9018 - val_loss: 1.1951 - val_accuracy: 0.9068\n",
      "Epoch 8/10\n",
      "375/375 - 5s - loss: 1.1689 - accuracy: 0.9057 - val_loss: 1.1381 - val_accuracy: 0.9129\n",
      "Epoch 9/10\n",
      "375/375 - 5s - loss: 1.1506 - accuracy: 0.9071 - val_loss: 1.1016 - val_accuracy: 0.9233\n",
      "Epoch 10/10\n",
      "375/375 - 5s - loss: 1.1231 - accuracy: 0.9103 - val_loss: 1.0728 - val_accuracy: 0.9206\n"
     ]
    }
   ],
   "source": [
    "history13=model13.fit(x_train,y_train,batch_size=batch_size,epochs=10,verbose=2,validation_split=0.2)"
   ]
  },
  {
   "cell_type": "code",
   "execution_count": null,
   "metadata": {
    "colab": {
     "base_uri": "https://localhost:8080/",
     "height": 295
    },
    "id": "P7L7BAJ_BR2c",
    "outputId": "4b06a349-987e-4c5e-c899-c8d1bd37e801"
   },
   "outputs": [
    {
     "data": {
      "image/png": "[encoded data removed]",
      "text/plain": [
       "<Figure size 432x288 with 1 Axes>"
      ]
     },
     "metadata": {
      "needs_background": "light"
     },
     "output_type": "display_data"
    }
   ],
   "source": [
    "plt.plot(history13.history['accuracy'])\n",
    "plt.plot(history13.history['val_accuracy'])\n",
    "plt.title('Model Accuracy')\n",
    "plt.ylabel('accuracy')\n",
    "plt.xlabel('epoch')\n",
    "plt.legend(['Train', 'Validation'])\n",
    "plt.show()"
   ]
  },
  {
   "cell_type": "code",
   "execution_count": null,
   "metadata": {
    "colab": {
     "base_uri": "https://localhost:8080/"
    },
    "id": "Caq30MsPNNwI",
    "outputId": "093660ff-acd5-4d7f-db86-5fa358817c16"
   },
   "outputs": [
    {
     "name": "stdout",
     "output_type": "stream",
     "text": [
      "Test loss: 1.0799305438995361\n",
      "Test accuracy: 0.9176999926567078\n"
     ]
    }
   ],
   "source": [
    "score = model13.evaluate(x_test, y_test, verbose=0)\n",
    "print('Test loss:', score[0])\n",
    "print('Test accuracy:', score[1])"
   ]
  },
  {
   "cell_type": "markdown",
   "metadata": {
    "id": "prgg9Fs4U8H1"
   },
   "source": [
    "**8. Dropout Regularization**\n",
    "\n",
    "Run neural network with 3 hidden layer, 128 nodes each (with any optimizer) with relu activation function for all layers, for 10 epochs. Add dropout layer in between the hidden layers and see the\n",
    "change in the training and testing accuracies. Change in the dropout rate in layers with smaller and bigger\n",
    "numbers and see the change in accuracies."
   ]
  },
  {
   "cell_type": "code",
   "execution_count": null,
   "metadata": {
    "colab": {
     "base_uri": "https://localhost:8080/"
    },
    "id": "YCmvoJN-UULt",
    "outputId": "9d21808b-e4a2-4103-929e-cc7cdfd07055"
   },
   "outputs": [
    {
     "name": "stdout",
     "output_type": "stream",
     "text": [
      "Model: \"sequential_14\"\n",
      "_________________________________________________________________\n",
      "Layer (type)                 Output Shape              Param #   \n",
      "=================================================================\n",
      "dense_74 (Dense)             (None, 128)               100480    \n",
      "_________________________________________________________________\n",
      "dense_75 (Dense)             (None, 128)               16512     \n",
      "_________________________________________________________________\n",
      "dropout (Dropout)            (None, 128)               0         \n",
      "_________________________________________________________________\n",
      "dense_76 (Dense)             (None, 128)               16512     \n",
      "_________________________________________________________________\n",
      "dropout_1 (Dropout)          (None, 128)               0         \n",
      "_________________________________________________________________\n",
      "dense_77 (Dense)             (None, 128)               16512     \n",
      "_________________________________________________________________\n",
      "dropout_2 (Dropout)          (None, 128)               0         \n",
      "_________________________________________________________________\n",
      "dense_78 (Dense)             (None, 10)                1290      \n",
      "=================================================================\n",
      "Total params: 151,306\n",
      "Trainable params: 151,306\n",
      "Non-trainable params: 0\n",
      "_________________________________________________________________\n"
     ]
    }
   ],
   "source": [
    "model14 = Sequential()\n",
    "model14.add(Dense(128, activation='relu', input_shape=(784,)))\n",
    "model14.add(Dense(128, activation='relu'))\n",
    "model14.add(Dropout(0.3))\n",
    "model14.add(Dense(128, activation='relu'))\n",
    "model14.add(Dropout(0.3))\n",
    "model14.add(Dense(128, activation='relu'))\n",
    "model14.add(Dropout(0.3))\n",
    "model14.add(Dense(num_classes, activation='softmax'))\n",
    "\n",
    "model14.summary()"
   ]
  },
  {
   "cell_type": "code",
   "execution_count": null,
   "metadata": {
    "id": "WC4Z8W0HVf44"
   },
   "outputs": [],
   "source": [
    "model14.compile(loss='categorical_crossentropy',optimizer='adam',metrics=['accuracy'])"
   ]
  },
  {
   "cell_type": "code",
   "execution_count": null,
   "metadata": {
    "colab": {
     "base_uri": "https://localhost:8080/"
    },
    "id": "qdq4HkqlVlUW",
    "outputId": "6d37a717-31ed-412f-eb93-82a2cf1c55a1"
   },
   "outputs": [
    {
     "name": "stdout",
     "output_type": "stream",
     "text": [
      "Epoch 1/10\n",
      "375/375 - 3s - loss: 0.5312 - accuracy: 0.8356 - val_loss: 0.1719 - val_accuracy: 0.9504\n",
      "Epoch 2/10\n",
      "375/375 - 2s - loss: 0.1973 - accuracy: 0.9446 - val_loss: 0.1287 - val_accuracy: 0.9622\n",
      "Epoch 3/10\n",
      "375/375 - 2s - loss: 0.1358 - accuracy: 0.9605 - val_loss: 0.1089 - val_accuracy: 0.9686\n",
      "Epoch 4/10\n",
      "375/375 - 2s - loss: 0.1064 - accuracy: 0.9696 - val_loss: 0.0984 - val_accuracy: 0.9709\n",
      "Epoch 5/10\n",
      "375/375 - 2s - loss: 0.0883 - accuracy: 0.9752 - val_loss: 0.1015 - val_accuracy: 0.9717\n",
      "Epoch 6/10\n",
      "375/375 - 2s - loss: 0.0739 - accuracy: 0.9791 - val_loss: 0.1043 - val_accuracy: 0.9723\n",
      "Epoch 7/10\n",
      "375/375 - 2s - loss: 0.0621 - accuracy: 0.9831 - val_loss: 0.1025 - val_accuracy: 0.9747\n",
      "Epoch 8/10\n",
      "375/375 - 2s - loss: 0.0573 - accuracy: 0.9830 - val_loss: 0.1007 - val_accuracy: 0.9747\n",
      "Epoch 9/10\n",
      "375/375 - 2s - loss: 0.0522 - accuracy: 0.9856 - val_loss: 0.0952 - val_accuracy: 0.9766\n",
      "Epoch 10/10\n",
      "375/375 - 2s - loss: 0.0468 - accuracy: 0.9866 - val_loss: 0.1026 - val_accuracy: 0.9745\n"
     ]
    }
   ],
   "source": [
    "history14=model14.fit(x_train,y_train,batch_size=batch_size,epochs=10,verbose=2,validation_split=0.2)"
   ]
  },
  {
   "cell_type": "code",
   "execution_count": null,
   "metadata": {
    "colab": {
     "base_uri": "https://localhost:8080/",
     "height": 295
    },
    "id": "xZ-L3kWeCBtI",
    "outputId": "b276d241-32ce-46fd-dc55-f560c069027c"
   },
   "outputs": [
    {
     "data": {
      "image/png": "[encoded data removed]",
      "text/plain": [
       "<Figure size 432x288 with 1 Axes>"
      ]
     },
     "metadata": {
      "needs_background": "light"
     },
     "output_type": "display_data"
    }
   ],
   "source": [
    "plt.plot(history14.history['accuracy'])\n",
    "plt.plot(history14.history['val_accuracy'])\n",
    "plt.title('Model Accuracy')\n",
    "plt.ylabel('accuracy')\n",
    "plt.xlabel('epoch')\n",
    "plt.legend(['Train', 'Validation'])\n",
    "plt.show()"
   ]
  },
  {
   "cell_type": "code",
   "execution_count": null,
   "metadata": {
    "colab": {
     "base_uri": "https://localhost:8080/"
    },
    "id": "LLiDtUuaMPjF",
    "outputId": "555d395f-735b-4b8f-bb7c-bff8cf07397a"
   },
   "outputs": [
    {
     "name": "stdout",
     "output_type": "stream",
     "text": [
      "Test loss: 0.09791391342878342\n",
      "Test accuracy: 0.9764000177383423\n"
     ]
    }
   ],
   "source": [
    "score = model14.evaluate(x_test, y_test, verbose=0)\n",
    "print('Test loss:', score[0])\n",
    "print('Test accuracy:', score[1])"
   ]
  },
  {
   "cell_type": "code",
   "execution_count": null,
   "metadata": {
    "colab": {
     "base_uri": "https://localhost:8080/"
    },
    "id": "GxHjZz0uMOig",
    "outputId": "a9b777c7-cbec-4833-f633-49c754cbad95"
   },
   "outputs": [
    {
     "name": "stdout",
     "output_type": "stream",
     "text": [
      "Model: \"sequential_15\"\n",
      "_________________________________________________________________\n",
      "Layer (type)                 Output Shape              Param #   \n",
      "=================================================================\n",
      "dense_79 (Dense)             (None, 128)               100480    \n",
      "_________________________________________________________________\n",
      "dropout_3 (Dropout)          (None, 128)               0         \n",
      "_________________________________________________________________\n",
      "dense_80 (Dense)             (None, 64)                8256      \n",
      "_________________________________________________________________\n",
      "dense_81 (Dense)             (None, 32)                2080      \n",
      "_________________________________________________________________\n",
      "dense_82 (Dense)             (None, 16)                528       \n",
      "_________________________________________________________________\n",
      "dropout_4 (Dropout)          (None, 16)                0         \n",
      "_________________________________________________________________\n",
      "dense_83 (Dense)             (None, 10)                170       \n",
      "=================================================================\n",
      "Total params: 111,514\n",
      "Trainable params: 111,514\n",
      "Non-trainable params: 0\n",
      "_________________________________________________________________\n"
     ]
    }
   ],
   "source": [
    "model15 = Sequential()\n",
    "model15.add(Dense(128, activation='relu', input_shape=(784,)))\n",
    "model15.add(Dropout(0.2))\n",
    "model15.add(Dense(64, activation='relu'))\n",
    "model15.add(Dense(32, activation='relu'))\n",
    "model15.add(Dense(16, activation='relu'))\n",
    "model15.add(Dropout(0.2))\n",
    "model15.add(Dense(num_classes, activation='softmax'))\n",
    "\n",
    "model15.summary()"
   ]
  },
  {
   "cell_type": "code",
   "execution_count": null,
   "metadata": {
    "id": "3WWGJNLsV11G"
   },
   "outputs": [],
   "source": [
    "model15.compile(loss='categorical_crossentropy',optimizer='adam',metrics=['accuracy'])"
   ]
  },
  {
   "cell_type": "code",
   "execution_count": null,
   "metadata": {
    "colab": {
     "base_uri": "https://localhost:8080/"
    },
    "id": "v4BJRK6bN1dV",
    "outputId": "88d6ea6b-1ec4-4d79-fde7-5c0106868be7"
   },
   "outputs": [
    {
     "name": "stdout",
     "output_type": "stream",
     "text": [
      "Epoch 1/10\n",
      "375/375 - 2s - loss: 0.7763 - accuracy: 0.7572 - val_loss: 0.2267 - val_accuracy: 0.9382\n",
      "Epoch 2/10\n",
      "375/375 - 2s - loss: 0.3184 - accuracy: 0.9112 - val_loss: 0.1566 - val_accuracy: 0.9573\n",
      "Epoch 3/10\n",
      "375/375 - 2s - loss: 0.2403 - accuracy: 0.9333 - val_loss: 0.1339 - val_accuracy: 0.9643\n",
      "Epoch 4/10\n",
      "375/375 - 1s - loss: 0.1977 - accuracy: 0.9458 - val_loss: 0.1309 - val_accuracy: 0.9658\n",
      "Epoch 5/10\n",
      "375/375 - 2s - loss: 0.1716 - accuracy: 0.9525 - val_loss: 0.1188 - val_accuracy: 0.9680\n",
      "Epoch 6/10\n",
      "375/375 - 2s - loss: 0.1503 - accuracy: 0.9576 - val_loss: 0.1070 - val_accuracy: 0.9715\n",
      "Epoch 7/10\n",
      "375/375 - 2s - loss: 0.1319 - accuracy: 0.9634 - val_loss: 0.1120 - val_accuracy: 0.9718\n",
      "Epoch 8/10\n",
      "375/375 - 2s - loss: 0.1200 - accuracy: 0.9674 - val_loss: 0.1165 - val_accuracy: 0.9701\n",
      "Epoch 9/10\n",
      "375/375 - 2s - loss: 0.1118 - accuracy: 0.9690 - val_loss: 0.1073 - val_accuracy: 0.9714\n",
      "Epoch 10/10\n",
      "375/375 - 1s - loss: 0.1039 - accuracy: 0.9703 - val_loss: 0.1018 - val_accuracy: 0.9741\n"
     ]
    }
   ],
   "source": [
    "history15=model15.fit(x_train,y_train,batch_size=batch_size,epochs=10,verbose=2,validation_split=0.2)"
   ]
  },
  {
   "cell_type": "code",
   "execution_count": null,
   "metadata": {
    "colab": {
     "base_uri": "https://localhost:8080/",
     "height": 295
    },
    "id": "HhGWpt4ZCSYR",
    "outputId": "8b9ecf3a-83b9-4e0d-e865-3a5a26a15d8d"
   },
   "outputs": [
    {
     "data": {
      "image/png": "[encoded data removed]",
      "text/plain": [
       "<Figure size 432x288 with 1 Axes>"
      ]
     },
     "metadata": {
      "needs_background": "light"
     },
     "output_type": "display_data"
    }
   ],
   "source": [
    "plt.plot(history15.history['accuracy'])\n",
    "plt.plot(history15.history['val_accuracy'])\n",
    "plt.title('Model Accuracy')\n",
    "plt.ylabel('accuracy')\n",
    "plt.xlabel('epoch')\n",
    "plt.legend(['Train', 'Validation'])\n",
    "plt.show()"
   ]
  },
  {
   "cell_type": "code",
   "execution_count": null,
   "metadata": {
    "colab": {
     "base_uri": "https://localhost:8080/"
    },
    "id": "tAVG-GujN6Vy",
    "outputId": "a71b56c2-ad92-483b-d1d6-9e82d0cc01b3"
   },
   "outputs": [
    {
     "name": "stdout",
     "output_type": "stream",
     "text": [
      "Test loss: 0.10325074195861816\n",
      "Test accuracy: 0.9753999710083008\n"
     ]
    }
   ],
   "source": [
    "score = model15.evaluate(x_test, y_test, verbose=0)\n",
    "print('Test loss:', score[0])\n",
    "print('Test accuracy:', score[1])"
   ]
  },
  {
   "cell_type": "markdown",
   "metadata": {
    "id": "2af_3aXeOXQm"
   },
   "source": [
    "**9. Input Size**\n",
    "\n",
    " Run neural network with 3 hidden layer, 128 nodes each (with any optimizer) with relu activation\n",
    "function for all layers, for 10 epochs. Instead of 28x28 now run different model with Digit images in 56x56,\n",
    "112x112 and 224x224 sizes. Print how the model size and accuracies change?\n"
   ]
  },
  {
   "cell_type": "code",
   "execution_count": null,
   "metadata": {
    "id": "Wxm4GcUG2KDq"
   },
   "outputs": [],
   "source": [
    "(x_train, y_train), (x_test, y_test) = mnist.load_data()\n",
    "\n",
    "batch_size = 128\n",
    "num_classes = 10\n",
    "epochs = 2\n",
    "\n",
    "y_train = to_categorical(y_train, num_classes)\n",
    "y_test = to_categorical(y_test, num_classes)\n"
   ]
  },
  {
   "cell_type": "markdown",
   "metadata": {
    "id": "PtGFgum2x2Kv"
   },
   "source": [
    "#### 56x56"
   ]
  },
  {
   "cell_type": "code",
   "execution_count": null,
   "metadata": {
    "id": "319MLOPffpzZ"
   },
   "outputs": [],
   "source": [
    "x_train56=[]\n",
    "x_test56=[]\n",
    "\n",
    "for i in range(len(x_train)):\n",
    "    im = Image.fromarray(x_train[i])\n",
    "    im = im.resize((56,56))\n",
    "    im = np.array(im)\n",
    "    x_train56.append(im)\n",
    "\n",
    "for j in range(len(x_test)):\n",
    "    im = Image.fromarray(x_test[j])\n",
    "    im = im.resize((56,56))\n",
    "    im = np.array(im)\n",
    "    x_test56.append(im)\n",
    "\n",
    "x_train56 = np.array(x_train56)\n",
    "x_test56 = np.array(x_test56)  "
   ]
  },
  {
   "cell_type": "code",
   "execution_count": null,
   "metadata": {
    "colab": {
     "base_uri": "https://localhost:8080/",
     "height": 292
    },
    "id": "lwzaaGvMJxkJ",
    "outputId": "ea83c5ea-a2e4-47be-e97b-be15ca913a32"
   },
   "outputs": [
    {
     "data": {
      "text/plain": [
       "<matplotlib.image.AxesImage at 0x7fd4c7f173d0>"
      ]
     },
     "execution_count": 101,
     "metadata": {},
     "output_type": "execute_result"
    },
    {
     "data": {
      "image/png": "[encoded data removed]",
      "text/plain": [
       "<Figure size 288x288 with 1 Axes>"
      ]
     },
     "metadata": {
      "needs_background": "light"
     },
     "output_type": "display_data"
    }
   ],
   "source": [
    "plt.matshow(x_train56[256])"
   ]
  },
  {
   "cell_type": "code",
   "execution_count": null,
   "metadata": {
    "colab": {
     "base_uri": "https://localhost:8080/"
    },
    "id": "bJZLk5-cTYBW",
    "outputId": "31ec4250-251c-435f-9c6f-078dd5b0dbbd"
   },
   "outputs": [
    {
     "data": {
      "text/plain": [
       "6"
      ]
     },
     "execution_count": 102,
     "metadata": {},
     "output_type": "execute_result"
    }
   ],
   "source": [
    "np.argmax(y_train[256])"
   ]
  },
  {
   "cell_type": "code",
   "execution_count": null,
   "metadata": {
    "id": "DK1ppAdwPTRv"
   },
   "outputs": [],
   "source": [
    "x_train56 = x_train56.reshape(x_train56.shape[0],3136 )\n",
    "x_test56 = x_test56.reshape(x_test56.shape[0],3136)\n",
    "\n",
    "#convert to float32 type \n",
    "x_train56 = x_train56.astype('float32')\n",
    "x_test56 = x_test56.astype('float32')\n",
    "\n",
    "# Normalize to 0 to 1 range\n",
    "x_train56 /= 255\n",
    "x_test56 /= 255"
   ]
  },
  {
   "cell_type": "code",
   "execution_count": null,
   "metadata": {
    "colab": {
     "base_uri": "https://localhost:8080/"
    },
    "id": "WbxFu_vqv0Dg",
    "outputId": "62e7eaad-a19f-45d1-e150-9307ed50c53d"
   },
   "outputs": [
    {
     "name": "stdout",
     "output_type": "stream",
     "text": [
      "(60000, 3136) train shape\n",
      "(10000, 3136) test shape\n"
     ]
    }
   ],
   "source": [
    "print(x_train56.shape, 'train shape')\n",
    "print(x_test56.shape, 'test shape')"
   ]
  },
  {
   "cell_type": "code",
   "execution_count": null,
   "metadata": {
    "colab": {
     "base_uri": "https://localhost:8080/"
    },
    "id": "lrXMaU4uuCxk",
    "outputId": "41554c43-a052-44f0-b615-967802f1b8e6"
   },
   "outputs": [
    {
     "name": "stdout",
     "output_type": "stream",
     "text": [
      "Model: \"sequential_16\"\n",
      "_________________________________________________________________\n",
      "Layer (type)                 Output Shape              Param #   \n",
      "=================================================================\n",
      "dense_84 (Dense)             (None, 128)               401536    \n",
      "_________________________________________________________________\n",
      "dense_85 (Dense)             (None, 128)               16512     \n",
      "_________________________________________________________________\n",
      "dense_86 (Dense)             (None, 128)               16512     \n",
      "_________________________________________________________________\n",
      "dense_87 (Dense)             (None, 128)               16512     \n",
      "_________________________________________________________________\n",
      "dense_88 (Dense)             (None, 10)                1290      \n",
      "=================================================================\n",
      "Total params: 452,362\n",
      "Trainable params: 452,362\n",
      "Non-trainable params: 0\n",
      "_________________________________________________________________\n"
     ]
    }
   ],
   "source": [
    "model_56 = Sequential()\n",
    "model_56.add(Dense(128, activation='relu', input_shape=(3136,)))\n",
    "model_56.add(Dense(128, activation='relu'))\n",
    "model_56.add(Dense(128, activation='relu'))\n",
    "model_56.add(Dense(128, activation='relu'))\n",
    "model_56.add(Dense(num_classes, activation='softmax'))\n",
    "\n",
    "model_56.summary()"
   ]
  },
  {
   "cell_type": "code",
   "execution_count": null,
   "metadata": {
    "id": "IQMYTvfUwM-s"
   },
   "outputs": [],
   "source": [
    "model_56.compile(loss='categorical_crossentropy',optimizer='SGD',metrics=['accuracy'])"
   ]
  },
  {
   "cell_type": "code",
   "execution_count": null,
   "metadata": {
    "colab": {
     "base_uri": "https://localhost:8080/"
    },
    "id": "Q9n6h_AMwVPX",
    "outputId": "de41f624-a9e2-4bd1-b546-74161712fed7"
   },
   "outputs": [
    {
     "name": "stdout",
     "output_type": "stream",
     "text": [
      "Epoch 1/10\n",
      "375/375 - 4s - loss: 1.3287 - accuracy: 0.6378 - val_loss: 0.4835 - val_accuracy: 0.8714\n",
      "Epoch 2/10\n",
      "375/375 - 3s - loss: 0.4036 - accuracy: 0.8869 - val_loss: 0.3170 - val_accuracy: 0.9080\n",
      "Epoch 3/10\n",
      "375/375 - 3s - loss: 0.3122 - accuracy: 0.9109 - val_loss: 0.2699 - val_accuracy: 0.9213\n",
      "Epoch 4/10\n",
      "375/375 - 3s - loss: 0.2689 - accuracy: 0.9232 - val_loss: 0.2374 - val_accuracy: 0.9317\n",
      "Epoch 5/10\n",
      "375/375 - 3s - loss: 0.2389 - accuracy: 0.9312 - val_loss: 0.2125 - val_accuracy: 0.9388\n",
      "Epoch 6/10\n",
      "375/375 - 3s - loss: 0.2152 - accuracy: 0.9372 - val_loss: 0.1975 - val_accuracy: 0.9449\n",
      "Epoch 7/10\n",
      "375/375 - 3s - loss: 0.1966 - accuracy: 0.9421 - val_loss: 0.1863 - val_accuracy: 0.9463\n",
      "Epoch 8/10\n",
      "375/375 - 3s - loss: 0.1803 - accuracy: 0.9472 - val_loss: 0.1709 - val_accuracy: 0.9506\n",
      "Epoch 9/10\n",
      "375/375 - 3s - loss: 0.1667 - accuracy: 0.9507 - val_loss: 0.1639 - val_accuracy: 0.9535\n",
      "Epoch 10/10\n",
      "375/375 - 3s - loss: 0.1551 - accuracy: 0.9544 - val_loss: 0.1530 - val_accuracy: 0.9557\n"
     ]
    }
   ],
   "source": [
    "history56=model_56.fit(x_train56,y_train,batch_size=batch_size,epochs=10,verbose=2,validation_split=0.2)"
   ]
  },
  {
   "cell_type": "code",
   "execution_count": null,
   "metadata": {
    "colab": {
     "base_uri": "https://localhost:8080/",
     "height": 295
    },
    "id": "-Yhq7lncCtDE",
    "outputId": "4e9ebb35-47e4-42af-9b9a-abd0f447e405"
   },
   "outputs": [
    {
     "data": {
      "image/png": "[encoded data removed]",
      "text/plain": [
       "<Figure size 432x288 with 1 Axes>"
      ]
     },
     "metadata": {
      "needs_background": "light"
     },
     "output_type": "display_data"
    }
   ],
   "source": [
    "plt.plot(history56.history['accuracy'])\n",
    "plt.plot(history56.history['val_accuracy'])\n",
    "plt.title('Model Accuracy')\n",
    "plt.ylabel('accuracy')\n",
    "plt.xlabel('epoch')\n",
    "plt.legend(['Train', 'Validation'])\n",
    "plt.show()"
   ]
  },
  {
   "cell_type": "code",
   "execution_count": null,
   "metadata": {
    "colab": {
     "base_uri": "https://localhost:8080/"
    },
    "id": "__YxY9jGJmpS",
    "outputId": "206023e5-d30a-471a-c819-7dc0d6ea381d"
   },
   "outputs": [
    {
     "name": "stdout",
     "output_type": "stream",
     "text": [
      "Test loss: 0.15368101000785828\n",
      "Test accuracy: 0.9538000226020813\n"
     ]
    }
   ],
   "source": [
    "score = model_56.evaluate(x_test56, y_test, verbose=0)\n",
    "print('Test loss:', score[0])\n",
    "print('Test accuracy:', score[1])"
   ]
  },
  {
   "cell_type": "markdown",
   "metadata": {
    "id": "kOEuEncCx5RR"
   },
   "source": [
    "#### 112x112"
   ]
  },
  {
   "cell_type": "code",
   "execution_count": null,
   "metadata": {
    "id": "QB0NEFzvwahz"
   },
   "outputs": [],
   "source": [
    "x_train112=[]\n",
    "x_test112=[]\n",
    "\n",
    "for i in range(len(x_train)):\n",
    "  im = Image.fromarray(x_train[i])\n",
    "  im = im.resize((112,112))\n",
    "  im = np.array(im)\n",
    "  x_train112.append(im)\n",
    "\n",
    "for j in range(len(x_test)):\n",
    "  im = Image.fromarray(x_test[j])\n",
    "  im = im.resize((112,112))\n",
    "  im = np.array(im)\n",
    "  x_test112.append(im)\n",
    "\n",
    "x_train112 = np.array(x_train112)\n",
    "x_test112 = np.array(x_test112)  "
   ]
  },
  {
   "cell_type": "code",
   "execution_count": null,
   "metadata": {
    "colab": {
     "base_uri": "https://localhost:8080/",
     "height": 292
    },
    "id": "CdsGXzm3J5Me",
    "outputId": "1fe51c01-da5b-4282-80f8-24bf401bd780"
   },
   "outputs": [
    {
     "data": {
      "text/plain": [
       "<matplotlib.image.AxesImage at 0x7fd4c7e5f090>"
      ]
     },
     "execution_count": 111,
     "metadata": {},
     "output_type": "execute_result"
    },
    {
     "data": {
      "image/png": "[encoded data removed]",
      "text/plain": [
       "<Figure size 288x288 with 1 Axes>"
      ]
     },
     "metadata": {
      "needs_background": "light"
     },
     "output_type": "display_data"
    }
   ],
   "source": [
    "plt.matshow(x_train112[1097])"
   ]
  },
  {
   "cell_type": "code",
   "execution_count": null,
   "metadata": {
    "colab": {
     "base_uri": "https://localhost:8080/"
    },
    "id": "Shyj26FITwyZ",
    "outputId": "03c85b5a-b5c6-44ac-cbf9-bfc8dd21ea48"
   },
   "outputs": [
    {
     "data": {
      "text/plain": [
       "3"
      ]
     },
     "execution_count": 112,
     "metadata": {},
     "output_type": "execute_result"
    }
   ],
   "source": [
    "np.argmax(y_train[1097])"
   ]
  },
  {
   "cell_type": "code",
   "execution_count": null,
   "metadata": {
    "id": "Qr3JWT6ZytEn"
   },
   "outputs": [],
   "source": [
    "x_train112 = x_train112.reshape(x_train112.shape[0],12544 )\n",
    "x_test112 = x_test112.reshape(x_test112.shape[0],12544)\n",
    "\n",
    "#convert to float32 type \n",
    "x_train112 = x_train112.astype('float32')\n",
    "x_test112 = x_test112.astype('float32')\n",
    "\n",
    "# Normalize to 0 to 1 range\n",
    "x_train112 /= 255\n",
    "x_test112/= 255"
   ]
  },
  {
   "cell_type": "code",
   "execution_count": null,
   "metadata": {
    "colab": {
     "base_uri": "https://localhost:8080/"
    },
    "id": "jkil2O7uC0di",
    "outputId": "ae865e80-77e7-43f6-e09d-c4c85eca66e6"
   },
   "outputs": [
    {
     "name": "stdout",
     "output_type": "stream",
     "text": [
      "(60000, 12544) train shape\n",
      "(10000, 12544) test shape\n"
     ]
    }
   ],
   "source": [
    "print(x_train112.shape ,\"train shape\")\n",
    "print(x_test112.shape ,\"test shape\")"
   ]
  },
  {
   "cell_type": "code",
   "execution_count": null,
   "metadata": {
    "colab": {
     "base_uri": "https://localhost:8080/"
    },
    "id": "elr1Ho86zD3R",
    "outputId": "77ffde20-7dc4-4618-b2bb-1c182b4ffeb0"
   },
   "outputs": [
    {
     "name": "stdout",
     "output_type": "stream",
     "text": [
      "Model: \"sequential_17\"\n",
      "_________________________________________________________________\n",
      "Layer (type)                 Output Shape              Param #   \n",
      "=================================================================\n",
      "dense_89 (Dense)             (None, 128)               1605760   \n",
      "_________________________________________________________________\n",
      "dense_90 (Dense)             (None, 128)               16512     \n",
      "_________________________________________________________________\n",
      "dense_91 (Dense)             (None, 128)               16512     \n",
      "_________________________________________________________________\n",
      "dense_92 (Dense)             (None, 128)               16512     \n",
      "_________________________________________________________________\n",
      "dense_93 (Dense)             (None, 10)                1290      \n",
      "=================================================================\n",
      "Total params: 1,656,586\n",
      "Trainable params: 1,656,586\n",
      "Non-trainable params: 0\n",
      "_________________________________________________________________\n"
     ]
    }
   ],
   "source": [
    "model_112 = Sequential()\n",
    "model_112.add(Dense(128, activation='relu', input_shape=(12544,)))\n",
    "model_112.add(Dense(128, activation='relu'))\n",
    "model_112.add(Dense(128, activation='relu'))\n",
    "model_112.add(Dense(128, activation='relu'))\n",
    "model_112.add(Dense(num_classes, activation='softmax'))\n",
    "\n",
    "model_112.summary()"
   ]
  },
  {
   "cell_type": "code",
   "execution_count": null,
   "metadata": {
    "id": "GKMrqg3NzPlO"
   },
   "outputs": [],
   "source": [
    "model_112.compile(loss='categorical_crossentropy',optimizer='adam',metrics=['accuracy'])"
   ]
  },
  {
   "cell_type": "code",
   "execution_count": null,
   "metadata": {
    "colab": {
     "base_uri": "https://localhost:8080/"
    },
    "id": "4lLMQiHpzWIl",
    "outputId": "d313b54e-4be0-4839-e4ed-f4a832170abd"
   },
   "outputs": [
    {
     "name": "stdout",
     "output_type": "stream",
     "text": [
      "Epoch 1/10\n",
      "375/375 - 11s - loss: 0.2716 - accuracy: 0.9178 - val_loss: 0.1530 - val_accuracy: 0.9547\n",
      "Epoch 2/10\n",
      "375/375 - 10s - loss: 0.1265 - accuracy: 0.9625 - val_loss: 0.1239 - val_accuracy: 0.9622\n",
      "Epoch 3/10\n",
      "375/375 - 10s - loss: 0.0957 - accuracy: 0.9693 - val_loss: 0.1010 - val_accuracy: 0.9718\n",
      "Epoch 4/10\n",
      "375/375 - 10s - loss: 0.0714 - accuracy: 0.9772 - val_loss: 0.1160 - val_accuracy: 0.9688\n",
      "Epoch 5/10\n",
      "375/375 - 10s - loss: 0.0612 - accuracy: 0.9810 - val_loss: 0.1048 - val_accuracy: 0.9712\n",
      "Epoch 6/10\n",
      "375/375 - 10s - loss: 0.0543 - accuracy: 0.9822 - val_loss: 0.1105 - val_accuracy: 0.9688\n",
      "Epoch 7/10\n",
      "375/375 - 10s - loss: 0.0449 - accuracy: 0.9856 - val_loss: 0.1067 - val_accuracy: 0.9718\n",
      "Epoch 8/10\n",
      "375/375 - 10s - loss: 0.0443 - accuracy: 0.9858 - val_loss: 0.1182 - val_accuracy: 0.9687\n",
      "Epoch 9/10\n",
      "375/375 - 10s - loss: 0.0380 - accuracy: 0.9878 - val_loss: 0.1057 - val_accuracy: 0.9722\n",
      "Epoch 10/10\n",
      "375/375 - 10s - loss: 0.0322 - accuracy: 0.9891 - val_loss: 0.1212 - val_accuracy: 0.9728\n"
     ]
    }
   ],
   "source": [
    "history112=model_112.fit(x_train112,y_train,batch_size=batch_size,epochs=10,verbose=2,validation_split=0.2)       "
   ]
  },
  {
   "cell_type": "code",
   "execution_count": null,
   "metadata": {
    "colab": {
     "base_uri": "https://localhost:8080/",
     "height": 295
    },
    "id": "BQrn57wSDJj6",
    "outputId": "de1ac033-d35f-4d30-9a32-b4167b12c209"
   },
   "outputs": [
    {
     "data": {
      "image/png": "[encoded data removed]",
      "text/plain": [
       "<Figure size 432x288 with 1 Axes>"
      ]
     },
     "metadata": {
      "needs_background": "light"
     },
     "output_type": "display_data"
    }
   ],
   "source": [
    "plt.plot(history112.history['accuracy'])\n",
    "plt.plot(history112.history['val_accuracy'])\n",
    "plt.title('Model Accuracy')\n",
    "plt.ylabel('accuracy')\n",
    "plt.xlabel('epoch')\n",
    "plt.legend(['Train', 'Validation'])\n",
    "plt.show()"
   ]
  },
  {
   "cell_type": "code",
   "execution_count": null,
   "metadata": {
    "colab": {
     "base_uri": "https://localhost:8080/"
    },
    "id": "b3BeOJ-6JpUx",
    "outputId": "3289da4e-0232-440a-d6a2-5867d12b65c8"
   },
   "outputs": [
    {
     "name": "stdout",
     "output_type": "stream",
     "text": [
      "Test loss: 0.09890282899141312\n",
      "Test accuracy: 0.9749000072479248\n"
     ]
    }
   ],
   "source": [
    "score = model_112.evaluate(x_test112, y_test, verbose=0)\n",
    "print('Test loss:', score[0])\n",
    "print('Test accuracy:', score[1])"
   ]
  },
  {
   "cell_type": "markdown",
   "metadata": {
    "id": "r_vNTMQO3m2y"
   },
   "source": [
    "**10.Dataset Split**\n",
    "\n",
    " Instead of 60k images of training and 10k images for testing, run different models with different training and testing sizes, and see the changes in the accuracies. "
   ]
  },
  {
   "cell_type": "code",
   "execution_count": null,
   "metadata": {
    "id": "wfExY-om12FN"
   },
   "outputs": [],
   "source": [
    "(x_train, y_train), (x_test, y_test) = mnist.load_data()\n",
    "\n",
    "batch_size = 128\n",
    "num_classes = 10\n",
    "epochs = 2"
   ]
  },
  {
   "cell_type": "code",
   "execution_count": null,
   "metadata": {
    "id": "u9WMiDiY5_mg"
   },
   "outputs": [],
   "source": [
    "c = x_train.flatten() \n",
    "d = x_test.flatten()\n",
    "\n",
    "X=np.concatenate((c,d))\n",
    "y=np.concatenate((y_train,y_test))\n",
    "\n",
    "X = X.reshape(70000,784)"
   ]
  },
  {
   "cell_type": "code",
   "execution_count": null,
   "metadata": {
    "id": "gC9Dc_Fh94le"
   },
   "outputs": [],
   "source": [
    "# split the entire data with train set 70% and test set 30%\n",
    "X_train, X_test, y_train, y_test = train_test_split(X, y, train_size=0.7,test_size=0.3)"
   ]
  },
  {
   "cell_type": "code",
   "execution_count": null,
   "metadata": {
    "colab": {
     "base_uri": "https://localhost:8080/"
    },
    "id": "ekibAjPiAIHy",
    "outputId": "34cfa7b0-9716-4e16-b0a3-7de7a94a7630"
   },
   "outputs": [
    {
     "name": "stdout",
     "output_type": "stream",
     "text": [
      "(49000, 784)\n",
      "(21000, 784)\n",
      "(49000,)\n",
      "(21000,)\n"
     ]
    }
   ],
   "source": [
    "print(X_train.shape)\n",
    "print(X_test.shape)\n",
    "print(y_train.shape)\n",
    "print(y_test.shape)"
   ]
  },
  {
   "cell_type": "code",
   "execution_count": null,
   "metadata": {
    "id": "2xSGt009-p2m"
   },
   "outputs": [],
   "source": [
    "Y_train = to_categorical(y_train, num_classes)\n",
    "Y_test = to_categorical(y_test, num_classes)"
   ]
  },
  {
   "cell_type": "code",
   "execution_count": null,
   "metadata": {
    "colab": {
     "base_uri": "https://localhost:8080/"
    },
    "id": "52JSmOtuBFg5",
    "outputId": "7ad0264c-c5e8-4980-828b-0c44e75235f6"
   },
   "outputs": [
    {
     "name": "stdout",
     "output_type": "stream",
     "text": [
      "Model: \"sequential_18\"\n",
      "_________________________________________________________________\n",
      "Layer (type)                 Output Shape              Param #   \n",
      "=================================================================\n",
      "dense_94 (Dense)             (None, 512)               401920    \n",
      "_________________________________________________________________\n",
      "dense_95 (Dense)             (None, 256)               131328    \n",
      "_________________________________________________________________\n",
      "dense_96 (Dense)             (None, 128)               32896     \n",
      "_________________________________________________________________\n",
      "dense_97 (Dense)             (None, 64)                8256      \n",
      "_________________________________________________________________\n",
      "dense_98 (Dense)             (None, 10)                650       \n",
      "=================================================================\n",
      "Total params: 575,050\n",
      "Trainable params: 575,050\n",
      "Non-trainable params: 0\n",
      "_________________________________________________________________\n"
     ]
    }
   ],
   "source": [
    "model_new = Sequential()\n",
    "model_new.add(Dense(512, activation='relu', input_shape=(784,)))\n",
    "model_new.add(Dense(256, activation='relu'))\n",
    "model_new.add(Dense(128, activation='relu'))\n",
    "model_new.add(Dense(64, activation='relu'))\n",
    "model_new.add(Dense(num_classes, activation='softmax'))\n",
    "\n",
    "model_new.summary()"
   ]
  },
  {
   "cell_type": "code",
   "execution_count": null,
   "metadata": {
    "id": "atQvjIFlBWvj"
   },
   "outputs": [],
   "source": [
    "model_new.compile(loss='categorical_crossentropy',optimizer='adam',metrics=['accuracy'])"
   ]
  },
  {
   "cell_type": "code",
   "execution_count": null,
   "metadata": {
    "colab": {
     "base_uri": "https://localhost:8080/"
    },
    "id": "omz13osUBd6z",
    "outputId": "295cd082-d33c-44c3-fa72-c0ff1ba263bc"
   },
   "outputs": [
    {
     "name": "stdout",
     "output_type": "stream",
     "text": [
      "Epoch 1/10\n",
      "307/307 - 4s - loss: 1.6409 - accuracy: 0.8555 - val_loss: 0.4863 - val_accuracy: 0.8856\n",
      "Epoch 2/10\n",
      "307/307 - 4s - loss: 0.2243 - accuracy: 0.9403 - val_loss: 0.2259 - val_accuracy: 0.9447\n",
      "Epoch 3/10\n",
      "307/307 - 4s - loss: 0.1294 - accuracy: 0.9631 - val_loss: 0.2137 - val_accuracy: 0.9443\n",
      "Epoch 4/10\n",
      "307/307 - 4s - loss: 0.0861 - accuracy: 0.9733 - val_loss: 0.2334 - val_accuracy: 0.9454\n",
      "Epoch 5/10\n",
      "307/307 - 4s - loss: 0.0889 - accuracy: 0.9731 - val_loss: 0.1932 - val_accuracy: 0.9546\n",
      "Epoch 6/10\n",
      "307/307 - 4s - loss: 0.0699 - accuracy: 0.9779 - val_loss: 0.1841 - val_accuracy: 0.9579\n",
      "Epoch 7/10\n",
      "307/307 - 4s - loss: 0.0669 - accuracy: 0.9794 - val_loss: 0.1731 - val_accuracy: 0.9620\n",
      "Epoch 8/10\n",
      "307/307 - 4s - loss: 0.0723 - accuracy: 0.9784 - val_loss: 0.1643 - val_accuracy: 0.9638\n",
      "Epoch 9/10\n",
      "307/307 - 4s - loss: 0.0690 - accuracy: 0.9800 - val_loss: 0.1891 - val_accuracy: 0.9606\n",
      "Epoch 10/10\n",
      "307/307 - 4s - loss: 0.0723 - accuracy: 0.9794 - val_loss: 0.1616 - val_accuracy: 0.9674\n"
     ]
    }
   ],
   "source": [
    "history_new=model_new.fit(X_train,Y_train,batch_size=batch_size,epochs=10,verbose=2,validation_split=0.2)       "
   ]
  },
  {
   "cell_type": "code",
   "execution_count": null,
   "metadata": {
    "colab": {
     "base_uri": "https://localhost:8080/",
     "height": 295
    },
    "id": "iDkIKZGGF8Dr",
    "outputId": "17969b5e-f227-4eea-aeeb-90828bd99c51"
   },
   "outputs": [
    {
     "data": {
      "image/png": "[encoded data removed]",
      "text/plain": [
       "<Figure size 432x288 with 1 Axes>"
      ]
     },
     "metadata": {
      "needs_background": "light"
     },
     "output_type": "display_data"
    }
   ],
   "source": [
    "plt.plot(history_new.history['accuracy'])\n",
    "plt.plot(history_new.history['val_accuracy'])\n",
    "plt.title('Model Accuracy')\n",
    "plt.ylabel('accuracy')\n",
    "plt.xlabel('epoch')\n",
    "plt.legend(['Train', 'Validation'])\n",
    "plt.show()"
   ]
  },
  {
   "cell_type": "code",
   "execution_count": null,
   "metadata": {
    "colab": {
     "base_uri": "https://localhost:8080/"
    },
    "id": "dTtHEex0IaOJ",
    "outputId": "76b047aa-157c-4484-a02f-2adf7c7c8a00"
   },
   "outputs": [
    {
     "name": "stdout",
     "output_type": "stream",
     "text": [
      "Test loss: 0.16715054214000702\n",
      "Test accuracy: 0.9667142629623413\n"
     ]
    }
   ],
   "source": [
    "score = model_new.evaluate(X_test, Y_test, verbose=0)\n",
    "print('Test loss:', score[0])\n",
    "print('Test accuracy:', score[1])"
   ]
  },
  {
   "cell_type": "code",
   "execution_count": null,
   "metadata": {
    "id": "nuwyX8L2U8WD"
   },
   "outputs": [],
   "source": [
    "#split the entire data into train set 80% and test set 20%\n",
    "X_train, X_test, y_train, y_test = train_test_split(X, y, train_size=0.8,test_size=0.2)"
   ]
  },
  {
   "cell_type": "code",
   "execution_count": null,
   "metadata": {
    "id": "81ZTp-TQZ9HD"
   },
   "outputs": [],
   "source": [
    "Y_train = to_categorical(y_train, num_classes)\n",
    "Y_test = to_categorical(y_test, num_classes)"
   ]
  },
  {
   "cell_type": "code",
   "execution_count": null,
   "metadata": {
    "colab": {
     "base_uri": "https://localhost:8080/"
    },
    "id": "XgicLMCRaAJ8",
    "outputId": "0d9f6033-4b4b-44ea-a594-b0abfd8a2ea7"
   },
   "outputs": [
    {
     "name": "stdout",
     "output_type": "stream",
     "text": [
      "Model: \"sequential_19\"\n",
      "_________________________________________________________________\n",
      "Layer (type)                 Output Shape              Param #   \n",
      "=================================================================\n",
      "dense_99 (Dense)             (None, 512)               401920    \n",
      "_________________________________________________________________\n",
      "dense_100 (Dense)            (None, 256)               131328    \n",
      "_________________________________________________________________\n",
      "dense_101 (Dense)            (None, 128)               32896     \n",
      "_________________________________________________________________\n",
      "dense_102 (Dense)            (None, 64)                8256      \n",
      "_________________________________________________________________\n",
      "dense_103 (Dense)            (None, 10)                650       \n",
      "=================================================================\n",
      "Total params: 575,050\n",
      "Trainable params: 575,050\n",
      "Non-trainable params: 0\n",
      "_________________________________________________________________\n"
     ]
    }
   ],
   "source": [
    "model_new1 = Sequential()\n",
    "model_new1.add(Dense(512, activation='tanh', input_shape=(784,)))\n",
    "model_new1.add(Dense(256, activation='tanh'))\n",
    "model_new1.add(Dense(128, activation='tanh'))\n",
    "model_new1.add(Dense(64, activation='tanh'))\n",
    "model_new1.add(Dense(num_classes, activation='softmax'))\n",
    "\n",
    "model_new1.summary()"
   ]
  },
  {
   "cell_type": "code",
   "execution_count": null,
   "metadata": {
    "id": "i6j7_Ez9aQVP"
   },
   "outputs": [],
   "source": [
    "model_new1.compile(loss='categorical_crossentropy',optimizer=RMSprop(0.0001),metrics=['accuracy'])\n"
   ]
  },
  {
   "cell_type": "code",
   "execution_count": null,
   "metadata": {
    "colab": {
     "base_uri": "https://localhost:8080/"
    },
    "id": "29jzfHIvaXF4",
    "outputId": "b1fb5eb1-5bf0-4b71-f76c-78f418444b4d"
   },
   "outputs": [
    {
     "name": "stdout",
     "output_type": "stream",
     "text": [
      "Epoch 1/10\n",
      "350/350 - 6s - loss: 0.6903 - accuracy: 0.8154 - val_loss: 0.3743 - val_accuracy: 0.8954\n",
      "Epoch 2/10\n",
      "350/350 - 5s - loss: 0.2903 - accuracy: 0.9190 - val_loss: 0.2795 - val_accuracy: 0.9184\n",
      "Epoch 3/10\n",
      "350/350 - 5s - loss: 0.2172 - accuracy: 0.9381 - val_loss: 0.2340 - val_accuracy: 0.9298\n",
      "Epoch 4/10\n",
      "350/350 - 5s - loss: 0.1738 - accuracy: 0.9498 - val_loss: 0.2087 - val_accuracy: 0.9373\n",
      "Epoch 5/10\n",
      "350/350 - 5s - loss: 0.1460 - accuracy: 0.9573 - val_loss: 0.1917 - val_accuracy: 0.9409\n",
      "Epoch 6/10\n",
      "350/350 - 5s - loss: 0.1223 - accuracy: 0.9638 - val_loss: 0.1789 - val_accuracy: 0.9448\n",
      "Epoch 7/10\n",
      "350/350 - 5s - loss: 0.1022 - accuracy: 0.9711 - val_loss: 0.1676 - val_accuracy: 0.9483\n",
      "Epoch 8/10\n",
      "350/350 - 5s - loss: 0.0879 - accuracy: 0.9753 - val_loss: 0.1598 - val_accuracy: 0.9495\n",
      "Epoch 9/10\n",
      "350/350 - 5s - loss: 0.0749 - accuracy: 0.9789 - val_loss: 0.1547 - val_accuracy: 0.9527\n",
      "Epoch 10/10\n",
      "350/350 - 5s - loss: 0.0643 - accuracy: 0.9815 - val_loss: 0.1499 - val_accuracy: 0.9550\n"
     ]
    }
   ],
   "source": [
    "history_new1=model_new1.fit(X_train,Y_train,batch_size=batch_size,epochs=10,verbose=2,validation_split=0.2)       \n"
   ]
  },
  {
   "cell_type": "code",
   "execution_count": null,
   "metadata": {
    "colab": {
     "base_uri": "https://localhost:8080/",
     "height": 295
    },
    "id": "AE6Z7_6GGnHs",
    "outputId": "ac7c27d7-eba9-43e7-8074-a0400f8e73ff"
   },
   "outputs": [
    {
     "data": {
      "image/png": "[encoded data removed]",
      "text/plain": [
       "<Figure size 432x288 with 1 Axes>"
      ]
     },
     "metadata": {
      "needs_background": "light"
     },
     "output_type": "display_data"
    }
   ],
   "source": [
    "plt.plot(history_new1.history['accuracy'])\n",
    "plt.plot(history_new1.history['val_accuracy'])\n",
    "plt.title('Model Accuracy')\n",
    "plt.ylabel('accuracy')\n",
    "plt.xlabel('epoch')\n",
    "plt.legend(['Train', 'Validation'])\n",
    "plt.show()"
   ]
  },
  {
   "cell_type": "code",
   "execution_count": null,
   "metadata": {
    "colab": {
     "base_uri": "https://localhost:8080/"
    },
    "id": "hiCEpCajaciF",
    "outputId": "da98e9ef-28ff-40f4-885d-bb8230543b56"
   },
   "outputs": [
    {
     "name": "stdout",
     "output_type": "stream",
     "text": [
      "Test loss: 0.1476115882396698\n",
      "Test accuracy: 0.9550714492797852\n"
     ]
    }
   ],
   "source": [
    "score = model_new1.evaluate(X_test, Y_test, verbose=0)\n",
    "print('Test loss:', score[0])\n",
    "print('Test accuracy:', score[1])"
   ]
  }
 ],
 "metadata": {
  "accelerator": "TPU",
  "colab": {
   "collapsed_sections": [],
   "name": "PDL_LAB_11.ipynb",
   "provenance": []
  },
  "kernelspec": {
   "display_name": "Python 3",
   "language": "python",
   "name": "python3"
  },
  "language_info": {
   "codemirror_mode": {
    "name": "ipython",
    "version": 3
   },
   "file_extension": ".py",
   "mimetype": "text/x-python",
   "name": "python",
   "nbconvert_exporter": "python",
   "pygments_lexer": "ipython3",
   "version": "3.9.1"
  }
 },
 "nbformat": 4,
 "nbformat_minor": 1
}
