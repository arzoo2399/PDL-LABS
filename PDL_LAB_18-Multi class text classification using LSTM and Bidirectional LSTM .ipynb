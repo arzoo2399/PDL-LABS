{
 "cells": [
  {
   "cell_type": "markdown",
   "metadata": {
    "id": "BN3j0kXPBdNE"
   },
   "source": [
    "# <center> PDL Lab18. Multi Class Text Classification using LSTM and Bidirectional LSTM </center>\n",
    "\n",
    "### 205229103\n",
    "\n",
    "### Arzoo Sah"
   ]
  },
  {
   "cell_type": "markdown",
   "metadata": {
    "id": "pfRNt9ngCEQL"
   },
   "source": [
    "#### Import libraries"
   ]
  },
  {
   "cell_type": "code",
   "execution_count": 76,
   "metadata": {
    "colab": {
     "base_uri": "https://localhost:8080/"
    },
    "id": "iL_J2QBTBItf",
    "outputId": "e6b9e1dc-aa08-49ca-9b47-7092bb631e64"
   },
   "outputs": [
    {
     "name": "stdout",
     "output_type": "stream",
     "text": [
      "[nltk_data] Downloading package stopwords to /root/nltk_data...\n",
      "[nltk_data]   Package stopwords is already up-to-date!\n"
     ]
    }
   ],
   "source": [
    "import tensorflow as tf\n",
    "import numpy as np\n",
    "import pandas as pd\n",
    "import matplotlib.pyplot as plt\n",
    "import nltk \n",
    "from sklearn.preprocessing import LabelEncoder\n",
    "from tensorflow.keras.preprocessing.text import Tokenizer\n",
    "from tensorflow.keras.preprocessing.sequence import pad_sequences\n",
    "from keras.models import Sequential\n",
    "from keras.layers import Dense, Embedding,SimpleRNN,LSTM,Bidirectional,Dropout\n",
    "from tensorflow.keras.utils import to_categorical\n",
    "from nltk.corpus import stopwords\n",
    "nltk.download('stopwords')\n",
    "\",\".join(stopwords.words('english'))\n",
    "STOPWORDS = set(stopwords.words('english'))\n",
    "from sklearn.model_selection import train_test_split"
   ]
  },
  {
   "cell_type": "markdown",
   "metadata": {
    "id": "pYONEi2HCUOu"
   },
   "source": [
    "#### Pre-processing the Text"
   ]
  },
  {
   "cell_type": "code",
   "execution_count": 2,
   "metadata": {
    "colab": {
     "base_uri": "https://localhost:8080/",
     "height": 203
    },
    "id": "Kvci7Do8CM-x",
    "outputId": "661a3f42-356c-4315-d434-61ec1db4be3a"
   },
   "outputs": [
    {
     "data": {
      "text/html": [
       "<div>\n",
       "<style scoped>\n",
       "    .dataframe tbody tr th:only-of-type {\n",
       "        vertical-align: middle;\n",
       "    }\n",
       "\n",
       "    .dataframe tbody tr th {\n",
       "        vertical-align: top;\n",
       "    }\n",
       "\n",
       "    .dataframe thead th {\n",
       "        text-align: right;\n",
       "    }\n",
       "</style>\n",
       "<table border=\"1\" class=\"dataframe\">\n",
       "  <thead>\n",
       "    <tr style=\"text-align: right;\">\n",
       "      <th></th>\n",
       "      <th>category</th>\n",
       "      <th>text</th>\n",
       "    </tr>\n",
       "  </thead>\n",
       "  <tbody>\n",
       "    <tr>\n",
       "      <th>0</th>\n",
       "      <td>tech</td>\n",
       "      <td>tv future in the hands of viewers with home th...</td>\n",
       "    </tr>\n",
       "    <tr>\n",
       "      <th>1</th>\n",
       "      <td>business</td>\n",
       "      <td>worldcom boss  left books alone  former worldc...</td>\n",
       "    </tr>\n",
       "    <tr>\n",
       "      <th>2</th>\n",
       "      <td>sport</td>\n",
       "      <td>tigers wary of farrell  gamble  leicester say ...</td>\n",
       "    </tr>\n",
       "    <tr>\n",
       "      <th>3</th>\n",
       "      <td>sport</td>\n",
       "      <td>yeading face newcastle in fa cup premiership s...</td>\n",
       "    </tr>\n",
       "    <tr>\n",
       "      <th>4</th>\n",
       "      <td>entertainment</td>\n",
       "      <td>ocean s twelve raids box office ocean s twelve...</td>\n",
       "    </tr>\n",
       "  </tbody>\n",
       "</table>\n",
       "</div>"
      ],
      "text/plain": [
       "        category                                               text\n",
       "0           tech  tv future in the hands of viewers with home th...\n",
       "1       business  worldcom boss  left books alone  former worldc...\n",
       "2          sport  tigers wary of farrell  gamble  leicester say ...\n",
       "3          sport  yeading face newcastle in fa cup premiership s...\n",
       "4  entertainment  ocean s twelve raids box office ocean s twelve..."
      ]
     },
     "execution_count": 2,
     "metadata": {},
     "output_type": "execute_result"
    }
   ],
   "source": [
    "df = pd.read_csv(\"/content/lstm-lab-dataset.csv\")\n",
    "df.head()"
   ]
  },
  {
   "cell_type": "code",
   "execution_count": 3,
   "metadata": {
    "id": "aH53yANXC-1u"
   },
   "outputs": [],
   "source": [
    "y =df['category']\n",
    "X=[]\n",
    "for review in df['text']:\n",
    "    filtered_sentence = [w.lower() for w in review.split() if not w in STOPWORDS]\n",
    "    X.append(filtered_sentence)\n",
    "X = pd.Series(X)  "
   ]
  },
  {
   "cell_type": "code",
   "execution_count": 4,
   "metadata": {
    "colab": {
     "base_uri": "https://localhost:8080/"
    },
    "id": "-fgkKoLSGR9_",
    "outputId": "609f78c1-587d-4d3c-ba81-e7a4fcd5ca0a"
   },
   "outputs": [
    {
     "data": {
      "text/plain": [
       "0       [tv, future, hands, viewers, home, theatre, sy...\n",
       "1       [worldcom, boss, left, books, alone, former, w...\n",
       "2       [tigers, wary, farrell, gamble, leicester, say...\n",
       "3       [yeading, face, newcastle, fa, cup, premiershi...\n",
       "4       [ocean, twelve, raids, box, office, ocean, twe...\n",
       "                              ...                        \n",
       "2220    [cars, pull, us, retail, figures, us, retail, ...\n",
       "2221    [kilroy, unveils, immigration, policy, ex-chat...\n",
       "2222    [rem, announce, new, glasgow, concert, us, ban...\n",
       "2223    [political, squabbles, snowball, become, commo...\n",
       "2224    [souness, delight, euro, progress, boss, graem...\n",
       "Length: 2225, dtype: object"
      ]
     },
     "execution_count": 4,
     "metadata": {},
     "output_type": "execute_result"
    }
   ],
   "source": [
    "X"
   ]
  },
  {
   "cell_type": "markdown",
   "metadata": {
    "id": "VSIGzEJlGtOf"
   },
   "source": [
    "### Dataset Preparation"
   ]
  },
  {
   "cell_type": "code",
   "execution_count": 6,
   "metadata": {
    "id": "M9BPOn0JGwKv"
   },
   "outputs": [],
   "source": [
    "X_train,X_test,y_train,y_test = train_test_split(X,y,train_size=0.8)"
   ]
  },
  {
   "cell_type": "code",
   "execution_count": 7,
   "metadata": {
    "colab": {
     "base_uri": "https://localhost:8080/"
    },
    "id": "BILG_gwzG0Gx",
    "outputId": "e90f2596-64c2-4a75-d809-0671e9db963a"
   },
   "outputs": [
    {
     "name": "stdout",
     "output_type": "stream",
     "text": [
      "(1780,)\n",
      "(445,)\n",
      "(1780,)\n",
      "(445,)\n"
     ]
    }
   ],
   "source": [
    "print(X_train.shape)\n",
    "print(X_test.shape)\n",
    "print(y_train.shape)\n",
    "print(y_test.shape)"
   ]
  },
  {
   "cell_type": "code",
   "execution_count": 8,
   "metadata": {
    "id": "CkE_6LStVcUL"
   },
   "outputs": [],
   "source": [
    "#label_tokenizer_train = Tokenizer()\n",
    "label_tokenizer = Tokenizer()\n",
    "\n",
    "#label_tokenizer_train.fit_on_texts(y_train)\n",
    "label_tokenizer.fit_on_texts(y)\n",
    "\n",
    "training_label_seq = np.array(label_tokenizer.texts_to_sequences(y_train))\n",
    "testing_label_seq = np.array(label_tokenizer.texts_to_sequences(y_test))"
   ]
  },
  {
   "cell_type": "code",
   "execution_count": 9,
   "metadata": {
    "colab": {
     "base_uri": "https://localhost:8080/"
    },
    "id": "lJ0ggUzYWwda",
    "outputId": "0284a2cd-9eb6-4d91-d6c7-08701d4f5d63"
   },
   "outputs": [
    {
     "name": "stdout",
     "output_type": "stream",
     "text": [
      "(1780, 1)\n",
      "(445, 1)\n"
     ]
    }
   ],
   "source": [
    "print(training_label_seq.shape)\n",
    "print(testing_label_seq.shape)"
   ]
  },
  {
   "cell_type": "code",
   "execution_count": 10,
   "metadata": {
    "colab": {
     "base_uri": "https://localhost:8080/"
    },
    "id": "dv-P6V7TGSyO",
    "outputId": "8d51d82f-4964-4089-9e72-38e4fcc98dfc"
   },
   "outputs": [
    {
     "data": {
      "text/plain": [
       "{'-': 3,\n",
       " '<oov>': 1,\n",
       " 'also': 6,\n",
       " 'mr': 4,\n",
       " 'new': 8,\n",
       " 'one': 10,\n",
       " 'people': 7,\n",
       " 'said': 2,\n",
       " 'us': 9,\n",
       " 'would': 5}"
      ]
     },
     "execution_count": 10,
     "metadata": {},
     "output_type": "execute_result"
    }
   ],
   "source": [
    "train_token = Tokenizer(num_words=5000,oov_token='<oov>')\n",
    "train_token.fit_on_texts(X_train)\n",
    "word_index = train_token.word_index\n",
    "train_sequence = train_token.texts_to_sequences(X_train)\n",
    "dict(list(word_index.items())[0:10])"
   ]
  },
  {
   "cell_type": "code",
   "execution_count": 11,
   "metadata": {
    "id": "jWnPF3prIIdG"
   },
   "outputs": [],
   "source": [
    "train_padded = pad_sequences(train_sequence,maxlen=300,padding='post')"
   ]
  },
  {
   "cell_type": "code",
   "execution_count": 12,
   "metadata": {
    "colab": {
     "base_uri": "https://localhost:8080/"
    },
    "id": "JT1lvGbyLVrK",
    "outputId": "cc3e2b58-49e7-420e-94eb-181d35e38484"
   },
   "outputs": [
    {
     "data": {
      "text/plain": [
       "(1780, 300)"
      ]
     },
     "execution_count": 12,
     "metadata": {},
     "output_type": "execute_result"
    }
   ],
   "source": [
    "train_padded.shape"
   ]
  },
  {
   "cell_type": "code",
   "execution_count": 13,
   "metadata": {
    "colab": {
     "base_uri": "https://localhost:8080/"
    },
    "id": "-H0zz2YYITk1",
    "outputId": "580d1b94-841f-4f34-f1da-5fe21d6c1935"
   },
   "outputs": [
    {
     "data": {
      "text/plain": [
       "array([ 591,  616, 3123,    1,    1,    1, 3705,   10, 3241, 1216,   25,\n",
       "        278, 2509,    1, 3124,   88, 3125,  651, 3026,  796,  483,  974,\n",
       "       1526,    1, 4266,    1,    1,    4,    1,  129, 1254, 3530,  116,\n",
       "          1, 2321,   24,    1,  676,   24,    1, 4267,  197,   19,  667,\n",
       "       2192, 1173,    1, 3126,    7, 1655,  651,  833, 3531,   10,  290,\n",
       "          1, 2912, 1773,    1,  610,  174,  222,  667,  155,  833, 1039,\n",
       "       3027,  178,  136,    1,  690,  722, 1040,  819,  136,  537,    1,\n",
       "        394,  136, 3127,  868,  667,  136,  690,    1,  178,  136, 3385,\n",
       "        155,  156,    6,  442,  418, 4058,    1,    1, 1332, 3706,  869,\n",
       "       4494,  387, 2913, 2510,   46, 3707, 2914,  355,    1, 2596, 3128,\n",
       "       1656,    1, 2699,  155,  156,  419, 1773, 4059, 1074,    1,    1,\n",
       "         28,    1,    1,  215,  212, 1174, 3893, 2439,  193,  916,   73,\n",
       "          1,  278,    1,  197,  948,  537, 1725, 1573,    1,    1, 3241,\n",
       "       1175, 3241,  704, 1094,    1,    1,   18,  636,    1,  235,  121,\n",
       "       1848,  331, 2700,  155, 2322, 3241, 1725,    1,  637,  843, 2511,\n",
       "       3894,    1,    1, 3532,   84,  196,  722,  537, 1849,  338,   46,\n",
       "        932,  369, 2595,  743,  213,    1, 1774, 4060, 1527,    7,   47,\n",
       "         61,  215,   36,  592,  266, 1462,  320,  278, 2509, 1094,  350,\n",
       "        650,  129,  394, 3028,   47,    1, 1983, 3129,    4,    1, 3241,\n",
       "        261,  104,   33, 4495, 1197,   54,  651,  762,    1,    1, 1026,\n",
       "          4,    1, 1094,  537, 2044, 1435, 2247,  236,    1,  112, 1901,\n",
       "         28,  155,  113,   69,  870,   24,  411,  350,  871, 3533,  104,\n",
       "          1, 1775,    1,    4,    1,    1,   10,   28,  436, 1111, 2802,\n",
       "         50, 1285, 1112,    1,    1,    1,    1,   87,    1,    7,  319,\n",
       "        336,  104,    1, 4266,    1,    1,   73, 3241,  192, 1939,    1,\n",
       "         89, 1599,  423,    4,    1,  554,  949, 2512,  395, 1631, 3241,\n",
       "        162,    7,  162, 2323,  232,  958,  537,    7,   36, 1174,   61,\n",
       "        527, 2193, 3882], dtype=int32)"
      ]
     },
     "execution_count": 13,
     "metadata": {},
     "output_type": "execute_result"
    }
   ],
   "source": [
    "train_padded[5]"
   ]
  },
  {
   "cell_type": "code",
   "execution_count": 14,
   "metadata": {
    "colab": {
     "base_uri": "https://localhost:8080/"
    },
    "id": "t9b7tlCDHL8S",
    "outputId": "7875ea9d-f866-4fdd-92b7-f54723b55ac9"
   },
   "outputs": [
    {
     "data": {
      "text/plain": [
       "{'-': 4,\n",
       " '<oov>': 1,\n",
       " 'also': 6,\n",
       " 'mr': 3,\n",
       " 'new': 7,\n",
       " 'one': 9,\n",
       " 'people': 8,\n",
       " 'said': 2,\n",
       " 'us': 10,\n",
       " 'would': 5}"
      ]
     },
     "execution_count": 14,
     "metadata": {},
     "output_type": "execute_result"
    }
   ],
   "source": [
    "test_token = Tokenizer(num_words=5000,oov_token='<oov>')\n",
    "test_token.fit_on_texts(X_test)\n",
    "word_index = test_token.word_index\n",
    "test_sequence = test_token.texts_to_sequences(X_test)\n",
    "dict(list(word_index.items())[0:10])"
   ]
  },
  {
   "cell_type": "code",
   "execution_count": 15,
   "metadata": {
    "id": "fefv1vO1IJuV"
   },
   "outputs": [],
   "source": [
    "test_padded = pad_sequences(test_sequence,maxlen=300,padding='post')"
   ]
  },
  {
   "cell_type": "code",
   "execution_count": 16,
   "metadata": {
    "colab": {
     "base_uri": "https://localhost:8080/"
    },
    "id": "FvIiGWM7LZE3",
    "outputId": "28064579-460d-47f4-d52a-e8960841bf25"
   },
   "outputs": [
    {
     "data": {
      "text/plain": [
       "(445, 300)"
      ]
     },
     "execution_count": 16,
     "metadata": {},
     "output_type": "execute_result"
    }
   ],
   "source": [
    "test_padded.shape"
   ]
  },
  {
   "cell_type": "code",
   "execution_count": 17,
   "metadata": {
    "colab": {
     "base_uri": "https://localhost:8080/"
    },
    "id": "a91FDZ6kJERs",
    "outputId": "a8f05951-bc18-4362-b798-631bb3555aa1"
   },
   "outputs": [
    {
     "data": {
      "text/plain": [
       "array([   7,  870, 2342,  217,    1, 2343, 3484,   40,  373, 1027, 4094,\n",
       "          1,   71, 1215,    1,  494,    1,  923, 1216,  111, 3485,  106,\n",
       "          1, 1390,  534,    1, 4095,  121,  333,  373,  755,  924, 1391,\n",
       "          1, 3486,    1,   40,    1,   23,   66, 1287, 2097,    1, 4096,\n",
       "        183,  141, 3486, 4097,  515,  155, 4094, 3487,  334,  515,  756,\n",
       "          1, 1877,  106, 1483,  139, 1217,  439,  334, 1215, 4098,  421,\n",
       "         66,    1, 2344,   37,    1,   72,    1, 1730, 2998,    1, 1288,\n",
       "       1282,    1,    6, 2636,    1, 3485,   69,   18, 4099, 2999,  428,\n",
       "        113,  238,  444,  420, 1289, 2345,  121, 3000,   99, 3488, 1218,\n",
       "          4, 1730,  239,    1,  162, 1729,    2, 3001,    1, 1730,  783,\n",
       "         26,   51, 1731,  355, 1892,  463,    1,    4,   99, 3488,   33,\n",
       "         84,    1,  290,  536,  300, 1484,    1,  121,  689, 1290,   44,\n",
       "          1, 1291,   37,  217,    1,  177,  783,  175,  783, 1215, 4098,\n",
       "        925,  872, 1484, 4100,    1,    1,   74, 2340,  240,  329, 2096,\n",
       "       1392,  122, 3002,    1, 1393, 1485,  201,    8,   93,  201,    1,\n",
       "        926,  178,  113, 1486,   51,   88, 4101,  300, 1215,    1, 1597,\n",
       "        201, 3489, 1598, 1732,   41,    1,    1,    1, 1487,    1, 1217,\n",
       "       1028,    1,  615,  183,   99,    1, 1289,  288,  515,    1,    1,\n",
       "       1029,  293, 3490,  537, 4102,    1,  927, 3003,  405,    1, 4102,\n",
       "       2098, 4103,    1,   28,  128,   66,    1,    5,  586,  405,    1,\n",
       "          1,    1,    1,   39, 3004,    1,  346,  326, 3491, 1090,    1,\n",
       "       1597,  479, 1733,  965,   40, 3004,    1,  177,   42, 1734,  640,\n",
       "        684,    1,   49,    1,  252, 1153,  428,   66,    5,   93,    1,\n",
       "        784, 1488, 4104,  244,    1,  478, 2637,  390,    1,    1,    1,\n",
       "          1,    1, 1154, 2099,    1,    1,  184,  293,   12,   52,  690,\n",
       "        121, 2638,    1,  114,  154, 3492,    1,  480, 1292,  126,    1,\n",
       "        114,   89,  175,    1, 1599,    1,  496,  494,  166,    1, 2639,\n",
       "         70, 1489,  557], dtype=int32)"
      ]
     },
     "execution_count": 17,
     "metadata": {},
     "output_type": "execute_result"
    }
   ],
   "source": [
    "test_padded[5]"
   ]
  },
  {
   "cell_type": "markdown",
   "metadata": {
    "id": "NXMyeIGFH_U0"
   },
   "source": [
    "### Model Creation"
   ]
  },
  {
   "cell_type": "code",
   "execution_count": 18,
   "metadata": {
    "id": "8MVd_jeEMBey"
   },
   "outputs": [],
   "source": [
    "vocab_size = 5000\n",
    "embedding_dim = 64\n",
    "max_length = 300\n",
    "padding_type = 'post'\n",
    "oov_tok = '<OOV>'"
   ]
  },
  {
   "cell_type": "code",
   "execution_count": 19,
   "metadata": {
    "colab": {
     "base_uri": "https://localhost:8080/"
    },
    "id": "mnB0bHP3H7tU",
    "outputId": "3a360fea-4712-4416-ffe6-0877cf543911"
   },
   "outputs": [
    {
     "name": "stdout",
     "output_type": "stream",
     "text": [
      "Model: \"sequential\"\n",
      "_________________________________________________________________\n",
      "Layer (type)                 Output Shape              Param #   \n",
      "=================================================================\n",
      "embedding (Embedding)        (None, None, 64)          320000    \n",
      "_________________________________________________________________\n",
      "lstm (LSTM)                  (None, 64)                33024     \n",
      "_________________________________________________________________\n",
      "dense (Dense)                (None, 64)                4160      \n",
      "_________________________________________________________________\n",
      "dense_1 (Dense)              (None, 6)                 390       \n",
      "=================================================================\n",
      "Total params: 357,574\n",
      "Trainable params: 357,574\n",
      "Non-trainable params: 0\n",
      "_________________________________________________________________\n"
     ]
    }
   ],
   "source": [
    "model = Sequential()\n",
    "model.add(Embedding(vocab_size, embedding_dim))\n",
    "model.add(LSTM(embedding_dim))\n",
    "model.add(Dense(embedding_dim, activation='relu'))\n",
    "model.add(Dense(6,activation='softmax'))\n",
    "model.summary()"
   ]
  },
  {
   "cell_type": "code",
   "execution_count": 20,
   "metadata": {
    "id": "J3DFQbUQOuuG"
   },
   "outputs": [],
   "source": [
    "model.compile(optimizer='adam',loss='sparse_categorical_crossentropy',metrics=['accuracy'])"
   ]
  },
  {
   "cell_type": "code",
   "execution_count": 21,
   "metadata": {
    "colab": {
     "base_uri": "https://localhost:8080/"
    },
    "id": "3ste3ObpPXiM",
    "outputId": "806d599c-24ca-459c-a2a0-d5626848840f"
   },
   "outputs": [
    {
     "name": "stdout",
     "output_type": "stream",
     "text": [
      "Epoch 1/10\n",
      "64/64 - 7s - loss: 1.6551 - accuracy: 0.2343 - val_loss: 1.6012 - val_accuracy: 0.2944\n",
      "Epoch 2/10\n",
      "64/64 - 4s - loss: 1.5836 - accuracy: 0.2674 - val_loss: 1.6543 - val_accuracy: 0.2202\n",
      "Epoch 3/10\n",
      "64/64 - 4s - loss: 1.5875 - accuracy: 0.2528 - val_loss: 1.6130 - val_accuracy: 0.2382\n",
      "Epoch 4/10\n",
      "64/64 - 4s - loss: 1.5485 - accuracy: 0.2843 - val_loss: 1.5781 - val_accuracy: 0.2742\n",
      "Epoch 5/10\n",
      "64/64 - 4s - loss: 1.4658 - accuracy: 0.3410 - val_loss: 1.5771 - val_accuracy: 0.2787\n",
      "Epoch 6/10\n",
      "64/64 - 4s - loss: 1.4186 - accuracy: 0.3567 - val_loss: 1.5814 - val_accuracy: 0.2517\n",
      "Epoch 7/10\n",
      "64/64 - 4s - loss: 1.3191 - accuracy: 0.4433 - val_loss: 1.6101 - val_accuracy: 0.1820\n",
      "Epoch 8/10\n",
      "64/64 - 4s - loss: 1.4231 - accuracy: 0.3663 - val_loss: 1.5691 - val_accuracy: 0.2539\n",
      "Epoch 9/10\n",
      "64/64 - 4s - loss: 1.3537 - accuracy: 0.3815 - val_loss: 1.6422 - val_accuracy: 0.2674\n",
      "Epoch 10/10\n",
      "64/64 - 4s - loss: 1.2101 - accuracy: 0.4753 - val_loss: 1.6737 - val_accuracy: 0.2562\n"
     ]
    }
   ],
   "source": [
    "history=model.fit(train_padded,training_label_seq,epochs=10,verbose=2,validation_data=(test_padded,testing_label_seq),batch_size=28)"
   ]
  },
  {
   "cell_type": "code",
   "execution_count": 22,
   "metadata": {
    "colab": {
     "base_uri": "https://localhost:8080/",
     "height": 295
    },
    "id": "A8kfE3j6T5eV",
    "outputId": "7db42280-ad9d-412b-c32b-df07c04206fc"
   },
   "outputs": [
    {
     "data": {
      "image/png": "[encoded data removed]",
      "text/plain": [
       "<Figure size 432x288 with 1 Axes>"
      ]
     },
     "metadata": {
      "needs_background": "light"
     },
     "output_type": "display_data"
    }
   ],
   "source": [
    "plt.plot(history.history['accuracy'])\n",
    "plt.plot(history.history['val_accuracy'])\n",
    "plt.title('Model Accuracy')\n",
    "plt.ylabel('accuracy')\n",
    "plt.xlabel('epoch')\n",
    "plt.legend(['Train', 'Validation'])\n",
    "plt.show()"
   ]
  },
  {
   "cell_type": "code",
   "execution_count": 23,
   "metadata": {
    "colab": {
     "base_uri": "https://localhost:8080/"
    },
    "id": "oeDU6IfGUXYg",
    "outputId": "74f818da-567c-44b3-f4dd-0bfd3280dbf5"
   },
   "outputs": [
    {
     "name": "stdout",
     "output_type": "stream",
     "text": [
      "14/14 [==============================] - 0s 22ms/step - loss: 1.6737 - accuracy: 0.2562\n",
      "loss:  1.6736929416656494\n",
      "accuracy:  0.2561797797679901\n"
     ]
    }
   ],
   "source": [
    "score=model.evaluate(test_padded,testing_label_seq)\n",
    "print(\"loss: \",score[0])\n",
    "print(\"accuracy: \",score[1])"
   ]
  },
  {
   "cell_type": "markdown",
   "metadata": {
    "id": "BDUZT15eRGK0"
   },
   "source": [
    "### Number of Layers: "
   ]
  },
  {
   "cell_type": "code",
   "execution_count": 24,
   "metadata": {
    "colab": {
     "base_uri": "https://localhost:8080/"
    },
    "id": "OUDDCjkzPdsE",
    "outputId": "10b8ba3a-ca8c-44f1-afe4-6b447837d613"
   },
   "outputs": [
    {
     "name": "stdout",
     "output_type": "stream",
     "text": [
      "Model: \"sequential_1\"\n",
      "_________________________________________________________________\n",
      "Layer (type)                 Output Shape              Param #   \n",
      "=================================================================\n",
      "embedding_1 (Embedding)      (None, None, 64)          320000    \n",
      "_________________________________________________________________\n",
      "lstm_1 (LSTM)                (None, None, 64)          33024     \n",
      "_________________________________________________________________\n",
      "lstm_2 (LSTM)                (None, 64)                33024     \n",
      "_________________________________________________________________\n",
      "dense_2 (Dense)              (None, 64)                4160      \n",
      "_________________________________________________________________\n",
      "dense_3 (Dense)              (None, 6)                 390       \n",
      "=================================================================\n",
      "Total params: 390,598\n",
      "Trainable params: 390,598\n",
      "Non-trainable params: 0\n",
      "_________________________________________________________________\n"
     ]
    }
   ],
   "source": [
    "model1 = Sequential()\n",
    "model1.add(Embedding(vocab_size, embedding_dim))\n",
    "model1.add(LSTM(embedding_dim,return_sequences=True))\n",
    "model1.add(LSTM(embedding_dim))\n",
    "model1.add(Dense(embedding_dim, activation='relu'))\n",
    "model1.add(Dense(6,activation='softmax'))\n",
    "model1.summary()"
   ]
  },
  {
   "cell_type": "code",
   "execution_count": 25,
   "metadata": {
    "id": "2A_8RYePbVEF"
   },
   "outputs": [],
   "source": [
    "model1.compile(optimizer='adam',loss='sparse_categorical_crossentropy',metrics=['accuracy'])"
   ]
  },
  {
   "cell_type": "code",
   "execution_count": 26,
   "metadata": {
    "colab": {
     "base_uri": "https://localhost:8080/"
    },
    "id": "5uzbGZpYbnOM",
    "outputId": "a4c7d360-daca-41c7-931b-e43abb12a97a"
   },
   "outputs": [
    {
     "name": "stdout",
     "output_type": "stream",
     "text": [
      "Epoch 1/10\n",
      "64/64 - 13s - loss: 1.6449 - accuracy: 0.2388 - val_loss: 1.5871 - val_accuracy: 0.3034\n",
      "Epoch 2/10\n",
      "64/64 - 8s - loss: 1.6072 - accuracy: 0.2635 - val_loss: 1.7619 - val_accuracy: 0.2090\n",
      "Epoch 3/10\n",
      "64/64 - 8s - loss: 1.4378 - accuracy: 0.3500 - val_loss: 1.8475 - val_accuracy: 0.2270\n",
      "Epoch 4/10\n",
      "64/64 - 8s - loss: 1.4337 - accuracy: 0.3444 - val_loss: 1.8396 - val_accuracy: 0.2270\n",
      "Epoch 5/10\n",
      "64/64 - 8s - loss: 1.4267 - accuracy: 0.3635 - val_loss: 1.8707 - val_accuracy: 0.2292\n",
      "Epoch 6/10\n",
      "64/64 - 8s - loss: 1.4240 - accuracy: 0.3534 - val_loss: 1.8935 - val_accuracy: 0.2225\n",
      "Epoch 7/10\n",
      "64/64 - 8s - loss: 1.4188 - accuracy: 0.3652 - val_loss: 1.9346 - val_accuracy: 0.2247\n",
      "Epoch 8/10\n",
      "64/64 - 8s - loss: 1.3893 - accuracy: 0.3792 - val_loss: 1.9662 - val_accuracy: 0.2112\n",
      "Epoch 9/10\n",
      "64/64 - 8s - loss: 1.3651 - accuracy: 0.3787 - val_loss: 2.0292 - val_accuracy: 0.2022\n",
      "Epoch 10/10\n",
      "64/64 - 8s - loss: 1.3991 - accuracy: 0.3590 - val_loss: 1.9433 - val_accuracy: 0.2090\n"
     ]
    }
   ],
   "source": [
    "history1 = model1.fit(train_padded,training_label_seq,epochs=10,verbose=2,validation_data=(test_padded,testing_label_seq),batch_size=28)"
   ]
  },
  {
   "cell_type": "code",
   "execution_count": 27,
   "metadata": {
    "colab": {
     "base_uri": "https://localhost:8080/",
     "height": 295
    },
    "id": "nb99BXNabvwr",
    "outputId": "3208cdbd-156b-4359-9f74-146f34baeaea"
   },
   "outputs": [
    {
     "data": {
      "image/png": "[encoded data removed]",
      "text/plain": [
       "<Figure size 432x288 with 1 Axes>"
      ]
     },
     "metadata": {
      "needs_background": "light"
     },
     "output_type": "display_data"
    }
   ],
   "source": [
    "plt.plot(history1.history['accuracy'])\n",
    "plt.plot(history1.history['val_accuracy'])\n",
    "plt.title('Model Accuracy')\n",
    "plt.ylabel('accuracy')\n",
    "plt.xlabel('epoch')\n",
    "plt.legend(['Train', 'Validation'])\n",
    "plt.show()"
   ]
  },
  {
   "cell_type": "code",
   "execution_count": 28,
   "metadata": {
    "colab": {
     "base_uri": "https://localhost:8080/"
    },
    "id": "mh_bITlJB8lZ",
    "outputId": "4161ebc0-4ec8-4a82-d421-e417258e1924"
   },
   "outputs": [
    {
     "name": "stdout",
     "output_type": "stream",
     "text": [
      "14/14 [==============================] - 1s 45ms/step - loss: 1.9433 - accuracy: 0.2090\n",
      "loss:  1.9432774782180786\n",
      "accuracy:  0.20898877084255219\n"
     ]
    }
   ],
   "source": [
    "score=model1.evaluate(test_padded,testing_label_seq)\n",
    "print(\"loss: \",score[0])\n",
    "print(\"accuracy: \",score[1])"
   ]
  },
  {
   "cell_type": "code",
   "execution_count": 29,
   "metadata": {
    "colab": {
     "base_uri": "https://localhost:8080/"
    },
    "id": "RXUxB9BrCESG",
    "outputId": "a0b005bd-d9f4-45d8-cb5a-6103f5ec5732"
   },
   "outputs": [
    {
     "name": "stdout",
     "output_type": "stream",
     "text": [
      "Model: \"sequential_2\"\n",
      "_________________________________________________________________\n",
      "Layer (type)                 Output Shape              Param #   \n",
      "=================================================================\n",
      "embedding_2 (Embedding)      (None, None, 64)          320000    \n",
      "_________________________________________________________________\n",
      "lstm_3 (LSTM)                (None, None, 64)          33024     \n",
      "_________________________________________________________________\n",
      "lstm_4 (LSTM)                (None, None, 64)          33024     \n",
      "_________________________________________________________________\n",
      "lstm_5 (LSTM)                (None, 64)                33024     \n",
      "_________________________________________________________________\n",
      "dense_4 (Dense)              (None, 128)               8320      \n",
      "_________________________________________________________________\n",
      "dense_5 (Dense)              (None, 6)                 774       \n",
      "=================================================================\n",
      "Total params: 428,166\n",
      "Trainable params: 428,166\n",
      "Non-trainable params: 0\n",
      "_________________________________________________________________\n"
     ]
    }
   ],
   "source": [
    "model2 = Sequential()\n",
    "model2.add(Embedding(vocab_size, embedding_dim))\n",
    "model2.add(LSTM(embedding_dim,return_sequences=True))\n",
    "model2.add(LSTM(embedding_dim,return_sequences=True))\n",
    "model2.add(LSTM(embedding_dim))\n",
    "model2.add(Dense(128, activation='relu'))\n",
    "model2.add(Dense(6,activation='softmax'))\n",
    "model2.summary()"
   ]
  },
  {
   "cell_type": "code",
   "execution_count": 30,
   "metadata": {
    "id": "IrTaUx1QDVtK"
   },
   "outputs": [],
   "source": [
    "model2.compile(optimizer='adam',loss='sparse_categorical_crossentropy',metrics=['accuracy'])"
   ]
  },
  {
   "cell_type": "code",
   "execution_count": 31,
   "metadata": {
    "colab": {
     "base_uri": "https://localhost:8080/"
    },
    "id": "zlGgHyeeDbYm",
    "outputId": "aa01531b-8928-4009-9b4f-9b90b3cad4f3"
   },
   "outputs": [
    {
     "name": "stdout",
     "output_type": "stream",
     "text": [
      "Epoch 1/10\n",
      "64/64 - 19s - loss: 1.6277 - accuracy: 0.2702 - val_loss: 1.5474 - val_accuracy: 0.2989\n",
      "Epoch 2/10\n",
      "64/64 - 13s - loss: 1.4747 - accuracy: 0.3135 - val_loss: 2.1314 - val_accuracy: 0.2135\n",
      "Epoch 3/10\n",
      "64/64 - 13s - loss: 1.3205 - accuracy: 0.3421 - val_loss: 2.0249 - val_accuracy: 0.1978\n",
      "Epoch 4/10\n",
      "64/64 - 13s - loss: 1.3122 - accuracy: 0.3736 - val_loss: 2.0660 - val_accuracy: 0.1888\n",
      "Epoch 5/10\n",
      "64/64 - 13s - loss: 1.3081 - accuracy: 0.3528 - val_loss: 2.0823 - val_accuracy: 0.2022\n",
      "Epoch 6/10\n",
      "64/64 - 13s - loss: 1.3059 - accuracy: 0.3657 - val_loss: 2.0371 - val_accuracy: 0.1978\n",
      "Epoch 7/10\n",
      "64/64 - 13s - loss: 1.3038 - accuracy: 0.3629 - val_loss: 2.0742 - val_accuracy: 0.2180\n",
      "Epoch 8/10\n",
      "64/64 - 13s - loss: 1.2958 - accuracy: 0.3854 - val_loss: 1.8042 - val_accuracy: 0.2539\n",
      "Epoch 9/10\n",
      "64/64 - 13s - loss: 1.3873 - accuracy: 0.3528 - val_loss: 1.9900 - val_accuracy: 0.1730\n",
      "Epoch 10/10\n",
      "64/64 - 13s - loss: 1.4123 - accuracy: 0.3483 - val_loss: 1.8904 - val_accuracy: 0.1708\n"
     ]
    }
   ],
   "source": [
    "history2 = model2.fit(train_padded,training_label_seq,epochs=10,verbose=2,validation_data=(test_padded,testing_label_seq),batch_size=28)"
   ]
  },
  {
   "cell_type": "code",
   "execution_count": 32,
   "metadata": {
    "colab": {
     "base_uri": "https://localhost:8080/",
     "height": 295
    },
    "id": "acLm11FMDmRf",
    "outputId": "2b7c0086-c0e6-4e8a-b7c8-348aacb10f60"
   },
   "outputs": [
    {
     "data": {
      "image/png": "[encoded data removed]",
      "text/plain": [
       "<Figure size 432x288 with 1 Axes>"
      ]
     },
     "metadata": {
      "needs_background": "light"
     },
     "output_type": "display_data"
    }
   ],
   "source": [
    "plt.plot(history2.history['accuracy'])\n",
    "plt.plot(history2.history['val_accuracy'])\n",
    "plt.title('Model Accuracy')\n",
    "plt.ylabel('accuracy')\n",
    "plt.xlabel('epoch')\n",
    "plt.legend(['Train', 'Validation'])\n",
    "plt.show()"
   ]
  },
  {
   "cell_type": "code",
   "execution_count": 33,
   "metadata": {
    "colab": {
     "base_uri": "https://localhost:8080/"
    },
    "id": "kkDdkdvgDurX",
    "outputId": "57e89402-539a-4e00-c99d-4d0a4a019f2a"
   },
   "outputs": [
    {
     "name": "stdout",
     "output_type": "stream",
     "text": [
      "14/14 [==============================] - 1s 78ms/step - loss: 1.8904 - accuracy: 0.1708\n",
      "loss:  1.8904163837432861\n",
      "accuracy:  0.170786514878273\n"
     ]
    }
   ],
   "source": [
    "score=model2.evaluate(test_padded,testing_label_seq)\n",
    "print(\"loss: \",score[0])\n",
    "print(\"accuracy: \",score[1])"
   ]
  },
  {
   "cell_type": "code",
   "execution_count": 34,
   "metadata": {
    "colab": {
     "base_uri": "https://localhost:8080/"
    },
    "id": "kgj5ycnlHZPD",
    "outputId": "ee78dc82-9185-4075-ad68-8dd685db67ba"
   },
   "outputs": [
    {
     "name": "stdout",
     "output_type": "stream",
     "text": [
      "Model: \"sequential_3\"\n",
      "_________________________________________________________________\n",
      "Layer (type)                 Output Shape              Param #   \n",
      "=================================================================\n",
      "embedding_3 (Embedding)      (None, None, 64)          320000    \n",
      "_________________________________________________________________\n",
      "lstm_6 (LSTM)                (None, None, 64)          33024     \n",
      "_________________________________________________________________\n",
      "lstm_7 (LSTM)                (None, None, 64)          33024     \n",
      "_________________________________________________________________\n",
      "lstm_8 (LSTM)                (None, None, 64)          33024     \n",
      "_________________________________________________________________\n",
      "lstm_9 (LSTM)                (None, 64)                33024     \n",
      "_________________________________________________________________\n",
      "dense_6 (Dense)              (None, 32)                2080      \n",
      "_________________________________________________________________\n",
      "dense_7 (Dense)              (None, 6)                 198       \n",
      "=================================================================\n",
      "Total params: 454,374\n",
      "Trainable params: 454,374\n",
      "Non-trainable params: 0\n",
      "_________________________________________________________________\n"
     ]
    }
   ],
   "source": [
    "model3 = Sequential()\n",
    "model3.add(Embedding(vocab_size, embedding_dim))\n",
    "model3.add(LSTM(embedding_dim,return_sequences=True))\n",
    "model3.add(LSTM(embedding_dim,return_sequences=True))\n",
    "model3.add(LSTM(embedding_dim,return_sequences=True))\n",
    "model3.add(LSTM(embedding_dim))\n",
    "model3.add(Dense(32, activation='relu'))\n",
    "model3.add(Dense(6,activation='softmax'))\n",
    "model3.summary()"
   ]
  },
  {
   "cell_type": "code",
   "execution_count": 35,
   "metadata": {
    "id": "EDf7KUiUHsRq"
   },
   "outputs": [],
   "source": [
    "model3.compile(optimizer='adam',loss='sparse_categorical_crossentropy',metrics=['accuracy'])"
   ]
  },
  {
   "cell_type": "code",
   "execution_count": 36,
   "metadata": {
    "colab": {
     "base_uri": "https://localhost:8080/"
    },
    "id": "g2IsD8XhHzpU",
    "outputId": "c5fefce2-eb9d-4df2-def4-9751e4b9826b"
   },
   "outputs": [
    {
     "name": "stdout",
     "output_type": "stream",
     "text": [
      "Epoch 1/10\n",
      "64/64 - 26s - loss: 1.6678 - accuracy: 0.2219 - val_loss: 1.6192 - val_accuracy: 0.2539\n",
      "Epoch 2/10\n",
      "64/64 - 18s - loss: 1.5314 - accuracy: 0.3096 - val_loss: 1.6542 - val_accuracy: 0.1910\n",
      "Epoch 3/10\n",
      "64/64 - 18s - loss: 1.4614 - accuracy: 0.3410 - val_loss: 1.6463 - val_accuracy: 0.2449\n",
      "Epoch 4/10\n",
      "64/64 - 18s - loss: 1.3117 - accuracy: 0.3876 - val_loss: 2.0519 - val_accuracy: 0.1910\n",
      "Epoch 5/10\n",
      "64/64 - 18s - loss: 1.3396 - accuracy: 0.3753 - val_loss: 1.5568 - val_accuracy: 0.3101\n",
      "Epoch 6/10\n",
      "64/64 - 18s - loss: 1.0662 - accuracy: 0.5337 - val_loss: 1.8750 - val_accuracy: 0.2876\n",
      "Epoch 7/10\n",
      "64/64 - 18s - loss: 1.0146 - accuracy: 0.5399 - val_loss: 2.2426 - val_accuracy: 0.2067\n",
      "Epoch 8/10\n",
      "64/64 - 18s - loss: 1.0242 - accuracy: 0.4815 - val_loss: 2.3583 - val_accuracy: 0.2022\n",
      "Epoch 9/10\n",
      "64/64 - 18s - loss: 1.1406 - accuracy: 0.4680 - val_loss: 1.9617 - val_accuracy: 0.2382\n",
      "Epoch 10/10\n",
      "64/64 - 18s - loss: 1.1660 - accuracy: 0.4506 - val_loss: 2.0175 - val_accuracy: 0.2382\n"
     ]
    }
   ],
   "source": [
    "history3 = model3.fit(train_padded,training_label_seq,epochs=10,verbose=2,validation_data=(test_padded,testing_label_seq),batch_size=28)"
   ]
  },
  {
   "cell_type": "code",
   "execution_count": 37,
   "metadata": {
    "colab": {
     "base_uri": "https://localhost:8080/",
     "height": 295
    },
    "id": "0dstBaJdH3cG",
    "outputId": "531669ce-374a-4b2a-d232-dda744d95f3c"
   },
   "outputs": [
    {
     "data": {
      "image/png": "[encoded data removed]",
      "text/plain": [
       "<Figure size 432x288 with 1 Axes>"
      ]
     },
     "metadata": {
      "needs_background": "light"
     },
     "output_type": "display_data"
    }
   ],
   "source": [
    "plt.plot(history3.history['accuracy'])\n",
    "plt.plot(history3.history['val_accuracy'])\n",
    "plt.title('Model Accuracy')\n",
    "plt.ylabel('accuracy')\n",
    "plt.xlabel('epoch')\n",
    "plt.legend(['Train','validation'])\n",
    "plt.show()"
   ]
  },
  {
   "cell_type": "code",
   "execution_count": 38,
   "metadata": {
    "colab": {
     "base_uri": "https://localhost:8080/"
    },
    "id": "FCPpDKScJwRr",
    "outputId": "5062e13f-3f20-4cd8-d0db-a090a3ffb87e"
   },
   "outputs": [
    {
     "name": "stdout",
     "output_type": "stream",
     "text": [
      "14/14 [==============================] - 2s 110ms/step - loss: 2.0175 - accuracy: 0.2382\n",
      "loss:  2.0175046920776367\n",
      "accuracy:  0.23820224404335022\n"
     ]
    }
   ],
   "source": [
    "score=model3.evaluate(test_padded,testing_label_seq)\n",
    "print(\"loss: \",score[0])\n",
    "print(\"accuracy: \",score[1])"
   ]
  },
  {
   "cell_type": "markdown",
   "metadata": {
    "id": "rgEwCLnhJGrG"
   },
   "source": [
    "### Variations"
   ]
  },
  {
   "cell_type": "code",
   "execution_count": 39,
   "metadata": {
    "colab": {
     "base_uri": "https://localhost:8080/"
    },
    "id": "eQLldjqXJHWJ",
    "outputId": "174ceeae-eb75-4e12-8370-b0ea5d214c18"
   },
   "outputs": [
    {
     "name": "stdout",
     "output_type": "stream",
     "text": [
      "Model: \"sequential_4\"\n",
      "_________________________________________________________________\n",
      "Layer (type)                 Output Shape              Param #   \n",
      "=================================================================\n",
      "embedding_4 (Embedding)      (None, None, 64)          320000    \n",
      "_________________________________________________________________\n",
      "bidirectional (Bidirectional (None, 128)               66048     \n",
      "_________________________________________________________________\n",
      "dense_8 (Dense)              (None, 64)                8256      \n",
      "_________________________________________________________________\n",
      "dense_9 (Dense)              (None, 6)                 390       \n",
      "=================================================================\n",
      "Total params: 394,694\n",
      "Trainable params: 394,694\n",
      "Non-trainable params: 0\n",
      "_________________________________________________________________\n"
     ]
    }
   ],
   "source": [
    "model4 = Sequential()\n",
    "model4.add(Embedding(vocab_size, embedding_dim))\n",
    "model4.add(Bidirectional(LSTM(embedding_dim)))\n",
    "model4.add(Dense(embedding_dim, activation='relu'))\n",
    "model4.add(Dense(6,activation='softmax'))\n",
    "model4.summary()"
   ]
  },
  {
   "cell_type": "code",
   "execution_count": 40,
   "metadata": {
    "id": "paqL-20AJ539"
   },
   "outputs": [],
   "source": [
    "model4.compile(optimizer='adam',loss='sparse_categorical_crossentropy',metrics=['accuracy'])"
   ]
  },
  {
   "cell_type": "code",
   "execution_count": 41,
   "metadata": {
    "colab": {
     "base_uri": "https://localhost:8080/"
    },
    "id": "qreq_yhyNucD",
    "outputId": "019d10c7-bbd1-4efd-c9e0-7bdb9713e44f"
   },
   "outputs": [
    {
     "name": "stdout",
     "output_type": "stream",
     "text": [
      "Epoch 1/10\n",
      "64/64 - 12s - loss: 1.6258 - accuracy: 0.2573 - val_loss: 1.5578 - val_accuracy: 0.3146\n",
      "Epoch 2/10\n",
      "64/64 - 8s - loss: 1.1234 - accuracy: 0.5466 - val_loss: 1.7607 - val_accuracy: 0.2629\n",
      "Epoch 3/10\n",
      "64/64 - 8s - loss: 0.6194 - accuracy: 0.6747 - val_loss: 2.1243 - val_accuracy: 0.2719\n",
      "Epoch 4/10\n",
      "64/64 - 8s - loss: 0.4383 - accuracy: 0.8118 - val_loss: 2.1489 - val_accuracy: 0.2674\n",
      "Epoch 5/10\n",
      "64/64 - 8s - loss: 0.1786 - accuracy: 0.9584 - val_loss: 3.4973 - val_accuracy: 0.2360\n",
      "Epoch 6/10\n",
      "64/64 - 8s - loss: 0.0763 - accuracy: 0.9860 - val_loss: 2.9787 - val_accuracy: 0.2809\n",
      "Epoch 7/10\n",
      "64/64 - 8s - loss: 0.0263 - accuracy: 0.9938 - val_loss: 3.4184 - val_accuracy: 0.2562\n",
      "Epoch 8/10\n",
      "64/64 - 8s - loss: 0.0048 - accuracy: 1.0000 - val_loss: 4.2492 - val_accuracy: 0.2697\n",
      "Epoch 9/10\n",
      "64/64 - 8s - loss: 0.0018 - accuracy: 1.0000 - val_loss: 4.4583 - val_accuracy: 0.2674\n",
      "Epoch 10/10\n",
      "64/64 - 8s - loss: 0.0012 - accuracy: 1.0000 - val_loss: 4.6567 - val_accuracy: 0.2787\n"
     ]
    }
   ],
   "source": [
    "history4 = model4.fit(train_padded,training_label_seq,epochs=10,verbose=2,validation_data=(test_padded,testing_label_seq),batch_size=28)"
   ]
  },
  {
   "cell_type": "code",
   "execution_count": 42,
   "metadata": {
    "colab": {
     "base_uri": "https://localhost:8080/",
     "height": 295
    },
    "id": "Q1W2eT3UNzuM",
    "outputId": "0847fd73-9e9a-4fb2-d536-c72f655059a7"
   },
   "outputs": [
    {
     "data": {
      "image/png": "[encoded data removed]",
      "text/plain": [
       "<Figure size 432x288 with 1 Axes>"
      ]
     },
     "metadata": {
      "needs_background": "light"
     },
     "output_type": "display_data"
    }
   ],
   "source": [
    "plt.plot(history4.history['accuracy'])\n",
    "plt.plot(history4.history['val_accuracy'])\n",
    "plt.title('Model Accuracy')\n",
    "plt.ylabel('accuracy')\n",
    "plt.xlabel('epoch')\n",
    "plt.legend(['Train','Validation'])\n",
    "plt.show()"
   ]
  },
  {
   "cell_type": "code",
   "execution_count": 43,
   "metadata": {
    "colab": {
     "base_uri": "https://localhost:8080/"
    },
    "id": "pXkr1qrtOAvh",
    "outputId": "ddfbdc83-b868-44c2-9f36-3bd169140d8a"
   },
   "outputs": [
    {
     "name": "stdout",
     "output_type": "stream",
     "text": [
      "14/14 [==============================] - 1s 42ms/step - loss: 4.6567 - accuracy: 0.2787\n",
      "loss:  4.656728744506836\n",
      "accuracy:  0.2786516845226288\n"
     ]
    }
   ],
   "source": [
    "score=model4.evaluate(test_padded,testing_label_seq)\n",
    "print(\"loss: \",score[0])\n",
    "print(\"accuracy: \",score[1])"
   ]
  },
  {
   "cell_type": "code",
   "execution_count": 77,
   "metadata": {
    "colab": {
     "base_uri": "https://localhost:8080/"
    },
    "id": "0YD4xx_VpBj1",
    "outputId": "51ad4dfc-ec08-43b1-98d6-11f90acfb6d7"
   },
   "outputs": [
    {
     "name": "stdout",
     "output_type": "stream",
     "text": [
      "Model: \"sequential_5\"\n",
      "_________________________________________________________________\n",
      "Layer (type)                 Output Shape              Param #   \n",
      "=================================================================\n",
      "embedding_5 (Embedding)      (None, None, 64)          320000    \n",
      "_________________________________________________________________\n",
      "bidirectional_1 (Bidirection (None, 128)               66048     \n",
      "_________________________________________________________________\n",
      "dense_10 (Dense)             (None, 64)                8256      \n",
      "_________________________________________________________________\n",
      "dropout (Dropout)            (None, 64)                0         \n",
      "_________________________________________________________________\n",
      "dense_11 (Dense)             (None, 6)                 390       \n",
      "=================================================================\n",
      "Total params: 394,694\n",
      "Trainable params: 394,694\n",
      "Non-trainable params: 0\n",
      "_________________________________________________________________\n"
     ]
    }
   ],
   "source": [
    "model5 = Sequential()\n",
    "model5.add(Embedding(vocab_size, embedding_dim))\n",
    "model5.add(Bidirectional(LSTM(embedding_dim)))\n",
    "model5.add(Dense(embedding_dim, activation='relu'))\n",
    "model5.add(Dropout(0.2))\n",
    "model5.add(Dense(6,activation='softmax'))\n",
    "model5.summary()"
   ]
  },
  {
   "cell_type": "code",
   "execution_count": 78,
   "metadata": {
    "id": "LxLcBKuGp-0T"
   },
   "outputs": [],
   "source": [
    "model5.compile(optimizer='adam',loss='sparse_categorical_crossentropy',metrics=['accuracy'])"
   ]
  },
  {
   "cell_type": "code",
   "execution_count": 79,
   "metadata": {
    "colab": {
     "base_uri": "https://localhost:8080/"
    },
    "id": "rD4B0PehqDjn",
    "outputId": "e09f1920-1f7e-4b18-dcc7-77bbe021846c"
   },
   "outputs": [
    {
     "name": "stdout",
     "output_type": "stream",
     "text": [
      "Epoch 1/10\n",
      "64/64 - 13s - loss: 1.6584 - accuracy: 0.2562 - val_loss: 1.6065 - val_accuracy: 0.2809\n",
      "Epoch 2/10\n",
      "64/64 - 8s - loss: 1.1781 - accuracy: 0.5421 - val_loss: 1.7678 - val_accuracy: 0.2854\n",
      "Epoch 3/10\n",
      "64/64 - 8s - loss: 0.5547 - accuracy: 0.7815 - val_loss: 1.9893 - val_accuracy: 0.2944\n",
      "Epoch 4/10\n",
      "64/64 - 8s - loss: 0.2283 - accuracy: 0.9444 - val_loss: 3.2284 - val_accuracy: 0.2629\n",
      "Epoch 5/10\n",
      "64/64 - 8s - loss: 0.0629 - accuracy: 0.9848 - val_loss: 2.9758 - val_accuracy: 0.2742\n",
      "Epoch 6/10\n",
      "64/64 - 8s - loss: 0.0292 - accuracy: 0.9944 - val_loss: 3.7504 - val_accuracy: 0.2764\n",
      "Epoch 7/10\n",
      "64/64 - 8s - loss: 0.0125 - accuracy: 0.9983 - val_loss: 3.7244 - val_accuracy: 0.2809\n",
      "Epoch 8/10\n",
      "64/64 - 8s - loss: 0.0080 - accuracy: 0.9994 - val_loss: 4.2627 - val_accuracy: 0.2899\n",
      "Epoch 9/10\n",
      "64/64 - 8s - loss: 0.0058 - accuracy: 0.9994 - val_loss: 4.6649 - val_accuracy: 0.2876\n",
      "Epoch 10/10\n",
      "64/64 - 8s - loss: 0.0061 - accuracy: 0.9989 - val_loss: 4.6685 - val_accuracy: 0.3034\n"
     ]
    }
   ],
   "source": [
    "history5 = model5.fit(train_padded,training_label_seq,epochs=10,verbose=2,validation_data=(test_padded,testing_label_seq),batch_size=28)"
   ]
  },
  {
   "cell_type": "code",
   "execution_count": 80,
   "metadata": {
    "colab": {
     "base_uri": "https://localhost:8080/",
     "height": 295
    },
    "id": "M5gc6oCyqkbh",
    "outputId": "d61fd48c-5db7-4d8b-a6bd-2055c3d2434c"
   },
   "outputs": [
    {
     "data": {
      "image/png": "[encoded data removed]",
      "text/plain": [
       "<Figure size 432x288 with 1 Axes>"
      ]
     },
     "metadata": {
      "needs_background": "light"
     },
     "output_type": "display_data"
    }
   ],
   "source": [
    "plt.plot(history5.history['accuracy'])\n",
    "plt.plot(history5.history['val_accuracy'])\n",
    "plt.title('Model Accuracy')\n",
    "plt.ylabel('accuracy')\n",
    "plt.xlabel('epoch')\n",
    "plt.legend(['Train','Validation'])\n",
    "plt.show()"
   ]
  },
  {
   "cell_type": "code",
   "execution_count": 81,
   "metadata": {
    "colab": {
     "base_uri": "https://localhost:8080/"
    },
    "id": "jUtc9Hgbqpzl",
    "outputId": "4bf48f34-aae8-41ed-939f-61de318484e8"
   },
   "outputs": [
    {
     "name": "stdout",
     "output_type": "stream",
     "text": [
      "14/14 [==============================] - 1s 43ms/step - loss: 4.6685 - accuracy: 0.3034\n",
      "loss:  4.66847038269043\n",
      "accuracy:  0.30337077379226685\n"
     ]
    }
   ],
   "source": [
    "score=model5.evaluate(test_padded,testing_label_seq)\n",
    "print(\"loss: \",score[0])\n",
    "print(\"accuracy: \",score[1])"
   ]
  },
  {
   "cell_type": "markdown",
   "metadata": {
    "id": "fxvaFnkRVYvI"
   },
   "source": [
    "### prediction on sample data"
   ]
  },
  {
   "cell_type": "code",
   "execution_count": 83,
   "metadata": {
    "colab": {
     "base_uri": "https://localhost:8080/"
    },
    "id": "UgFlFxN2OW8x",
    "outputId": "19a4d980-d997-4db6-8e28-8f3b9a1dc358"
   },
   "outputs": [
    {
     "name": "stdout",
     "output_type": "stream",
     "text": [
      "[[1.7141012e-06 9.9800712e-01 1.5627014e-06 1.6456535e-06 4.2972280e-04\n",
      "  1.5583149e-03]]\n",
      "bussiness\n"
     ]
    }
   ],
   "source": [
    "txt = [\"TCS, Wipro, HCL Technologies and Infosys have ramped up their hiring projections and have added over 50,000 people in the second quarter of FY22, taking the hiring number to more than one lakh (1,02,517) in the first six months of the fiscal year. These four firms employ more than one fourth of India’s total workforce\"]\n",
    "tokenizer = Tokenizer(num_words=5000,oov_token='<oov>')\n",
    "tokenizer.fit_on_texts(txt)\n",
    "seq = tokenizer.texts_to_sequences(txt)\n",
    "padded = pad_sequences(seq, maxlen=300)\n",
    "pred = model4.predict(padded)\n",
    "labels = ['sport', 'bussiness', 'politics', 'tech', 'entertainment']\n",
    "print(pred) \n",
    "print(labels[np.argmax(pred)])"
   ]
  },
  {
   "cell_type": "code",
   "execution_count": null,
   "metadata": {
    "id": "HW0Czqkaq08K"
   },
   "outputs": [],
   "source": []
  }
 ],
 "metadata": {
  "accelerator": "GPU",
  "colab": {
   "collapsed_sections": [],
   "name": "PDL LAB 18.ipynb",
   "provenance": [],
   "toc_visible": true
  },
  "kernelspec": {
   "display_name": "Python 3",
   "language": "python",
   "name": "python3"
  },
  "language_info": {
   "codemirror_mode": {
    "name": "ipython",
    "version": 3
   },
   "file_extension": ".py",
   "mimetype": "text/x-python",
   "name": "python",
   "nbconvert_exporter": "python",
   "pygments_lexer": "ipython3",
   "version": "3.9.1"
  }
 },
 "nbformat": 4,
 "nbformat_minor": 1
}
