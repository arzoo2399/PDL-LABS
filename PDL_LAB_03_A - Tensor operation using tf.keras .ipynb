{
 "cells": [
  {
   "cell_type": "markdown",
   "metadata": {},
   "source": [
    "# <center>PDL_LAB_03_A - Tensor operation using tf.keras</center>"
   ]
  },
  {
   "cell_type": "markdown",
   "metadata": {},
   "source": [
    "#### import necessary module "
   ]
  },
  {
   "cell_type": "code",
   "execution_count": 2,
   "metadata": {
    "id": "FHumndnYiHbN"
   },
   "outputs": [],
   "source": [
    "import tensorflow as tf\n",
    "import numpy as np"
   ]
  },
  {
   "cell_type": "code",
   "execution_count": 3,
   "metadata": {
    "id": "51MTverSiI7V"
   },
   "outputs": [],
   "source": [
    "a = [1,2,3,4]"
   ]
  },
  {
   "cell_type": "markdown",
   "metadata": {
    "id": "urz3z48nlpgL"
   },
   "source": [
    "**Tensor Axes**"
   ]
  },
  {
   "cell_type": "code",
   "execution_count": 4,
   "metadata": {
    "id": "zYTiq1n6krlv"
   },
   "outputs": [],
   "source": [
    "dd = [[1,2,3],[4,5,6],[7,8,9]]                       ## take 2d array "
   ]
  },
  {
   "cell_type": "markdown",
   "metadata": {
    "id": "kSfI0P2GmNRg"
   },
   "source": [
    "### Each element along the first axis, is an array:"
   ]
  },
  {
   "cell_type": "code",
   "execution_count": 5,
   "metadata": {
    "colab": {
     "base_uri": "https://localhost:8080/"
    },
    "id": "C6k6EJpyrWfl",
    "outputId": "04d433b9-961a-453f-bf08-b6876233bfc0"
   },
   "outputs": [
    {
     "data": {
      "text/plain": [
       "[1, 2, 3]"
      ]
     },
     "execution_count": 5,
     "metadata": {},
     "output_type": "execute_result"
    }
   ],
   "source": [
    "dd[0]                                            "
   ]
  },
  {
   "cell_type": "code",
   "execution_count": 6,
   "metadata": {
    "colab": {
     "base_uri": "https://localhost:8080/"
    },
    "id": "xBN0R3O5rakf",
    "outputId": "18288005-7415-4b87-a4cc-52c75aade15a"
   },
   "outputs": [
    {
     "data": {
      "text/plain": [
       "[4, 5, 6]"
      ]
     },
     "execution_count": 6,
     "metadata": {},
     "output_type": "execute_result"
    }
   ],
   "source": [
    "dd[1]"
   ]
  },
  {
   "cell_type": "code",
   "execution_count": 7,
   "metadata": {
    "colab": {
     "base_uri": "https://localhost:8080/"
    },
    "id": "iiWmrPpHrdXt",
    "outputId": "e7767c88-b522-46b2-ee83-444ea79d0e53"
   },
   "outputs": [
    {
     "data": {
      "text/plain": [
       "[7, 8, 9]"
      ]
     },
     "execution_count": 7,
     "metadata": {},
     "output_type": "execute_result"
    }
   ],
   "source": [
    "dd[2]"
   ]
  },
  {
   "cell_type": "markdown",
   "metadata": {
    "id": "qXfrR4XImT80"
   },
   "source": [
    "### Each element along the second axis, is a number:"
   ]
  },
  {
   "cell_type": "code",
   "execution_count": 8,
   "metadata": {
    "colab": {
     "base_uri": "https://localhost:8080/"
    },
    "id": "AEF-pfAFre5H",
    "outputId": "6d025f3c-a40c-4601-f77d-ab77d80badc3"
   },
   "outputs": [
    {
     "data": {
      "text/plain": [
       "1"
      ]
     },
     "execution_count": 8,
     "metadata": {},
     "output_type": "execute_result"
    }
   ],
   "source": [
    "dd[0][0]"
   ]
  },
  {
   "cell_type": "code",
   "execution_count": 9,
   "metadata": {
    "colab": {
     "base_uri": "https://localhost:8080/"
    },
    "id": "ZpjHhLdDrwtO",
    "outputId": "53abad16-ed68-401a-b982-280993a5fcf2"
   },
   "outputs": [
    {
     "data": {
      "text/plain": [
       "2"
      ]
     },
     "execution_count": 9,
     "metadata": {},
     "output_type": "execute_result"
    }
   ],
   "source": [
    "dd[0][1]"
   ]
  },
  {
   "cell_type": "code",
   "execution_count": 10,
   "metadata": {
    "colab": {
     "base_uri": "https://localhost:8080/"
    },
    "id": "ew_mG7E0rxp-",
    "outputId": "b11ee86d-fbdd-451f-8fbe-0d4cde80b645"
   },
   "outputs": [
    {
     "data": {
      "text/plain": [
       "3"
      ]
     },
     "execution_count": 10,
     "metadata": {},
     "output_type": "execute_result"
    }
   ],
   "source": [
    "dd[0][2]"
   ]
  },
  {
   "cell_type": "code",
   "execution_count": 11,
   "metadata": {
    "colab": {
     "base_uri": "https://localhost:8080/"
    },
    "id": "IP8vLEZhr0b9",
    "outputId": "2449dd63-0a58-46cf-bedd-ed5303ee4fd0"
   },
   "outputs": [
    {
     "data": {
      "text/plain": [
       "4"
      ]
     },
     "execution_count": 11,
     "metadata": {},
     "output_type": "execute_result"
    }
   ],
   "source": [
    "dd[1][0]"
   ]
  },
  {
   "cell_type": "code",
   "execution_count": 12,
   "metadata": {
    "colab": {
     "base_uri": "https://localhost:8080/"
    },
    "id": "cwNP8qfpr16x",
    "outputId": "a5e1b1f1-3105-4e5c-df8c-962ea51141ca"
   },
   "outputs": [
    {
     "data": {
      "text/plain": [
       "5"
      ]
     },
     "execution_count": 12,
     "metadata": {},
     "output_type": "execute_result"
    }
   ],
   "source": [
    "dd[1][1]"
   ]
  },
  {
   "cell_type": "code",
   "execution_count": 13,
   "metadata": {
    "colab": {
     "base_uri": "https://localhost:8080/"
    },
    "id": "uivq3vPKr85G",
    "outputId": "e21f3354-2ad5-4b92-df9d-ab28bf258af3"
   },
   "outputs": [
    {
     "data": {
      "text/plain": [
       "6"
      ]
     },
     "execution_count": 13,
     "metadata": {},
     "output_type": "execute_result"
    }
   ],
   "source": [
    "dd[1][2]"
   ]
  },
  {
   "cell_type": "code",
   "execution_count": 14,
   "metadata": {
    "colab": {
     "base_uri": "https://localhost:8080/"
    },
    "id": "SbSoFxHBr_EL",
    "outputId": "cc8bd35f-cb22-4050-c808-7819580951a8"
   },
   "outputs": [
    {
     "data": {
      "text/plain": [
       "7"
      ]
     },
     "execution_count": 14,
     "metadata": {},
     "output_type": "execute_result"
    }
   ],
   "source": [
    "dd[2][0]"
   ]
  },
  {
   "cell_type": "code",
   "execution_count": 15,
   "metadata": {
    "colab": {
     "base_uri": "https://localhost:8080/"
    },
    "id": "4ds6NTJGsDrz",
    "outputId": "0b9c1dca-635f-46ca-900e-ba62c0adef6c"
   },
   "outputs": [
    {
     "data": {
      "text/plain": [
       "8"
      ]
     },
     "execution_count": 15,
     "metadata": {},
     "output_type": "execute_result"
    }
   ],
   "source": [
    "dd[2][1]"
   ]
  },
  {
   "cell_type": "code",
   "execution_count": 16,
   "metadata": {
    "colab": {
     "base_uri": "https://localhost:8080/"
    },
    "id": "unRWtpResFKu",
    "outputId": "fcd95277-5eda-4271-cddd-24349c7ef15a"
   },
   "outputs": [
    {
     "data": {
      "text/plain": [
       "9"
      ]
     },
     "execution_count": 16,
     "metadata": {},
     "output_type": "execute_result"
    }
   ],
   "source": [
    "dd[2][2]"
   ]
  },
  {
   "cell_type": "markdown",
   "metadata": {
    "id": "cGJvXqzEmgbF"
   },
   "source": [
    "**Shape of Tensor**\n",
    "\n",
    "shape of tensor gives length of each axis of tensor"
   ]
  },
  {
   "cell_type": "code",
   "execution_count": 17,
   "metadata": {
    "colab": {
     "base_uri": "https://localhost:8080/"
    },
    "id": "-U0u5UBksGUd",
    "outputId": "3cb67e04-ee5a-41e5-c7ee-9ebfa82a0670"
   },
   "outputs": [
    {
     "data": {
      "text/plain": [
       "<tf.Tensor: shape=(3, 3), dtype=int32, numpy=\n",
       "array([[1, 2, 3],\n",
       "       [4, 5, 6],\n",
       "       [7, 8, 9]], dtype=int32)>"
      ]
     },
     "execution_count": 17,
     "metadata": {},
     "output_type": "execute_result"
    }
   ],
   "source": [
    "t=tf.constant(dd)                  ## convert 2d array to a constant tensors of shape 3x3\n",
    "t"
   ]
  },
  {
   "cell_type": "code",
   "execution_count": 18,
   "metadata": {
    "colab": {
     "base_uri": "https://localhost:8080/"
    },
    "id": "Sbmz44EIsky4",
    "outputId": "5c0a72dc-bf19-483c-bd09-93be3781dbdf"
   },
   "outputs": [
    {
     "data": {
      "text/plain": [
       "tensorflow.python.framework.ops.EagerTensor"
      ]
     },
     "execution_count": 18,
     "metadata": {},
     "output_type": "execute_result"
    }
   ],
   "source": [
    "type(t)                                   #type of varibale t"
   ]
  },
  {
   "cell_type": "code",
   "execution_count": 19,
   "metadata": {
    "colab": {
     "base_uri": "https://localhost:8080/"
    },
    "id": "rU_civlRtIn2",
    "outputId": "f9260ff8-2034-4c69-fb69-ee0c5986fd35"
   },
   "outputs": [
    {
     "data": {
      "text/plain": [
       "TensorShape([3, 3])"
      ]
     },
     "execution_count": 19,
     "metadata": {},
     "output_type": "execute_result"
    }
   ],
   "source": [
    "t.shape                                   #shape of tensor t"
   ]
  },
  {
   "cell_type": "markdown",
   "metadata": {
    "id": "IvLP4Za9neqK"
   },
   "source": [
    "**Tensor Operation Types**"
   ]
  },
  {
   "cell_type": "markdown",
   "metadata": {
    "id": "EJka8lu9nl30"
   },
   "source": [
    "#### Reshaping A Tensor In TensorFlow"
   ]
  },
  {
   "cell_type": "code",
   "execution_count": 20,
   "metadata": {
    "colab": {
     "base_uri": "https://localhost:8080/"
    },
    "id": "k2UMocQBtdpK",
    "outputId": "20654375-b20c-4349-f1aa-e9c7de9edcc9"
   },
   "outputs": [
    {
     "data": {
      "text/plain": [
       "<tf.Tensor: shape=(3, 4), dtype=float32, numpy=\n",
       "array([[1., 1., 1., 1.],\n",
       "       [2., 2., 2., 2.],\n",
       "       [3., 3., 3., 3.]], dtype=float32)>"
      ]
     },
     "execution_count": 20,
     "metadata": {},
     "output_type": "execute_result"
    }
   ],
   "source": [
    "t = tf.constant([[1,1,1,1],[2,2,2,2],[3,3,3,3]],dtype=tf.float32)             \n",
    "t                             #can reshape a tensor that product of new shape gives equal value "
   ]
  },
  {
   "cell_type": "code",
   "execution_count": 21,
   "metadata": {
    "colab": {
     "base_uri": "https://localhost:8080/"
    },
    "id": "2qgP_plqufY9",
    "outputId": "b1703fb0-4461-44e5-d5a5-137ea94dd5fc"
   },
   "outputs": [
    {
     "data": {
      "text/plain": [
       "TensorShape([3, 4])"
      ]
     },
     "execution_count": 21,
     "metadata": {},
     "output_type": "execute_result"
    }
   ],
   "source": [
    "t.shape"
   ]
  },
  {
   "cell_type": "code",
   "execution_count": 22,
   "metadata": {
    "colab": {
     "base_uri": "https://localhost:8080/"
    },
    "id": "IvnsL7hVu8ra",
    "outputId": "457f8adf-8863-453f-86a7-80322404e534"
   },
   "outputs": [
    {
     "name": "stdout",
     "output_type": "stream",
     "text": [
      "tf.Tensor([[1. 1. 1. 1. 2. 2. 2. 2. 3. 3. 3. 3.]], shape=(1, 12), dtype=float32)\n"
     ]
    }
   ],
   "source": [
    "reshaped_tensor_t = tf.reshape(t,[1,12]) \n",
    "print(reshaped_tensor_t)                      "
   ]
  },
  {
   "cell_type": "markdown",
   "metadata": {},
   "source": [
    "product of [3,4] is 12\n",
    "\n",
    "product of [1,12] is 12\n",
    "\n",
    "product of [4,3] is 12\n",
    "\n",
    "product of [2,6] is 12"
   ]
  },
  {
   "cell_type": "code",
   "execution_count": 23,
   "metadata": {
    "colab": {
     "base_uri": "https://localhost:8080/"
    },
    "id": "tgYZwQZBuMY6",
    "outputId": "de5b6714-7a95-4a00-d79b-c4ef8e529797"
   },
   "outputs": [
    {
     "name": "stdout",
     "output_type": "stream",
     "text": [
      "tf.Tensor(\n",
      "[[1. 1. 1. 1. 2. 2.]\n",
      " [2. 2. 3. 3. 3. 3.]], shape=(2, 6), dtype=float32)\n"
     ]
    }
   ],
   "source": [
    "reshaped_tensor_t = tf.reshape(t,[2,6]) \n",
    "print(reshaped_tensor_t)"
   ]
  },
  {
   "cell_type": "code",
   "execution_count": 24,
   "metadata": {
    "colab": {
     "base_uri": "https://localhost:8080/"
    },
    "id": "7Rez8B1rurs9",
    "outputId": "282093e5-292c-4b02-a68b-2bbe1dc004fb"
   },
   "outputs": [
    {
     "name": "stdout",
     "output_type": "stream",
     "text": [
      "tf.Tensor(\n",
      "[[1. 1. 1.]\n",
      " [1. 2. 2.]\n",
      " [2. 2. 3.]\n",
      " [3. 3. 3.]], shape=(4, 3), dtype=float32)\n"
     ]
    }
   ],
   "source": [
    "reshaped_tensor_t = tf.reshape(t,[4,3]) \n",
    "print(reshaped_tensor_t)"
   ]
  },
  {
   "cell_type": "markdown",
   "metadata": {
    "id": "j-VudZ0Dv_4Z"
   },
   "source": [
    "##### shaping in 3 dimension "
   ]
  },
  {
   "cell_type": "markdown",
   "metadata": {},
   "source": [
    "making the tensor of size 12 to a 3d tensor \n",
    "\n",
    "product of [2,2,3] is 12"
   ]
  },
  {
   "cell_type": "code",
   "execution_count": 25,
   "metadata": {
    "colab": {
     "base_uri": "https://localhost:8080/"
    },
    "id": "pI0G99nwvIHS",
    "outputId": "5c28777b-a2be-4904-dfaf-0de10b4261e2"
   },
   "outputs": [
    {
     "name": "stdout",
     "output_type": "stream",
     "text": [
      "tf.Tensor(\n",
      "[[[1. 1. 1.]\n",
      "  [1. 2. 2.]]\n",
      "\n",
      " [[2. 2. 3.]\n",
      "  [3. 3. 3.]]], shape=(2, 2, 3), dtype=float32)\n"
     ]
    }
   ],
   "source": [
    "reshaped_tensor_t = tf.reshape(t, [2,2,3])\n",
    "print(reshaped_tensor_t)"
   ]
  },
  {
   "cell_type": "markdown",
   "metadata": {
    "id": "W4BW-R5in0IE"
   },
   "source": [
    "#### Changing Shape By Squeezing And Unsqueezing\n",
    "\n",
    "\n",
    "Squeezing a tensor removes the dimensions or axes that have a length of one."
   ]
  },
  {
   "cell_type": "code",
   "execution_count": 38,
   "metadata": {
    "colab": {
     "base_uri": "https://localhost:8080/"
    },
    "id": "Pxo6p1VZwLb1",
    "outputId": "837bf325-e123-4010-9f84-eb399705d4f0"
   },
   "outputs": [
    {
     "name": "stdout",
     "output_type": "stream",
     "text": [
      "tf.Tensor([[1. 1. 1. 1. 2. 2. 2. 2. 3. 3. 3. 3.]], shape=(1, 12), dtype=float32)\n"
     ]
    }
   ],
   "source": [
    "print(tf.reshape(t,[1,12]))"
   ]
  },
  {
   "cell_type": "code",
   "execution_count": 39,
   "metadata": {
    "colab": {
     "base_uri": "https://localhost:8080/"
    },
    "id": "-cnSBw1Jy41s",
    "outputId": "23a18c75-2565-44c2-825c-3647c87ad2aa"
   },
   "outputs": [
    {
     "name": "stdout",
     "output_type": "stream",
     "text": [
      "(1, 12)\n"
     ]
    }
   ],
   "source": [
    "print(tf.reshape(t,[1,12]).shape)                              #shape of t is 1x12"
   ]
  },
  {
   "cell_type": "code",
   "execution_count": 40,
   "metadata": {
    "colab": {
     "base_uri": "https://localhost:8080/"
    },
    "id": "wzauQTNVzAC1",
    "outputId": "5fecc059-47f1-4c52-8bce-d2d3db979ccc"
   },
   "outputs": [
    {
     "name": "stdout",
     "output_type": "stream",
     "text": [
      "tf.Tensor([1. 1. 1. 1. 2. 2. 2. 2. 3. 3. 3. 3.], shape=(12,), dtype=float32)\n"
     ]
    }
   ],
   "source": [
    "print(tf.squeeze(tf.reshape(t,[1,12])))                      #after applying squeeze to t gives single vector of (12,)   "
   ]
  },
  {
   "cell_type": "code",
   "execution_count": 41,
   "metadata": {
    "colab": {
     "base_uri": "https://localhost:8080/"
    },
    "id": "60hmcjVlzmZt",
    "outputId": "df1561a6-29c7-47cc-b0ec-546c4aa8d4d2"
   },
   "outputs": [
    {
     "name": "stdout",
     "output_type": "stream",
     "text": [
      "(12,)\n"
     ]
    }
   ],
   "source": [
    "print(tf.squeeze(tf.reshape(t,[1,12])).shape)"
   ]
  },
  {
   "cell_type": "markdown",
   "metadata": {
    "id": "YHxVLgZSoKld"
   },
   "source": [
    "**Flatten A Tensor**\n",
    "\n",
    "Flattening a tensor means to remove all of the dimensions except for one"
   ]
  },
  {
   "cell_type": "code",
   "execution_count": 42,
   "metadata": {
    "id": "TCmRT5zyfh9V"
   },
   "outputs": [],
   "source": [
    "def fatten(t):                                               #an user-define function reshape tensor and return in single vector\n",
    "    t = tf.squeeze(tf.reshape(t,[1,-1]))\n",
    "    return t"
   ]
  },
  {
   "cell_type": "code",
   "execution_count": 43,
   "metadata": {
    "colab": {
     "base_uri": "https://localhost:8080/"
    },
    "id": "0hiecaB5f-NB",
    "outputId": "91c8faea-a00b-4b07-c04f-27d2ca6885ae"
   },
   "outputs": [
    {
     "data": {
      "text/plain": [
       "<tf.Tensor: shape=(4, 3), dtype=float32, numpy=\n",
       "array([[1., 1., 1.],\n",
       "       [1., 1., 1.],\n",
       "       [1., 1., 1.],\n",
       "       [1., 1., 1.]], dtype=float32)>"
      ]
     },
     "execution_count": 43,
     "metadata": {},
     "output_type": "execute_result"
    }
   ],
   "source": [
    "to = tf.ones([4,3])                      #creates tensor of shape 4x3 filled with 1's  \n",
    "to"
   ]
  },
  {
   "cell_type": "code",
   "execution_count": 44,
   "metadata": {
    "colab": {
     "base_uri": "https://localhost:8080/"
    },
    "id": "NhlrFMxHhG0i",
    "outputId": "17cce9af-5a49-4876-c87f-9a0b66cc27a2"
   },
   "outputs": [
    {
     "data": {
      "text/plain": [
       "<tf.Tensor: shape=(12,), dtype=float32, numpy=array([1., 1., 1., 1., 1., 1., 1., 1., 1., 1., 1., 1.], dtype=float32)>"
      ]
     },
     "execution_count": 44,
     "metadata": {},
     "output_type": "execute_result"
    }
   ],
   "source": [
    "fatten(to)                                       #apply fatten function to above tensor 'to'"
   ]
  },
  {
   "cell_type": "markdown",
   "metadata": {
    "id": "lZTD60lVoSRN"
   },
   "source": [
    "**Concatenating Tensors**\n",
    "\n",
    "concat() function resulting tensor will have shape depends on the two given input tensors"
   ]
  },
  {
   "cell_type": "code",
   "execution_count": 45,
   "metadata": {
    "id": "zbGrVbWxhb8l"
   },
   "outputs": [],
   "source": [
    "t1 = tf.constant([[1,2],[3,4]])                    \n",
    "t2 = tf.constant([[5,6],[7,8]])                     #create two tensor of shape (2x2)"
   ]
  },
  {
   "cell_type": "code",
   "execution_count": 46,
   "metadata": {
    "colab": {
     "base_uri": "https://localhost:8080/"
    },
    "id": "KSl2zbDCixyK",
    "outputId": "85472354-7591-48c5-9317-9e5c9829d4eb"
   },
   "outputs": [
    {
     "data": {
      "text/plain": [
       "<tf.Tensor: shape=(4, 2), dtype=int32, numpy=\n",
       "array([[1, 2],\n",
       "       [3, 4],\n",
       "       [5, 6],\n",
       "       [7, 8]], dtype=int32)>"
      ]
     },
     "execution_count": 46,
     "metadata": {},
     "output_type": "execute_result"
    }
   ],
   "source": [
    "tc0=tf.concat((t1,t2),axis=0)\n",
    "tc0                                                #concatenate two tensor on bases of axis = 0"
   ]
  },
  {
   "cell_type": "code",
   "execution_count": 47,
   "metadata": {
    "colab": {
     "base_uri": "https://localhost:8080/"
    },
    "id": "FiF4xWtCjF5S",
    "outputId": "c4a25356-f37e-49af-9674-85d4c4777763"
   },
   "outputs": [
    {
     "data": {
      "text/plain": [
       "<tf.Tensor: shape=(2, 4), dtype=int32, numpy=\n",
       "array([[1, 2, 5, 6],\n",
       "       [3, 4, 7, 8]], dtype=int32)>"
      ]
     },
     "execution_count": 47,
     "metadata": {},
     "output_type": "execute_result"
    }
   ],
   "source": [
    "tc1=tf.concat((t1,t2),axis=1)\n",
    "tc1                                                  #concatenate two tensor on bases of axis = 1 "
   ]
  },
  {
   "cell_type": "code",
   "execution_count": 48,
   "metadata": {
    "colab": {
     "base_uri": "https://localhost:8080/"
    },
    "id": "5p6ZVnaEjSii",
    "outputId": "d1619bbb-f00d-4128-b3a4-dee0ef0c225a"
   },
   "outputs": [
    {
     "data": {
      "text/plain": [
       "TensorShape([4, 2])"
      ]
     },
     "execution_count": 48,
     "metadata": {},
     "output_type": "execute_result"
    }
   ],
   "source": [
    "tc0.shape                        "
   ]
  },
  {
   "cell_type": "code",
   "execution_count": 49,
   "metadata": {
    "colab": {
     "base_uri": "https://localhost:8080/"
    },
    "id": "1Q26uNt-kdDW",
    "outputId": "2d52a9d1-3ed9-4622-b804-2f99481213e2"
   },
   "outputs": [
    {
     "data": {
      "text/plain": [
       "TensorShape([2, 4])"
      ]
     },
     "execution_count": 49,
     "metadata": {},
     "output_type": "execute_result"
    }
   ],
   "source": [
    "tc1.shape"
   ]
  }
 ],
 "metadata": {
  "colab": {
   "name": "PDL_LAB_03_A.ipynb",
   "provenance": []
  },
  "kernelspec": {
   "display_name": "Python 3",
   "language": "python",
   "name": "python3"
  },
  "language_info": {
   "codemirror_mode": {
    "name": "ipython",
    "version": 3
   },
   "file_extension": ".py",
   "mimetype": "text/x-python",
   "name": "python",
   "nbconvert_exporter": "python",
   "pygments_lexer": "ipython3",
   "version": "3.9.1"
  }
 },
 "nbformat": 4,
 "nbformat_minor": 1
}
